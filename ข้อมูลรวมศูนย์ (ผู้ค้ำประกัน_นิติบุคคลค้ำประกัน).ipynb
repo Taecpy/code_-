{
 "cells": [
  {
   "cell_type": "markdown",
   "metadata": {
    "id": "rXAOP8zGHY2_"
   },
   "source": [
    "# IMPORT"
   ]
  },
  {
   "cell_type": "code",
   "execution_count": 1,
   "metadata": {
    "executionInfo": {
     "elapsed": 7,
     "status": "ok",
     "timestamp": 1698733938315,
     "user": {
      "displayName": "Tharaphon Nitijiramon",
      "userId": "16915625665235536451"
     },
     "user_tz": -420
    },
    "id": "NhX3quG_HBoD"
   },
   "outputs": [],
   "source": [
    "import numpy as np\n",
    "import pandas as pd"
   ]
  },
  {
   "cell_type": "code",
   "execution_count": 2,
   "metadata": {},
   "outputs": [],
   "source": [
    "# custom username by pwd\n",
    "import os\n",
    "pwd = os.getcwd()\n",
    "username = pwd[9:pwd.find('\\\\',9)]"
   ]
  },
  {
   "cell_type": "code",
   "execution_count": 3,
   "metadata": {
    "executionInfo": {
     "elapsed": 8,
     "status": "ok",
     "timestamp": 1698733961193,
     "user": {
      "displayName": "Tharaphon Nitijiramon",
      "userId": "16915625665235536451"
     },
     "user_tz": -420
    },
    "id": "KkaE-XiwQgiS"
   },
   "outputs": [],
   "source": [
    "# การแก้ Fuzzy ว่าเอากี่ Percent ให้แก้จรง cutoff = x\n",
    "import difflib\n",
    "\n",
    "def fuzzy_merge(df1, df2, left_on, right_on, how='inner', cutoff=0.90):\n",
    "    df_other= df2.copy()\n",
    "    df_other[left_on] = [get_closest_match(x, df1[left_on], cutoff)\n",
    "                         for x in df_other[right_on]]\n",
    "    return df1.merge(df_other, on=left_on, how=how)\n",
    "\n",
    "def get_closest_match(x, other, cutoff):\n",
    "    matches = difflib.get_close_matches(x, other, cutoff=cutoff)\n",
    "    return matches[0] if matches else None"
   ]
  },
  {
   "cell_type": "code",
   "execution_count": 4,
   "metadata": {
    "executionInfo": {
     "elapsed": 8,
     "status": "ok",
     "timestamp": 1698733961194,
     "user": {
      "displayName": "Tharaphon Nitijiramon",
      "userId": "16915625665235536451"
     },
     "user_tz": -420
    },
    "id": "ZsVrwzTnQ12X"
   },
   "outputs": [],
   "source": [
    "def isEnglish(s):\n",
    "  try:\n",
    "    s.encode(encoding='utf-8').decode('ascii')\n",
    "  except UnicodeDecodeError:\n",
    "    return False\n",
    "  else:\n",
    "    return True"
   ]
  },
  {
   "cell_type": "code",
   "execution_count": 5,
   "metadata": {
    "executionInfo": {
     "elapsed": 8,
     "status": "ok",
     "timestamp": 1698733961194,
     "user": {
      "displayName": "Tharaphon Nitijiramon",
      "userId": "16915625665235536451"
     },
     "user_tz": -420
    },
    "id": "Fw5j8NU7Q20k"
   },
   "outputs": [],
   "source": [
    "def clean_string(x):\n",
    "  if pd.isna(x) == False:\n",
    "    x = x.lower()\n",
    "    x = x.strip()\n",
    "    remove_list = [' ','ด็อกเตอร์','ดร.','ว่าที่','พล.อ.','พล.ท.','พล.ต.','พ.อ.','พ.ท.','พ.ต.','ร.อ.','ร.ท.','ร.ต.','จ.ส.อ.','จ.ส.ท.','จ.ส.ต','ส.อ.',\n",
    "                           'ส.ท.','ส.ต.',\n",
    "                          'พลฯ','นนร.','พล.ร.อ.','พล.ร.ท.','พล.ร.ต.','น.อ.','ร.น.','น.ท.','น.ต.','ร.อ.','ร.ท.','ร.ต.','พ.จ.อ.','พ.จ.ท.','พ.จ.ต.',\n",
    "                          'จ.อ.','จ.ท.','จ.ต.','พล.อ.อ.','พล.อ.ท.','พล.อ.ต.','พ.อ.อ.','พ.อ.ท.','พ.อ.ต.','นนอ.','นจอ.',\n",
    "                          'พล.ต.อ.','พล.ต.ท.','พล.ต.ต.','พ.ต.อ.','พ.ต.ท.','พ.ต.ต.','ร.ต.อ.','ร.ต.ท.','ร.ต.ต.','ด.ต.','จ.ส.ต.','ส.ต.อ.','ส.ต.ท.','ส.ต.ต.'\n",
    "                           ,'พลเอก','พลโท','พลตรี','พันเอก','พันโท','พันตรี','ร้อยเอก','ร้อยโท','ร้อยตรี','จ่าสิบเอก','จ่าสิบโท','จ่าสิบตรี','สิบเอก','สิบโท','สิบตรี','พลทหาร',\n",
    "                        'พลเรือเอก','พลเรือโท','พลเรือตรี','นาวาเอก','นาวาโท','นาวาตรี','เรือเอก','เรือโท','เรือตรี','พันจ่าเอก','พันจ่าโท','พันจ่าตรี','จ่าเอก','จ่าโท','จ่าตรี',\n",
    "                           'พลอากาศเอก' , 'พลอากาศโท','พลอากาศตรี','นาวาอากาศเอก','นาวาอากาศโท','นาวาอากาศตรี','เรืออากาศเอก','เรืออากาศโท' ,'เรืออากาศตรี',\n",
    "                           'พันจ่าอากาศเอก','พันจ่าอากาศโท','พันจ่าอากาศตรี','จ่าอากาศเอก','จ่าอากาศโท','จ่าอากาศตรี',\n",
    "                           'mr.','mrs.','ms.','limited','inc.','co., ltd.,','ltd','(ไทย)','(ประเทศไทย)',\n",
    "                        '','(',')','-','.',',','บริษัท','บจก','จำกัด','มหาชน','ห้างหุ้นส่วน','จำกัด','publiccompanylim','company','–','/' ,\n",
    "                           'นาย','นางสาว' ,'นาง' , 'x0000' , '_' , 'และหรือย่อย']\n",
    "    for i in range(len(remove_list)):\n",
    "      x = x.replace(remove_list[i],'')\n",
    "  return x"
   ]
  },
  {
   "cell_type": "code",
   "execution_count": 6,
   "metadata": {
    "executionInfo": {
     "elapsed": 7,
     "status": "ok",
     "timestamp": 1698733961194,
     "user": {
      "displayName": "Tharaphon Nitijiramon",
      "userId": "16915625665235536451"
     },
     "user_tz": -420
    },
    "id": "BXndWNJqQ7R6"
   },
   "outputs": [],
   "source": [
    "# input_path = 'C:\\\\Users\\\\'+ username +'\\\\OneDrive - EXIM BANK OF THAILAND\\\\Shared Drive บส ตส\\\\Data\\\\ปี 2567 Q1\\\\'\n",
    "# output_path = 'C:\\\\Users\\\\'+ username +'\\\\OneDrive - EXIM BANK OF THAILAND\\\\Shared Drive บส ตส\\\\3. รวมศูนย์\\\\RESULT\\\\'\n",
    "\n",
    "\n",
    "# # input_path = r'C:\\Users\\nipittab\\OneDrive - EXIM BANK OF THAILAND\\Shared Drive บส ตส\\Data\\ปี 2566 Q3/'\n",
    "# # output_path = r'C:\\Users\\nipittab\\OneDrive - EXIM BANK OF THAILAND\\Shared Drive บส ตส\\3. รวมศูนย์\\RESULT/'"
   ]
  },
  {
   "cell_type": "code",
   "execution_count": 7,
   "metadata": {},
   "outputs": [],
   "source": [
    "# check path \n",
    "input_path = 'ปี 2567 Q2//'\n",
    "output_path = 'output//'\n",
    "# os.mkdir(output_path)"
   ]
  },
  {
   "cell_type": "markdown",
   "metadata": {
    "id": "-RuVDo37I2Q8"
   },
   "source": [
    "# INPUT"
   ]
  },
  {
   "cell_type": "code",
   "execution_count": 8,
   "metadata": {
    "colab": {
     "base_uri": "https://localhost:8080/"
    },
    "executionInfo": {
     "elapsed": 12689,
     "status": "ok",
     "timestamp": 1698734138966,
     "user": {
      "displayName": "Tharaphon Nitijiramon",
      "userId": "16915625665235536451"
     },
     "user_tz": -420
    },
    "id": "0KIds3mFHaxX",
    "outputId": "42feccf8-919b-4f55-e475-78dbd89d2c7d"
   },
   "outputs": [
    {
     "name": "stderr",
     "output_type": "stream",
     "text": [
      "c:\\Anaconda 3\\Lib\\site-packages\\openpyxl\\worksheet\\header_footer.py:48: UserWarning: Cannot parse header or footer so it will be ignored\n",
      "  warn(\"\"\"Cannot parse header or footer so it will be ignored\"\"\")\n"
     ]
    }
   ],
   "source": [
    "#@title ข้อมูล Outstanding\n",
    "#จาก Share Point\n",
    "outstanding = '06.วงเงินและยอดคงค้าง_มิ.ย.2567.xlsx' #@param {type:'string'}\n",
    "df_out = pd.read_excel(input_path + outstanding , dtype = str)"
   ]
  },
  {
   "cell_type": "code",
   "execution_count": 9,
   "metadata": {
    "executionInfo": {
     "elapsed": 5,
     "status": "ok",
     "timestamp": 1698734138966,
     "user": {
      "displayName": "Tharaphon Nitijiramon",
      "userId": "16915625665235536451"
     },
     "user_tz": -420
    },
    "id": "r7UYlEbwVbul"
   },
   "outputs": [],
   "source": [
    "#@title ชื่อไฟล์ รหัสลูกค้า เลขนิติบุคคล\n",
    "#จาก Jupyter โดยการ Merge ข้อมูล วงเงินยอดคงค้าง กับ ไฟล์ข้อมูลลูกค้าในระบบ AS400\n",
    "# Link Share Point : http://sp.exim.go.th/dc/report/Report14/Forms/AllItems.aspx\n",
    "id_cuscode = 'รหัส_เลขนิติ_Q2_67.xlsx' #@param {type:'string'}\n",
    "df_pm = pd.read_excel(input_path + id_cuscode , dtype = str)"
   ]
  },
  {
   "cell_type": "code",
   "execution_count": 10,
   "metadata": {
    "executionInfo": {
     "elapsed": 20156,
     "status": "ok",
     "timestamp": 1698734159119,
     "user": {
      "displayName": "Tharaphon Nitijiramon",
      "userId": "16915625665235536451"
     },
     "user_tz": -420
    },
    "id": "R6cVTax3Sheo"
   },
   "outputs": [],
   "source": [
    "#@title ข้อมูล ECS File บัญชี\n",
    "#ได้รับจากพี่หนุ่ม ภาคิน ทุกเดือน ฝ่าย พส.\n",
    "ecs1 = 'ลูกค้าวงเงินหลักประกัน_บช_2024_06_02072024_Final.xlsx'  #@param {type:'string'}\n",
    "ecs2 = 'เจ้าของหลักประกัน_audit_2024_06.xlsx' #@param {type:'string'}\n",
    "df_ecs1 = pd.read_excel(input_path + ecs1 , dtype = str)\n",
    "df_ecs2 = pd.read_excel(input_path + ecs2 , dtype = str)"
   ]
  },
  {
   "cell_type": "code",
   "execution_count": 11,
   "metadata": {
    "executionInfo": {
     "elapsed": 23517,
     "status": "ok",
     "timestamp": 1698734182621,
     "user": {
      "displayName": "Tharaphon Nitijiramon",
      "userId": "16915625665235536451"
     },
     "user_tz": -420
    },
    "id": "mMAK54x_UQ0c"
   },
   "outputs": [],
   "source": [
    "#@title ข้อมูลรวมศูนย์\n",
    "# มีการให้ทุกต้นเดือนเป็น ออโต้จากฝ่าย พส.\n",
    "centralize = 'รวมศูนย์_20240702.xlsx' #@param {type:'string'}\n",
    "df_cen = pd.read_excel(input_path + centralize , dtype = str)"
   ]
  },
  {
   "cell_type": "code",
   "execution_count": 12,
   "metadata": {
    "cellView": "form",
    "executionInfo": {
     "elapsed": 19,
     "status": "ok",
     "timestamp": 1698734182622,
     "user": {
      "displayName": "Tharaphon Nitijiramon",
      "userId": "16915625665235536451"
     },
     "user_tz": -420
    },
    "id": "VjTbDbblUzfc"
   },
   "outputs": [],
   "source": [
    "#@title ใส่ขอบเขตการตรวจ\n",
    "start_date = '2024-01-01' #@param {type:\"date\"}\n",
    "end_date = '2024-06-30' #@param {type:\"date\"}\n",
    "start_date = pd.to_datetime(start_date, format = '%Y-%m-%d')\n",
    "end_date = pd.to_datetime(end_date  , format = '%Y-%m-%d')"
   ]
  },
  {
   "cell_type": "code",
   "execution_count": 13,
   "metadata": {
    "executionInfo": {
     "elapsed": 17,
     "status": "ok",
     "timestamp": 1698734182622,
     "user": {
      "displayName": "Tharaphon Nitijiramon",
      "userId": "16915625665235536451"
     },
     "user_tz": -420
    },
    "id": "cipv3QadU6WV"
   },
   "outputs": [],
   "source": [
    "#@title ชื่อไฟล์ Output\n",
    "file_name = 'รวมศูนย์_ผู้ค้ำประกัน_q2_67_jupyter.xlsx' #@param {type:'string'}"
   ]
  },
  {
   "cell_type": "code",
   "execution_count": 14,
   "metadata": {
    "executionInfo": {
     "elapsed": 17,
     "status": "ok",
     "timestamp": 1698734182622,
     "user": {
      "displayName": "Tharaphon Nitijiramon",
      "userId": "16915625665235536451"
     },
     "user_tz": -420
    },
    "id": "1XPnUHALKGjX"
   },
   "outputs": [],
   "source": [
    "#df_b = pd.read_excel(input_path + 'Carp_ทบทวนแล้ว_110865.xlsx' , dtype = str)"
   ]
  },
  {
   "cell_type": "markdown",
   "metadata": {
    "id": "ApvIrgRMVN8q"
   },
   "source": [
    "# CODE"
   ]
  },
  {
   "cell_type": "markdown",
   "metadata": {
    "id": "BWzmeIXxEkvE"
   },
   "source": [
    "## Chose Customer and Clean Outstanding File"
   ]
  },
  {
   "cell_type": "code",
   "execution_count": 15,
   "metadata": {
    "executionInfo": {
     "elapsed": 16,
     "status": "ok",
     "timestamp": 1698734182622,
     "user": {
      "displayName": "Tharaphon Nitijiramon",
      "userId": "16915625665235536451"
     },
     "user_tz": -420
    },
    "id": "ARspBbTMEfMw"
   },
   "outputs": [],
   "source": [
    "df_out1 = df_out[['รหัสลูกค้า' , 'ผู้ดูแลลูกค้า_(แยกส่วน)' , 'ผู้ดูแลลูกค้า_(ตามฝ่าย)' , 'วันที่อนุมัติ',\n",
    "                           'วันที่ทบทวนล่าสุด']].drop_duplicates()"
   ]
  },
  {
   "cell_type": "code",
   "execution_count": 16,
   "metadata": {
    "executionInfo": {
     "elapsed": 15,
     "status": "ok",
     "timestamp": 1698734182622,
     "user": {
      "displayName": "Tharaphon Nitijiramon",
      "userId": "16915625665235536451"
     },
     "user_tz": -420
    },
    "id": "YasQgjOGEm3v"
   },
   "outputs": [],
   "source": [
    "from datetime import datetime\n",
    "def clean_date_out(a):\n",
    "  if pd.isna(a) == False:\n",
    "    if a[6:8] == '26':\n",
    "      a = a.replace('265' , '256')\n",
    "      a = a[:6] + str(int(a[6:]) - 543)\n",
    "      a = pd.to_datetime( a , format = '%d/%m/%Y')\n",
    "    elif a[6:8] == '25':\n",
    "      a = a[:6] + str(int(a[6:]) - 543)\n",
    "      a = pd.to_datetime( a , format = '%d/%m/%Y')\n",
    "    elif a[6:8] == '20' or a[6:8] == '19':\n",
    "      a = pd.to_datetime( a , format = '%d/%m/%Y')\n",
    "    elif a[6:7] == '3':\n",
    "      a = a[:6] + str(int(a[6:]) -2*543)\n",
    "      a = pd.to_datetime( a , format = '%d/%m/%Y')\n",
    "    # elif a[6:8] == '00':\n",
    "    #   a = np.nan\n",
    "    else: \n",
    "      a = np.nan\n",
    "#     elif a[:2] == '25' and a[4] == '-':\n",
    "#       a = str(int(a[:4])-543) + a[4:]\n",
    "# #       a = pd.to_datetime( a , format = '%Y/%m/%d')\n",
    "#       a = datetime.strptime(a, '%Y-%m-%d %H:%M:%S').date()  \n",
    "#     else:\n",
    "#       print(a)\n",
    "  return a"
   ]
  },
  {
   "cell_type": "code",
   "execution_count": 17,
   "metadata": {
    "scrolled": true
   },
   "outputs": [],
   "source": [
    "# clean_date_out(df_out1['วันที่อนุมัติ'].iloc[592])"
   ]
  },
  {
   "cell_type": "code",
   "execution_count": 18,
   "metadata": {
    "scrolled": false
   },
   "outputs": [],
   "source": [
    "# df_out1['วันที่อนุมัติ'].iloc[590:600]"
   ]
  },
  {
   "cell_type": "code",
   "execution_count": 19,
   "metadata": {
    "executionInfo": {
     "elapsed": 3355,
     "status": "ok",
     "timestamp": 1698734185962,
     "user": {
      "displayName": "Tharaphon Nitijiramon",
      "userId": "16915625665235536451"
     },
     "user_tz": -420
    },
    "id": "YdimrasmEoIp"
   },
   "outputs": [],
   "source": [
    "date_col = ['วันที่อนุมัติ' , 'วันที่ทบทวนล่าสุด']\n",
    "for i in range(len(date_col)):\n",
    "    df_out1[date_col[i]] = df_out1[date_col[i]].apply(lambda x : clean_date_out(x))\n",
    " # df_out1[date_col[i]] = pd.to_datetime( df_out1[date_col[i]] , format = '%d/%m/%Y')"
   ]
  },
  {
   "cell_type": "code",
   "execution_count": 20,
   "metadata": {},
   "outputs": [],
   "source": [
    "#เช็ค type ข้อมูล วันที่อนุมัติ ว่ามีเป็น type str มั้ยถ้ามีให้ print รหัสลูกค้า กับ วันที่อนุมัติ\n",
    "\n",
    "for i in range(len(df_out1['วันที่อนุมัติ'])):\n",
    "    if isinstance(df_out1['วันที่อนุมัติ'].iloc[i], str) == True:\n",
    "        print(df_out1['รหัสลูกค้า'].iloc[i])\n",
    "        print(df_out1['วันที่อนุมัติ'].iloc[i])\n",
    "        print(i)"
   ]
  },
  {
   "cell_type": "code",
   "execution_count": 21,
   "metadata": {
    "executionInfo": {
     "elapsed": 18,
     "status": "ok",
     "timestamp": 1698734185962,
     "user": {
      "displayName": "Tharaphon Nitijiramon",
      "userId": "16915625665235536451"
     },
     "user_tz": -420
    },
    "id": "P3dJLkKUEprg"
   },
   "outputs": [],
   "source": [
    "df_out1 = df_out1.dropna(subset = ['ผู้ดูแลลูกค้า_(แยกส่วน)'])"
   ]
  },
  {
   "cell_type": "code",
   "execution_count": 22,
   "metadata": {
    "executionInfo": {
     "elapsed": 17,
     "status": "ok",
     "timestamp": 1698734185962,
     "user": {
      "displayName": "Tharaphon Nitijiramon",
      "userId": "16915625665235536451"
     },
     "user_tz": -420
    },
    "id": "udwMJlr8ErMQ"
   },
   "outputs": [],
   "source": [
    "def check_date_interval(a , b , start_date , end_date):\n",
    "  c = 0\n",
    "  if pd.isna(a) == False:\n",
    "    if (a >= start_date) and (a <= end_date):\n",
    "      c +=1\n",
    "  if pd.isna(b) == False:\n",
    "    if (b >= start_date) and (b <= end_date):\n",
    "      c +=1\n",
    "  return c"
   ]
  },
  {
   "cell_type": "code",
   "execution_count": 23,
   "metadata": {
    "executionInfo": {
     "elapsed": 16,
     "status": "ok",
     "timestamp": 1698734185962,
     "user": {
      "displayName": "Tharaphon Nitijiramon",
      "userId": "16915625665235536451"
     },
     "user_tz": -420
    },
    "id": "-29dlviaEsgX"
   },
   "outputs": [],
   "source": [
    "df_out1['is_in'] = df_out1.apply(lambda x : check_date_interval(x['วันที่อนุมัติ'] , x['วันที่ทบทวนล่าสุด'] , start_date , end_date) , axis = 1)"
   ]
  },
  {
   "cell_type": "code",
   "execution_count": 24,
   "metadata": {
    "executionInfo": {
     "elapsed": 30949,
     "status": "ok",
     "timestamp": 1698734216906,
     "user": {
      "displayName": "Tharaphon Nitijiramon",
      "userId": "16915625665235536451"
     },
     "user_tz": -420
    },
    "id": "fwpFrwEqFC-n"
   },
   "outputs": [],
   "source": [
    "# Clean ข้อมูลให้เหลือ 1 บรรทัดก่อนของข้อมูล outstanding\n",
    "cus_list = df_out1['รหัสลูกค้า'].unique().tolist()\n",
    "df_out2 = pd.DataFrame()\n",
    "for i in range(len(cus_list)):\n",
    "  df_t = df_out1[df_out1['รหัสลูกค้า'] == cus_list[i]]\n",
    "\n",
    "  date1_min = min(list(df_t['วันที่อนุมัติ']))\n",
    "  date1_max = max(list(df_t['วันที่อนุมัติ']))\n",
    "\n",
    "  #date2_min = min(list(df_t['วันที่ทบทวนล่าสุด']))\n",
    "  date2_max = min(list(df_t['วันที่ทบทวนล่าสุด']))\n",
    "\n",
    "  df_t1 = df_t.head(1)\n",
    "  df_t1 = df_t1.drop(columns = ['วันที่อนุมัติ' , 'วันที่ทบทวนล่าสุด'])\n",
    "  df_t1['วันที่อนุมัติครั้งแรก'] = date1_min\n",
    "  df_t1['วันที่อนุมัติล่าสุด'] = date1_max\n",
    "  #df_t1['วันที่ทบทวนครั้งแรก'] = date2_min\n",
    "  df_t1['วันที่ทบทวนล่าสุด'] = date2_max\n",
    "\n",
    "  df_out2 = pd.concat([df_out2 , df_t1])"
   ]
  },
  {
   "cell_type": "code",
   "execution_count": 25,
   "metadata": {
    "executionInfo": {
     "elapsed": 26,
     "status": "ok",
     "timestamp": 1698734216906,
     "user": {
      "displayName": "Tharaphon Nitijiramon",
      "userId": "16915625665235536451"
     },
     "user_tz": -420
    },
    "id": "48C5xxwOFBV_"
   },
   "outputs": [],
   "source": [
    "df_cusin = df_out1[df_out1['is_in'] != 0][['รหัสลูกค้า']].drop_duplicates()"
   ]
  },
  {
   "cell_type": "code",
   "execution_count": 26,
   "metadata": {
    "executionInfo": {
     "elapsed": 25,
     "status": "ok",
     "timestamp": 1698734216906,
     "user": {
      "displayName": "Tharaphon Nitijiramon",
      "userId": "16915625665235536451"
     },
     "user_tz": -420
    },
    "id": "fausduZbFws0"
   },
   "outputs": [],
   "source": [
    "df_out3 = pd.merge(df_out2 , df_cusin , on = 'รหัสลูกค้า')"
   ]
  },
  {
   "cell_type": "code",
   "execution_count": 27,
   "metadata": {
    "colab": {
     "base_uri": "https://localhost:8080/"
    },
    "executionInfo": {
     "elapsed": 26,
     "status": "ok",
     "timestamp": 1698734216907,
     "user": {
      "displayName": "Tharaphon Nitijiramon",
      "userId": "16915625665235536451"
     },
     "user_tz": -420
    },
    "id": "nqBirpaEF1oX",
    "outputId": "ea8b7a19-7bdb-47b9-9233-1d150e78a1cf"
   },
   "outputs": [
    {
     "name": "stdout",
     "output_type": "stream",
     "text": [
      "8113 5010 2345\n"
     ]
    }
   ],
   "source": [
    "print(len(df_out1) , len(df_out2) , len(df_out3))"
   ]
  },
  {
   "cell_type": "code",
   "execution_count": 28,
   "metadata": {
    "executionInfo": {
     "elapsed": 25,
     "status": "ok",
     "timestamp": 1698734216907,
     "user": {
      "displayName": "Tharaphon Nitijiramon",
      "userId": "16915625665235536451"
     },
     "user_tz": -420
    },
    "id": "l9LMGGHLGmmN"
   },
   "outputs": [],
   "source": [
    "df_out4 = pd.merge(df_out3 , df_pm , on = 'รหัสลูกค้า' , how  ='left')"
   ]
  },
  {
   "cell_type": "code",
   "execution_count": 29,
   "metadata": {
    "colab": {
     "base_uri": "https://localhost:8080/",
     "height": 0
    },
    "executionInfo": {
     "elapsed": 25,
     "status": "ok",
     "timestamp": 1698734216907,
     "user": {
      "displayName": "Tharaphon Nitijiramon",
      "userId": "16915625665235536451"
     },
     "user_tz": -420
    },
    "id": "wq1lGGIFG0xS",
    "outputId": "dd389b81-6e69-4dcc-fee7-bb6a4ee859b9"
   },
   "outputs": [
    {
     "data": {
      "text/html": [
       "<div>\n",
       "<style scoped>\n",
       "    .dataframe tbody tr th:only-of-type {\n",
       "        vertical-align: middle;\n",
       "    }\n",
       "\n",
       "    .dataframe tbody tr th {\n",
       "        vertical-align: top;\n",
       "    }\n",
       "\n",
       "    .dataframe thead th {\n",
       "        text-align: right;\n",
       "    }\n",
       "</style>\n",
       "<table border=\"1\" class=\"dataframe\">\n",
       "  <thead>\n",
       "    <tr style=\"text-align: right;\">\n",
       "      <th></th>\n",
       "      <th>รหัสลูกค้า</th>\n",
       "      <th>ผู้ดูแลลูกค้า_(แยกส่วน)</th>\n",
       "      <th>ผู้ดูแลลูกค้า_(ตามฝ่าย)</th>\n",
       "      <th>is_in</th>\n",
       "      <th>วันที่อนุมัติครั้งแรก</th>\n",
       "      <th>วันที่อนุมัติล่าสุด</th>\n",
       "      <th>วันที่ทบทวนล่าสุด</th>\n",
       "      <th>CUCTAXCS</th>\n",
       "    </tr>\n",
       "  </thead>\n",
       "  <tbody>\n",
       "    <tr>\n",
       "      <th>0</th>\n",
       "      <td>G020405</td>\n",
       "      <td>สาขาบางนา-ตราด กม.3</td>\n",
       "      <td>สาขาบางนา-ตราด กม.3</td>\n",
       "      <td>1</td>\n",
       "      <td>2013-02-22</td>\n",
       "      <td>2018-04-02</td>\n",
       "      <td>2024-03-22</td>\n",
       "      <td>0105545080243</td>\n",
       "    </tr>\n",
       "    <tr>\n",
       "      <th>1</th>\n",
       "      <td>G020405</td>\n",
       "      <td>สาขาบางนา-ตราด กม.3</td>\n",
       "      <td>สาขาบางนา-ตราด กม.3</td>\n",
       "      <td>1</td>\n",
       "      <td>2013-02-22</td>\n",
       "      <td>2018-04-02</td>\n",
       "      <td>2024-03-22</td>\n",
       "      <td>0105538144240</td>\n",
       "    </tr>\n",
       "    <tr>\n",
       "      <th>2</th>\n",
       "      <td>G020405</td>\n",
       "      <td>สาขาบางนา-ตราด กม.3</td>\n",
       "      <td>สาขาบางนา-ตราด กม.3</td>\n",
       "      <td>1</td>\n",
       "      <td>2013-02-22</td>\n",
       "      <td>2018-04-02</td>\n",
       "      <td>2024-03-22</td>\n",
       "      <td>0105548072225</td>\n",
       "    </tr>\n",
       "    <tr>\n",
       "      <th>3</th>\n",
       "      <td>G020405</td>\n",
       "      <td>สาขาบางนา-ตราด กม.3</td>\n",
       "      <td>สาขาบางนา-ตราด กม.3</td>\n",
       "      <td>1</td>\n",
       "      <td>2013-02-22</td>\n",
       "      <td>2018-04-02</td>\n",
       "      <td>2024-03-22</td>\n",
       "      <td>0105562130181</td>\n",
       "    </tr>\n",
       "    <tr>\n",
       "      <th>4</th>\n",
       "      <td>G020774</td>\n",
       "      <td>สาขาพระราม 4</td>\n",
       "      <td>สาขาพระราม 4</td>\n",
       "      <td>1</td>\n",
       "      <td>2012-07-26</td>\n",
       "      <td>2022-02-01</td>\n",
       "      <td>2024-03-12</td>\n",
       "      <td>0105530030512</td>\n",
       "    </tr>\n",
       "  </tbody>\n",
       "</table>\n",
       "</div>"
      ],
      "text/plain": [
       "  รหัสลูกค้า ผู้ดูแลลูกค้า_(แยกส่วน) ผู้ดูแลลูกค้า_(ตามฝ่าย)  is_in  \\\n",
       "0    G020405     สาขาบางนา-ตราด กม.3     สาขาบางนา-ตราด กม.3      1   \n",
       "1    G020405     สาขาบางนา-ตราด กม.3     สาขาบางนา-ตราด กม.3      1   \n",
       "2    G020405     สาขาบางนา-ตราด กม.3     สาขาบางนา-ตราด กม.3      1   \n",
       "3    G020405     สาขาบางนา-ตราด กม.3     สาขาบางนา-ตราด กม.3      1   \n",
       "4    G020774            สาขาพระราม 4            สาขาพระราม 4      1   \n",
       "\n",
       "  วันที่อนุมัติครั้งแรก วันที่อนุมัติล่าสุด วันที่ทบทวนล่าสุด       CUCTAXCS  \n",
       "0            2013-02-22          2018-04-02        2024-03-22  0105545080243  \n",
       "1            2013-02-22          2018-04-02        2024-03-22  0105538144240  \n",
       "2            2013-02-22          2018-04-02        2024-03-22  0105548072225  \n",
       "3            2013-02-22          2018-04-02        2024-03-22  0105562130181  \n",
       "4            2012-07-26          2022-02-01        2024-03-12  0105530030512  "
      ]
     },
     "execution_count": 29,
     "metadata": {},
     "output_type": "execute_result"
    }
   ],
   "source": [
    "#df_out4 = df_out4.drop(columns = ['is_in'])\n",
    "df_out4.head()"
   ]
  },
  {
   "cell_type": "markdown",
   "metadata": {
    "id": "P3DUcwBwX5pv"
   },
   "source": [
    "## Clean ข้อมูล ECS"
   ]
  },
  {
   "cell_type": "code",
   "execution_count": 30,
   "metadata": {
    "colab": {
     "base_uri": "https://localhost:8080/",
     "height": 0
    },
    "executionInfo": {
     "elapsed": 23,
     "status": "ok",
     "timestamp": 1698734216907,
     "user": {
      "displayName": "Tharaphon Nitijiramon",
      "userId": "16915625665235536451"
     },
     "user_tz": -420
    },
    "id": "pbKimZ4DVPh2",
    "outputId": "17e18baa-3c92-4674-ae2e-0a24a33be757"
   },
   "outputs": [
    {
     "data": {
      "text/html": [
       "<div>\n",
       "<style scoped>\n",
       "    .dataframe tbody tr th:only-of-type {\n",
       "        vertical-align: middle;\n",
       "    }\n",
       "\n",
       "    .dataframe tbody tr th {\n",
       "        vertical-align: top;\n",
       "    }\n",
       "\n",
       "    .dataframe thead th {\n",
       "        text-align: right;\n",
       "    }\n",
       "</style>\n",
       "<table border=\"1\" class=\"dataframe\">\n",
       "  <thead>\n",
       "    <tr style=\"text-align: right;\">\n",
       "      <th></th>\n",
       "      <th>CUST_CODE</th>\n",
       "      <th>TITLE</th>\n",
       "      <th>CUST_THAI_NAME</th>\n",
       "      <th>CUST_THAI_SURNAME</th>\n",
       "      <th>CR_LIMIT_NO</th>\n",
       "      <th>FACILITY_ADD_TEXT</th>\n",
       "      <th>APPROVED_CURR_AMOUNT</th>\n",
       "      <th>EFFECTIVE_DATE</th>\n",
       "      <th>AUTHORIZE_DATE</th>\n",
       "      <th>LOG_APPROVE_DATE</th>\n",
       "      <th>...</th>\n",
       "      <th>CONTRACT_CURRENCY</th>\n",
       "      <th>COLLATERAL_NO</th>\n",
       "      <th>COLCODETYPE</th>\n",
       "      <th>COLL_TYPENAME</th>\n",
       "      <th>COLL_DESCRIPTION</th>\n",
       "      <th>APPRAISAL_VALUE</th>\n",
       "      <th>APPRAISAL_DATE</th>\n",
       "      <th>COLL_STATUS</th>\n",
       "      <th>LIM_STATUS</th>\n",
       "      <th>APPRAISAL_NAME</th>\n",
       "    </tr>\n",
       "  </thead>\n",
       "  <tbody>\n",
       "    <tr>\n",
       "      <th>0</th>\n",
       "      <td>0008421</td>\n",
       "      <td>บจก.</td>\n",
       "      <td>นครการยางอุตสาหกรรม</td>\n",
       "      <td>-</td>\n",
       "      <td>400008501</td>\n",
       "      <td>PSF(L/C,P/O,Contract)ร่วมกับรับซื้อตั๋ว D/P Sight</td>\n",
       "      <td>3142000</td>\n",
       "      <td>1997-08-11 00:00:00.0</td>\n",
       "      <td>2024-02-08 00:00:00.0</td>\n",
       "      <td>2024-02-09 00:00:00.0</td>\n",
       "      <td>...</td>\n",
       "      <td>THB</td>\n",
       "      <td>43020901</td>\n",
       "      <td>1140</td>\n",
       "      <td>ที่ดินพร้อมสิ่งปลูกสร้าง</td>\n",
       "      <td>ฉ.7000 (สปส.เลขที่ 503)</td>\n",
       "      <td>3325000</td>\n",
       "      <td>2023-12-15 00:00:00.0</td>\n",
       "      <td>A</td>\n",
       "      <td>A</td>\n",
       "      <td>กรุงเทพประเมินราคาฯ</td>\n",
       "    </tr>\n",
       "    <tr>\n",
       "      <th>1</th>\n",
       "      <td>0001473</td>\n",
       "      <td>บจก.</td>\n",
       "      <td>ฉลอง</td>\n",
       "      <td>-</td>\n",
       "      <td>400055301</td>\n",
       "      <td>PSF(L/C,P/O,Contract 90 วัน) ร่วมกับรับซื้อตั๋...</td>\n",
       "      <td>5000000</td>\n",
       "      <td>2004-09-24 00:00:00.0</td>\n",
       "      <td>2007-12-27 00:00:00.0</td>\n",
       "      <td>2020-04-07 00:00:00.0</td>\n",
       "      <td>...</td>\n",
       "      <td>THB</td>\n",
       "      <td>49016101</td>\n",
       "      <td>1120</td>\n",
       "      <td>อาคารสิ่งปลูกสร้าง</td>\n",
       "      <td>หช.เลขที่ 425/2 อาคารชุด \"สาธรเพลส\"</td>\n",
       "      <td>2681000</td>\n",
       "      <td>2021-08-10 00:00:00.0</td>\n",
       "      <td>A</td>\n",
       "      <td>A</td>\n",
       "      <td>กวิน แอพเพรซัล</td>\n",
       "    </tr>\n",
       "    <tr>\n",
       "      <th>2</th>\n",
       "      <td>G020405</td>\n",
       "      <td>บ/ช ร่วม</td>\n",
       "      <td>เฟรช โปรดิวส์/ไชน โปรดักส์</td>\n",
       "      <td>-</td>\n",
       "      <td>410021301</td>\n",
       "      <td>PSF(L/C,P/O,Contract 150 วัน) ร่วมกับรับซื้อตั...</td>\n",
       "      <td>33000000</td>\n",
       "      <td>2014-10-15 00:00:00.0</td>\n",
       "      <td>2014-08-26 00:00:00.0</td>\n",
       "      <td>2023-12-13 00:00:00.0</td>\n",
       "      <td>...</td>\n",
       "      <td>THB</td>\n",
       "      <td>53003008</td>\n",
       "      <td>2310</td>\n",
       "      <td>บุคคลธรรมดา</td>\n",
       "      <td>นายเจสัน เจอรัลด์</td>\n",
       "      <td>0</td>\n",
       "      <td>1900-01-01 00:00:00.0</td>\n",
       "      <td>A</td>\n",
       "      <td>A</td>\n",
       "      <td>NaN</td>\n",
       "    </tr>\n",
       "    <tr>\n",
       "      <th>3</th>\n",
       "      <td>G020405</td>\n",
       "      <td>บ/ช ร่วม</td>\n",
       "      <td>เฟรช โปรดิวส์/ไชน โปรดักส์</td>\n",
       "      <td>-</td>\n",
       "      <td>410021301</td>\n",
       "      <td>PSF(L/C,P/O,Contract 150 วัน) ร่วมกับรับซื้อตั...</td>\n",
       "      <td>33000000</td>\n",
       "      <td>2014-10-15 00:00:00.0</td>\n",
       "      <td>2014-08-26 00:00:00.0</td>\n",
       "      <td>2023-12-13 00:00:00.0</td>\n",
       "      <td>...</td>\n",
       "      <td>USD</td>\n",
       "      <td>59015701</td>\n",
       "      <td>2210</td>\n",
       "      <td>นิติบุคคล</td>\n",
       "      <td>บจก.สกายเท็กซ์</td>\n",
       "      <td>0</td>\n",
       "      <td>1900-01-01 00:00:00.0</td>\n",
       "      <td>A</td>\n",
       "      <td>A</td>\n",
       "      <td>NaN</td>\n",
       "    </tr>\n",
       "    <tr>\n",
       "      <th>4</th>\n",
       "      <td>0012480</td>\n",
       "      <td>บจก.</td>\n",
       "      <td>ซิลเวอร์ เวิลด์</td>\n",
       "      <td>-</td>\n",
       "      <td>410025201</td>\n",
       "      <td>PSF(L/C,P/O,Contract 150วัน)ร่วมกับวงเงินรับซื...</td>\n",
       "      <td>3109872</td>\n",
       "      <td>2003-06-25 00:00:00.0</td>\n",
       "      <td>2011-06-16 00:00:00.0</td>\n",
       "      <td>2011-07-07 00:00:00.0</td>\n",
       "      <td>...</td>\n",
       "      <td>THB</td>\n",
       "      <td>43132801</td>\n",
       "      <td>2310</td>\n",
       "      <td>บุคคลธรรมดา</td>\n",
       "      <td>นางพัฒนา ณัฐอนันต์</td>\n",
       "      <td>0</td>\n",
       "      <td>1900-01-01 00:00:00.0</td>\n",
       "      <td>A</td>\n",
       "      <td>A</td>\n",
       "      <td>NaN</td>\n",
       "    </tr>\n",
       "  </tbody>\n",
       "</table>\n",
       "<p>5 rows × 26 columns</p>\n",
       "</div>"
      ],
      "text/plain": [
       "  CUST_CODE     TITLE              CUST_THAI_NAME CUST_THAI_SURNAME  \\\n",
       "0   0008421      บจก.         นครการยางอุตสาหกรรม                 -   \n",
       "1   0001473      บจก.                        ฉลอง                 -   \n",
       "2   G020405  บ/ช ร่วม  เฟรช โปรดิวส์/ไชน โปรดักส์                 -   \n",
       "3   G020405  บ/ช ร่วม  เฟรช โปรดิวส์/ไชน โปรดักส์                 -   \n",
       "4   0012480      บจก.             ซิลเวอร์ เวิลด์                 -   \n",
       "\n",
       "  CR_LIMIT_NO                                  FACILITY_ADD_TEXT  \\\n",
       "0   400008501  PSF(L/C,P/O,Contract)ร่วมกับรับซื้อตั๋ว D/P Sight   \n",
       "1   400055301  PSF(L/C,P/O,Contract 90 วัน) ร่วมกับรับซื้อตั๋...   \n",
       "2   410021301  PSF(L/C,P/O,Contract 150 วัน) ร่วมกับรับซื้อตั...   \n",
       "3   410021301  PSF(L/C,P/O,Contract 150 วัน) ร่วมกับรับซื้อตั...   \n",
       "4   410025201  PSF(L/C,P/O,Contract 150วัน)ร่วมกับวงเงินรับซื...   \n",
       "\n",
       "  APPROVED_CURR_AMOUNT         EFFECTIVE_DATE         AUTHORIZE_DATE  \\\n",
       "0              3142000  1997-08-11 00:00:00.0  2024-02-08 00:00:00.0   \n",
       "1              5000000  2004-09-24 00:00:00.0  2007-12-27 00:00:00.0   \n",
       "2             33000000  2014-10-15 00:00:00.0  2014-08-26 00:00:00.0   \n",
       "3             33000000  2014-10-15 00:00:00.0  2014-08-26 00:00:00.0   \n",
       "4              3109872  2003-06-25 00:00:00.0  2011-06-16 00:00:00.0   \n",
       "\n",
       "        LOG_APPROVE_DATE  ... CONTRACT_CURRENCY COLLATERAL_NO COLCODETYPE  \\\n",
       "0  2024-02-09 00:00:00.0  ...               THB      43020901        1140   \n",
       "1  2020-04-07 00:00:00.0  ...               THB      49016101        1120   \n",
       "2  2023-12-13 00:00:00.0  ...               THB      53003008        2310   \n",
       "3  2023-12-13 00:00:00.0  ...               USD      59015701        2210   \n",
       "4  2011-07-07 00:00:00.0  ...               THB      43132801        2310   \n",
       "\n",
       "              COLL_TYPENAME                      COLL_DESCRIPTION  \\\n",
       "0  ที่ดินพร้อมสิ่งปลูกสร้าง               ฉ.7000 (สปส.เลขที่ 503)   \n",
       "1        อาคารสิ่งปลูกสร้าง   หช.เลขที่ 425/2 อาคารชุด \"สาธรเพลส\"   \n",
       "2               บุคคลธรรมดา                     นายเจสัน เจอรัลด์   \n",
       "3                 นิติบุคคล                        บจก.สกายเท็กซ์   \n",
       "4               บุคคลธรรมดา                    นางพัฒนา ณัฐอนันต์   \n",
       "\n",
       "  APPRAISAL_VALUE         APPRAISAL_DATE COLL_STATUS LIM_STATUS  \\\n",
       "0         3325000  2023-12-15 00:00:00.0           A          A   \n",
       "1         2681000  2021-08-10 00:00:00.0           A          A   \n",
       "2               0  1900-01-01 00:00:00.0           A          A   \n",
       "3               0  1900-01-01 00:00:00.0           A          A   \n",
       "4               0  1900-01-01 00:00:00.0           A          A   \n",
       "\n",
       "        APPRAISAL_NAME  \n",
       "0  กรุงเทพประเมินราคาฯ  \n",
       "1       กวิน แอพเพรซัล  \n",
       "2                  NaN  \n",
       "3                  NaN  \n",
       "4                  NaN  \n",
       "\n",
       "[5 rows x 26 columns]"
      ]
     },
     "execution_count": 30,
     "metadata": {},
     "output_type": "execute_result"
    }
   ],
   "source": [
    "df_ecs1.head()"
   ]
  },
  {
   "cell_type": "code",
   "execution_count": 31,
   "metadata": {
    "colab": {
     "base_uri": "https://localhost:8080/",
     "height": 0
    },
    "executionInfo": {
     "elapsed": 22,
     "status": "ok",
     "timestamp": 1698734216907,
     "user": {
      "displayName": "Tharaphon Nitijiramon",
      "userId": "16915625665235536451"
     },
     "user_tz": -420
    },
    "id": "eiGTQrefX-gw",
    "outputId": "ce2bca0f-f5a7-45da-ed8d-cc979243c564"
   },
   "outputs": [
    {
     "data": {
      "text/html": [
       "<div>\n",
       "<style scoped>\n",
       "    .dataframe tbody tr th:only-of-type {\n",
       "        vertical-align: middle;\n",
       "    }\n",
       "\n",
       "    .dataframe tbody tr th {\n",
       "        vertical-align: top;\n",
       "    }\n",
       "\n",
       "    .dataframe thead th {\n",
       "        text-align: right;\n",
       "    }\n",
       "</style>\n",
       "<table border=\"1\" class=\"dataframe\">\n",
       "  <thead>\n",
       "    <tr style=\"text-align: right;\">\n",
       "      <th></th>\n",
       "      <th>COLLATERAL_NO</th>\n",
       "      <th>STATUS</th>\n",
       "      <th>OWNERSHIP_ID</th>\n",
       "      <th>FIRSTNAME</th>\n",
       "      <th>LASTNAME</th>\n",
       "      <th>PASSPORT</th>\n",
       "      <th>REGISTRATION_NO</th>\n",
       "    </tr>\n",
       "  </thead>\n",
       "  <tbody>\n",
       "    <tr>\n",
       "      <th>0</th>\n",
       "      <td>43003301</td>\n",
       "      <td>A</td>\n",
       "      <td>9</td>\n",
       "      <td>เคลอินเตอร์เทรด</td>\n",
       "      <td>-</td>\n",
       "      <td>-</td>\n",
       "      <td>0105531089375</td>\n",
       "    </tr>\n",
       "    <tr>\n",
       "      <th>1</th>\n",
       "      <td>43003701</td>\n",
       "      <td>R</td>\n",
       "      <td>10</td>\n",
       "      <td>เคลอินเตอร์เทรด</td>\n",
       "      <td>-</td>\n",
       "      <td>-</td>\n",
       "      <td>0105531089375</td>\n",
       "    </tr>\n",
       "    <tr>\n",
       "      <th>2</th>\n",
       "      <td>43003801</td>\n",
       "      <td>R</td>\n",
       "      <td>11</td>\n",
       "      <td>เคลอินเตอร์เทรด</td>\n",
       "      <td>-</td>\n",
       "      <td>-</td>\n",
       "      <td>0105531089375</td>\n",
       "    </tr>\n",
       "    <tr>\n",
       "      <th>3</th>\n",
       "      <td>43004201</td>\n",
       "      <td>R</td>\n",
       "      <td>12</td>\n",
       "      <td>สิริพร</td>\n",
       "      <td>เกียรติเสวีกุล</td>\n",
       "      <td>-</td>\n",
       "      <td>3102401142821</td>\n",
       "    </tr>\n",
       "    <tr>\n",
       "      <th>4</th>\n",
       "      <td>43004401</td>\n",
       "      <td>R</td>\n",
       "      <td>13</td>\n",
       "      <td>นพดล</td>\n",
       "      <td>เกียรติเสวีกุล</td>\n",
       "      <td>-</td>\n",
       "      <td>3102401142979</td>\n",
       "    </tr>\n",
       "  </tbody>\n",
       "</table>\n",
       "</div>"
      ],
      "text/plain": [
       "  COLLATERAL_NO STATUS OWNERSHIP_ID        FIRSTNAME        LASTNAME PASSPORT  \\\n",
       "0      43003301      A            9  เคลอินเตอร์เทรด               -        -   \n",
       "1      43003701      R           10  เคลอินเตอร์เทรด               -        -   \n",
       "2      43003801      R           11  เคลอินเตอร์เทรด               -        -   \n",
       "3      43004201      R           12           สิริพร  เกียรติเสวีกุล        -   \n",
       "4      43004401      R           13             นพดล  เกียรติเสวีกุล        -   \n",
       "\n",
       "  REGISTRATION_NO  \n",
       "0   0105531089375  \n",
       "1   0105531089375  \n",
       "2   0105531089375  \n",
       "3   3102401142821  \n",
       "4   3102401142979  "
      ]
     },
     "execution_count": 31,
     "metadata": {},
     "output_type": "execute_result"
    }
   ],
   "source": [
    "df_ecs2.head()"
   ]
  },
  {
   "cell_type": "code",
   "execution_count": 32,
   "metadata": {
    "executionInfo": {
     "elapsed": 21,
     "status": "ok",
     "timestamp": 1698734216907,
     "user": {
      "displayName": "Tharaphon Nitijiramon",
      "userId": "16915625665235536451"
     },
     "user_tz": -420
    },
    "id": "Nfvz7TlBYAnH"
   },
   "outputs": [],
   "source": [
    "df_e1 = df_ecs1[['CUST_CODE' , 'CR_LIMIT_NO' , 'COLL_TYPENAME' , 'COLL_DESCRIPTION' , 'COLLATERAL_NO']].drop_duplicates() #จากไฟล์ ECS บช\n",
    "df_e2 = df_ecs2[['COLLATERAL_NO' , 'STATUS' , 'FIRSTNAME'  , 'LASTNAME' , 'REGISTRATION_NO']].drop_duplicates() # จากไฟล์ ECS ตส"
   ]
  },
  {
   "cell_type": "code",
   "execution_count": 33,
   "metadata": {
    "executionInfo": {
     "elapsed": 424,
     "status": "ok",
     "timestamp": 1698734217310,
     "user": {
      "displayName": "Tharaphon Nitijiramon",
      "userId": "16915625665235536451"
     },
     "user_tz": -420
    },
    "id": "7cYAeMGAX_zO"
   },
   "outputs": [],
   "source": [
    "df_e3 = pd.merge(df_e1 , df_e2 , on = 'COLLATERAL_NO' , how = 'left')"
   ]
  },
  {
   "cell_type": "code",
   "execution_count": 34,
   "metadata": {
    "colab": {
     "base_uri": "https://localhost:8080/",
     "height": 0
    },
    "executionInfo": {
     "elapsed": 10,
     "status": "ok",
     "timestamp": 1698734217310,
     "user": {
      "displayName": "Tharaphon Nitijiramon",
      "userId": "16915625665235536451"
     },
     "user_tz": -420
    },
    "id": "y0CpJyp8Y94w",
    "outputId": "cbb4f03a-d610-4299-9e10-8c055f3f7f40"
   },
   "outputs": [
    {
     "data": {
      "text/html": [
       "<div>\n",
       "<style scoped>\n",
       "    .dataframe tbody tr th:only-of-type {\n",
       "        vertical-align: middle;\n",
       "    }\n",
       "\n",
       "    .dataframe tbody tr th {\n",
       "        vertical-align: top;\n",
       "    }\n",
       "\n",
       "    .dataframe thead th {\n",
       "        text-align: right;\n",
       "    }\n",
       "</style>\n",
       "<table border=\"1\" class=\"dataframe\">\n",
       "  <thead>\n",
       "    <tr style=\"text-align: right;\">\n",
       "      <th></th>\n",
       "      <th>CUST_CODE</th>\n",
       "      <th>CR_LIMIT_NO</th>\n",
       "      <th>COLL_TYPENAME</th>\n",
       "      <th>COLL_DESCRIPTION</th>\n",
       "      <th>COLLATERAL_NO</th>\n",
       "      <th>STATUS</th>\n",
       "      <th>FIRSTNAME</th>\n",
       "      <th>LASTNAME</th>\n",
       "      <th>REGISTRATION_NO</th>\n",
       "    </tr>\n",
       "  </thead>\n",
       "  <tbody>\n",
       "    <tr>\n",
       "      <th>0</th>\n",
       "      <td>0008421</td>\n",
       "      <td>400008501</td>\n",
       "      <td>ที่ดินพร้อมสิ่งปลูกสร้าง</td>\n",
       "      <td>ฉ.7000 (สปส.เลขที่ 503)</td>\n",
       "      <td>43020901</td>\n",
       "      <td>A</td>\n",
       "      <td>ทอง</td>\n",
       "      <td>เมืองงาว</td>\n",
       "      <td>3102401083786</td>\n",
       "    </tr>\n",
       "    <tr>\n",
       "      <th>1</th>\n",
       "      <td>0001473</td>\n",
       "      <td>400055301</td>\n",
       "      <td>อาคารสิ่งปลูกสร้าง</td>\n",
       "      <td>หช.เลขที่ 425/2 อาคารชุด \"สาธรเพลส\"</td>\n",
       "      <td>49016101</td>\n",
       "      <td>A</td>\n",
       "      <td>ภาวิณี</td>\n",
       "      <td>นทเกล้า</td>\n",
       "      <td>3120101396841</td>\n",
       "    </tr>\n",
       "    <tr>\n",
       "      <th>2</th>\n",
       "      <td>G020405</td>\n",
       "      <td>410021301</td>\n",
       "      <td>บุคคลธรรมดา</td>\n",
       "      <td>นายเจสัน เจอรัลด์</td>\n",
       "      <td>53003008</td>\n",
       "      <td>A</td>\n",
       "      <td>เจสัน</td>\n",
       "      <td>เจอรัลด์</td>\n",
       "      <td>8103200009521</td>\n",
       "    </tr>\n",
       "    <tr>\n",
       "      <th>3</th>\n",
       "      <td>G020405</td>\n",
       "      <td>410021301</td>\n",
       "      <td>นิติบุคคล</td>\n",
       "      <td>บจก.สกายเท็กซ์</td>\n",
       "      <td>59015701</td>\n",
       "      <td>A</td>\n",
       "      <td>สกายเท็กซ์</td>\n",
       "      <td>-</td>\n",
       "      <td>0105530057950</td>\n",
       "    </tr>\n",
       "    <tr>\n",
       "      <th>4</th>\n",
       "      <td>0012480</td>\n",
       "      <td>410025201</td>\n",
       "      <td>บุคคลธรรมดา</td>\n",
       "      <td>นางพัฒนา ณัฐอนันต์</td>\n",
       "      <td>43132801</td>\n",
       "      <td>A</td>\n",
       "      <td>พัฒนา</td>\n",
       "      <td>ณัฐอนันต์</td>\n",
       "      <td>3100901002805</td>\n",
       "    </tr>\n",
       "  </tbody>\n",
       "</table>\n",
       "</div>"
      ],
      "text/plain": [
       "  CUST_CODE CR_LIMIT_NO             COLL_TYPENAME  \\\n",
       "0   0008421   400008501  ที่ดินพร้อมสิ่งปลูกสร้าง   \n",
       "1   0001473   400055301        อาคารสิ่งปลูกสร้าง   \n",
       "2   G020405   410021301               บุคคลธรรมดา   \n",
       "3   G020405   410021301                 นิติบุคคล   \n",
       "4   0012480   410025201               บุคคลธรรมดา   \n",
       "\n",
       "                       COLL_DESCRIPTION COLLATERAL_NO STATUS   FIRSTNAME  \\\n",
       "0               ฉ.7000 (สปส.เลขที่ 503)      43020901      A         ทอง   \n",
       "1   หช.เลขที่ 425/2 อาคารชุด \"สาธรเพลส\"      49016101      A      ภาวิณี   \n",
       "2                     นายเจสัน เจอรัลด์      53003008      A       เจสัน   \n",
       "3                        บจก.สกายเท็กซ์      59015701      A  สกายเท็กซ์   \n",
       "4                    นางพัฒนา ณัฐอนันต์      43132801      A       พัฒนา   \n",
       "\n",
       "    LASTNAME REGISTRATION_NO  \n",
       "0   เมืองงาว   3102401083786  \n",
       "1    นทเกล้า   3120101396841  \n",
       "2   เจอรัลด์   8103200009521  \n",
       "3          -   0105530057950  \n",
       "4  ณัฐอนันต์   3100901002805  "
      ]
     },
     "execution_count": 34,
     "metadata": {},
     "output_type": "execute_result"
    }
   ],
   "source": [
    "df_e3.head()"
   ]
  },
  {
   "cell_type": "code",
   "execution_count": 35,
   "metadata": {
    "executionInfo": {
     "elapsed": 7,
     "status": "ok",
     "timestamp": 1698734217310,
     "user": {
      "displayName": "Tharaphon Nitijiramon",
      "userId": "16915625665235536451"
     },
     "user_tz": -420
    },
    "id": "lGtkNczXY_Ul"
   },
   "outputs": [],
   "source": [
    "def clean_ecs_name(fname , lname):\n",
    "  name1 = np.nan\n",
    "  name2 = np.nan\n",
    "  if pd.isna(fname) == False:\n",
    "    if fname == '-':\n",
    "      fname = np.nan\n",
    "\n",
    "  if pd.isna(lname) == False:\n",
    "    if lname == '-':\n",
    "      lname = np.nan\n",
    "\n",
    "  if (pd.isna(fname) == False) and (pd.isna(lname) == False):\n",
    "    if isEnglish(fname) == isEnglish(lname):\n",
    "      name1 = fname + lname\n",
    "      name2 = np.nan\n",
    "    else:\n",
    "      name1 = fname\n",
    "      name2 = lname\n",
    "  elif (pd.isna(fname) == False) and (pd.isna(lname) == True):\n",
    "    name1 = fname\n",
    "    name2 = np.nan\n",
    "  elif (pd.isna(fname) == True) and (pd.isna(lname) == False):\n",
    "    name1 = lname\n",
    "    name2 = np.nan\n",
    "  elif (pd.isna(fname) == False) and (pd.isna(lname) == False):\n",
    "    name1 = np.nan\n",
    "    name2 = np.nan\n",
    "  return name1 , name2"
   ]
  },
  {
   "cell_type": "code",
   "execution_count": 36,
   "metadata": {
    "executionInfo": {
     "elapsed": 1194,
     "status": "ok",
     "timestamp": 1698734218498,
     "user": {
      "displayName": "Tharaphon Nitijiramon",
      "userId": "16915625665235536451"
     },
     "user_tz": -420
    },
    "id": "VYgWJkwab-mq"
   },
   "outputs": [],
   "source": [
    "df_e3['NAME_1'] , df_e3['NAME_2'] = zip(* df_e3.apply(lambda x : clean_ecs_name( x['FIRSTNAME'] , x['LASTNAME']) , axis = 1 ))"
   ]
  },
  {
   "cell_type": "code",
   "execution_count": 37,
   "metadata": {
    "colab": {
     "base_uri": "https://localhost:8080/",
     "height": 0
    },
    "executionInfo": {
     "elapsed": 9,
     "status": "ok",
     "timestamp": 1698734218499,
     "user": {
      "displayName": "Tharaphon Nitijiramon",
      "userId": "16915625665235536451"
     },
     "user_tz": -420
    },
    "id": "CpSUk5CXcYC2",
    "outputId": "d725d340-5805-4668-b97f-960c12a9d754"
   },
   "outputs": [
    {
     "data": {
      "text/html": [
       "<div>\n",
       "<style scoped>\n",
       "    .dataframe tbody tr th:only-of-type {\n",
       "        vertical-align: middle;\n",
       "    }\n",
       "\n",
       "    .dataframe tbody tr th {\n",
       "        vertical-align: top;\n",
       "    }\n",
       "\n",
       "    .dataframe thead th {\n",
       "        text-align: right;\n",
       "    }\n",
       "</style>\n",
       "<table border=\"1\" class=\"dataframe\">\n",
       "  <thead>\n",
       "    <tr style=\"text-align: right;\">\n",
       "      <th></th>\n",
       "      <th>CUST_CODE</th>\n",
       "      <th>CR_LIMIT_NO</th>\n",
       "      <th>COLL_TYPENAME</th>\n",
       "      <th>COLL_DESCRIPTION</th>\n",
       "      <th>COLLATERAL_NO</th>\n",
       "      <th>STATUS</th>\n",
       "      <th>FIRSTNAME</th>\n",
       "      <th>LASTNAME</th>\n",
       "      <th>REGISTRATION_NO</th>\n",
       "      <th>NAME_1</th>\n",
       "      <th>NAME_2</th>\n",
       "    </tr>\n",
       "  </thead>\n",
       "  <tbody>\n",
       "    <tr>\n",
       "      <th>17</th>\n",
       "      <td>0026736</td>\n",
       "      <td>440004801</td>\n",
       "      <td>บุคคลธรรมดา</td>\n",
       "      <td>นายสุรินทร์ เดอร์ กุมาร อาฮูจา (SURINDER KUMARฯ)</td>\n",
       "      <td>44008301</td>\n",
       "      <td>A</td>\n",
       "      <td>สุรินทร์ เดอร์ กุมาร อาฮูจา</td>\n",
       "      <td>SURINDER KUMAR AHUJA</td>\n",
       "      <td>0</td>\n",
       "      <td>สุรินทร์ เดอร์ กุมาร อาฮูจา</td>\n",
       "      <td>SURINDER KUMAR AHUJA</td>\n",
       "    </tr>\n",
       "    <tr>\n",
       "      <th>28</th>\n",
       "      <td>0010019</td>\n",
       "      <td>440036901</td>\n",
       "      <td>บุคคลธรรมดา</td>\n",
       "      <td>นายหลาน จง เซี้ยน (LAN CHUNG-HSIEN)</td>\n",
       "      <td>43157001</td>\n",
       "      <td>A</td>\n",
       "      <td>หลาน จง เซี้ยน</td>\n",
       "      <td>LAN CHUNG-HSIEN</td>\n",
       "      <td>0</td>\n",
       "      <td>หลาน จง เซี้ยน</td>\n",
       "      <td>LAN CHUNG-HSIEN</td>\n",
       "    </tr>\n",
       "    <tr>\n",
       "      <th>54</th>\n",
       "      <td>0031377</td>\n",
       "      <td>460025501</td>\n",
       "      <td>บุคคลธรรมดา</td>\n",
       "      <td>นายโยชิตากา โยชิกิ (YOSHITAKA YOSHIKI)</td>\n",
       "      <td>44008605</td>\n",
       "      <td>A</td>\n",
       "      <td>โยชิตากา โยชิกิ</td>\n",
       "      <td>YOSITAKA YOSHIKI</td>\n",
       "      <td>0</td>\n",
       "      <td>โยชิตากา โยชิกิ</td>\n",
       "      <td>YOSITAKA YOSHIKI</td>\n",
       "    </tr>\n",
       "    <tr>\n",
       "      <th>120</th>\n",
       "      <td>0068467</td>\n",
       "      <td>520007001</td>\n",
       "      <td>บุคคลธรรมดา</td>\n",
       "      <td>นายหลิน อี้ เซิง (LIN YI-SHENG)</td>\n",
       "      <td>52000787</td>\n",
       "      <td>A</td>\n",
       "      <td>หลิน อี้ เซิง</td>\n",
       "      <td>LIN YI-SHENG</td>\n",
       "      <td>0</td>\n",
       "      <td>หลิน อี้ เซิง</td>\n",
       "      <td>LIN YI-SHENG</td>\n",
       "    </tr>\n",
       "    <tr>\n",
       "      <th>122</th>\n",
       "      <td>0068467</td>\n",
       "      <td>520007301</td>\n",
       "      <td>บุคคลธรรมดา</td>\n",
       "      <td>นายหลิน อี้ เซิง (LIN YI-SHENG)</td>\n",
       "      <td>52000787</td>\n",
       "      <td>A</td>\n",
       "      <td>หลิน อี้ เซิง</td>\n",
       "      <td>LIN YI-SHENG</td>\n",
       "      <td>0</td>\n",
       "      <td>หลิน อี้ เซิง</td>\n",
       "      <td>LIN YI-SHENG</td>\n",
       "    </tr>\n",
       "    <tr>\n",
       "      <th>...</th>\n",
       "      <td>...</td>\n",
       "      <td>...</td>\n",
       "      <td>...</td>\n",
       "      <td>...</td>\n",
       "      <td>...</td>\n",
       "      <td>...</td>\n",
       "      <td>...</td>\n",
       "      <td>...</td>\n",
       "      <td>...</td>\n",
       "      <td>...</td>\n",
       "      <td>...</td>\n",
       "    </tr>\n",
       "    <tr>\n",
       "      <th>28631</th>\n",
       "      <td>0133969</td>\n",
       "      <td>650013201</td>\n",
       "      <td>บุคคลธรรมดา</td>\n",
       "      <td>นายคา ลอค โออยอง (MR.AWYONG, KAH LOCK)</td>\n",
       "      <td>65019301</td>\n",
       "      <td>A</td>\n",
       "      <td>คา ลอค โออยอง</td>\n",
       "      <td>AWYONG, KAH LOCK</td>\n",
       "      <td>NaN</td>\n",
       "      <td>คา ลอค โออยอง</td>\n",
       "      <td>AWYONG, KAH LOCK</td>\n",
       "    </tr>\n",
       "    <tr>\n",
       "      <th>28640</th>\n",
       "      <td>0106184</td>\n",
       "      <td>650020301</td>\n",
       "      <td>บุคคลธรรมดา</td>\n",
       "      <td>นายกันหา ซ็ก (MR.KANHA SOK)</td>\n",
       "      <td>61011604</td>\n",
       "      <td>A</td>\n",
       "      <td>กันหา ซ็ก</td>\n",
       "      <td>KANHA SOK</td>\n",
       "      <td>0</td>\n",
       "      <td>กันหา ซ็ก</td>\n",
       "      <td>KANHA SOK</td>\n",
       "    </tr>\n",
       "    <tr>\n",
       "      <th>28708</th>\n",
       "      <td>0128844</td>\n",
       "      <td>640211601</td>\n",
       "      <td>บุคคลธรรมดา</td>\n",
       "      <td>นายแลรี่ ซอ (MR.LARRY ZAW)</td>\n",
       "      <td>64936501</td>\n",
       "      <td>A</td>\n",
       "      <td>แลรี่ ซอ</td>\n",
       "      <td>LARRY ZAW</td>\n",
       "      <td>0</td>\n",
       "      <td>แลรี่ ซอ</td>\n",
       "      <td>LARRY ZAW</td>\n",
       "    </tr>\n",
       "    <tr>\n",
       "      <th>28783</th>\n",
       "      <td>0138285</td>\n",
       "      <td>650095101</td>\n",
       "      <td>บุคคลธรรมดา</td>\n",
       "      <td>นางสาวเชี่ยลู่ เว้ย (MISS XIALU WEI)</td>\n",
       "      <td>65121401</td>\n",
       "      <td>A</td>\n",
       "      <td>เชี่ยลู่ เว้ย</td>\n",
       "      <td>XIALU WEI</td>\n",
       "      <td>NaN</td>\n",
       "      <td>เชี่ยลู่ เว้ย</td>\n",
       "      <td>XIALU WEI</td>\n",
       "    </tr>\n",
       "    <tr>\n",
       "      <th>28784</th>\n",
       "      <td>0138285</td>\n",
       "      <td>650095501</td>\n",
       "      <td>บุคคลธรรมดา</td>\n",
       "      <td>นางสาวเชี่ยลู่ เว้ย (MISS XIALU WEI)</td>\n",
       "      <td>65121401</td>\n",
       "      <td>A</td>\n",
       "      <td>เชี่ยลู่ เว้ย</td>\n",
       "      <td>XIALU WEI</td>\n",
       "      <td>NaN</td>\n",
       "      <td>เชี่ยลู่ เว้ย</td>\n",
       "      <td>XIALU WEI</td>\n",
       "    </tr>\n",
       "  </tbody>\n",
       "</table>\n",
       "<p>808 rows × 11 columns</p>\n",
       "</div>"
      ],
      "text/plain": [
       "      CUST_CODE CR_LIMIT_NO COLL_TYPENAME  \\\n",
       "17      0026736   440004801   บุคคลธรรมดา   \n",
       "28      0010019   440036901   บุคคลธรรมดา   \n",
       "54      0031377   460025501   บุคคลธรรมดา   \n",
       "120     0068467   520007001   บุคคลธรรมดา   \n",
       "122     0068467   520007301   บุคคลธรรมดา   \n",
       "...         ...         ...           ...   \n",
       "28631   0133969   650013201   บุคคลธรรมดา   \n",
       "28640   0106184   650020301   บุคคลธรรมดา   \n",
       "28708   0128844   640211601   บุคคลธรรมดา   \n",
       "28783   0138285   650095101   บุคคลธรรมดา   \n",
       "28784   0138285   650095501   บุคคลธรรมดา   \n",
       "\n",
       "                                       COLL_DESCRIPTION COLLATERAL_NO STATUS  \\\n",
       "17     นายสุรินทร์ เดอร์ กุมาร อาฮูจา (SURINDER KUMARฯ)      44008301      A   \n",
       "28                  นายหลาน จง เซี้ยน (LAN CHUNG-HSIEN)      43157001      A   \n",
       "54               นายโยชิตากา โยชิกิ (YOSHITAKA YOSHIKI)      44008605      A   \n",
       "120                     นายหลิน อี้ เซิง (LIN YI-SHENG)      52000787      A   \n",
       "122                     นายหลิน อี้ เซิง (LIN YI-SHENG)      52000787      A   \n",
       "...                                                 ...           ...    ...   \n",
       "28631            นายคา ลอค โออยอง (MR.AWYONG, KAH LOCK)      65019301      A   \n",
       "28640                       นายกันหา ซ็ก (MR.KANHA SOK)      61011604      A   \n",
       "28708                        นายแลรี่ ซอ (MR.LARRY ZAW)      64936501      A   \n",
       "28783              นางสาวเชี่ยลู่ เว้ย (MISS XIALU WEI)      65121401      A   \n",
       "28784              นางสาวเชี่ยลู่ เว้ย (MISS XIALU WEI)      65121401      A   \n",
       "\n",
       "                          FIRSTNAME              LASTNAME REGISTRATION_NO  \\\n",
       "17     สุรินทร์ เดอร์ กุมาร อาฮูจา   SURINDER KUMAR AHUJA               0   \n",
       "28                   หลาน จง เซี้ยน       LAN CHUNG-HSIEN               0   \n",
       "54                  โยชิตากา โยชิกิ      YOSITAKA YOSHIKI               0   \n",
       "120                   หลิน อี้ เซิง          LIN YI-SHENG               0   \n",
       "122                   หลิน อี้ เซิง          LIN YI-SHENG               0   \n",
       "...                             ...                   ...             ...   \n",
       "28631                 คา ลอค โออยอง      AWYONG, KAH LOCK             NaN   \n",
       "28640                     กันหา ซ็ก             KANHA SOK               0   \n",
       "28708                      แลรี่ ซอ             LARRY ZAW               0   \n",
       "28783                 เชี่ยลู่ เว้ย             XIALU WEI             NaN   \n",
       "28784                 เชี่ยลู่ เว้ย             XIALU WEI             NaN   \n",
       "\n",
       "                             NAME_1                NAME_2  \n",
       "17     สุรินทร์ เดอร์ กุมาร อาฮูจา   SURINDER KUMAR AHUJA  \n",
       "28                   หลาน จง เซี้ยน       LAN CHUNG-HSIEN  \n",
       "54                  โยชิตากา โยชิกิ      YOSITAKA YOSHIKI  \n",
       "120                   หลิน อี้ เซิง          LIN YI-SHENG  \n",
       "122                   หลิน อี้ เซิง          LIN YI-SHENG  \n",
       "...                             ...                   ...  \n",
       "28631                 คา ลอค โออยอง      AWYONG, KAH LOCK  \n",
       "28640                     กันหา ซ็ก             KANHA SOK  \n",
       "28708                      แลรี่ ซอ             LARRY ZAW  \n",
       "28783                 เชี่ยลู่ เว้ย             XIALU WEI  \n",
       "28784                 เชี่ยลู่ เว้ย             XIALU WEI  \n",
       "\n",
       "[808 rows x 11 columns]"
      ]
     },
     "execution_count": 37,
     "metadata": {},
     "output_type": "execute_result"
    }
   ],
   "source": [
    "df_e3[df_e3['NAME_2'].notna()]"
   ]
  },
  {
   "cell_type": "code",
   "execution_count": 38,
   "metadata": {
    "executionInfo": {
     "elapsed": 933,
     "status": "ok",
     "timestamp": 1698734219427,
     "user": {
      "displayName": "Tharaphon Nitijiramon",
      "userId": "16915625665235536451"
     },
     "user_tz": -420
    },
    "id": "1mghVHfLcZCW"
   },
   "outputs": [],
   "source": [
    "name_col = ['NAME_1' , 'NAME_2']\n",
    "for i in range(len(name_col)):\n",
    "  df_e3[name_col[i]] = df_e3[name_col[i]].apply(lambda x : clean_string(x))"
   ]
  },
  {
   "cell_type": "code",
   "execution_count": 39,
   "metadata": {
    "executionInfo": {
     "elapsed": 7,
     "status": "ok",
     "timestamp": 1698734219427,
     "user": {
      "displayName": "Tharaphon Nitijiramon",
      "userId": "16915625665235536451"
     },
     "user_tz": -420
    },
    "id": "X09xBuHvcl9y"
   },
   "outputs": [],
   "source": [
    "df_e4 = pd.merge(df_e3 , df_out4 , left_on = 'CUST_CODE' , right_on = 'รหัสลูกค้า' )"
   ]
  },
  {
   "cell_type": "code",
   "execution_count": 40,
   "metadata": {
    "colab": {
     "base_uri": "https://localhost:8080/",
     "height": 0
    },
    "executionInfo": {
     "elapsed": 449,
     "status": "ok",
     "timestamp": 1698734219870,
     "user": {
      "displayName": "Tharaphon Nitijiramon",
      "userId": "16915625665235536451"
     },
     "user_tz": -420
    },
    "id": "fQ5YpMHDcosN",
    "outputId": "0e924b04-c1e2-407c-ae33-834b0dc2ceff"
   },
   "outputs": [
    {
     "data": {
      "text/html": [
       "<div>\n",
       "<style scoped>\n",
       "    .dataframe tbody tr th:only-of-type {\n",
       "        vertical-align: middle;\n",
       "    }\n",
       "\n",
       "    .dataframe tbody tr th {\n",
       "        vertical-align: top;\n",
       "    }\n",
       "\n",
       "    .dataframe thead th {\n",
       "        text-align: right;\n",
       "    }\n",
       "</style>\n",
       "<table border=\"1\" class=\"dataframe\">\n",
       "  <thead>\n",
       "    <tr style=\"text-align: right;\">\n",
       "      <th></th>\n",
       "      <th>CUST_CODE</th>\n",
       "      <th>CR_LIMIT_NO</th>\n",
       "      <th>COLL_TYPENAME</th>\n",
       "      <th>COLL_DESCRIPTION</th>\n",
       "      <th>COLLATERAL_NO</th>\n",
       "      <th>STATUS</th>\n",
       "      <th>FIRSTNAME</th>\n",
       "      <th>LASTNAME</th>\n",
       "      <th>REGISTRATION_NO</th>\n",
       "      <th>NAME_1</th>\n",
       "      <th>NAME_2</th>\n",
       "      <th>รหัสลูกค้า</th>\n",
       "      <th>ผู้ดูแลลูกค้า_(แยกส่วน)</th>\n",
       "      <th>ผู้ดูแลลูกค้า_(ตามฝ่าย)</th>\n",
       "      <th>is_in</th>\n",
       "      <th>วันที่อนุมัติครั้งแรก</th>\n",
       "      <th>วันที่อนุมัติล่าสุด</th>\n",
       "      <th>วันที่ทบทวนล่าสุด</th>\n",
       "      <th>CUCTAXCS</th>\n",
       "    </tr>\n",
       "  </thead>\n",
       "  <tbody>\n",
       "    <tr>\n",
       "      <th>0</th>\n",
       "      <td>0008421</td>\n",
       "      <td>400008501</td>\n",
       "      <td>ที่ดินพร้อมสิ่งปลูกสร้าง</td>\n",
       "      <td>ฉ.7000 (สปส.เลขที่ 503)</td>\n",
       "      <td>43020901</td>\n",
       "      <td>A</td>\n",
       "      <td>ทอง</td>\n",
       "      <td>เมืองงาว</td>\n",
       "      <td>3102401083786</td>\n",
       "      <td>ทองเมืองงาว</td>\n",
       "      <td>NaN</td>\n",
       "      <td>0008421</td>\n",
       "      <td>สาขาพระราม 2</td>\n",
       "      <td>สาขาพระราม 2</td>\n",
       "      <td>2</td>\n",
       "      <td>2010-12-24</td>\n",
       "      <td>2024-02-08</td>\n",
       "      <td>2024-02-08</td>\n",
       "      <td>0105528019493</td>\n",
       "    </tr>\n",
       "    <tr>\n",
       "      <th>1</th>\n",
       "      <td>0008421</td>\n",
       "      <td>400008501</td>\n",
       "      <td>เครื่องจักร</td>\n",
       "      <td>เครื่องจักร (เครื่องฉีดยาง 300 ตันฯ)</td>\n",
       "      <td>45003501</td>\n",
       "      <td>A</td>\n",
       "      <td>นครการยางอุตสาหกรรม</td>\n",
       "      <td>-</td>\n",
       "      <td>0105528019493</td>\n",
       "      <td>นครการยางอุตสาหกรรม</td>\n",
       "      <td>NaN</td>\n",
       "      <td>0008421</td>\n",
       "      <td>สาขาพระราม 2</td>\n",
       "      <td>สาขาพระราม 2</td>\n",
       "      <td>2</td>\n",
       "      <td>2010-12-24</td>\n",
       "      <td>2024-02-08</td>\n",
       "      <td>2024-02-08</td>\n",
       "      <td>0105528019493</td>\n",
       "    </tr>\n",
       "    <tr>\n",
       "      <th>2</th>\n",
       "      <td>0008421</td>\n",
       "      <td>530143401</td>\n",
       "      <td>บุคคลธรรมดา</td>\n",
       "      <td>นายมั่งมี เมืองงาว</td>\n",
       "      <td>52031301</td>\n",
       "      <td>A</td>\n",
       "      <td>มั่งมี</td>\n",
       "      <td>เมืองงาว</td>\n",
       "      <td>3102401083760</td>\n",
       "      <td>มั่งมีเมืองงาว</td>\n",
       "      <td>NaN</td>\n",
       "      <td>0008421</td>\n",
       "      <td>สาขาพระราม 2</td>\n",
       "      <td>สาขาพระราม 2</td>\n",
       "      <td>2</td>\n",
       "      <td>2010-12-24</td>\n",
       "      <td>2024-02-08</td>\n",
       "      <td>2024-02-08</td>\n",
       "      <td>0105528019493</td>\n",
       "    </tr>\n",
       "    <tr>\n",
       "      <th>3</th>\n",
       "      <td>0008421</td>\n",
       "      <td>530143401</td>\n",
       "      <td>ที่ดินพร้อมสิ่งปลูกสร้าง</td>\n",
       "      <td>ฉ.7000 (สปส.เลขที่ 503)</td>\n",
       "      <td>43020901</td>\n",
       "      <td>A</td>\n",
       "      <td>ทอง</td>\n",
       "      <td>เมืองงาว</td>\n",
       "      <td>3102401083786</td>\n",
       "      <td>ทองเมืองงาว</td>\n",
       "      <td>NaN</td>\n",
       "      <td>0008421</td>\n",
       "      <td>สาขาพระราม 2</td>\n",
       "      <td>สาขาพระราม 2</td>\n",
       "      <td>2</td>\n",
       "      <td>2010-12-24</td>\n",
       "      <td>2024-02-08</td>\n",
       "      <td>2024-02-08</td>\n",
       "      <td>0105528019493</td>\n",
       "    </tr>\n",
       "    <tr>\n",
       "      <th>4</th>\n",
       "      <td>0008421</td>\n",
       "      <td>400008501</td>\n",
       "      <td>บุคคลธรรมดา</td>\n",
       "      <td>นางสาย จิตตะเทวา</td>\n",
       "      <td>43132101</td>\n",
       "      <td>A</td>\n",
       "      <td>สาย</td>\n",
       "      <td>จิตตะเทวา</td>\n",
       "      <td>3102401083735</td>\n",
       "      <td>สายจิตตะเทวา</td>\n",
       "      <td>NaN</td>\n",
       "      <td>0008421</td>\n",
       "      <td>สาขาพระราม 2</td>\n",
       "      <td>สาขาพระราม 2</td>\n",
       "      <td>2</td>\n",
       "      <td>2010-12-24</td>\n",
       "      <td>2024-02-08</td>\n",
       "      <td>2024-02-08</td>\n",
       "      <td>0105528019493</td>\n",
       "    </tr>\n",
       "  </tbody>\n",
       "</table>\n",
       "</div>"
      ],
      "text/plain": [
       "  CUST_CODE CR_LIMIT_NO             COLL_TYPENAME  \\\n",
       "0   0008421   400008501  ที่ดินพร้อมสิ่งปลูกสร้าง   \n",
       "1   0008421   400008501               เครื่องจักร   \n",
       "2   0008421   530143401               บุคคลธรรมดา   \n",
       "3   0008421   530143401  ที่ดินพร้อมสิ่งปลูกสร้าง   \n",
       "4   0008421   400008501               บุคคลธรรมดา   \n",
       "\n",
       "                       COLL_DESCRIPTION COLLATERAL_NO STATUS  \\\n",
       "0               ฉ.7000 (สปส.เลขที่ 503)      43020901      A   \n",
       "1  เครื่องจักร (เครื่องฉีดยาง 300 ตันฯ)      45003501      A   \n",
       "2                    นายมั่งมี เมืองงาว      52031301      A   \n",
       "3               ฉ.7000 (สปส.เลขที่ 503)      43020901      A   \n",
       "4                      นางสาย จิตตะเทวา      43132101      A   \n",
       "\n",
       "             FIRSTNAME   LASTNAME REGISTRATION_NO               NAME_1 NAME_2  \\\n",
       "0                  ทอง   เมืองงาว   3102401083786          ทองเมืองงาว    NaN   \n",
       "1  นครการยางอุตสาหกรรม          -   0105528019493  นครการยางอุตสาหกรรม    NaN   \n",
       "2               มั่งมี   เมืองงาว   3102401083760       มั่งมีเมืองงาว    NaN   \n",
       "3                  ทอง   เมืองงาว   3102401083786          ทองเมืองงาว    NaN   \n",
       "4                  สาย  จิตตะเทวา   3102401083735         สายจิตตะเทวา    NaN   \n",
       "\n",
       "  รหัสลูกค้า ผู้ดูแลลูกค้า_(แยกส่วน) ผู้ดูแลลูกค้า_(ตามฝ่าย)  is_in  \\\n",
       "0    0008421            สาขาพระราม 2            สาขาพระราม 2      2   \n",
       "1    0008421            สาขาพระราม 2            สาขาพระราม 2      2   \n",
       "2    0008421            สาขาพระราม 2            สาขาพระราม 2      2   \n",
       "3    0008421            สาขาพระราม 2            สาขาพระราม 2      2   \n",
       "4    0008421            สาขาพระราม 2            สาขาพระราม 2      2   \n",
       "\n",
       "  วันที่อนุมัติครั้งแรก วันที่อนุมัติล่าสุด วันที่ทบทวนล่าสุด       CUCTAXCS  \n",
       "0            2010-12-24          2024-02-08        2024-02-08  0105528019493  \n",
       "1            2010-12-24          2024-02-08        2024-02-08  0105528019493  \n",
       "2            2010-12-24          2024-02-08        2024-02-08  0105528019493  \n",
       "3            2010-12-24          2024-02-08        2024-02-08  0105528019493  \n",
       "4            2010-12-24          2024-02-08        2024-02-08  0105528019493  "
      ]
     },
     "execution_count": 40,
     "metadata": {},
     "output_type": "execute_result"
    }
   ],
   "source": [
    "# เลือกขอบเขตแล้ว\n",
    "df_e4.head()"
   ]
  },
  {
   "cell_type": "code",
   "execution_count": 41,
   "metadata": {
    "executionInfo": {
     "elapsed": 8,
     "status": "ok",
     "timestamp": 1698734219871,
     "user": {
      "displayName": "Tharaphon Nitijiramon",
      "userId": "16915625665235536451"
     },
     "user_tz": -420
    },
    "id": "S1su7JeB0hh9"
   },
   "outputs": [],
   "source": [
    "def is_debt(a):\n",
    "  c = 0\n",
    "  if pd.isna(a) == False:\n",
    "    if ('หนี้' in a) or ('เงิน' in a):\n",
    "      c = 1\n",
    "  return c"
   ]
  },
  {
   "cell_type": "code",
   "execution_count": 42,
   "metadata": {
    "executionInfo": {
     "elapsed": 7,
     "status": "ok",
     "timestamp": 1698734219871,
     "user": {
      "displayName": "Tharaphon Nitijiramon",
      "userId": "16915625665235536451"
     },
     "user_tz": -420
    },
    "id": "mqre8vAR03ul"
   },
   "outputs": [],
   "source": [
    "df_e4['is_debt'] = df_e4['ผู้ดูแลลูกค้า_(ตามฝ่าย)'].apply(lambda x : is_debt(x))"
   ]
  },
  {
   "cell_type": "code",
   "execution_count": 43,
   "metadata": {
    "executionInfo": {
     "elapsed": 6,
     "status": "ok",
     "timestamp": 1698734219871,
     "user": {
      "displayName": "Tharaphon Nitijiramon",
      "userId": "16915625665235536451"
     },
     "user_tz": -420
    },
    "id": "3ykcuecE1CNY"
   },
   "outputs": [],
   "source": [
    "df_e5 = df_e4[df_e4['is_debt'] == 0].drop(columns = ['is_debt'])"
   ]
  },
  {
   "cell_type": "markdown",
   "metadata": {
    "id": "VciKt3tCdzRF"
   },
   "source": [
    "## Clean File รวมศูนย์"
   ]
  },
  {
   "cell_type": "code",
   "execution_count": 44,
   "metadata": {
    "executionInfo": {
     "elapsed": 1641,
     "status": "ok",
     "timestamp": 1698734221507,
     "user": {
      "displayName": "Tharaphon Nitijiramon",
      "userId": "16915625665235536451"
     },
     "user_tz": -420
    },
    "id": "av8BdiZdeFsK"
   },
   "outputs": [],
   "source": [
    "df_cen['NAME_C1'] , df_cen['NAME_C2'] =  zip(* df_cen.apply(lambda x : clean_ecs_name( x['NAMETH'] , x['SURNAMETH']) , axis = 1 ))"
   ]
  },
  {
   "cell_type": "code",
   "execution_count": 45,
   "metadata": {
    "executionInfo": {
     "elapsed": 999,
     "status": "ok",
     "timestamp": 1698734222501,
     "user": {
      "displayName": "Tharaphon Nitijiramon",
      "userId": "16915625665235536451"
     },
     "user_tz": -420
    },
    "id": "yrSPGjpPeUr9"
   },
   "outputs": [],
   "source": [
    "df_cen['NAME_C3'] , df_cen['NAME_C4'] =  zip(* df_cen.apply(lambda x : clean_ecs_name( x['NAMEEN'] , x['SURNAMEEN']) , axis = 1 ))"
   ]
  },
  {
   "cell_type": "code",
   "execution_count": 46,
   "metadata": {
    "executionInfo": {
     "elapsed": 1876,
     "status": "ok",
     "timestamp": 1698734224375,
     "user": {
      "displayName": "Tharaphon Nitijiramon",
      "userId": "16915625665235536451"
     },
     "user_tz": -420
    },
    "id": "_nm48E_PeeiX"
   },
   "outputs": [],
   "source": [
    "name_col = ['NAME_C1' , 'NAME_C2' , 'NAME_C3' , 'NAME_C4']\n",
    "for i in range(len(name_col)):\n",
    "  df_cen[name_col[i]] = df_cen[name_col[i]].apply(lambda x : clean_string(x))"
   ]
  },
  {
   "cell_type": "code",
   "execution_count": 47,
   "metadata": {
    "colab": {
     "base_uri": "https://localhost:8080/",
     "height": 0
    },
    "executionInfo": {
     "elapsed": 7,
     "status": "ok",
     "timestamp": 1698734224375,
     "user": {
      "displayName": "Tharaphon Nitijiramon",
      "userId": "16915625665235536451"
     },
     "user_tz": -420
    },
    "id": "K0at6cPIdIcQ",
    "outputId": "98b7db5f-4a44-46e5-9670-72cde9a008c2"
   },
   "outputs": [
    {
     "data": {
      "text/html": [
       "<div>\n",
       "<style scoped>\n",
       "    .dataframe tbody tr th:only-of-type {\n",
       "        vertical-align: middle;\n",
       "    }\n",
       "\n",
       "    .dataframe tbody tr th {\n",
       "        vertical-align: top;\n",
       "    }\n",
       "\n",
       "    .dataframe thead th {\n",
       "        text-align: right;\n",
       "    }\n",
       "</style>\n",
       "<table border=\"1\" class=\"dataframe\">\n",
       "  <thead>\n",
       "    <tr style=\"text-align: right;\">\n",
       "      <th></th>\n",
       "      <th>EXIM_CUSTID</th>\n",
       "      <th>CUSTID</th>\n",
       "      <th>ID</th>\n",
       "      <th>TYPENAME</th>\n",
       "      <th>TITLENAME</th>\n",
       "      <th>NAMETH</th>\n",
       "      <th>SURNAMETH</th>\n",
       "      <th>NAMEEN</th>\n",
       "      <th>SURNAMEEN</th>\n",
       "      <th>CUSTTYPE</th>\n",
       "      <th>...</th>\n",
       "      <th>WARNINGLIST</th>\n",
       "      <th>CREATEDON</th>\n",
       "      <th>MODIFIEDON</th>\n",
       "      <th>APPROVEDDATE</th>\n",
       "      <th>SYSTEMNAME</th>\n",
       "      <th>EXIM_TITLENAMECODENAME</th>\n",
       "      <th>NAME_C1</th>\n",
       "      <th>NAME_C2</th>\n",
       "      <th>NAME_C3</th>\n",
       "      <th>NAME_C4</th>\n",
       "    </tr>\n",
       "  </thead>\n",
       "  <tbody>\n",
       "    <tr>\n",
       "      <th>0</th>\n",
       "      <td>0058283</td>\n",
       "      <td>6210497</td>\n",
       "      <td>NaN</td>\n",
       "      <td>ข้อมูลเดิม</td>\n",
       "      <td>NaN</td>\n",
       "      <td>การปิโตรเลียมแห่งประเทศไทย</td>\n",
       "      <td>NaN</td>\n",
       "      <td>PETROLEUM AUTHORITY OF THAILAND</td>\n",
       "      <td>NaN</td>\n",
       "      <td>ผู้ถือหุ้นตั้งแต่ 20% ขึ้นไป/ ผู้รับผลประโยชน์...</td>\n",
       "      <td>...</td>\n",
       "      <td>ทุกครั้ง</td>\n",
       "      <td>11/16/2023 12:50:47 PM</td>\n",
       "      <td>1/15/2024 3:47:20 PM</td>\n",
       "      <td>11/16/2023 2:17:14 PM</td>\n",
       "      <td>LOS</td>\n",
       "      <td>NaN</td>\n",
       "      <td>การปิโตรเลียมแห่งประเทศไทย</td>\n",
       "      <td>NaN</td>\n",
       "      <td>petroleumauthorityofthailand</td>\n",
       "      <td>NaN</td>\n",
       "    </tr>\n",
       "    <tr>\n",
       "      <th>1</th>\n",
       "      <td>0062173</td>\n",
       "      <td>6205894</td>\n",
       "      <td>NaN</td>\n",
       "      <td>ข้อมูลเดิม</td>\n",
       "      <td>NaN</td>\n",
       "      <td>การปิโตรเลียมแห่งประเทศไทย</td>\n",
       "      <td>NaN</td>\n",
       "      <td>PETROLEUM AUTHORITY OF THAILAND</td>\n",
       "      <td>NaN</td>\n",
       "      <td>ลูกค้า,</td>\n",
       "      <td>...</td>\n",
       "      <td>ทุกครั้ง</td>\n",
       "      <td>3/22/2022 1:52:14 PM</td>\n",
       "      <td>6/9/2023 6:42:38 AM</td>\n",
       "      <td>3/22/2022 1:54:21 PM</td>\n",
       "      <td>LOS</td>\n",
       "      <td>NaN</td>\n",
       "      <td>การปิโตรเลียมแห่งประเทศไทย</td>\n",
       "      <td>NaN</td>\n",
       "      <td>petroleumauthorityofthailand</td>\n",
       "      <td>NaN</td>\n",
       "    </tr>\n",
       "    <tr>\n",
       "      <th>2</th>\n",
       "      <td>0066484</td>\n",
       "      <td>6208665</td>\n",
       "      <td>NaN</td>\n",
       "      <td>ข้อมูลเดิม</td>\n",
       "      <td>NaN</td>\n",
       "      <td>การปิโตรเลียมแห่งประเทศไทย</td>\n",
       "      <td>NaN</td>\n",
       "      <td>PETROLEUM AUTHORITY OF THAILAND</td>\n",
       "      <td>NaN</td>\n",
       "      <td>ผู้ถือหุ้นตั้งแต่ 20% ขึ้นไป/ ผู้รับผลประโยชน์...</td>\n",
       "      <td>...</td>\n",
       "      <td>ทุกครั้ง</td>\n",
       "      <td>3/22/2022 2:08:57 PM</td>\n",
       "      <td>1/15/2024 3:48:34 PM</td>\n",
       "      <td>3/22/2022 3:25:46 PM</td>\n",
       "      <td>LOS</td>\n",
       "      <td>NaN</td>\n",
       "      <td>การปิโตรเลียมแห่งประเทศไทย</td>\n",
       "      <td>NaN</td>\n",
       "      <td>petroleumauthorityofthailand</td>\n",
       "      <td>NaN</td>\n",
       "    </tr>\n",
       "    <tr>\n",
       "      <th>3</th>\n",
       "      <td>6316605</td>\n",
       "      <td>6316605</td>\n",
       "      <td>NaN</td>\n",
       "      <td>ข้อมูลเดิม</td>\n",
       "      <td>NaN</td>\n",
       "      <td>การปิโตรเลียมแห่งประเทศไทย</td>\n",
       "      <td>NaN</td>\n",
       "      <td>PETROLEUM AUTHORITY OF THAILAND</td>\n",
       "      <td>NaN</td>\n",
       "      <td>ผู้ถือหุ้นตั้งแต่ 20% ขึ้นไป/ ผู้รับผลประโยชน์...</td>\n",
       "      <td>...</td>\n",
       "      <td>ทุกครั้ง</td>\n",
       "      <td>3/13/2024 3:26:22 PM</td>\n",
       "      <td>3/13/2024 5:22:45 PM</td>\n",
       "      <td>3/13/2024 5:50:24 PM</td>\n",
       "      <td>LOS</td>\n",
       "      <td>NaN</td>\n",
       "      <td>การปิโตรเลียมแห่งประเทศไทย</td>\n",
       "      <td>NaN</td>\n",
       "      <td>petroleumauthorityofthailand</td>\n",
       "      <td>NaN</td>\n",
       "    </tr>\n",
       "    <tr>\n",
       "      <th>4</th>\n",
       "      <td>0140569</td>\n",
       "      <td>6542384</td>\n",
       "      <td>NaN</td>\n",
       "      <td>ข้อมูลเดิม</td>\n",
       "      <td>NaN</td>\n",
       "      <td>ธนาคารอาคารสงเคราะห์แม่โขง</td>\n",
       "      <td>NaN</td>\n",
       "      <td>Mekong Housing Bank</td>\n",
       "      <td>NaN</td>\n",
       "      <td>ลูกค้า,</td>\n",
       "      <td>...</td>\n",
       "      <td>ทุกครั้ง</td>\n",
       "      <td>12/27/2023 1:22:39 PM</td>\n",
       "      <td>12/27/2023 2:01:32 PM</td>\n",
       "      <td>12/27/2023 2:03:19 PM</td>\n",
       "      <td>LOS</td>\n",
       "      <td>NaN</td>\n",
       "      <td>ธนาคารอาคารสงเคราะห์แม่โขง</td>\n",
       "      <td>NaN</td>\n",
       "      <td>mekonghousingbank</td>\n",
       "      <td>NaN</td>\n",
       "    </tr>\n",
       "  </tbody>\n",
       "</table>\n",
       "<p>5 rows × 23 columns</p>\n",
       "</div>"
      ],
      "text/plain": [
       "  EXIM_CUSTID   CUSTID   ID    TYPENAME TITLENAME                      NAMETH  \\\n",
       "0     0058283  6210497  NaN  ข้อมูลเดิม       NaN  การปิโตรเลียมแห่งประเทศไทย   \n",
       "1     0062173  6205894  NaN  ข้อมูลเดิม       NaN  การปิโตรเลียมแห่งประเทศไทย   \n",
       "2     0066484  6208665  NaN  ข้อมูลเดิม       NaN  การปิโตรเลียมแห่งประเทศไทย   \n",
       "3     6316605  6316605  NaN  ข้อมูลเดิม       NaN  การปิโตรเลียมแห่งประเทศไทย   \n",
       "4     0140569  6542384  NaN  ข้อมูลเดิม       NaN  ธนาคารอาคารสงเคราะห์แม่โขง   \n",
       "\n",
       "  SURNAMETH                           NAMEEN SURNAMEEN  \\\n",
       "0       NaN  PETROLEUM AUTHORITY OF THAILAND       NaN   \n",
       "1       NaN  PETROLEUM AUTHORITY OF THAILAND       NaN   \n",
       "2       NaN  PETROLEUM AUTHORITY OF THAILAND       NaN   \n",
       "3       NaN  PETROLEUM AUTHORITY OF THAILAND       NaN   \n",
       "4       NaN              Mekong Housing Bank       NaN   \n",
       "\n",
       "                                            CUSTTYPE  ... WARNINGLIST  \\\n",
       "0  ผู้ถือหุ้นตั้งแต่ 20% ขึ้นไป/ ผู้รับผลประโยชน์...  ...    ทุกครั้ง   \n",
       "1                                            ลูกค้า,  ...    ทุกครั้ง   \n",
       "2  ผู้ถือหุ้นตั้งแต่ 20% ขึ้นไป/ ผู้รับผลประโยชน์...  ...    ทุกครั้ง   \n",
       "3  ผู้ถือหุ้นตั้งแต่ 20% ขึ้นไป/ ผู้รับผลประโยชน์...  ...    ทุกครั้ง   \n",
       "4                                            ลูกค้า,  ...    ทุกครั้ง   \n",
       "\n",
       "                CREATEDON             MODIFIEDON           APPROVEDDATE  \\\n",
       "0  11/16/2023 12:50:47 PM   1/15/2024 3:47:20 PM  11/16/2023 2:17:14 PM   \n",
       "1    3/22/2022 1:52:14 PM    6/9/2023 6:42:38 AM   3/22/2022 1:54:21 PM   \n",
       "2    3/22/2022 2:08:57 PM   1/15/2024 3:48:34 PM   3/22/2022 3:25:46 PM   \n",
       "3    3/13/2024 3:26:22 PM   3/13/2024 5:22:45 PM   3/13/2024 5:50:24 PM   \n",
       "4   12/27/2023 1:22:39 PM  12/27/2023 2:01:32 PM  12/27/2023 2:03:19 PM   \n",
       "\n",
       "  SYSTEMNAME EXIM_TITLENAMECODENAME                     NAME_C1 NAME_C2  \\\n",
       "0        LOS                    NaN  การปิโตรเลียมแห่งประเทศไทย     NaN   \n",
       "1        LOS                    NaN  การปิโตรเลียมแห่งประเทศไทย     NaN   \n",
       "2        LOS                    NaN  การปิโตรเลียมแห่งประเทศไทย     NaN   \n",
       "3        LOS                    NaN  การปิโตรเลียมแห่งประเทศไทย     NaN   \n",
       "4        LOS                    NaN  ธนาคารอาคารสงเคราะห์แม่โขง     NaN   \n",
       "\n",
       "                        NAME_C3 NAME_C4  \n",
       "0  petroleumauthorityofthailand     NaN  \n",
       "1  petroleumauthorityofthailand     NaN  \n",
       "2  petroleumauthorityofthailand     NaN  \n",
       "3  petroleumauthorityofthailand     NaN  \n",
       "4             mekonghousingbank     NaN  \n",
       "\n",
       "[5 rows x 23 columns]"
      ]
     },
     "execution_count": 47,
     "metadata": {},
     "output_type": "execute_result"
    }
   ],
   "source": [
    "df_cen.head()"
   ]
  },
  {
   "cell_type": "markdown",
   "metadata": {
    "id": "Uw2fmzoSe8Q_"
   },
   "source": [
    "## MERGE ครั้งละ รหัสลูกค้า"
   ]
  },
  {
   "cell_type": "code",
   "execution_count": 48,
   "metadata": {
    "executionInfo": {
     "elapsed": 83442,
     "status": "ok",
     "timestamp": 1698734307812,
     "user": {
      "displayName": "Tharaphon Nitijiramon",
      "userId": "16915625665235536451"
     },
     "user_tz": -420
    },
    "id": "HqKdNT_0d3Wd"
   },
   "outputs": [],
   "source": [
    "# Loop ที่ใช้ตรวจ\n",
    "cus_list = df_e5['CUST_CODE'].unique().tolist()\n",
    "name_ecs = ['NAME_1' , 'NAME_2']\n",
    "name_centralize = ['NAME_C1' , 'NAME_C2' ,'NAME_C3' , 'NAME_C4']\n",
    "df_notin = pd.DataFrame()\n",
    "for i in range(len(cus_list)):\n",
    "  df_u = df_e5[df_e5['CUST_CODE'] == cus_list[i]]\n",
    "  df_c = df_cen[df_cen['EXIM_CUSTID'] == cus_list[i]]\n",
    "  df_m_out = df_u.copy()\n",
    "  for m in range(len(name_ecs)):\n",
    "    for n in range(len(name_centralize)):\n",
    "      if (len(df_m_out.dropna(subset = [name_ecs[m]])) != 0) and len(df_c[[name_centralize[n]]].dropna(subset = [name_centralize[n]]).drop_duplicates()):\n",
    "        df_m = fuzzy_merge(df_m_out.dropna(subset = [name_ecs[m]]) ,\n",
    "                                    df_c[[name_centralize[n]]].dropna(subset = [name_centralize[n]]).drop_duplicates() ,\n",
    "                                    left_on = name_ecs[m] , right_on = name_centralize[n] , how = 'left')\n",
    "        df_m_out = df_m[df_m[name_centralize[n]].isna()].drop(columns = name_centralize[n])\n",
    "  df_notin = pd.concat([df_notin , df_m_out])"
   ]
  },
  {
   "cell_type": "code",
   "execution_count": 49,
   "metadata": {
    "executionInfo": {
     "elapsed": 17,
     "status": "ok",
     "timestamp": 1698734307813,
     "user": {
      "displayName": "Tharaphon Nitijiramon",
      "userId": "16915625665235536451"
     },
     "user_tz": -420
    },
    "id": "OxGhPZMGy6C5"
   },
   "outputs": [],
   "source": [
    "## สำหรับรหัส G จะยอมให้หาแต่ชื่อ"
   ]
  },
  {
   "cell_type": "code",
   "execution_count": 50,
   "metadata": {
    "executionInfo": {
     "elapsed": 16,
     "status": "ok",
     "timestamp": 1698734307813,
     "user": {
      "displayName": "Tharaphon Nitijiramon",
      "userId": "16915625665235536451"
     },
     "user_tz": -420
    },
    "id": "nX-_wY5Dzf4p"
   },
   "outputs": [],
   "source": [
    "def id_g(a):\n",
    "  c = 0\n",
    "  if pd.isna(a) == False:\n",
    "    if a[0] == 'G':\n",
    "      c = 1\n",
    "  return c"
   ]
  },
  {
   "cell_type": "code",
   "execution_count": 51,
   "metadata": {
    "executionInfo": {
     "elapsed": 16,
     "status": "ok",
     "timestamp": 1698734307813,
     "user": {
      "displayName": "Tharaphon Nitijiramon",
      "userId": "16915625665235536451"
     },
     "user_tz": -420
    },
    "id": "72tmV4jxztGB"
   },
   "outputs": [],
   "source": [
    "df_notin['is_g'] = df_notin['รหัสลูกค้า'].apply(lambda x : id_g(x))"
   ]
  },
  {
   "cell_type": "code",
   "execution_count": 52,
   "metadata": {
    "executionInfo": {
     "elapsed": 15,
     "status": "ok",
     "timestamp": 1698734307813,
     "user": {
      "displayName": "Tharaphon Nitijiramon",
      "userId": "16915625665235536451"
     },
     "user_tz": -420
    },
    "id": "Fv3tkJkBz1Ff"
   },
   "outputs": [],
   "source": [
    "df_g = df_notin[df_notin['is_g'] == 1].drop(columns = ['is_g'])\n",
    "\n",
    "df_notg = df_notin[df_notin['is_g'] == 0].drop(columns = ['is_g'])"
   ]
  },
  {
   "cell_type": "code",
   "execution_count": 53,
   "metadata": {
    "colab": {
     "base_uri": "https://localhost:8080/"
    },
    "executionInfo": {
     "elapsed": 15,
     "status": "ok",
     "timestamp": 1698734307813,
     "user": {
      "displayName": "Tharaphon Nitijiramon",
      "userId": "16915625665235536451"
     },
     "user_tz": -420
    },
    "id": "eUJq32960DpC",
    "outputId": "a3b91e99-9bcc-4148-cd44-b8bbbbc14b45"
   },
   "outputs": [
    {
     "name": "stdout",
     "output_type": "stream",
     "text": [
      "401 265\n"
     ]
    }
   ],
   "source": [
    "print(len(df_g) , len(df_notg))"
   ]
  },
  {
   "cell_type": "code",
   "execution_count": 54,
   "metadata": {
    "executionInfo": {
     "elapsed": 84982,
     "status": "ok",
     "timestamp": 1698734392791,
     "user": {
      "displayName": "Tharaphon Nitijiramon",
      "userId": "16915625665235536451"
     },
     "user_tz": -420
    },
    "id": "VoqxvRgCzAgY"
   },
   "outputs": [],
   "source": [
    "cus_list = df_g['CUST_CODE'].unique().tolist()\n",
    "name_ecs = ['NAME_1' , 'NAME_2']\n",
    "name_centralize = ['NAME_C1' , 'NAME_C2' ,'NAME_C3' , 'NAME_C4']\n",
    "df_notin1 = pd.DataFrame()\n",
    "for i in range(len(cus_list)):\n",
    "  df_u = df_g[df_g['CUST_CODE'] == cus_list[i]]\n",
    "  df_c = df_cen.copy()\n",
    "  df_m_out = df_u.copy()\n",
    "  for m in range(len(name_ecs)):\n",
    "    for n in range(len(name_centralize)):\n",
    "      if (len(df_m_out.dropna(subset = [name_ecs[m]])) != 0) and len(df_c[[name_centralize[n]]].dropna(subset = [name_centralize[n]]).drop_duplicates()):\n",
    "        df_m = fuzzy_merge(df_m_out.dropna(subset = [name_ecs[m]]) ,\n",
    "                                    df_c[[name_centralize[n]]].dropna(subset = [name_centralize[n]]).drop_duplicates() ,\n",
    "                                    left_on = name_ecs[m] , right_on = name_centralize[n] , how = 'left')\n",
    "        df_m_out = df_m[df_m[name_centralize[n]].isna()].drop(columns = name_centralize[n])\n",
    "  df_notin1 = pd.concat([df_notin1 , df_m_out])"
   ]
  },
  {
   "cell_type": "code",
   "execution_count": 55,
   "metadata": {
    "executionInfo": {
     "elapsed": 24,
     "status": "ok",
     "timestamp": 1698734392792,
     "user": {
      "displayName": "Tharaphon Nitijiramon",
      "userId": "16915625665235536451"
     },
     "user_tz": -420
    },
    "id": "Z0-JtD9Bw24y"
   },
   "outputs": [],
   "source": [
    "df_ans = pd.concat([df_notg , df_notin1])"
   ]
  },
  {
   "cell_type": "code",
   "execution_count": 56,
   "metadata": {
    "colab": {
     "base_uri": "https://localhost:8080/"
    },
    "executionInfo": {
     "elapsed": 22,
     "status": "ok",
     "timestamp": 1698734392792,
     "user": {
      "displayName": "Tharaphon Nitijiramon",
      "userId": "16915625665235536451"
     },
     "user_tz": -420
    },
    "id": "jC_YH4rfxcB7",
    "outputId": "e5fce493-37d1-4b54-b792-c1e358a32f6c"
   },
   "outputs": [
    {
     "data": {
      "text/plain": [
       "267"
      ]
     },
     "execution_count": 56,
     "metadata": {},
     "output_type": "execute_result"
    }
   ],
   "source": [
    "len(df_ans)"
   ]
  },
  {
   "cell_type": "code",
   "execution_count": 57,
   "metadata": {
    "colab": {
     "base_uri": "https://localhost:8080/",
     "height": 0
    },
    "executionInfo": {
     "elapsed": 21,
     "status": "ok",
     "timestamp": 1698734392793,
     "user": {
      "displayName": "Tharaphon Nitijiramon",
      "userId": "16915625665235536451"
     },
     "user_tz": -420
    },
    "id": "s7ZtD6ujzV2O",
    "outputId": "0b28ae5d-d019-40a0-a566-e3062fce5af1"
   },
   "outputs": [
    {
     "data": {
      "text/html": [
       "<div>\n",
       "<style scoped>\n",
       "    .dataframe tbody tr th:only-of-type {\n",
       "        vertical-align: middle;\n",
       "    }\n",
       "\n",
       "    .dataframe tbody tr th {\n",
       "        vertical-align: top;\n",
       "    }\n",
       "\n",
       "    .dataframe thead th {\n",
       "        text-align: right;\n",
       "    }\n",
       "</style>\n",
       "<table border=\"1\" class=\"dataframe\">\n",
       "  <thead>\n",
       "    <tr style=\"text-align: right;\">\n",
       "      <th></th>\n",
       "      <th>CUST_CODE</th>\n",
       "      <th>CR_LIMIT_NO</th>\n",
       "      <th>COLL_TYPENAME</th>\n",
       "      <th>COLL_DESCRIPTION</th>\n",
       "      <th>COLLATERAL_NO</th>\n",
       "      <th>STATUS</th>\n",
       "      <th>FIRSTNAME</th>\n",
       "      <th>LASTNAME</th>\n",
       "      <th>REGISTRATION_NO</th>\n",
       "      <th>NAME_1</th>\n",
       "      <th>NAME_2</th>\n",
       "      <th>รหัสลูกค้า</th>\n",
       "      <th>ผู้ดูแลลูกค้า_(แยกส่วน)</th>\n",
       "      <th>ผู้ดูแลลูกค้า_(ตามฝ่าย)</th>\n",
       "      <th>is_in</th>\n",
       "      <th>วันที่อนุมัติครั้งแรก</th>\n",
       "      <th>วันที่อนุมัติล่าสุด</th>\n",
       "      <th>วันที่ทบทวนล่าสุด</th>\n",
       "      <th>CUCTAXCS</th>\n",
       "    </tr>\n",
       "  </thead>\n",
       "  <tbody>\n",
       "    <tr>\n",
       "      <th>1791</th>\n",
       "      <td>0073059</td>\n",
       "      <td>550058501</td>\n",
       "      <td>NaN</td>\n",
       "      <td>NaN</td>\n",
       "      <td>NaN</td>\n",
       "      <td>NaN</td>\n",
       "      <td>NaN</td>\n",
       "      <td>NaN</td>\n",
       "      <td>NaN</td>\n",
       "      <td>NaN</td>\n",
       "      <td>NaN</td>\n",
       "      <td>0073059</td>\n",
       "      <td>ส่วนอุตสาหกรรม 3.2</td>\n",
       "      <td>ฝ่ายกลุ่มอุตสาหกรรม 3</td>\n",
       "      <td>2</td>\n",
       "      <td>2012-04-30</td>\n",
       "      <td>2024-01-18</td>\n",
       "      <td>2024-03-04</td>\n",
       "      <td>0107535000192</td>\n",
       "    </tr>\n",
       "    <tr>\n",
       "      <th>1792</th>\n",
       "      <td>0073059</td>\n",
       "      <td>530112601</td>\n",
       "      <td>NaN</td>\n",
       "      <td>NaN</td>\n",
       "      <td>NaN</td>\n",
       "      <td>NaN</td>\n",
       "      <td>NaN</td>\n",
       "      <td>NaN</td>\n",
       "      <td>NaN</td>\n",
       "      <td>NaN</td>\n",
       "      <td>NaN</td>\n",
       "      <td>0073059</td>\n",
       "      <td>ส่วนอุตสาหกรรม 3.2</td>\n",
       "      <td>ฝ่ายกลุ่มอุตสาหกรรม 3</td>\n",
       "      <td>2</td>\n",
       "      <td>2012-04-30</td>\n",
       "      <td>2024-01-18</td>\n",
       "      <td>2024-03-04</td>\n",
       "      <td>0107535000192</td>\n",
       "    </tr>\n",
       "    <tr>\n",
       "      <th>1793</th>\n",
       "      <td>0073059</td>\n",
       "      <td>550014901</td>\n",
       "      <td>NaN</td>\n",
       "      <td>NaN</td>\n",
       "      <td>NaN</td>\n",
       "      <td>NaN</td>\n",
       "      <td>NaN</td>\n",
       "      <td>NaN</td>\n",
       "      <td>NaN</td>\n",
       "      <td>NaN</td>\n",
       "      <td>NaN</td>\n",
       "      <td>0073059</td>\n",
       "      <td>ส่วนอุตสาหกรรม 3.2</td>\n",
       "      <td>ฝ่ายกลุ่มอุตสาหกรรม 3</td>\n",
       "      <td>2</td>\n",
       "      <td>2012-04-30</td>\n",
       "      <td>2024-01-18</td>\n",
       "      <td>2024-03-04</td>\n",
       "      <td>0107535000192</td>\n",
       "    </tr>\n",
       "    <tr>\n",
       "      <th>0</th>\n",
       "      <td>0054080</td>\n",
       "      <td>570041801</td>\n",
       "      <td>นิติบุคคล</td>\n",
       "      <td>นิติบุคคล (Haycarb PLC)</td>\n",
       "      <td>62000106</td>\n",
       "      <td>A</td>\n",
       "      <td>Haycarb PCL</td>\n",
       "      <td>NaN</td>\n",
       "      <td>NaN</td>\n",
       "      <td>haycarbpcl</td>\n",
       "      <td>NaN</td>\n",
       "      <td>0054080</td>\n",
       "      <td>ส่วนอุตสาหกรรม 1.2</td>\n",
       "      <td>ฝ่ายกลุ่มอุตสาหกรรม 1</td>\n",
       "      <td>1</td>\n",
       "      <td>2011-10-12</td>\n",
       "      <td>2018-12-03</td>\n",
       "      <td>2024-03-22</td>\n",
       "      <td>0105536122109</td>\n",
       "    </tr>\n",
       "    <tr>\n",
       "      <th>1</th>\n",
       "      <td>0054080</td>\n",
       "      <td>530112501</td>\n",
       "      <td>นิติบุคคล</td>\n",
       "      <td>นิติบุคคล (Haycarb PLC)</td>\n",
       "      <td>62000106</td>\n",
       "      <td>A</td>\n",
       "      <td>Haycarb PCL</td>\n",
       "      <td>NaN</td>\n",
       "      <td>NaN</td>\n",
       "      <td>haycarbpcl</td>\n",
       "      <td>NaN</td>\n",
       "      <td>0054080</td>\n",
       "      <td>ส่วนอุตสาหกรรม 1.2</td>\n",
       "      <td>ฝ่ายกลุ่มอุตสาหกรรม 1</td>\n",
       "      <td>1</td>\n",
       "      <td>2011-10-12</td>\n",
       "      <td>2018-12-03</td>\n",
       "      <td>2024-03-22</td>\n",
       "      <td>0105536122109</td>\n",
       "    </tr>\n",
       "    <tr>\n",
       "      <th>...</th>\n",
       "      <td>...</td>\n",
       "      <td>...</td>\n",
       "      <td>...</td>\n",
       "      <td>...</td>\n",
       "      <td>...</td>\n",
       "      <td>...</td>\n",
       "      <td>...</td>\n",
       "      <td>...</td>\n",
       "      <td>...</td>\n",
       "      <td>...</td>\n",
       "      <td>...</td>\n",
       "      <td>...</td>\n",
       "      <td>...</td>\n",
       "      <td>...</td>\n",
       "      <td>...</td>\n",
       "      <td>...</td>\n",
       "      <td>...</td>\n",
       "      <td>...</td>\n",
       "      <td>...</td>\n",
       "    </tr>\n",
       "    <tr>\n",
       "      <th>14615</th>\n",
       "      <td>0045409</td>\n",
       "      <td>620181701</td>\n",
       "      <td>NaN</td>\n",
       "      <td>NaN</td>\n",
       "      <td>NaN</td>\n",
       "      <td>NaN</td>\n",
       "      <td>NaN</td>\n",
       "      <td>NaN</td>\n",
       "      <td>NaN</td>\n",
       "      <td>NaN</td>\n",
       "      <td>NaN</td>\n",
       "      <td>0045409</td>\n",
       "      <td>ส่วนอุตสาหกรรม 4.1</td>\n",
       "      <td>ฝ่ายกลุ่มอุตสาหกรรม 4</td>\n",
       "      <td>1</td>\n",
       "      <td>2019-11-19</td>\n",
       "      <td>2019-11-19</td>\n",
       "      <td>2024-06-24</td>\n",
       "      <td>0107535000044</td>\n",
       "    </tr>\n",
       "    <tr>\n",
       "      <th>14616</th>\n",
       "      <td>0001674</td>\n",
       "      <td>610164401</td>\n",
       "      <td>NaN</td>\n",
       "      <td>NaN</td>\n",
       "      <td>NaN</td>\n",
       "      <td>NaN</td>\n",
       "      <td>NaN</td>\n",
       "      <td>NaN</td>\n",
       "      <td>NaN</td>\n",
       "      <td>NaN</td>\n",
       "      <td>NaN</td>\n",
       "      <td>0001674</td>\n",
       "      <td>ส่วนอุตสาหกรรม 3.3</td>\n",
       "      <td>ฝ่ายกลุ่มอุตสาหกรรม 3</td>\n",
       "      <td>1</td>\n",
       "      <td>2024-01-30</td>\n",
       "      <td>2024-01-30</td>\n",
       "      <td>2023-12-15</td>\n",
       "      <td>0105530011348</td>\n",
       "    </tr>\n",
       "    <tr>\n",
       "      <th>14617</th>\n",
       "      <td>0147650</td>\n",
       "      <td>650369601</td>\n",
       "      <td>NaN</td>\n",
       "      <td>NaN</td>\n",
       "      <td>NaN</td>\n",
       "      <td>NaN</td>\n",
       "      <td>NaN</td>\n",
       "      <td>NaN</td>\n",
       "      <td>NaN</td>\n",
       "      <td>NaN</td>\n",
       "      <td>NaN</td>\n",
       "      <td>0147650</td>\n",
       "      <td>ส่วนอุตสาหกรรม 4.3</td>\n",
       "      <td>ฝ่ายกลุ่มอุตสาหกรรม 4</td>\n",
       "      <td>1</td>\n",
       "      <td>2022-12-06</td>\n",
       "      <td>2022-12-06</td>\n",
       "      <td>2024-03-15</td>\n",
       "      <td>0135558006489</td>\n",
       "    </tr>\n",
       "    <tr>\n",
       "      <th>0</th>\n",
       "      <td>G022367</td>\n",
       "      <td>590008501</td>\n",
       "      <td>นิติบุคคล</td>\n",
       "      <td>บมจ.ซีวิลเอนจิเนียริง</td>\n",
       "      <td>99990100</td>\n",
       "      <td>A</td>\n",
       "      <td>ซีวิลเอนจิเนียริง</td>\n",
       "      <td>-</td>\n",
       "      <td>0107563000169</td>\n",
       "      <td>ซีวิลเอนจิเนียริง</td>\n",
       "      <td>NaN</td>\n",
       "      <td>G022367</td>\n",
       "      <td>ส่วนอุตสาหกรรม 1.2</td>\n",
       "      <td>ฝ่ายกลุ่มอุตสาหกรรม 1</td>\n",
       "      <td>1</td>\n",
       "      <td>2016-02-02</td>\n",
       "      <td>2024-05-20</td>\n",
       "      <td>2024-05-20</td>\n",
       "      <td>0107563000169</td>\n",
       "    </tr>\n",
       "    <tr>\n",
       "      <th>1</th>\n",
       "      <td>G022367</td>\n",
       "      <td>590008401</td>\n",
       "      <td>นิติบุคคล</td>\n",
       "      <td>บมจ.ซีวิลเอนจิเนียริง</td>\n",
       "      <td>99990100</td>\n",
       "      <td>A</td>\n",
       "      <td>ซีวิลเอนจิเนียริง</td>\n",
       "      <td>-</td>\n",
       "      <td>0107563000169</td>\n",
       "      <td>ซีวิลเอนจิเนียริง</td>\n",
       "      <td>NaN</td>\n",
       "      <td>G022367</td>\n",
       "      <td>ส่วนอุตสาหกรรม 1.2</td>\n",
       "      <td>ฝ่ายกลุ่มอุตสาหกรรม 1</td>\n",
       "      <td>1</td>\n",
       "      <td>2016-02-02</td>\n",
       "      <td>2024-05-20</td>\n",
       "      <td>2024-05-20</td>\n",
       "      <td>0107563000169</td>\n",
       "    </tr>\n",
       "  </tbody>\n",
       "</table>\n",
       "<p>267 rows × 19 columns</p>\n",
       "</div>"
      ],
      "text/plain": [
       "      CUST_CODE CR_LIMIT_NO COLL_TYPENAME         COLL_DESCRIPTION  \\\n",
       "1791    0073059   550058501           NaN                      NaN   \n",
       "1792    0073059   530112601           NaN                      NaN   \n",
       "1793    0073059   550014901           NaN                      NaN   \n",
       "0       0054080   570041801     นิติบุคคล  นิติบุคคล (Haycarb PLC)   \n",
       "1       0054080   530112501     นิติบุคคล  นิติบุคคล (Haycarb PLC)   \n",
       "...         ...         ...           ...                      ...   \n",
       "14615   0045409   620181701           NaN                      NaN   \n",
       "14616   0001674   610164401           NaN                      NaN   \n",
       "14617   0147650   650369601           NaN                      NaN   \n",
       "0       G022367   590008501     นิติบุคคล    บมจ.ซีวิลเอนจิเนียริง   \n",
       "1       G022367   590008401     นิติบุคคล    บมจ.ซีวิลเอนจิเนียริง   \n",
       "\n",
       "      COLLATERAL_NO STATUS          FIRSTNAME LASTNAME REGISTRATION_NO  \\\n",
       "1791            NaN    NaN                NaN      NaN             NaN   \n",
       "1792            NaN    NaN                NaN      NaN             NaN   \n",
       "1793            NaN    NaN                NaN      NaN             NaN   \n",
       "0          62000106      A        Haycarb PCL      NaN             NaN   \n",
       "1          62000106      A        Haycarb PCL      NaN             NaN   \n",
       "...             ...    ...                ...      ...             ...   \n",
       "14615           NaN    NaN                NaN      NaN             NaN   \n",
       "14616           NaN    NaN                NaN      NaN             NaN   \n",
       "14617           NaN    NaN                NaN      NaN             NaN   \n",
       "0          99990100      A  ซีวิลเอนจิเนียริง        -   0107563000169   \n",
       "1          99990100      A  ซีวิลเอนจิเนียริง        -   0107563000169   \n",
       "\n",
       "                  NAME_1 NAME_2 รหัสลูกค้า ผู้ดูแลลูกค้า_(แยกส่วน)  \\\n",
       "1791                 NaN    NaN    0073059      ส่วนอุตสาหกรรม 3.2   \n",
       "1792                 NaN    NaN    0073059      ส่วนอุตสาหกรรม 3.2   \n",
       "1793                 NaN    NaN    0073059      ส่วนอุตสาหกรรม 3.2   \n",
       "0             haycarbpcl    NaN    0054080      ส่วนอุตสาหกรรม 1.2   \n",
       "1             haycarbpcl    NaN    0054080      ส่วนอุตสาหกรรม 1.2   \n",
       "...                  ...    ...        ...                     ...   \n",
       "14615                NaN    NaN    0045409      ส่วนอุตสาหกรรม 4.1   \n",
       "14616                NaN    NaN    0001674      ส่วนอุตสาหกรรม 3.3   \n",
       "14617                NaN    NaN    0147650      ส่วนอุตสาหกรรม 4.3   \n",
       "0      ซีวิลเอนจิเนียริง    NaN    G022367      ส่วนอุตสาหกรรม 1.2   \n",
       "1      ซีวิลเอนจิเนียริง    NaN    G022367      ส่วนอุตสาหกรรม 1.2   \n",
       "\n",
       "      ผู้ดูแลลูกค้า_(ตามฝ่าย)  is_in วันที่อนุมัติครั้งแรก  \\\n",
       "1791    ฝ่ายกลุ่มอุตสาหกรรม 3      2            2012-04-30   \n",
       "1792    ฝ่ายกลุ่มอุตสาหกรรม 3      2            2012-04-30   \n",
       "1793    ฝ่ายกลุ่มอุตสาหกรรม 3      2            2012-04-30   \n",
       "0       ฝ่ายกลุ่มอุตสาหกรรม 1      1            2011-10-12   \n",
       "1       ฝ่ายกลุ่มอุตสาหกรรม 1      1            2011-10-12   \n",
       "...                       ...    ...                   ...   \n",
       "14615   ฝ่ายกลุ่มอุตสาหกรรม 4      1            2019-11-19   \n",
       "14616   ฝ่ายกลุ่มอุตสาหกรรม 3      1            2024-01-30   \n",
       "14617   ฝ่ายกลุ่มอุตสาหกรรม 4      1            2022-12-06   \n",
       "0       ฝ่ายกลุ่มอุตสาหกรรม 1      1            2016-02-02   \n",
       "1       ฝ่ายกลุ่มอุตสาหกรรม 1      1            2016-02-02   \n",
       "\n",
       "      วันที่อนุมัติล่าสุด วันที่ทบทวนล่าสุด       CUCTAXCS  \n",
       "1791           2024-01-18        2024-03-04  0107535000192  \n",
       "1792           2024-01-18        2024-03-04  0107535000192  \n",
       "1793           2024-01-18        2024-03-04  0107535000192  \n",
       "0              2018-12-03        2024-03-22  0105536122109  \n",
       "1              2018-12-03        2024-03-22  0105536122109  \n",
       "...                   ...               ...            ...  \n",
       "14615          2019-11-19        2024-06-24  0107535000044  \n",
       "14616          2024-01-30        2023-12-15  0105530011348  \n",
       "14617          2022-12-06        2024-03-15  0135558006489  \n",
       "0              2024-05-20        2024-05-20  0107563000169  \n",
       "1              2024-05-20        2024-05-20  0107563000169  \n",
       "\n",
       "[267 rows x 19 columns]"
      ]
     },
     "execution_count": 57,
     "metadata": {},
     "output_type": "execute_result"
    }
   ],
   "source": [
    "df_ans"
   ]
  },
  {
   "cell_type": "markdown",
   "metadata": {
    "id": "EWVQCISj2JN9"
   },
   "source": [
    "# EXPORT FILE"
   ]
  },
  {
   "cell_type": "code",
   "execution_count": 58,
   "metadata": {
    "executionInfo": {
     "elapsed": 19,
     "status": "ok",
     "timestamp": 1698734392793,
     "user": {
      "displayName": "Tharaphon Nitijiramon",
      "userId": "16915625665235536451"
     },
     "user_tz": -420
    },
    "id": "Dx-CNrZ82MPU"
   },
   "outputs": [],
   "source": [
    "df_ans.to_excel(output_path + file_name , index = False)"
   ]
  }
 ],
 "metadata": {
  "colab": {
   "collapsed_sections": [
    "VciKt3tCdzRF"
   ],
   "provenance": []
  },
  "kernelspec": {
   "display_name": "Python 3 (ipykernel)",
   "language": "python",
   "name": "python3"
  },
  "language_info": {
   "codemirror_mode": {
    "name": "ipython",
    "version": 3
   },
   "file_extension": ".py",
   "mimetype": "text/x-python",
   "name": "python",
   "nbconvert_exporter": "python",
   "pygments_lexer": "ipython3",
   "version": "3.11.5"
  }
 },
 "nbformat": 4,
 "nbformat_minor": 1
}
