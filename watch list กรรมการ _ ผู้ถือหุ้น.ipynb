{
 "cells": [
  {
   "cell_type": "markdown",
   "metadata": {
    "id": "kzW78SUnem-C"
   },
   "source": [
    "# IMPORT"
   ]
  },
  {
   "cell_type": "code",
   "execution_count": 1,
   "metadata": {
    "executionInfo": {
     "elapsed": 1017,
     "status": "ok",
     "timestamp": 1698734685116,
     "user": {
      "displayName": "Tharaphon Nitijiramon",
      "userId": "16915625665235536451"
     },
     "user_tz": -420
    },
    "id": "03QREzvIdRMp"
   },
   "outputs": [],
   "source": [
    "import numpy as np\n",
    "import pandas as pd"
   ]
  },
  {
   "cell_type": "code",
   "execution_count": 2,
   "metadata": {},
   "outputs": [],
   "source": [
    "# custom username by pwd\n",
    "import os\n",
    "pwd = os.getcwd()\n",
    "username = pwd[9:pwd.find('\\\\',9)]"
   ]
  },
  {
   "cell_type": "code",
   "execution_count": 3,
   "metadata": {
    "executionInfo": {
     "elapsed": 735,
     "status": "ok",
     "timestamp": 1698734688118,
     "user": {
      "displayName": "Tharaphon Nitijiramon",
      "userId": "16915625665235536451"
     },
     "user_tz": -420
    },
    "id": "TWgSIFmN4nTB"
   },
   "outputs": [],
   "source": [
    "pd.options.display.max_columns = None\n",
    "pd.options.display.max_rows = None"
   ]
  },
  {
   "cell_type": "code",
   "execution_count": 4,
   "metadata": {
    "id": "ZX13enykf7Lo"
   },
   "outputs": [],
   "source": [
    "# BJCRCCTP ติด Project Finance P"
   ]
  },
  {
   "cell_type": "code",
   "execution_count": 5,
   "metadata": {
    "colab": {
     "base_uri": "https://localhost:8080/"
    },
    "executionInfo": {
     "elapsed": 7584,
     "status": "ok",
     "timestamp": 1698734699587,
     "user": {
      "displayName": "Tharaphon Nitijiramon",
      "userId": "16915625665235536451"
     },
     "user_tz": -420
    },
    "id": "tsIkYvXCgs7l",
    "outputId": "06371a2b-dd42-4bab-e427-acbd05526da9"
   },
   "outputs": [
    {
     "name": "stdout",
     "output_type": "stream",
     "text": [
      "Defaulting to user installation because normal site-packages is not writeable\n",
      "Requirement already satisfied: xlrd==1.2.0 in c:\\users\\lalitaa\\appdata\\roaming\\python\\python311\\site-packages (1.2.0)\n",
      "Note: you may need to restart the kernel to use updated packages.\n"
     ]
    }
   ],
   "source": [
    "pip install xlrd==1.2.0"
   ]
  },
  {
   "cell_type": "code",
   "execution_count": 6,
   "metadata": {
    "executionInfo": {
     "elapsed": 4,
     "status": "ok",
     "timestamp": 1698734702744,
     "user": {
      "displayName": "Tharaphon Nitijiramon",
      "userId": "16915625665235536451"
     },
     "user_tz": -420
    },
    "id": "7bJ66j6WxjHB"
   },
   "outputs": [],
   "source": [
    "input_path = 'C:\\\\Users\\\\'+ username +'\\\\OneDrive - EXIM BANK OF THAILAND\\\\Shared Drive บส ตส\\\\Data\\\\ปี 2567 Q1\\\\'\n",
    "\n",
    "output_path = 'C:\\\\Users\\\\'+ username +'\\\\OneDrive - EXIM BANK OF THAILAND\\\\Shared Drive บส ตส\\\\4. Watchlist สาเหตุเชิงคุณภาพ (ล้มละลาย)\\\\RESULT\\\\'\n",
    "\n",
    "\n",
    "# input_path = r'C:\\Users\\tharaphonn\\OneDrive - EXIM BANK OF THAILAND\\Shared Drive บส ตส\\Data\\ปี 2566 Q4/'\n",
    "# output_path = r'C:\\Users\\tharaphonn\\OneDrive - EXIM BANK OF THAILAND\\Shared Drive บส ตส\\4. Watchlist สาเหตุเชิงคุณภาพ (ล้มละลาย)\\RESULT/'"
   ]
  },
  {
   "cell_type": "markdown",
   "metadata": {
    "id": "IkJB_AlpwYg3"
   },
   "source": [
    "# INPUT"
   ]
  },
  {
   "cell_type": "code",
   "execution_count": 7,
   "metadata": {
    "cellView": "form",
    "executionInfo": {
     "elapsed": 3302,
     "status": "ok",
     "timestamp": 1698734819554,
     "user": {
      "displayName": "Tharaphon Nitijiramon",
      "userId": "16915625665235536451"
     },
     "user_tz": -420
    },
    "id": "JOxfP1QGeo5u"
   },
   "outputs": [],
   "source": [
    "#@title ข้อมูล Watch List\n",
    "watchlist =  'WatchList_20240331.xlsx' #@param {type:'string'}\n",
    "df_watch = pd.read_excel(input_path + watchlist, dtype = str)"
   ]
  },
  {
   "cell_type": "code",
   "execution_count": 8,
   "metadata": {
    "cellView": "form",
    "executionInfo": {
     "elapsed": 8431,
     "status": "ok",
     "timestamp": 1698734827981,
     "user": {
      "displayName": "Tharaphon Nitijiramon",
      "userId": "16915625665235536451"
     },
     "user_tz": -420
    },
    "id": "gU24zRQxx82Y"
   },
   "outputs": [],
   "source": [
    "#@title ข้อมูล ENLITE\n",
    "enlite = 'ENLITE_6365_Q1_67_20240424.xlsx' #@param {type:'string'}\n",
    "df_enl = pd.read_excel( input_path + enlite , dtype = str)"
   ]
  },
  {
   "cell_type": "code",
   "execution_count": 9,
   "metadata": {
    "cellView": "form",
    "executionInfo": {
     "elapsed": 178030,
     "status": "ok",
     "timestamp": 1698735006008,
     "user": {
      "displayName": "Tharaphon Nitijiramon",
      "userId": "16915625665235536451"
     },
     "user_tz": -420
    },
    "id": "_uPZ39omyNGl"
   },
   "outputs": [],
   "source": [
    "#@title ข้อมูล Data Mart\n",
    "data_mart = 'DataMart_20240331.xlsx' #@param {type:'string'}\n",
    "df_datamart = pd.read_excel(input_path + data_mart , dtype = str)"
   ]
  },
  {
   "cell_type": "code",
   "execution_count": 10,
   "metadata": {
    "cellView": "form",
    "executionInfo": {
     "elapsed": 792,
     "status": "ok",
     "timestamp": 1698735006794,
     "user": {
      "displayName": "Tharaphon Nitijiramon",
      "userId": "16915625665235536451"
     },
     "user_tz": -420
    },
    "id": "cpCGCSAK6h8_"
   },
   "outputs": [],
   "source": [
    "#@title ข้อมูล รหัสเลขนิติ\n",
    "id_cuscode = 'รหัส_เลขนิติ_Q1_67.xlsx' #@param {type:'string'}\n",
    "df_pm = pd.read_excel( input_path + id_cuscode , dtype= str)"
   ]
  },
  {
   "cell_type": "code",
   "execution_count": 11,
   "metadata": {
    "cellView": "form",
    "colab": {
     "base_uri": "https://localhost:8080/"
    },
    "executionInfo": {
     "elapsed": 9893,
     "status": "ok",
     "timestamp": 1698735016684,
     "user": {
      "displayName": "Tharaphon Nitijiramon",
      "userId": "16915625665235536451"
     },
     "user_tz": -420
    },
    "id": "7-44arbu81gV",
    "outputId": "436e3c21-dae4-40e8-ed2e-ba6f265d58f0"
   },
   "outputs": [
    {
     "name": "stderr",
     "output_type": "stream",
     "text": [
      "C:\\anaconda3\\Lib\\site-packages\\openpyxl\\worksheet\\header_footer.py:48: UserWarning: Cannot parse header or footer so it will be ignored\n",
      "  warn(\"\"\"Cannot parse header or footer so it will be ignored\"\"\")\n"
     ]
    }
   ],
   "source": [
    "#@title ข้อมูล outstanding\n",
    "outstanding = '03.วงเงินและยอดคงค้าง_มี.ค.2567.xlsx' #@param {type:'string'}\n",
    "df_out = pd.read_excel( input_path + outstanding , dtype = str)"
   ]
  },
  {
   "cell_type": "code",
   "execution_count": 12,
   "metadata": {
    "cellView": "form",
    "executionInfo": {
     "elapsed": 5,
     "status": "ok",
     "timestamp": 1698735016685,
     "user": {
      "displayName": "Tharaphon Nitijiramon",
      "userId": "16915625665235536451"
     },
     "user_tz": -420
    },
    "id": "Zvkqki2nsrVx"
   },
   "outputs": [],
   "source": [
    "#@title ชื่อไฟล์ OUTPUT\n",
    "file_name = 'watch_list_กรรมการล้มละลาย_q1_67_jupyter.xlsx' #@param {type:'string'}"
   ]
  },
  {
   "cell_type": "markdown",
   "metadata": {
    "id": "B8vTLM6_yiK5"
   },
   "source": [
    "# CODE"
   ]
  },
  {
   "cell_type": "code",
   "execution_count": 13,
   "metadata": {
    "executionInfo": {
     "elapsed": 445,
     "status": "ok",
     "timestamp": 1698735033319,
     "user": {
      "displayName": "Tharaphon Nitijiramon",
      "userId": "16915625665235536451"
     },
     "user_tz": -420
    },
    "id": "wejeZdaQyhjA"
   },
   "outputs": [],
   "source": [
    "#df_enl1 = df_enl[[ 'เลขทะเบียนนิติบุคคล (13 หลัก)',\n",
    "#       'ชื่อนิติบุคคลจดทะเบียนภาษาไทย', 'ชื่อนิติบุคคลจดทะเบียนภาษาอังกฤษ' , 'อำนาจกรรมการ' ,'% ที่ถือหุ้นของ Held By 1', '% ที่ถือหุ้นของ Held By 2',\n",
    "#       '% ที่ถือหุ้นของ Held By 3', '% ที่ถือหุ้นของ Held By 4',\n",
    "#       '% ที่ถือหุ้นของ Held By 5', '% ที่ถือหุ้นของ Held By 6',\n",
    "#       '% ที่ถือหุ้นของ Held By 7', '% ที่ถือหุ้นของ Held By 8',\n",
    "#       '% ที่ถือหุ้นของ Held By 9', '% ที่ถือหุ้นของ Held By 10',\n",
    "#       'ชื่อกรรมการ 1', 'ชื่อกรรมการ 2', 'ชื่อกรรมการ 3', 'ชื่อกรรมการ 4',\n",
    "#       'ชื่อกรรมการ 5', 'ชื่อกรรมการ 6', 'ชื่อกรรมการ 7', 'ชื่อกรรมการ 8',\n",
    "#       'ชื่อกรรมการ 9', 'ชื่อกรรมการ 10']]"
   ]
  },
  {
   "cell_type": "code",
   "execution_count": 14,
   "metadata": {},
   "outputs": [],
   "source": [
    "df_enl1 = df_enl[[ 'เลขทะเบียนนิติบุคคล (13 หลัก)',\n",
    "       'ชื่อนิติบุคคลจดทะเบียนภาษาไทย', 'ชื่อนิติบุคคลจดทะเบียนภาษาอังกฤษ' , 'อำนาจกรรมการ' ,'% ที่ถือหุ้นของ Held By 1', '% ที่ถือหุ้นของ Held By 2',\n",
    "       '% ที่ถือหุ้นของ Held By 3', '% ที่ถือหุ้นของ Held By 4',\n",
    "       '% ที่ถือหุ้นของ Held By 5',\n",
    "       'ชื่อกรรมการ 1', 'ชื่อกรรมการ 2', 'ชื่อกรรมการ 3', 'ชื่อกรรมการ 4',\n",
    "       'ชื่อกรรมการ 5']]"
   ]
  },
  {
   "cell_type": "markdown",
   "metadata": {
    "id": "x5uEzMC-yjg3"
   },
   "source": [
    "## Clean ENLITE"
   ]
  },
  {
   "cell_type": "code",
   "execution_count": 15,
   "metadata": {
    "executionInfo": {
     "elapsed": 367,
     "status": "ok",
     "timestamp": 1698735034077,
     "user": {
      "displayName": "Tharaphon Nitijiramon",
      "userId": "16915625665235536451"
     },
     "user_tz": -420
    },
    "id": "zT01iyWXy2hl"
   },
   "outputs": [],
   "source": [
    "share_col = []\n",
    "director_col = []\n",
    "col_list =  df_enl1.columns.tolist()\n",
    "for i in range(len(col_list)):\n",
    "  if 'ชื่อกรรมการ' in col_list[i]:\n",
    "    director_col.append(col_list[i])\n",
    "  elif 'ที่ถือหุ้นของ' in col_list[i]:\n",
    "    share_col.append(col_list[i])"
   ]
  },
  {
   "cell_type": "code",
   "execution_count": 16,
   "metadata": {
    "executionInfo": {
     "elapsed": 3,
     "status": "ok",
     "timestamp": 1698735034077,
     "user": {
      "displayName": "Tharaphon Nitijiramon",
      "userId": "16915625665235536451"
     },
     "user_tz": -420
    },
    "id": "dMj5BzONy3_D"
   },
   "outputs": [],
   "source": [
    "id_list = df_enl1['เลขทะเบียนนิติบุคคล (13 หลัก)'].unique().tolist()"
   ]
  },
  {
   "cell_type": "code",
   "execution_count": 17,
   "metadata": {
    "executionInfo": {
     "elapsed": 107159,
     "status": "ok",
     "timestamp": 1698735141234,
     "user": {
      "displayName": "Tharaphon Nitijiramon",
      "userId": "16915625665235536451"
     },
     "user_tz": -420
    },
    "id": "F4KBPlW-y52q"
   },
   "outputs": [],
   "source": [
    "df_enl2 = pd.DataFrame()\n",
    "for i in range(len(id_list)):\n",
    "  df_t = df_enl1[df_enl1['เลขทะเบียนนิติบุคคล (13 หลัก)'] == id_list[i]]\n",
    "  df_t.reset_index(drop = True , inplace = True)\n",
    "  director_name = []\n",
    "  for m1 in range(len(director_col)):\n",
    "    director_name.append(df_t.loc[0 , director_col[m1]])\n",
    "  share_name = []\n",
    "  for m2 in range(len(share_col)):\n",
    "    share_name.append(df_t.loc[0,share_col[m2]])\n",
    "\n",
    "  df_t1 = df_t.head(1)\n",
    "  for m3 in range(len(director_col)):\n",
    "    df_t1 = df_t1.drop(columns = [director_col[m3]])\n",
    "  for m4 in range(len(share_col)):\n",
    "    df_t1 = df_t1.drop(columns = [share_col[m4]])\n",
    "\n",
    "  df_t1_1 = pd.DataFrame()\n",
    "  df_t1_1['ชื่อผู้เกี่ยวข้อง'] = director_name\n",
    "  df_t1_1['ความเกี่ยวข้อง'] = 'กรรมการ'\n",
    "\n",
    "\n",
    "  df_t1_2 = pd.DataFrame()\n",
    "  df_t1_2['ชื่อผู้เกี่ยวข้อง'] = share_name\n",
    "  df_t1_2['ความเกี่ยวข้อง'] = 'ผู้ถือหุ้น'\n",
    "\n",
    "  df_t2 = pd.concat([df_t1_1 , df_t1_2])\n",
    "  df_t2.reset_index(drop = True , inplace = True)\n",
    "\n",
    "  fill_col = ['เลขทะเบียนนิติบุคคล (13 หลัก)', 'ชื่อนิติบุคคลจดทะเบียนภาษาไทย', 'ชื่อนิติบุคคลจดทะเบียนภาษาอังกฤษ' , 'อำนาจกรรมการ' ]\n",
    "  for n in range(len(fill_col)):\n",
    "    df_t2[fill_col[n]] = df_t.loc[0,fill_col[n]]\n",
    "\n",
    "  df_enl2 = pd.concat([df_enl2 , df_t2])"
   ]
  },
  {
   "cell_type": "code",
   "execution_count": 18,
   "metadata": {
    "executionInfo": {
     "elapsed": 32,
     "status": "ok",
     "timestamp": 1698735141235,
     "user": {
      "displayName": "Tharaphon Nitijiramon",
      "userId": "16915625665235536451"
     },
     "user_tz": -420
    },
    "id": "KzoK4ddDy7mS"
   },
   "outputs": [],
   "source": [
    "def clean_name_enl(a):\n",
    "  if pd.isna(a) == False:\n",
    "    if a == '-':\n",
    "      a = np.nan\n",
    "  return a"
   ]
  },
  {
   "cell_type": "code",
   "execution_count": 19,
   "metadata": {
    "executionInfo": {
     "elapsed": 30,
     "status": "ok",
     "timestamp": 1698735141235,
     "user": {
      "displayName": "Tharaphon Nitijiramon",
      "userId": "16915625665235536451"
     },
     "user_tz": -420
    },
    "id": "qCCqgKiRy9HL"
   },
   "outputs": [],
   "source": [
    "df_enl2['ชื่อผู้เกี่ยวข้อง'] = df_enl2['ชื่อผู้เกี่ยวข้อง'].apply(lambda x : clean_name_enl(x))"
   ]
  },
  {
   "cell_type": "code",
   "execution_count": 20,
   "metadata": {
    "executionInfo": {
     "elapsed": 4,
     "status": "ok",
     "timestamp": 1698735141615,
     "user": {
      "displayName": "Tharaphon Nitijiramon",
      "userId": "16915625665235536451"
     },
     "user_tz": -420
    },
    "id": "aATREFpMy-1U"
   },
   "outputs": [],
   "source": [
    "df_enl3 = df_enl2.dropna(subset = ['ชื่อผู้เกี่ยวข้อง'])"
   ]
  },
  {
   "cell_type": "code",
   "execution_count": 21,
   "metadata": {
    "executionInfo": {
     "elapsed": 3,
     "status": "ok",
     "timestamp": 1698735141615,
     "user": {
      "displayName": "Tharaphon Nitijiramon",
      "userId": "16915625665235536451"
     },
     "user_tz": -420
    },
    "id": "7hWMt6l_zAK7"
   },
   "outputs": [],
   "source": [
    "def split_share_percent(a):\n",
    "  b1 = np.nan\n",
    "  b2 = np.nan\n",
    "  if pd.isna(a) == False:\n",
    "    b = a.rsplit(' ' , 1)\n",
    "    b1 = b[0]\n",
    "    b1 = b1.lower()\n",
    "    b2 = b[1]\n",
    "    clean_str1 = ['(' , ')' , '%' , ' ']\n",
    "    for i in range(len(clean_str1)):\n",
    "      b2 = b2.replace(clean_str1[i] , '')\n",
    "    b2 = float(b2)\n",
    "    clean_str2 = [' ','ด็อกเตอร์','ดร.','ว่าที่','พล.อ.','พล.ท.','พล.ต.','พ.อ.','พ.ท.','พ.ต.','ร.อ.','ร.ท.','ร.ต.','จ.ส.อ.','จ.ส.ท.','จ.ส.ต','ส.อ.',\n",
    "                           'ส.ท.','ส.ต.',\n",
    "                          'พลฯ','นนร.','พล.ร.อ.','พล.ร.ท.','พล.ร.ต.','น.อ.','ร.น.','น.ท.','น.ต.','ร.อ.','ร.ท.','ร.ต.','พ.จ.อ.','พ.จ.ท.','พ.จ.ต.',\n",
    "                          'จ.อ.','จ.ท.','จ.ต.','พล.อ.อ.','พล.อ.ท.','พล.อ.ต.','พ.อ.อ.','พ.อ.ท.','พ.อ.ต.','นนอ.','นจอ.',\n",
    "                          'พล.ต.อ.','พล.ต.ท.','พล.ต.ต.','พ.ต.อ.','พ.ต.ท.','พ.ต.ต.','ร.ต.อ.','ร.ต.ท.','ร.ต.ต.','ด.ต.','จ.ส.ต.','ส.ต.อ.','ส.ต.ท.','ส.ต.ต.'\n",
    "                           ,'พลเอก','พลโท','พลตรี','พันเอก','พันโท','พันตรี','ร้อยเอก','ร้อยโท','ร้อยตรี','จ่าสิบเอก','จ่าสิบโท','จ่าสิบตรี','สิบเอก','สิบโท','สิบตรี','พลทหาร',\n",
    "                        'พลเรือเอก','พลเรือโท','พลเรือตรี','นาวาเอก','นาวาโท','นาวาตรี','เรือเอก','เรือโท','เรือตรี','พันจ่าเอก','พันจ่าโท','พันจ่าตรี','จ่าเอก','จ่าโท','จ่าตรี',\n",
    "                           'พลอากาศเอก' , 'พลอากาศโท','พลอากาศตรี','นาวาอากาศเอก','นาวาอากาศโท','นาวาอากาศตรี','เรืออากาศเอก','เรืออากาศโท' ,'เรืออากาศตรี',\n",
    "                           'พันจ่าอากาศเอก','พันจ่าอากาศโท','พันจ่าอากาศตรี','จ่าอากาศเอก','จ่าอากาศโท','จ่าอากาศตรี',\n",
    "                           'mr.','mrs.','ms.','limited','inc.','co., ltd.,','ltd','(ไทย)','(ประเทศไทย)',\n",
    "                        '','(',')','-','.',',','บริษัท','บจก','จำกัด','มหาชน','ห้างหุ้นส่วน','จำกัด','publiccompanylim','company','–','/']\n",
    "    for i in range(len(clean_str2)):\n",
    "      b1 = b1.replace(clean_str2[i] , '')\n",
    "\n",
    "  return b1 , b2"
   ]
  },
  {
   "cell_type": "code",
   "execution_count": 22,
   "metadata": {
    "executionInfo": {
     "elapsed": 2,
     "status": "ok",
     "timestamp": 1698735141615,
     "user": {
      "displayName": "Tharaphon Nitijiramon",
      "userId": "16915625665235536451"
     },
     "user_tz": -420
    },
    "id": "P_1x0QwkzDQr"
   },
   "outputs": [],
   "source": [
    "df_s = df_enl3[df_enl3['ความเกี่ยวข้อง'] == 'ผู้ถือหุ้น']\n",
    "df_d = df_enl3[df_enl3['ความเกี่ยวข้อง'] == 'กรรมการ']"
   ]
  },
  {
   "cell_type": "code",
   "execution_count": 23,
   "metadata": {
    "colab": {
     "base_uri": "https://localhost:8080/"
    },
    "executionInfo": {
     "elapsed": 830,
     "status": "ok",
     "timestamp": 1698735142443,
     "user": {
      "displayName": "Tharaphon Nitijiramon",
      "userId": "16915625665235536451"
     },
     "user_tz": -420
    },
    "id": "tr0GCvb6zEvr",
    "outputId": "ab4792c2-230d-4464-aaf8-5b31b4a98769"
   },
   "outputs": [
    {
     "name": "stderr",
     "output_type": "stream",
     "text": [
      "C:\\Users\\lalitaa\\AppData\\Local\\Temp\\ipykernel_4832\\545980860.py:1: SettingWithCopyWarning: \n",
      "A value is trying to be set on a copy of a slice from a DataFrame.\n",
      "Try using .loc[row_indexer,col_indexer] = value instead\n",
      "\n",
      "See the caveats in the documentation: https://pandas.pydata.org/pandas-docs/stable/user_guide/indexing.html#returning-a-view-versus-a-copy\n",
      "  df_s['Name_clean'] , df_s['เปอร์เซ็นผู้ถือหุ้น'] = zip(*df_s['ชื่อผู้เกี่ยวข้อง'].apply(lambda x : split_share_percent(x)))\n",
      "C:\\Users\\lalitaa\\AppData\\Local\\Temp\\ipykernel_4832\\545980860.py:1: SettingWithCopyWarning: \n",
      "A value is trying to be set on a copy of a slice from a DataFrame.\n",
      "Try using .loc[row_indexer,col_indexer] = value instead\n",
      "\n",
      "See the caveats in the documentation: https://pandas.pydata.org/pandas-docs/stable/user_guide/indexing.html#returning-a-view-versus-a-copy\n",
      "  df_s['Name_clean'] , df_s['เปอร์เซ็นผู้ถือหุ้น'] = zip(*df_s['ชื่อผู้เกี่ยวข้อง'].apply(lambda x : split_share_percent(x)))\n"
     ]
    }
   ],
   "source": [
    "df_s['Name_clean'] , df_s['เปอร์เซ็นผู้ถือหุ้น'] = zip(*df_s['ชื่อผู้เกี่ยวข้อง'].apply(lambda x : split_share_percent(x)))"
   ]
  },
  {
   "cell_type": "code",
   "execution_count": 24,
   "metadata": {
    "executionInfo": {
     "elapsed": 8,
     "status": "ok",
     "timestamp": 1698735142443,
     "user": {
      "displayName": "Tharaphon Nitijiramon",
      "userId": "16915625665235536451"
     },
     "user_tz": -420
    },
    "id": "IOXxFRIIzGQb"
   },
   "outputs": [],
   "source": [
    "def clean_director(a):\n",
    "  if pd.isna(a) == False:\n",
    "    clean_str2 = [' ','ด็อกเตอร์','ดร.','ว่าที่','พล.อ.','พล.ท.','พล.ต.','พ.อ.','พ.ท.','พ.ต.','ร.อ.','ร.ท.','ร.ต.','จ.ส.อ.','จ.ส.ท.','จ.ส.ต','ส.อ.',\n",
    "                           'ส.ท.','ส.ต.',\n",
    "                          'พลฯ','นนร.','พล.ร.อ.','พล.ร.ท.','พล.ร.ต.','น.อ.','ร.น.','น.ท.','น.ต.','ร.อ.','ร.ท.','ร.ต.','พ.จ.อ.','พ.จ.ท.','พ.จ.ต.',\n",
    "                          'จ.อ.','จ.ท.','จ.ต.','พล.อ.อ.','พล.อ.ท.','พล.อ.ต.','พ.อ.อ.','พ.อ.ท.','พ.อ.ต.','นนอ.','นจอ.',\n",
    "                          'พล.ต.อ.','พล.ต.ท.','พล.ต.ต.','พ.ต.อ.','พ.ต.ท.','พ.ต.ต.','ร.ต.อ.','ร.ต.ท.','ร.ต.ต.','ด.ต.','จ.ส.ต.','ส.ต.อ.','ส.ต.ท.','ส.ต.ต.'\n",
    "                           ,'พลเอก','พลโท','พลตรี','พันเอก','พันโท','พันตรี','ร้อยเอก','ร้อยโท','ร้อยตรี','จ่าสิบเอก','จ่าสิบโท','จ่าสิบตรี','สิบเอก','สิบโท','สิบตรี','พลทหาร',\n",
    "                        'พลเรือเอก','พลเรือโท','พลเรือตรี','นาวาเอก','นาวาโท','นาวาตรี','เรือเอก','เรือโท','เรือตรี','พันจ่าเอก','พันจ่าโท','พันจ่าตรี','จ่าเอก','จ่าโท','จ่าตรี',\n",
    "                           'พลอากาศเอก' , 'พลอากาศโท','พลอากาศตรี','นาวาอากาศเอก','นาวาอากาศโท','นาวาอากาศตรี','เรืออากาศเอก','เรืออากาศโท' ,'เรืออากาศตรี',\n",
    "                           'พันจ่าอากาศเอก','พันจ่าอากาศโท','พันจ่าอากาศตรี','จ่าอากาศเอก','จ่าอากาศโท','จ่าอากาศตรี',\n",
    "                           'mr.','mrs.','ms.','limited','inc.','co., ltd.,','ltd','(ไทย)','(ประเทศไทย)',\n",
    "                        '','(',')','-','.',',','บริษัท','บจก','จำกัด','มหาชน','ห้างหุ้นส่วน','จำกัด','publiccompanylim','company','–','/']\n",
    "\n",
    "  for i in range(len(clean_str2)):\n",
    "    a = a.replace(clean_str2[i] , '')\n",
    "\n",
    "  return a"
   ]
  },
  {
   "cell_type": "code",
   "execution_count": 25,
   "metadata": {
    "colab": {
     "base_uri": "https://localhost:8080/"
    },
    "executionInfo": {
     "elapsed": 7,
     "status": "ok",
     "timestamp": 1698735142443,
     "user": {
      "displayName": "Tharaphon Nitijiramon",
      "userId": "16915625665235536451"
     },
     "user_tz": -420
    },
    "id": "8Qrb1h8xzIDL",
    "outputId": "87aed18c-1685-4b59-8b54-eb324bba144e"
   },
   "outputs": [
    {
     "name": "stderr",
     "output_type": "stream",
     "text": [
      "C:\\Users\\lalitaa\\AppData\\Local\\Temp\\ipykernel_4832\\3298249985.py:1: SettingWithCopyWarning: \n",
      "A value is trying to be set on a copy of a slice from a DataFrame.\n",
      "Try using .loc[row_indexer,col_indexer] = value instead\n",
      "\n",
      "See the caveats in the documentation: https://pandas.pydata.org/pandas-docs/stable/user_guide/indexing.html#returning-a-view-versus-a-copy\n",
      "  df_d['Name_clean'] = df_d['ชื่อผู้เกี่ยวข้อง'].apply(lambda x : clean_director(x) )\n"
     ]
    }
   ],
   "source": [
    "df_d['Name_clean'] = df_d['ชื่อผู้เกี่ยวข้อง'].apply(lambda x : clean_director(x) )"
   ]
  },
  {
   "cell_type": "code",
   "execution_count": 26,
   "metadata": {
    "executionInfo": {
     "elapsed": 6,
     "status": "ok",
     "timestamp": 1698735142443,
     "user": {
      "displayName": "Tharaphon Nitijiramon",
      "userId": "16915625665235536451"
     },
     "user_tz": -420
    },
    "id": "gS2JUl_pzJlj"
   },
   "outputs": [],
   "source": [
    "def clean_power(x):\n",
    "  if pd.isna(x) == False:\n",
    "    x = x.lower()\n",
    "    x = x.strip()\n",
    "    x = x.replace(' ','')\n",
    "    str_level_list = ['ด็อกเตอร์','ดร.','ว่าที่','พล\\.อ\\.','พล\\.ท\\.','พล\\.ต\\.','พ\\.อ\\.','พ\\.ท\\.','พ\\.ต\\.','ร\\.อ\\.','ร\\.ท\\.','ร\\.ต\\.','จ\\.ส\\.อ.','จ\\.ส\\.ท.','จ\\.ส\\.ต','ส\\.อ\\.',\n",
    "                           'ส\\.ท\\.','ส\\.ต\\.',\n",
    "                          'พลฯ','นนร\\.','พล\\.ร\\.อ\\.','พล\\.ร\\.ท\\.','พล\\.ร\\.ต.','น\\.อ\\.','ร\\.น\\.','น\\.ท\\.','น\\.ต\\.','ร\\.อ\\.','ร\\.ท\\.','ร\\.ต\\.','พ\\.จ\\.อ.','พ\\.จ\\.ท.','พ\\.จ\\.ต.',\n",
    "                          'จ\\.อ\\.','จ\\.ท\\.','จ\\.ต\\.','พล\\.อ\\.อ.','พล\\.อ\\.ท\\.','พล\\.อ\\.ต\\.','พ\\.อ\\.อ\\.','พ\\.อ\\.ท\\.','พ\\.อ\\.ต\\.','นนอ\\.','นจอ\\.',\n",
    "                          'พล\\.ต\\.อ\\.','พล\\.ต\\.ท\\.','พล\\.ต\\.ต\\.','พ\\.ต\\.อ\\.','พ\\.ต\\.ท\\.','พ\\.ต\\.ต\\.','ร\\.ต\\.อ\\.','ร\\.ต\\.ท\\.','ร\\.ต\\.ต\\.','ด\\.ต\\.','จ\\.ส\\.ต\\.','ส\\.ต\\.อ\\.','ส\\.ต\\.ท\\.','ส\\.ต\\.ต\\.'\n",
    "                           ,'พลเอก','พลโท','พลตรี','พันเอก','พันโท','พันตรี','ร้อยเอก','ร้อยโท','ร้อยตรี','จ่าสิบเอก','จ่าสิบโท','จ่าสิบตรี','สิบเอก','สิบโท','สิบตรี','พลทหาร',\n",
    "                        'พลเรือเอก','พลเรือโท','พลเรือตรี','นาวาเอก','นาวาโท','นาวาตรี','เรือเอก','เรือโท','เรือตรี','พันจ่าเอก','พันจ่าโท','พันจ่าตรี','จ่าเอก','จ่าโท','จ่าตรี',\n",
    "                           'พลอากาศเอก' , 'พลอากาศโท','พลอากาศตรี','นาวาอากาศเอก','นาวาอากาศโท','นาวาอากาศตรี','เรืออากาศเอก','เรืออากาศโท' ,'เรืออากาศตรี',\n",
    "                           'พันจ่าอากาศเอก','พันจ่าอากาศโท','พันจ่าอากาศตรี','จ่าอากาศเอก','จ่าอากาศโท','จ่าอากาศตรี','mr.','mrs.','ms.']\n",
    "    det_str = ['mr.','mrs.','ms.','limited','inc.','co., ltd.,','ltd','(ไทย)','(ประเทศไทย)',\n",
    "                        '','(',')','-','.',',','บริษัท','บจก','จำกัด','มหาชน','ห้างหุ้นส่วน','จำกัด','publiccompanylim','company','–','/']\n",
    "    for i in range(len(str_level_list)):\n",
    "      x = x.replace(str_level_list[i],'นาย')\n",
    "    for i in range(len(det_str)):\n",
    "      x = x.replace(det_str[i],'')\n",
    "\n",
    "  return x"
   ]
  },
  {
   "cell_type": "code",
   "execution_count": 27,
   "metadata": {
    "colab": {
     "base_uri": "https://localhost:8080/"
    },
    "executionInfo": {
     "elapsed": 399,
     "status": "ok",
     "timestamp": 1698735142837,
     "user": {
      "displayName": "Tharaphon Nitijiramon",
      "userId": "16915625665235536451"
     },
     "user_tz": -420
    },
    "id": "ORDLFHRrzLka",
    "outputId": "f8cf4958-e3af-4635-a78e-b70736ad0388"
   },
   "outputs": [
    {
     "name": "stderr",
     "output_type": "stream",
     "text": [
      "C:\\Users\\lalitaa\\AppData\\Local\\Temp\\ipykernel_4832\\1870004402.py:1: SettingWithCopyWarning: \n",
      "A value is trying to be set on a copy of a slice from a DataFrame.\n",
      "Try using .loc[row_indexer,col_indexer] = value instead\n",
      "\n",
      "See the caveats in the documentation: https://pandas.pydata.org/pandas-docs/stable/user_guide/indexing.html#returning-a-view-versus-a-copy\n",
      "  df_d['อำนาจกรรมการ_clean'] = df_d['อำนาจกรรมการ'].apply(lambda x : clean_power(x))\n"
     ]
    }
   ],
   "source": [
    "df_d['อำนาจกรรมการ_clean'] = df_d['อำนาจกรรมการ'].apply(lambda x : clean_power(x))"
   ]
  },
  {
   "cell_type": "code",
   "execution_count": 28,
   "metadata": {
    "executionInfo": {
     "elapsed": 14,
     "status": "ok",
     "timestamp": 1698735142838,
     "user": {
      "displayName": "Tharaphon Nitijiramon",
      "userId": "16915625665235536451"
     },
     "user_tz": -420
    },
    "id": "hRuV3JfpzM5K"
   },
   "outputs": [],
   "source": [
    "def check_director(a,b):\n",
    "  if pd.isna(b) == True:\n",
    "    c = np.nan\n",
    "  elif a in b:\n",
    "    c = 'มีอำนาจลงนาม'\n",
    "  elif '(1)' in b:\n",
    "    c = np.nan\n",
    "  elif ( ('นาย' in b) or ('นาง' in b) ) and a not in b:\n",
    "    c = 'ไม่มีอำนาจลงนาม'\n",
    "  elif b == 'ไม่มี':\n",
    "    c = np.nan\n",
    "  else:\n",
    "    c = 'มีอำนาจลงนาม'\n",
    "  return c"
   ]
  },
  {
   "cell_type": "code",
   "execution_count": 29,
   "metadata": {
    "colab": {
     "base_uri": "https://localhost:8080/"
    },
    "executionInfo": {
     "elapsed": 13,
     "status": "ok",
     "timestamp": 1698735142838,
     "user": {
      "displayName": "Tharaphon Nitijiramon",
      "userId": "16915625665235536451"
     },
     "user_tz": -420
    },
    "id": "eV9cxQZEzPjT",
    "outputId": "5b93143d-d7dc-4a70-e513-4891d4eaffbd"
   },
   "outputs": [
    {
     "name": "stderr",
     "output_type": "stream",
     "text": [
      "C:\\Users\\lalitaa\\AppData\\Local\\Temp\\ipykernel_4832\\2444726065.py:1: SettingWithCopyWarning: \n",
      "A value is trying to be set on a copy of a slice from a DataFrame.\n",
      "Try using .loc[row_indexer,col_indexer] = value instead\n",
      "\n",
      "See the caveats in the documentation: https://pandas.pydata.org/pandas-docs/stable/user_guide/indexing.html#returning-a-view-versus-a-copy\n",
      "  df_d['อำนาจลงนาม'] = df_d.apply(lambda x : check_director(x['Name_clean'],x['อำนาจกรรมการ_clean']) , axis = 1)\n"
     ]
    }
   ],
   "source": [
    "df_d['อำนาจลงนาม'] = df_d.apply(lambda x : check_director(x['Name_clean'],x['อำนาจกรรมการ_clean']) , axis = 1)"
   ]
  },
  {
   "cell_type": "code",
   "execution_count": 30,
   "metadata": {
    "executionInfo": {
     "elapsed": 10,
     "status": "ok",
     "timestamp": 1698735142838,
     "user": {
      "displayName": "Tharaphon Nitijiramon",
      "userId": "16915625665235536451"
     },
     "user_tz": -420
    },
    "id": "NKdqUDr3zQ3K"
   },
   "outputs": [],
   "source": [
    "df_s1 = df_s[df_s['เปอร์เซ็นผู้ถือหุ้น'] >= 20]\n",
    "# df_s1 = df_s.copy()"
   ]
  },
  {
   "cell_type": "code",
   "execution_count": 31,
   "metadata": {
    "executionInfo": {
     "elapsed": 10,
     "status": "ok",
     "timestamp": 1698735142839,
     "user": {
      "displayName": "Tharaphon Nitijiramon",
      "userId": "16915625665235536451"
     },
     "user_tz": -420
    },
    "id": "UUGibLE6zUk6"
   },
   "outputs": [],
   "source": [
    "df_d1 = df_d[df_d['อำนาจลงนาม'] != 'ไม่มีอำนาจลงนาม']\n",
    "#df_d1 = df_d.copy()"
   ]
  },
  {
   "cell_type": "code",
   "execution_count": 32,
   "metadata": {
    "executionInfo": {
     "elapsed": 10,
     "status": "ok",
     "timestamp": 1698735142839,
     "user": {
      "displayName": "Tharaphon Nitijiramon",
      "userId": "16915625665235536451"
     },
     "user_tz": -420
    },
    "id": "UdRuXr2EzV_k"
   },
   "outputs": [],
   "source": [
    "df_en1 = pd.concat([df_d1,df_s1])"
   ]
  },
  {
   "cell_type": "code",
   "execution_count": 33,
   "metadata": {
    "executionInfo": {
     "elapsed": 377,
     "status": "ok",
     "timestamp": 1698735143207,
     "user": {
      "displayName": "Tharaphon Nitijiramon",
      "userId": "16915625665235536451"
     },
     "user_tz": -420
    },
    "id": "OOgL-LLUzYIT"
   },
   "outputs": [],
   "source": [
    "df_en1 =df_en1.drop(columns = ['อำนาจกรรมการ_clean'])\n",
    "df_en1 = df_en1.sort_values(['เลขทะเบียนนิติบุคคล (13 หลัก)' , 'ความเกี่ยวข้อง'])"
   ]
  },
  {
   "cell_type": "code",
   "execution_count": 34,
   "metadata": {
    "executionInfo": {
     "elapsed": 39481,
     "status": "ok",
     "timestamp": 1698735182685,
     "user": {
      "displayName": "Tharaphon Nitijiramon",
      "userId": "16915625665235536451"
     },
     "user_tz": -420
    },
    "id": "PKi-3rEszcJT"
   },
   "outputs": [],
   "source": [
    "df_en2 = pd.DataFrame()\n",
    "cus_id = df_en1['เลขทะเบียนนิติบุคคล (13 หลัก)'].unique().tolist()\n",
    "for i in range(len(cus_id)):\n",
    "  df_t = df_en1[df_en1['เลขทะเบียนนิติบุคคล (13 หลัก)'] == cus_id[i]].copy()\n",
    "  name_list = df_t['Name_clean'].unique().tolist()\n",
    "  for j in range(len(name_list)):\n",
    "    df_t1 = df_t[df_t['Name_clean'] == name_list[j]]\n",
    "    df_t1.reset_index(drop = True , inplace = True)\n",
    "    a1 = df_t1.loc[0,'ความเกี่ยวข้อง']\n",
    "    a2 = df_t1.loc[0,'เปอร์เซ็นผู้ถือหุ้น']\n",
    "    if len(df_t1) > 1:\n",
    "      a2 = df_t1.loc[1,'เปอร์เซ็นผู้ถือหุ้น']\n",
    "    for k in range(1 , len(df_t1)):\n",
    "      a1 = a1 +'/' +df_t1.loc[k,'ความเกี่ยวข้อง']\n",
    "    df_t1.loc[0,'ความเกี่ยวข้อง'] = a1\n",
    "    df_t1.loc[0 , 'เปอร์เซ็นผู้ถือหุ้น'] = a2\n",
    "    df_t2 = df_t1.head(1)\n",
    "    df_en2 = pd.concat([df_en2 , df_t2])"
   ]
  },
  {
   "cell_type": "code",
   "execution_count": 35,
   "metadata": {
    "executionInfo": {
     "elapsed": 24,
     "status": "ok",
     "timestamp": 1698735182686,
     "user": {
      "displayName": "Tharaphon Nitijiramon",
      "userId": "16915625665235536451"
     },
     "user_tz": -420
    },
    "id": "a6P97eoVzfvS"
   },
   "outputs": [],
   "source": [
    "df_en21 = df_en2.copy()"
   ]
  },
  {
   "cell_type": "code",
   "execution_count": 36,
   "metadata": {
    "executionInfo": {
     "elapsed": 25620,
     "status": "ok",
     "timestamp": 1698735208284,
     "user": {
      "displayName": "Tharaphon Nitijiramon",
      "userId": "16915625665235536451"
     },
     "user_tz": -420
    },
    "id": "7G1rQqv4zhx6"
   },
   "outputs": [],
   "source": [
    "id_list = df_en2['เลขทะเบียนนิติบุคคล (13 หลัก)'].unique().tolist()\n",
    "df_en2 = pd.DataFrame()\n",
    "fill_col = ['ชื่อนิติบุคคลจดทะเบียนภาษาไทย' , 'ชื่อนิติบุคคลจดทะเบียนภาษาอังกฤษ']\n",
    "for i in range(len(id_list)):\n",
    "  df_t = df_en21[df_en21['เลขทะเบียนนิติบุคคล (13 หลัก)'] == id_list[i]]\n",
    "  df_t = df_t.sort_values(['ชื่อนิติบุคคลจดทะเบียนภาษาไทย'])\n",
    "  df_t.reset_index(drop = True , inplace = True)\n",
    "  if pd.isna(df_t.loc[0,'ชื่อนิติบุคคลจดทะเบียนภาษาไทย']) == False:\n",
    "    for j in range(len(fill_col)):\n",
    "      df_t[fill_col[j]] = df_t[fill_col[j]].fillna(df_t.loc[0,fill_col[j]])\n",
    "  df_en2 = pd.concat([df_en2 , df_t])"
   ]
  },
  {
   "cell_type": "code",
   "execution_count": 37,
   "metadata": {
    "executionInfo": {
     "elapsed": 22,
     "status": "ok",
     "timestamp": 1698735208285,
     "user": {
      "displayName": "Tharaphon Nitijiramon",
      "userId": "16915625665235536451"
     },
     "user_tz": -420
    },
    "id": "SB4r4ls-zjFj"
   },
   "outputs": [],
   "source": [
    "df_en2.reset_index(drop = True , inplace = True)"
   ]
  },
  {
   "cell_type": "code",
   "execution_count": 38,
   "metadata": {
    "colab": {
     "base_uri": "https://localhost:8080/",
     "height": 0
    },
    "executionInfo": {
     "elapsed": 21,
     "status": "ok",
     "timestamp": 1698735208285,
     "user": {
      "displayName": "Tharaphon Nitijiramon",
      "userId": "16915625665235536451"
     },
     "user_tz": -420
    },
    "id": "d3pxDQtGzlmq",
    "outputId": "a17554ef-781c-4228-ff41-51ba9113f377"
   },
   "outputs": [
    {
     "data": {
      "text/html": [
       "<div>\n",
       "<style scoped>\n",
       "    .dataframe tbody tr th:only-of-type {\n",
       "        vertical-align: middle;\n",
       "    }\n",
       "\n",
       "    .dataframe tbody tr th {\n",
       "        vertical-align: top;\n",
       "    }\n",
       "\n",
       "    .dataframe thead th {\n",
       "        text-align: right;\n",
       "    }\n",
       "</style>\n",
       "<table border=\"1\" class=\"dataframe\">\n",
       "  <thead>\n",
       "    <tr style=\"text-align: right;\">\n",
       "      <th></th>\n",
       "      <th>ชื่อผู้เกี่ยวข้อง</th>\n",
       "      <th>ความเกี่ยวข้อง</th>\n",
       "      <th>เลขทะเบียนนิติบุคคล (13 หลัก)</th>\n",
       "      <th>ชื่อนิติบุคคลจดทะเบียนภาษาไทย</th>\n",
       "      <th>ชื่อนิติบุคคลจดทะเบียนภาษาอังกฤษ</th>\n",
       "      <th>อำนาจกรรมการ</th>\n",
       "      <th>Name_clean</th>\n",
       "      <th>อำนาจลงนาม</th>\n",
       "      <th>เปอร์เซ็นผู้ถือหุ้น</th>\n",
       "    </tr>\n",
       "  </thead>\n",
       "  <tbody>\n",
       "    <tr>\n",
       "      <th>0</th>\n",
       "      <td>พรวิไล พันธุสิงห์</td>\n",
       "      <td>กรรมการ/ผู้ถือหุ้น</td>\n",
       "      <td>0103512009670</td>\n",
       "      <td>ห้างหุ้นส่วนจำกัด เอ๊กโคคอนสตรั๊กชั่น อินยิเนี...</td>\n",
       "      <td>ECHO CONSTRUCTION ENGINEERING LIMITED PARTNERSHIP</td>\n",
       "      <td>ไม่มี</td>\n",
       "      <td>พรวิไลพันธุสิงห์</td>\n",
       "      <td>NaN</td>\n",
       "      <td>99.80</td>\n",
       "    </tr>\n",
       "    <tr>\n",
       "      <th>1</th>\n",
       "      <td>จาตุรงค์ จรัสตระกูล</td>\n",
       "      <td>กรรมการ/ผู้ถือหุ้น</td>\n",
       "      <td>0103517003998</td>\n",
       "      <td>ห้างหุ้นส่วนจำกัด จัตุรงค์คูลลิ่ง</td>\n",
       "      <td>CHATURONG COOLING LIMITED PARTNERSHIP</td>\n",
       "      <td>ไม่มี</td>\n",
       "      <td>จาตุรงค์จรัสตระกูล</td>\n",
       "      <td>NaN</td>\n",
       "      <td>93.41</td>\n",
       "    </tr>\n",
       "    <tr>\n",
       "      <th>2</th>\n",
       "      <td>ไชย เตชะสมบูรณากิจ</td>\n",
       "      <td>กรรมการ/ผู้ถือหุ้น</td>\n",
       "      <td>0103521001856</td>\n",
       "      <td>ห้างหุ้นส่วนจำกัด โรงงานประดิษฐ์กรณ์เท็กซ์ไทล์</td>\n",
       "      <td>P.D.K.TEXTILE FACTORY LIMITED PARTNERSHIP</td>\n",
       "      <td>การทำนิติกรรมใด ๆ เพื่อให้มีผลผูกพันห้างหุ้นส่...</td>\n",
       "      <td>ไชยเตชะสมบูรณากิจ</td>\n",
       "      <td>มีอำนาจลงนาม</td>\n",
       "      <td>40.00</td>\n",
       "    </tr>\n",
       "    <tr>\n",
       "      <th>3</th>\n",
       "      <td>จุรี เตชะสมบูรณากิจ</td>\n",
       "      <td>กรรมการ</td>\n",
       "      <td>0103521001856</td>\n",
       "      <td>ห้างหุ้นส่วนจำกัด โรงงานประดิษฐ์กรณ์เท็กซ์ไทล์</td>\n",
       "      <td>P.D.K.TEXTILE FACTORY LIMITED PARTNERSHIP</td>\n",
       "      <td>การทำนิติกรรมใด ๆ เพื่อให้มีผลผูกพันห้างหุ้นส่...</td>\n",
       "      <td>จุรีเตชะสมบูรณากิจ</td>\n",
       "      <td>มีอำนาจลงนาม</td>\n",
       "      <td>NaN</td>\n",
       "    </tr>\n",
       "    <tr>\n",
       "      <th>4</th>\n",
       "      <td>ชาตรี เตชะสมบูรณากิจ</td>\n",
       "      <td>กรรมการ/ผู้ถือหุ้น</td>\n",
       "      <td>0103521001856</td>\n",
       "      <td>ห้างหุ้นส่วนจำกัด โรงงานประดิษฐ์กรณ์เท็กซ์ไทล์</td>\n",
       "      <td>P.D.K.TEXTILE FACTORY LIMITED PARTNERSHIP</td>\n",
       "      <td>การทำนิติกรรมใด ๆ เพื่อให้มีผลผูกพันห้างหุ้นส่...</td>\n",
       "      <td>ชาตรีเตชะสมบูรณากิจ</td>\n",
       "      <td>มีอำนาจลงนาม</td>\n",
       "      <td>30.00</td>\n",
       "    </tr>\n",
       "  </tbody>\n",
       "</table>\n",
       "</div>"
      ],
      "text/plain": [
       "      ชื่อผู้เกี่ยวข้อง      ความเกี่ยวข้อง เลขทะเบียนนิติบุคคล (13 หลัก)  \\\n",
       "0     พรวิไล พันธุสิงห์  กรรมการ/ผู้ถือหุ้น                 0103512009670   \n",
       "1   จาตุรงค์ จรัสตระกูล  กรรมการ/ผู้ถือหุ้น                 0103517003998   \n",
       "2    ไชย เตชะสมบูรณากิจ  กรรมการ/ผู้ถือหุ้น                 0103521001856   \n",
       "3   จุรี เตชะสมบูรณากิจ             กรรมการ                 0103521001856   \n",
       "4  ชาตรี เตชะสมบูรณากิจ  กรรมการ/ผู้ถือหุ้น                 0103521001856   \n",
       "\n",
       "                       ชื่อนิติบุคคลจดทะเบียนภาษาไทย  \\\n",
       "0  ห้างหุ้นส่วนจำกัด เอ๊กโคคอนสตรั๊กชั่น อินยิเนี...   \n",
       "1                  ห้างหุ้นส่วนจำกัด จัตุรงค์คูลลิ่ง   \n",
       "2     ห้างหุ้นส่วนจำกัด โรงงานประดิษฐ์กรณ์เท็กซ์ไทล์   \n",
       "3     ห้างหุ้นส่วนจำกัด โรงงานประดิษฐ์กรณ์เท็กซ์ไทล์   \n",
       "4     ห้างหุ้นส่วนจำกัด โรงงานประดิษฐ์กรณ์เท็กซ์ไทล์   \n",
       "\n",
       "                    ชื่อนิติบุคคลจดทะเบียนภาษาอังกฤษ  \\\n",
       "0  ECHO CONSTRUCTION ENGINEERING LIMITED PARTNERSHIP   \n",
       "1              CHATURONG COOLING LIMITED PARTNERSHIP   \n",
       "2          P.D.K.TEXTILE FACTORY LIMITED PARTNERSHIP   \n",
       "3          P.D.K.TEXTILE FACTORY LIMITED PARTNERSHIP   \n",
       "4          P.D.K.TEXTILE FACTORY LIMITED PARTNERSHIP   \n",
       "\n",
       "                                        อำนาจกรรมการ           Name_clean  \\\n",
       "0                                              ไม่มี     พรวิไลพันธุสิงห์   \n",
       "1                                              ไม่มี   จาตุรงค์จรัสตระกูล   \n",
       "2  การทำนิติกรรมใด ๆ เพื่อให้มีผลผูกพันห้างหุ้นส่...    ไชยเตชะสมบูรณากิจ   \n",
       "3  การทำนิติกรรมใด ๆ เพื่อให้มีผลผูกพันห้างหุ้นส่...   จุรีเตชะสมบูรณากิจ   \n",
       "4  การทำนิติกรรมใด ๆ เพื่อให้มีผลผูกพันห้างหุ้นส่...  ชาตรีเตชะสมบูรณากิจ   \n",
       "\n",
       "     อำนาจลงนาม  เปอร์เซ็นผู้ถือหุ้น  \n",
       "0           NaN                99.80  \n",
       "1           NaN                93.41  \n",
       "2  มีอำนาจลงนาม                40.00  \n",
       "3  มีอำนาจลงนาม                  NaN  \n",
       "4  มีอำนาจลงนาม                30.00  "
      ]
     },
     "execution_count": 38,
     "metadata": {},
     "output_type": "execute_result"
    }
   ],
   "source": [
    "df_en2.head()"
   ]
  },
  {
   "cell_type": "code",
   "execution_count": null,
   "metadata": {
    "executionInfo": {
     "elapsed": 6,
     "status": "ok",
     "timestamp": 1698735208285,
     "user": {
      "displayName": "Tharaphon Nitijiramon",
      "userId": "16915625665235536451"
     },
     "user_tz": -420
    },
    "id": "EBw5J-G8zm1K"
   },
   "outputs": [],
   "source": []
  },
  {
   "cell_type": "markdown",
   "metadata": {
    "id": "2bdXPorZ3mrR"
   },
   "source": [
    "## Clean Data Mart"
   ]
  },
  {
   "cell_type": "code",
   "execution_count": 39,
   "metadata": {
    "executionInfo": {
     "elapsed": 18516,
     "status": "ok",
     "timestamp": 1698735226796,
     "user": {
      "displayName": "Tharaphon Nitijiramon",
      "userId": "16915625665235536451"
     },
     "user_tz": -420
    },
    "id": "9wAxX4xi3thf"
   },
   "outputs": [],
   "source": [
    "df_datamart['Name_datamart_clean'] = df_datamart['Name and surname of defendant'].apply(lambda x : clean_director(x))"
   ]
  },
  {
   "cell_type": "code",
   "execution_count": 40,
   "metadata": {
    "executionInfo": {
     "elapsed": 384,
     "status": "ok",
     "timestamp": 1698735227157,
     "user": {
      "displayName": "Tharaphon Nitijiramon",
      "userId": "16915625665235536451"
     },
     "user_tz": -420
    },
    "id": "k9WgbunFHh9e"
   },
   "outputs": [],
   "source": [
    "# df_datamart['Court Order date'] = pd.to_datetime(df_datamart['Court Order date'] , format = '%Y-%m-%d')"
   ]
  },
  {
   "cell_type": "code",
   "execution_count": 41,
   "metadata": {
    "executionInfo": {
     "elapsed": 656,
     "status": "ok",
     "timestamp": 1698735227809,
     "user": {
      "displayName": "Tharaphon Nitijiramon",
      "userId": "16915625665235536451"
     },
     "user_tz": -420
    },
    "id": "cvG0lS-cHaIz"
   },
   "outputs": [],
   "source": [
    "df_datamart = df_datamart.sort_values(['Running No.' , 'Court Order date'])"
   ]
  },
  {
   "cell_type": "code",
   "execution_count": 42,
   "metadata": {
    "colab": {
     "base_uri": "https://localhost:8080/",
     "height": 0
    },
    "executionInfo": {
     "elapsed": 10,
     "status": "ok",
     "timestamp": 1698735227810,
     "user": {
      "displayName": "Tharaphon Nitijiramon",
      "userId": "16915625665235536451"
     },
     "user_tz": -420
    },
    "id": "e1SD4rue3pQ2",
    "outputId": "35e51dc0-2110-440c-cd3d-319b028e32f1"
   },
   "outputs": [
    {
     "data": {
      "text/html": [
       "<div>\n",
       "<style scoped>\n",
       "    .dataframe tbody tr th:only-of-type {\n",
       "        vertical-align: middle;\n",
       "    }\n",
       "\n",
       "    .dataframe tbody tr th {\n",
       "        vertical-align: top;\n",
       "    }\n",
       "\n",
       "    .dataframe thead th {\n",
       "        text-align: right;\n",
       "    }\n",
       "</style>\n",
       "<table border=\"1\" class=\"dataframe\">\n",
       "  <thead>\n",
       "    <tr style=\"text-align: right;\">\n",
       "      <th></th>\n",
       "      <th>Running No.</th>\n",
       "      <th>Title of defendant</th>\n",
       "      <th>Name and surname of defendant</th>\n",
       "      <th>Surname of defendant</th>\n",
       "      <th>Record item</th>\n",
       "      <th>Code of judgement type</th>\n",
       "      <th>Court Order date</th>\n",
       "      <th>Receive &amp; Amendment Date</th>\n",
       "      <th>Royal Gazette Announcement Date</th>\n",
       "      <th>Flag New</th>\n",
       "      <th>Description of judgement</th>\n",
       "      <th>Running No.2</th>\n",
       "      <th>ID CODE</th>\n",
       "      <th>Name_datamart_clean</th>\n",
       "    </tr>\n",
       "  </thead>\n",
       "  <tbody>\n",
       "    <tr>\n",
       "      <th>0</th>\n",
       "      <td>1</td>\n",
       "      <td>นาย</td>\n",
       "      <td>(เจริญพร) ฮ็อก เหงวียน</td>\n",
       "      <td>เหงวียน</td>\n",
       "      <td>1</td>\n",
       "      <td>05</td>\n",
       "      <td>2007-08-16 00:00:00</td>\n",
       "      <td>2009-04-27 00:00:00</td>\n",
       "      <td>2009-06-02 00:00:00</td>\n",
       "      <td>NaN</td>\n",
       "      <td>พิทักษ์ทรัพย์เด็ดขาด</td>\n",
       "      <td>1</td>\n",
       "      <td>6349957029441</td>\n",
       "      <td>เจริญพรฮ็อกเหงวียน</td>\n",
       "    </tr>\n",
       "    <tr>\n",
       "      <th>1</th>\n",
       "      <td>1</td>\n",
       "      <td>นาย</td>\n",
       "      <td>(เจริญพร) ฮ็อก เหงวียน</td>\n",
       "      <td>เหงวียน</td>\n",
       "      <td>1</td>\n",
       "      <td>11</td>\n",
       "      <td>2012-10-31 00:00:00</td>\n",
       "      <td>2013-02-04 00:00:00</td>\n",
       "      <td>2013-03-26 00:00:00</td>\n",
       "      <td>NaN</td>\n",
       "      <td>พิพากษาล้มละลาย</td>\n",
       "      <td>1</td>\n",
       "      <td>6349957029441</td>\n",
       "      <td>เจริญพรฮ็อกเหงวียน</td>\n",
       "    </tr>\n",
       "    <tr>\n",
       "      <th>2</th>\n",
       "      <td>1</td>\n",
       "      <td>นาย</td>\n",
       "      <td>(เจริญพร) ฮ็อก เหงวียน</td>\n",
       "      <td>เหงวียน</td>\n",
       "      <td>1</td>\n",
       "      <td>25</td>\n",
       "      <td>2017-11-01 00:00:00</td>\n",
       "      <td>2017-12-20 00:00:00</td>\n",
       "      <td>2018-02-13 00:00:00</td>\n",
       "      <td>NaN</td>\n",
       "      <td>ปลดจากล้มละลาย</td>\n",
       "      <td>1</td>\n",
       "      <td>6349957029441</td>\n",
       "      <td>เจริญพรฮ็อกเหงวียน</td>\n",
       "    </tr>\n",
       "    <tr>\n",
       "      <th>3</th>\n",
       "      <td>10</td>\n",
       "      <td>บจ.</td>\n",
       "      <td>109 ดีไซน์ ทีม</td>\n",
       "      <td>NaN</td>\n",
       "      <td>1</td>\n",
       "      <td>05</td>\n",
       "      <td>2012-10-08 00:00:00</td>\n",
       "      <td>2012-11-28 00:00:00</td>\n",
       "      <td>2013-01-29 00:00:00</td>\n",
       "      <td>NaN</td>\n",
       "      <td>พิทักษ์ทรัพย์เด็ดขาด</td>\n",
       "      <td>10</td>\n",
       "      <td>0105534085532</td>\n",
       "      <td>109ดีไซน์ทีม</td>\n",
       "    </tr>\n",
       "    <tr>\n",
       "      <th>4</th>\n",
       "      <td>10</td>\n",
       "      <td>บจ.</td>\n",
       "      <td>109 ดีไซน์ ทีม</td>\n",
       "      <td>NaN</td>\n",
       "      <td>1</td>\n",
       "      <td>11</td>\n",
       "      <td>2013-07-30 00:00:00</td>\n",
       "      <td>2013-09-27 00:00:00</td>\n",
       "      <td>2013-12-24 00:00:00</td>\n",
       "      <td>NaN</td>\n",
       "      <td>พิพากษาล้มละลาย</td>\n",
       "      <td>10</td>\n",
       "      <td>0105534085532</td>\n",
       "      <td>109ดีไซน์ทีม</td>\n",
       "    </tr>\n",
       "  </tbody>\n",
       "</table>\n",
       "</div>"
      ],
      "text/plain": [
       "  Running No. Title of defendant Name and surname of defendant  \\\n",
       "0           1                นาย        (เจริญพร) ฮ็อก เหงวียน   \n",
       "1           1                นาย        (เจริญพร) ฮ็อก เหงวียน   \n",
       "2           1                นาย        (เจริญพร) ฮ็อก เหงวียน   \n",
       "3          10                บจ.                109 ดีไซน์ ทีม   \n",
       "4          10                บจ.                109 ดีไซน์ ทีม   \n",
       "\n",
       "  Surname of defendant Record item Code of judgement type  \\\n",
       "0              เหงวียน           1                     05   \n",
       "1              เหงวียน           1                     11   \n",
       "2              เหงวียน           1                     25   \n",
       "3                  NaN           1                     05   \n",
       "4                  NaN           1                     11   \n",
       "\n",
       "      Court Order date Receive & Amendment Date  \\\n",
       "0  2007-08-16 00:00:00      2009-04-27 00:00:00   \n",
       "1  2012-10-31 00:00:00      2013-02-04 00:00:00   \n",
       "2  2017-11-01 00:00:00      2017-12-20 00:00:00   \n",
       "3  2012-10-08 00:00:00      2012-11-28 00:00:00   \n",
       "4  2013-07-30 00:00:00      2013-09-27 00:00:00   \n",
       "\n",
       "  Royal Gazette Announcement Date Flag New Description of judgement  \\\n",
       "0             2009-06-02 00:00:00      NaN     พิทักษ์ทรัพย์เด็ดขาด   \n",
       "1             2013-03-26 00:00:00      NaN          พิพากษาล้มละลาย   \n",
       "2             2018-02-13 00:00:00      NaN           ปลดจากล้มละลาย   \n",
       "3             2013-01-29 00:00:00      NaN     พิทักษ์ทรัพย์เด็ดขาด   \n",
       "4             2013-12-24 00:00:00      NaN          พิพากษาล้มละลาย   \n",
       "\n",
       "  Running No.2        ID CODE Name_datamart_clean  \n",
       "0            1  6349957029441  เจริญพรฮ็อกเหงวียน  \n",
       "1            1  6349957029441  เจริญพรฮ็อกเหงวียน  \n",
       "2            1  6349957029441  เจริญพรฮ็อกเหงวียน  \n",
       "3           10  0105534085532        109ดีไซน์ทีม  \n",
       "4           10  0105534085532        109ดีไซน์ทีม  "
      ]
     },
     "execution_count": 42,
     "metadata": {},
     "output_type": "execute_result"
    }
   ],
   "source": [
    "df_datamart.head()"
   ]
  },
  {
   "cell_type": "markdown",
   "metadata": {
    "id": "smIQgs7L4GOg"
   },
   "source": [
    "## Merge ชื่อน่าสงสัย"
   ]
  },
  {
   "cell_type": "code",
   "execution_count": 43,
   "metadata": {
    "executionInfo": {
     "elapsed": 373,
     "status": "ok",
     "timestamp": 1698735228177,
     "user": {
      "displayName": "Tharaphon Nitijiramon",
      "userId": "16915625665235536451"
     },
     "user_tz": -420
    },
    "id": "4IaASQAr3-LE"
   },
   "outputs": [],
   "source": [
    "df_m1 = pd.merge(df_en2 , df_datamart , left_on = 'Name_clean' , right_on = 'Name_datamart_clean')"
   ]
  },
  {
   "cell_type": "code",
   "execution_count": 44,
   "metadata": {
    "colab": {
     "base_uri": "https://localhost:8080/"
    },
    "executionInfo": {
     "elapsed": 7,
     "status": "ok",
     "timestamp": 1698735228177,
     "user": {
      "displayName": "Tharaphon Nitijiramon",
      "userId": "16915625665235536451"
     },
     "user_tz": -420
    },
    "id": "q7xiMxrT4cmI",
    "outputId": "ed2efb46-2726-43b4-99f2-0646433494eb"
   },
   "outputs": [
    {
     "data": {
      "text/plain": [
       "715"
      ]
     },
     "execution_count": 44,
     "metadata": {},
     "output_type": "execute_result"
    }
   ],
   "source": [
    "len(df_m1)"
   ]
  },
  {
   "cell_type": "code",
   "execution_count": 45,
   "metadata": {
    "executionInfo": {
     "elapsed": 4,
     "status": "ok",
     "timestamp": 1698735228177,
     "user": {
      "displayName": "Tharaphon Nitijiramon",
      "userId": "16915625665235536451"
     },
     "user_tz": -420
    },
    "id": "vvaVU-y85hTq"
   },
   "outputs": [],
   "source": [
    "def find_des(df_w2):\n",
    "    rg_lst = list(df_w2['Name_clean'].unique())\n",
    "    #print(len(rg_lst))\n",
    "\n",
    "    word_yel = ['พิพากษาล้มละลาย' , 'เพิกถอนคำสั่งยกเลิกล้มละลาย' , 'เพิกถอนปลดจากล้มละลาย' ,\n",
    "                   'ยกเลิกปลดจากล้มละลาย','พิทักษ์ทรัพย์เด็ดขาด','พิทักษ์ทรัพย์ชั่วคราว']\n",
    "    word_gre = ['ปลดจากล้มละลาย' , 'ยกเลิกการล้มละลาย' ,'พ้นจากการเป็นบุคคลล้มละลาย' ,\n",
    "                   'เพิกถอนคำสั่งให้ล้มละลาย','ยกเลิกพิทักษ์ทรัพย์เด็ดขาด','ยกเลิกพิทักษ์ทรัพย์ชั่วคราว' , 'ปิดคดี' ,'จำหน่ายคดี' ,\n",
    "                   'ถอนการพิทักษ์ทรัพย์ชั่วคราว' , 'ถอนการพิทักษ์ทรัพย์เด็ดขาด' , 'ศาลฎีกาให้ยกฟ้องโจทก์']\n",
    "    df_w3 = pd.DataFrame()\n",
    "    for i in range(len(rg_lst)):\n",
    "        #print(i)\n",
    "        df1 = df_w2[df_w2['Name_clean'] == rg_lst[i]]\n",
    "        df1 = df1.sort_values(['Court Order date'])\n",
    "        df1.reset_index(drop = True , inplace = True)\n",
    "        n = 0\n",
    "        for j in range(len(df1)):\n",
    "            if df1.loc[j,'Description of judgement'] in word_yel:\n",
    "                n  = 1\n",
    "            elif df1.loc[j,'Description of judgement'] in word_gre:\n",
    "                n = 0\n",
    "        if n == 1:\n",
    "            df_w3 = pd.concat([df_w3 , df1])\n",
    "    return df_w3"
   ]
  },
  {
   "cell_type": "code",
   "execution_count": 46,
   "metadata": {
    "executionInfo": {
     "elapsed": 494,
     "status": "ok",
     "timestamp": 1698735228668,
     "user": {
      "displayName": "Tharaphon Nitijiramon",
      "userId": "16915625665235536451"
     },
     "user_tz": -420
    },
    "id": "1WhYa_s_5rEc"
   },
   "outputs": [],
   "source": [
    "id_list = df_m1['เลขทะเบียนนิติบุคคล (13 หลัก)'].unique().tolist()\n",
    "df_a1 = pd.DataFrame()\n",
    "for i in range(len(id_list)):\n",
    "  df_t1 = df_m1[df_m1['เลขทะเบียนนิติบุคคล (13 หลัก)'] == id_list[i]]\n",
    "  df_t2 = find_des(df_t1)\n",
    "  if len(df_t2) != 0:\n",
    "    df_a1 = pd.concat([df_a1 , df_t2])\n"
   ]
  },
  {
   "cell_type": "code",
   "execution_count": 47,
   "metadata": {
    "colab": {
     "base_uri": "https://localhost:8080/"
    },
    "executionInfo": {
     "elapsed": 27,
     "status": "ok",
     "timestamp": 1698735228669,
     "user": {
      "displayName": "Tharaphon Nitijiramon",
      "userId": "16915625665235536451"
     },
     "user_tz": -420
    },
    "id": "8q0H4U6k4hNG",
    "outputId": "fb40526e-0f72-47b0-92ec-9d891b42048c"
   },
   "outputs": [
    {
     "data": {
      "text/plain": [
       "162"
      ]
     },
     "execution_count": 47,
     "metadata": {},
     "output_type": "execute_result"
    }
   ],
   "source": [
    "len(df_a1)"
   ]
  },
  {
   "cell_type": "markdown",
   "metadata": {
    "id": "f6vIuGB26pgZ"
   },
   "source": [
    "## Clean Watch List File"
   ]
  },
  {
   "cell_type": "code",
   "execution_count": 48,
   "metadata": {
    "executionInfo": {
     "elapsed": 26,
     "status": "ok",
     "timestamp": 1698735228669,
     "user": {
      "displayName": "Tharaphon Nitijiramon",
      "userId": "16915625665235536451"
     },
     "user_tz": -420
    },
    "id": "e1oQseuE4iQP"
   },
   "outputs": [],
   "source": [
    "df_watch['รหัสลูกค้า'] = df_watch['รหัสลูกค้า'].apply(lambda x : x.zfill(7))"
   ]
  },
  {
   "cell_type": "code",
   "execution_count": 49,
   "metadata": {
    "colab": {
     "base_uri": "https://localhost:8080/",
     "height": 0
    },
    "executionInfo": {
     "elapsed": 24,
     "status": "ok",
     "timestamp": 1698735228669,
     "user": {
      "displayName": "Tharaphon Nitijiramon",
      "userId": "16915625665235536451"
     },
     "user_tz": -420
    },
    "id": "y7Wndt6i7W68",
    "outputId": "90a41dcf-9397-448a-a12b-ed62dac28710"
   },
   "outputs": [
    {
     "data": {
      "text/html": [
       "<div>\n",
       "<style scoped>\n",
       "    .dataframe tbody tr th:only-of-type {\n",
       "        vertical-align: middle;\n",
       "    }\n",
       "\n",
       "    .dataframe tbody tr th {\n",
       "        vertical-align: top;\n",
       "    }\n",
       "\n",
       "    .dataframe thead th {\n",
       "        text-align: right;\n",
       "    }\n",
       "</style>\n",
       "<table border=\"1\" class=\"dataframe\">\n",
       "  <thead>\n",
       "    <tr style=\"text-align: right;\">\n",
       "      <th></th>\n",
       "      <th>รหัสลูกค้า</th>\n",
       "      <th>CUCTAXCS</th>\n",
       "    </tr>\n",
       "  </thead>\n",
       "  <tbody>\n",
       "    <tr>\n",
       "      <th>0</th>\n",
       "      <td>G020109</td>\n",
       "      <td>0105538015709</td>\n",
       "    </tr>\n",
       "    <tr>\n",
       "      <th>1</th>\n",
       "      <td>G021476</td>\n",
       "      <td>0107537000262</td>\n",
       "    </tr>\n",
       "    <tr>\n",
       "      <th>2</th>\n",
       "      <td>G021488</td>\n",
       "      <td>0103521001856</td>\n",
       "    </tr>\n",
       "    <tr>\n",
       "      <th>3</th>\n",
       "      <td>G021616</td>\n",
       "      <td>0105544012597</td>\n",
       "    </tr>\n",
       "    <tr>\n",
       "      <th>4</th>\n",
       "      <td>G021641</td>\n",
       "      <td>0115534001711</td>\n",
       "    </tr>\n",
       "  </tbody>\n",
       "</table>\n",
       "</div>"
      ],
      "text/plain": [
       "  รหัสลูกค้า       CUCTAXCS\n",
       "0    G020109  0105538015709\n",
       "1    G021476  0107537000262\n",
       "2    G021488  0103521001856\n",
       "3    G021616  0105544012597\n",
       "4    G021641  0115534001711"
      ]
     },
     "execution_count": 49,
     "metadata": {},
     "output_type": "execute_result"
    }
   ],
   "source": [
    "df_pm.head()"
   ]
  },
  {
   "cell_type": "code",
   "execution_count": 50,
   "metadata": {
    "executionInfo": {
     "elapsed": 23,
     "status": "ok",
     "timestamp": 1698735228670,
     "user": {
      "displayName": "Tharaphon Nitijiramon",
      "userId": "16915625665235536451"
     },
     "user_tz": -420
    },
    "id": "2AwVgshR7RIs"
   },
   "outputs": [],
   "source": [
    "df_a2 = pd.merge(df_a1 , df_pm , left_on = 'เลขทะเบียนนิติบุคคล (13 หลัก)' , right_on  = 'CUCTAXCS' , how  = 'left')"
   ]
  },
  {
   "cell_type": "code",
   "execution_count": 51,
   "metadata": {
    "colab": {
     "base_uri": "https://localhost:8080/",
     "height": 0
    },
    "executionInfo": {
     "elapsed": 22,
     "status": "ok",
     "timestamp": 1698735228670,
     "user": {
      "displayName": "Tharaphon Nitijiramon",
      "userId": "16915625665235536451"
     },
     "user_tz": -420
    },
    "id": "kDVT0MgB7eUc",
    "outputId": "4a2c1fff-2e1c-48e1-a82f-116ee8e230ac"
   },
   "outputs": [
    {
     "data": {
      "text/html": [
       "<div>\n",
       "<style scoped>\n",
       "    .dataframe tbody tr th:only-of-type {\n",
       "        vertical-align: middle;\n",
       "    }\n",
       "\n",
       "    .dataframe tbody tr th {\n",
       "        vertical-align: top;\n",
       "    }\n",
       "\n",
       "    .dataframe thead th {\n",
       "        text-align: right;\n",
       "    }\n",
       "</style>\n",
       "<table border=\"1\" class=\"dataframe\">\n",
       "  <thead>\n",
       "    <tr style=\"text-align: right;\">\n",
       "      <th></th>\n",
       "      <th>ชื่อผู้เกี่ยวข้อง</th>\n",
       "      <th>ความเกี่ยวข้อง</th>\n",
       "      <th>เลขทะเบียนนิติบุคคล (13 หลัก)</th>\n",
       "      <th>ชื่อนิติบุคคลจดทะเบียนภาษาไทย</th>\n",
       "      <th>ชื่อนิติบุคคลจดทะเบียนภาษาอังกฤษ</th>\n",
       "      <th>อำนาจกรรมการ</th>\n",
       "      <th>Name_clean</th>\n",
       "      <th>อำนาจลงนาม</th>\n",
       "      <th>เปอร์เซ็นผู้ถือหุ้น</th>\n",
       "      <th>Running No.</th>\n",
       "      <th>Title of defendant</th>\n",
       "      <th>Name and surname of defendant</th>\n",
       "      <th>Surname of defendant</th>\n",
       "      <th>Record item</th>\n",
       "      <th>Code of judgement type</th>\n",
       "      <th>Court Order date</th>\n",
       "      <th>Receive &amp; Amendment Date</th>\n",
       "      <th>Royal Gazette Announcement Date</th>\n",
       "      <th>Flag New</th>\n",
       "      <th>Description of judgement</th>\n",
       "      <th>Running No.2</th>\n",
       "      <th>ID CODE</th>\n",
       "      <th>Name_datamart_clean</th>\n",
       "      <th>รหัสลูกค้า</th>\n",
       "      <th>CUCTAXCS</th>\n",
       "    </tr>\n",
       "  </thead>\n",
       "  <tbody>\n",
       "    <tr>\n",
       "      <th>0</th>\n",
       "      <td>วิไล เกียรติศรีชาติ</td>\n",
       "      <td>กรรมการ/ผู้ถือหุ้น</td>\n",
       "      <td>0105520009464</td>\n",
       "      <td>บริษัท แพนเอเซีย (1981) จำกัด</td>\n",
       "      <td>PAN ASIA (1981) COMPANY LIMITED</td>\n",
       "      <td>นางวิไล เกียรติศรีชาติ ลงลายมือชื่อ และประทับต...</td>\n",
       "      <td>วิไลเกียรติศรีชาติ</td>\n",
       "      <td>มีอำนาจลงนาม</td>\n",
       "      <td>28.61</td>\n",
       "      <td>202148</td>\n",
       "      <td>นาง</td>\n",
       "      <td>วิไล เกียรติศรีชาติ</td>\n",
       "      <td>เกียรติศรีชาติ</td>\n",
       "      <td>1</td>\n",
       "      <td>05</td>\n",
       "      <td>2023-06-12 00:00:00</td>\n",
       "      <td>2023-06-29 00:00:00</td>\n",
       "      <td>2023-06-29 00:00:00</td>\n",
       "      <td>NaN</td>\n",
       "      <td>พิทักษ์ทรัพย์เด็ดขาด</td>\n",
       "      <td>202148</td>\n",
       "      <td>3100502490041</td>\n",
       "      <td>วิไลเกียรติศรีชาติ</td>\n",
       "      <td>0006212</td>\n",
       "      <td>0105520009464</td>\n",
       "    </tr>\n",
       "    <tr>\n",
       "      <th>1</th>\n",
       "      <td>สุชัย อัศวปัญญาวงศ์</td>\n",
       "      <td>กรรมการ/ผู้ถือหุ้น</td>\n",
       "      <td>0105524005617</td>\n",
       "      <td>บริษัท ทียูซี เคมี  จำกัด</td>\n",
       "      <td>TUC CHEMICAL COMPANY LIMITED</td>\n",
       "      <td>นายสุชัย อัศวปัญญาวงศ์ ลงลายมือชื่อและประทับตร...</td>\n",
       "      <td>สุชัยอัศวปัญญาวงศ์</td>\n",
       "      <td>มีอำนาจลงนาม</td>\n",
       "      <td>73.00</td>\n",
       "      <td>247283</td>\n",
       "      <td>นาย</td>\n",
       "      <td>สุชัย อัศวปัญญาวงศ์</td>\n",
       "      <td>อัศวปัญญาวงศ์</td>\n",
       "      <td>1</td>\n",
       "      <td>05</td>\n",
       "      <td>2021-08-09 00:00:00</td>\n",
       "      <td>2021-08-25 00:00:00</td>\n",
       "      <td>2021-08-25 00:00:00</td>\n",
       "      <td>NaN</td>\n",
       "      <td>พิทักษ์ทรัพย์เด็ดขาด</td>\n",
       "      <td>247283</td>\n",
       "      <td>3101401907729</td>\n",
       "      <td>สุชัยอัศวปัญญาวงศ์</td>\n",
       "      <td>0076607</td>\n",
       "      <td>0105524005617</td>\n",
       "    </tr>\n",
       "    <tr>\n",
       "      <th>2</th>\n",
       "      <td>สุชัย อัศวปัญญาวงศ์</td>\n",
       "      <td>กรรมการ/ผู้ถือหุ้น</td>\n",
       "      <td>0105524005617</td>\n",
       "      <td>บริษัท ทียูซี เคมี  จำกัด</td>\n",
       "      <td>TUC CHEMICAL COMPANY LIMITED</td>\n",
       "      <td>นายสุชัย อัศวปัญญาวงศ์ ลงลายมือชื่อและประทับตร...</td>\n",
       "      <td>สุชัยอัศวปัญญาวงศ์</td>\n",
       "      <td>มีอำนาจลงนาม</td>\n",
       "      <td>73.00</td>\n",
       "      <td>247283</td>\n",
       "      <td>นาย</td>\n",
       "      <td>สุชัย อัศวปัญญาวงศ์</td>\n",
       "      <td>อัศวปัญญาวงศ์</td>\n",
       "      <td>1</td>\n",
       "      <td>08</td>\n",
       "      <td>2023-08-28 00:00:00</td>\n",
       "      <td>2023-10-27 00:00:00</td>\n",
       "      <td>2023-12-26 00:00:00</td>\n",
       "      <td>NaN</td>\n",
       "      <td>ประนอมหนี้ก่อนล้มละลาย</td>\n",
       "      <td>247283</td>\n",
       "      <td>3101401907729</td>\n",
       "      <td>สุชัยอัศวปัญญาวงศ์</td>\n",
       "      <td>0076607</td>\n",
       "      <td>0105524005617</td>\n",
       "    </tr>\n",
       "    <tr>\n",
       "      <th>3</th>\n",
       "      <td>กนกพร ประพันธ์</td>\n",
       "      <td>กรรมการ/ผู้ถือหุ้น</td>\n",
       "      <td>0105529036529</td>\n",
       "      <td>บริษัท วี.เอส.เอ.เทรดดิ้ง จำกัด</td>\n",
       "      <td>V.S.A.TRADING CO.,LTD.</td>\n",
       "      <td>กรรมการคนใดคนหนึ่งลงลายมือชื่อและประทับตราสำคั...</td>\n",
       "      <td>กนกพรประพันธ์</td>\n",
       "      <td>มีอำนาจลงนาม</td>\n",
       "      <td>49.70</td>\n",
       "      <td>923</td>\n",
       "      <td>นาง</td>\n",
       "      <td>กนกพร ประพันธ์</td>\n",
       "      <td>ประพันธ์</td>\n",
       "      <td>1</td>\n",
       "      <td>05</td>\n",
       "      <td>2024-02-05 00:00:00</td>\n",
       "      <td>2024-02-19 00:00:00</td>\n",
       "      <td>2024-02-19 00:00:00</td>\n",
       "      <td>NaN</td>\n",
       "      <td>พิทักษ์ทรัพย์เด็ดขาด</td>\n",
       "      <td>923</td>\n",
       "      <td>3101203623783</td>\n",
       "      <td>กนกพรประพันธ์</td>\n",
       "      <td>0053257</td>\n",
       "      <td>0105529036529</td>\n",
       "    </tr>\n",
       "    <tr>\n",
       "      <th>4</th>\n",
       "      <td>นิพนธ์ เกิดประดับ</td>\n",
       "      <td>กรรมการ/ผู้ถือหุ้น</td>\n",
       "      <td>0105536013822</td>\n",
       "      <td>บริษัท โปรโตไทพ์ อินเตอร์ เนชั่นแนล จำกัด</td>\n",
       "      <td>PROTOTYPE INTERNATIONAL CO.,LTD.</td>\n",
       "      <td>กรรมการหนึ่งคนลงลายมือชื่อและประทับตราสำคัญของ...</td>\n",
       "      <td>นิพนธ์เกิดประดับ</td>\n",
       "      <td>มีอำนาจลงนาม</td>\n",
       "      <td>88.00</td>\n",
       "      <td>98408</td>\n",
       "      <td>นาย</td>\n",
       "      <td>นิพนธ์ เกิดประดับ</td>\n",
       "      <td>เกิดประดับ</td>\n",
       "      <td>1</td>\n",
       "      <td>05</td>\n",
       "      <td>2020-06-22 00:00:00</td>\n",
       "      <td>2020-07-15 00:00:00</td>\n",
       "      <td>2020-07-15 00:00:00</td>\n",
       "      <td>NaN</td>\n",
       "      <td>พิทักษ์ทรัพย์เด็ดขาด</td>\n",
       "      <td>98408</td>\n",
       "      <td>3739900010572</td>\n",
       "      <td>นิพนธ์เกิดประดับ</td>\n",
       "      <td>0037504</td>\n",
       "      <td>0105536013822</td>\n",
       "    </tr>\n",
       "  </tbody>\n",
       "</table>\n",
       "</div>"
      ],
      "text/plain": [
       "     ชื่อผู้เกี่ยวข้อง      ความเกี่ยวข้อง เลขทะเบียนนิติบุคคล (13 หลัก)  \\\n",
       "0  วิไล เกียรติศรีชาติ  กรรมการ/ผู้ถือหุ้น                 0105520009464   \n",
       "1  สุชัย อัศวปัญญาวงศ์  กรรมการ/ผู้ถือหุ้น                 0105524005617   \n",
       "2  สุชัย อัศวปัญญาวงศ์  กรรมการ/ผู้ถือหุ้น                 0105524005617   \n",
       "3       กนกพร ประพันธ์  กรรมการ/ผู้ถือหุ้น                 0105529036529   \n",
       "4    นิพนธ์ เกิดประดับ  กรรมการ/ผู้ถือหุ้น                 0105536013822   \n",
       "\n",
       "               ชื่อนิติบุคคลจดทะเบียนภาษาไทย  \\\n",
       "0              บริษัท แพนเอเซีย (1981) จำกัด   \n",
       "1                  บริษัท ทียูซี เคมี  จำกัด   \n",
       "2                  บริษัท ทียูซี เคมี  จำกัด   \n",
       "3            บริษัท วี.เอส.เอ.เทรดดิ้ง จำกัด   \n",
       "4  บริษัท โปรโตไทพ์ อินเตอร์ เนชั่นแนล จำกัด   \n",
       "\n",
       "   ชื่อนิติบุคคลจดทะเบียนภาษาอังกฤษ  \\\n",
       "0   PAN ASIA (1981) COMPANY LIMITED   \n",
       "1      TUC CHEMICAL COMPANY LIMITED   \n",
       "2      TUC CHEMICAL COMPANY LIMITED   \n",
       "3            V.S.A.TRADING CO.,LTD.   \n",
       "4  PROTOTYPE INTERNATIONAL CO.,LTD.   \n",
       "\n",
       "                                        อำนาจกรรมการ          Name_clean  \\\n",
       "0  นางวิไล เกียรติศรีชาติ ลงลายมือชื่อ และประทับต...  วิไลเกียรติศรีชาติ   \n",
       "1  นายสุชัย อัศวปัญญาวงศ์ ลงลายมือชื่อและประทับตร...  สุชัยอัศวปัญญาวงศ์   \n",
       "2  นายสุชัย อัศวปัญญาวงศ์ ลงลายมือชื่อและประทับตร...  สุชัยอัศวปัญญาวงศ์   \n",
       "3  กรรมการคนใดคนหนึ่งลงลายมือชื่อและประทับตราสำคั...       กนกพรประพันธ์   \n",
       "4  กรรมการหนึ่งคนลงลายมือชื่อและประทับตราสำคัญของ...    นิพนธ์เกิดประดับ   \n",
       "\n",
       "     อำนาจลงนาม  เปอร์เซ็นผู้ถือหุ้น Running No. Title of defendant  \\\n",
       "0  มีอำนาจลงนาม                28.61      202148                นาง   \n",
       "1  มีอำนาจลงนาม                73.00      247283                นาย   \n",
       "2  มีอำนาจลงนาม                73.00      247283                นาย   \n",
       "3  มีอำนาจลงนาม                49.70         923                นาง   \n",
       "4  มีอำนาจลงนาม                88.00       98408                นาย   \n",
       "\n",
       "  Name and surname of defendant Surname of defendant Record item  \\\n",
       "0           วิไล เกียรติศรีชาติ       เกียรติศรีชาติ           1   \n",
       "1           สุชัย อัศวปัญญาวงศ์        อัศวปัญญาวงศ์           1   \n",
       "2           สุชัย อัศวปัญญาวงศ์        อัศวปัญญาวงศ์           1   \n",
       "3                กนกพร ประพันธ์             ประพันธ์           1   \n",
       "4             นิพนธ์ เกิดประดับ           เกิดประดับ           1   \n",
       "\n",
       "  Code of judgement type     Court Order date Receive & Amendment Date  \\\n",
       "0                     05  2023-06-12 00:00:00      2023-06-29 00:00:00   \n",
       "1                     05  2021-08-09 00:00:00      2021-08-25 00:00:00   \n",
       "2                     08  2023-08-28 00:00:00      2023-10-27 00:00:00   \n",
       "3                     05  2024-02-05 00:00:00      2024-02-19 00:00:00   \n",
       "4                     05  2020-06-22 00:00:00      2020-07-15 00:00:00   \n",
       "\n",
       "  Royal Gazette Announcement Date Flag New Description of judgement  \\\n",
       "0             2023-06-29 00:00:00      NaN     พิทักษ์ทรัพย์เด็ดขาด   \n",
       "1             2021-08-25 00:00:00      NaN     พิทักษ์ทรัพย์เด็ดขาด   \n",
       "2             2023-12-26 00:00:00      NaN   ประนอมหนี้ก่อนล้มละลาย   \n",
       "3             2024-02-19 00:00:00      NaN     พิทักษ์ทรัพย์เด็ดขาด   \n",
       "4             2020-07-15 00:00:00      NaN     พิทักษ์ทรัพย์เด็ดขาด   \n",
       "\n",
       "  Running No.2        ID CODE Name_datamart_clean รหัสลูกค้า       CUCTAXCS  \n",
       "0       202148  3100502490041  วิไลเกียรติศรีชาติ    0006212  0105520009464  \n",
       "1       247283  3101401907729  สุชัยอัศวปัญญาวงศ์    0076607  0105524005617  \n",
       "2       247283  3101401907729  สุชัยอัศวปัญญาวงศ์    0076607  0105524005617  \n",
       "3          923  3101203623783       กนกพรประพันธ์    0053257  0105529036529  \n",
       "4        98408  3739900010572    นิพนธ์เกิดประดับ    0037504  0105536013822  "
      ]
     },
     "execution_count": 51,
     "metadata": {},
     "output_type": "execute_result"
    }
   ],
   "source": [
    "df_a2.head()"
   ]
  },
  {
   "cell_type": "code",
   "execution_count": 52,
   "metadata": {
    "executionInfo": {
     "elapsed": 17,
     "status": "ok",
     "timestamp": 1698735228670,
     "user": {
      "displayName": "Tharaphon Nitijiramon",
      "userId": "16915625665235536451"
     },
     "user_tz": -420
    },
    "id": "brJ5e-lg6vBy"
   },
   "outputs": [],
   "source": [
    "df_w1 = df_watch[['รหัสลูกค้า']].drop_duplicates()"
   ]
  },
  {
   "cell_type": "code",
   "execution_count": 53,
   "metadata": {
    "executionInfo": {
     "elapsed": 15,
     "status": "ok",
     "timestamp": 1698735228670,
     "user": {
      "displayName": "Tharaphon Nitijiramon",
      "userId": "16915625665235536451"
     },
     "user_tz": -420
    },
    "id": "NRnJP6Um7s9V"
   },
   "outputs": [],
   "source": [
    "df_w1.columns = ['รหัสลูกค้า_watch']"
   ]
  },
  {
   "cell_type": "code",
   "execution_count": 54,
   "metadata": {
    "colab": {
     "base_uri": "https://localhost:8080/",
     "height": 0
    },
    "executionInfo": {
     "elapsed": 15,
     "status": "ok",
     "timestamp": 1698735228670,
     "user": {
      "displayName": "Tharaphon Nitijiramon",
      "userId": "16915625665235536451"
     },
     "user_tz": -420
    },
    "id": "7ZSGl3bJ6_bq",
    "outputId": "623a095f-7632-4ac3-c36b-9650e05b44dc"
   },
   "outputs": [
    {
     "data": {
      "text/html": [
       "<div>\n",
       "<style scoped>\n",
       "    .dataframe tbody tr th:only-of-type {\n",
       "        vertical-align: middle;\n",
       "    }\n",
       "\n",
       "    .dataframe tbody tr th {\n",
       "        vertical-align: top;\n",
       "    }\n",
       "\n",
       "    .dataframe thead th {\n",
       "        text-align: right;\n",
       "    }\n",
       "</style>\n",
       "<table border=\"1\" class=\"dataframe\">\n",
       "  <thead>\n",
       "    <tr style=\"text-align: right;\">\n",
       "      <th></th>\n",
       "      <th>รหัสลูกค้า_watch</th>\n",
       "    </tr>\n",
       "  </thead>\n",
       "  <tbody>\n",
       "    <tr>\n",
       "      <th>0</th>\n",
       "      <td>0000438</td>\n",
       "    </tr>\n",
       "    <tr>\n",
       "      <th>6</th>\n",
       "      <td>0000722</td>\n",
       "    </tr>\n",
       "    <tr>\n",
       "      <th>11</th>\n",
       "      <td>0001058</td>\n",
       "    </tr>\n",
       "    <tr>\n",
       "      <th>14</th>\n",
       "      <td>0001826</td>\n",
       "    </tr>\n",
       "    <tr>\n",
       "      <th>17</th>\n",
       "      <td>0004573</td>\n",
       "    </tr>\n",
       "  </tbody>\n",
       "</table>\n",
       "</div>"
      ],
      "text/plain": [
       "   รหัสลูกค้า_watch\n",
       "0           0000438\n",
       "6           0000722\n",
       "11          0001058\n",
       "14          0001826\n",
       "17          0004573"
      ]
     },
     "execution_count": 54,
     "metadata": {},
     "output_type": "execute_result"
    }
   ],
   "source": [
    "df_w1.head()"
   ]
  },
  {
   "cell_type": "code",
   "execution_count": 55,
   "metadata": {
    "executionInfo": {
     "elapsed": 500,
     "status": "ok",
     "timestamp": 1698735229158,
     "user": {
      "displayName": "Tharaphon Nitijiramon",
      "userId": "16915625665235536451"
     },
     "user_tz": -420
    },
    "id": "-48M8-Ix7xms"
   },
   "outputs": [],
   "source": [
    "df_a3 = df_a2[~df_a2['รหัสลูกค้า'].isin(df_w1['รหัสลูกค้า_watch'])]"
   ]
  },
  {
   "cell_type": "code",
   "execution_count": 56,
   "metadata": {
    "colab": {
     "base_uri": "https://localhost:8080/"
    },
    "executionInfo": {
     "elapsed": 13,
     "status": "ok",
     "timestamp": 1698735229159,
     "user": {
      "displayName": "Tharaphon Nitijiramon",
      "userId": "16915625665235536451"
     },
     "user_tz": -420
    },
    "id": "v7k4aP1b8DNt",
    "outputId": "61e7baa9-0de2-47a6-e0f7-3e764b11e7bf"
   },
   "outputs": [
    {
     "name": "stdout",
     "output_type": "stream",
     "text": [
      "162 155\n"
     ]
    }
   ],
   "source": [
    "print(len(df_a2) , len(df_a3))"
   ]
  },
  {
   "cell_type": "code",
   "execution_count": 57,
   "metadata": {
    "colab": {
     "base_uri": "https://localhost:8080/",
     "height": 0
    },
    "executionInfo": {
     "elapsed": 11,
     "status": "ok",
     "timestamp": 1698735229159,
     "user": {
      "displayName": "Tharaphon Nitijiramon",
      "userId": "16915625665235536451"
     },
     "user_tz": -420
    },
    "id": "CLvyW9jz8Gar",
    "outputId": "b22a5e60-f68e-42a9-e3c1-26db8aee637f"
   },
   "outputs": [
    {
     "data": {
      "text/html": [
       "<div>\n",
       "<style scoped>\n",
       "    .dataframe tbody tr th:only-of-type {\n",
       "        vertical-align: middle;\n",
       "    }\n",
       "\n",
       "    .dataframe tbody tr th {\n",
       "        vertical-align: top;\n",
       "    }\n",
       "\n",
       "    .dataframe thead th {\n",
       "        text-align: right;\n",
       "    }\n",
       "</style>\n",
       "<table border=\"1\" class=\"dataframe\">\n",
       "  <thead>\n",
       "    <tr style=\"text-align: right;\">\n",
       "      <th></th>\n",
       "      <th>ชื่อผู้เกี่ยวข้อง</th>\n",
       "      <th>ความเกี่ยวข้อง</th>\n",
       "      <th>เลขทะเบียนนิติบุคคล (13 หลัก)</th>\n",
       "      <th>ชื่อนิติบุคคลจดทะเบียนภาษาไทย</th>\n",
       "      <th>ชื่อนิติบุคคลจดทะเบียนภาษาอังกฤษ</th>\n",
       "      <th>อำนาจกรรมการ</th>\n",
       "      <th>Name_clean</th>\n",
       "      <th>อำนาจลงนาม</th>\n",
       "      <th>เปอร์เซ็นผู้ถือหุ้น</th>\n",
       "      <th>Running No.</th>\n",
       "      <th>Title of defendant</th>\n",
       "      <th>Name and surname of defendant</th>\n",
       "      <th>Surname of defendant</th>\n",
       "      <th>Record item</th>\n",
       "      <th>Code of judgement type</th>\n",
       "      <th>Court Order date</th>\n",
       "      <th>Receive &amp; Amendment Date</th>\n",
       "      <th>Royal Gazette Announcement Date</th>\n",
       "      <th>Flag New</th>\n",
       "      <th>Description of judgement</th>\n",
       "      <th>Running No.2</th>\n",
       "      <th>ID CODE</th>\n",
       "      <th>Name_datamart_clean</th>\n",
       "      <th>รหัสลูกค้า</th>\n",
       "      <th>CUCTAXCS</th>\n",
       "    </tr>\n",
       "  </thead>\n",
       "  <tbody>\n",
       "    <tr>\n",
       "      <th>0</th>\n",
       "      <td>วิไล เกียรติศรีชาติ</td>\n",
       "      <td>กรรมการ/ผู้ถือหุ้น</td>\n",
       "      <td>0105520009464</td>\n",
       "      <td>บริษัท แพนเอเซีย (1981) จำกัด</td>\n",
       "      <td>PAN ASIA (1981) COMPANY LIMITED</td>\n",
       "      <td>นางวิไล เกียรติศรีชาติ ลงลายมือชื่อ และประทับต...</td>\n",
       "      <td>วิไลเกียรติศรีชาติ</td>\n",
       "      <td>มีอำนาจลงนาม</td>\n",
       "      <td>28.61</td>\n",
       "      <td>202148</td>\n",
       "      <td>นาง</td>\n",
       "      <td>วิไล เกียรติศรีชาติ</td>\n",
       "      <td>เกียรติศรีชาติ</td>\n",
       "      <td>1</td>\n",
       "      <td>05</td>\n",
       "      <td>2023-06-12 00:00:00</td>\n",
       "      <td>2023-06-29 00:00:00</td>\n",
       "      <td>2023-06-29 00:00:00</td>\n",
       "      <td>NaN</td>\n",
       "      <td>พิทักษ์ทรัพย์เด็ดขาด</td>\n",
       "      <td>202148</td>\n",
       "      <td>3100502490041</td>\n",
       "      <td>วิไลเกียรติศรีชาติ</td>\n",
       "      <td>0006212</td>\n",
       "      <td>0105520009464</td>\n",
       "    </tr>\n",
       "    <tr>\n",
       "      <th>1</th>\n",
       "      <td>สุชัย อัศวปัญญาวงศ์</td>\n",
       "      <td>กรรมการ/ผู้ถือหุ้น</td>\n",
       "      <td>0105524005617</td>\n",
       "      <td>บริษัท ทียูซี เคมี  จำกัด</td>\n",
       "      <td>TUC CHEMICAL COMPANY LIMITED</td>\n",
       "      <td>นายสุชัย อัศวปัญญาวงศ์ ลงลายมือชื่อและประทับตร...</td>\n",
       "      <td>สุชัยอัศวปัญญาวงศ์</td>\n",
       "      <td>มีอำนาจลงนาม</td>\n",
       "      <td>73.00</td>\n",
       "      <td>247283</td>\n",
       "      <td>นาย</td>\n",
       "      <td>สุชัย อัศวปัญญาวงศ์</td>\n",
       "      <td>อัศวปัญญาวงศ์</td>\n",
       "      <td>1</td>\n",
       "      <td>05</td>\n",
       "      <td>2021-08-09 00:00:00</td>\n",
       "      <td>2021-08-25 00:00:00</td>\n",
       "      <td>2021-08-25 00:00:00</td>\n",
       "      <td>NaN</td>\n",
       "      <td>พิทักษ์ทรัพย์เด็ดขาด</td>\n",
       "      <td>247283</td>\n",
       "      <td>3101401907729</td>\n",
       "      <td>สุชัยอัศวปัญญาวงศ์</td>\n",
       "      <td>0076607</td>\n",
       "      <td>0105524005617</td>\n",
       "    </tr>\n",
       "    <tr>\n",
       "      <th>2</th>\n",
       "      <td>สุชัย อัศวปัญญาวงศ์</td>\n",
       "      <td>กรรมการ/ผู้ถือหุ้น</td>\n",
       "      <td>0105524005617</td>\n",
       "      <td>บริษัท ทียูซี เคมี  จำกัด</td>\n",
       "      <td>TUC CHEMICAL COMPANY LIMITED</td>\n",
       "      <td>นายสุชัย อัศวปัญญาวงศ์ ลงลายมือชื่อและประทับตร...</td>\n",
       "      <td>สุชัยอัศวปัญญาวงศ์</td>\n",
       "      <td>มีอำนาจลงนาม</td>\n",
       "      <td>73.00</td>\n",
       "      <td>247283</td>\n",
       "      <td>นาย</td>\n",
       "      <td>สุชัย อัศวปัญญาวงศ์</td>\n",
       "      <td>อัศวปัญญาวงศ์</td>\n",
       "      <td>1</td>\n",
       "      <td>08</td>\n",
       "      <td>2023-08-28 00:00:00</td>\n",
       "      <td>2023-10-27 00:00:00</td>\n",
       "      <td>2023-12-26 00:00:00</td>\n",
       "      <td>NaN</td>\n",
       "      <td>ประนอมหนี้ก่อนล้มละลาย</td>\n",
       "      <td>247283</td>\n",
       "      <td>3101401907729</td>\n",
       "      <td>สุชัยอัศวปัญญาวงศ์</td>\n",
       "      <td>0076607</td>\n",
       "      <td>0105524005617</td>\n",
       "    </tr>\n",
       "    <tr>\n",
       "      <th>3</th>\n",
       "      <td>กนกพร ประพันธ์</td>\n",
       "      <td>กรรมการ/ผู้ถือหุ้น</td>\n",
       "      <td>0105529036529</td>\n",
       "      <td>บริษัท วี.เอส.เอ.เทรดดิ้ง จำกัด</td>\n",
       "      <td>V.S.A.TRADING CO.,LTD.</td>\n",
       "      <td>กรรมการคนใดคนหนึ่งลงลายมือชื่อและประทับตราสำคั...</td>\n",
       "      <td>กนกพรประพันธ์</td>\n",
       "      <td>มีอำนาจลงนาม</td>\n",
       "      <td>49.70</td>\n",
       "      <td>923</td>\n",
       "      <td>นาง</td>\n",
       "      <td>กนกพร ประพันธ์</td>\n",
       "      <td>ประพันธ์</td>\n",
       "      <td>1</td>\n",
       "      <td>05</td>\n",
       "      <td>2024-02-05 00:00:00</td>\n",
       "      <td>2024-02-19 00:00:00</td>\n",
       "      <td>2024-02-19 00:00:00</td>\n",
       "      <td>NaN</td>\n",
       "      <td>พิทักษ์ทรัพย์เด็ดขาด</td>\n",
       "      <td>923</td>\n",
       "      <td>3101203623783</td>\n",
       "      <td>กนกพรประพันธ์</td>\n",
       "      <td>0053257</td>\n",
       "      <td>0105529036529</td>\n",
       "    </tr>\n",
       "    <tr>\n",
       "      <th>4</th>\n",
       "      <td>นิพนธ์ เกิดประดับ</td>\n",
       "      <td>กรรมการ/ผู้ถือหุ้น</td>\n",
       "      <td>0105536013822</td>\n",
       "      <td>บริษัท โปรโตไทพ์ อินเตอร์ เนชั่นแนล จำกัด</td>\n",
       "      <td>PROTOTYPE INTERNATIONAL CO.,LTD.</td>\n",
       "      <td>กรรมการหนึ่งคนลงลายมือชื่อและประทับตราสำคัญของ...</td>\n",
       "      <td>นิพนธ์เกิดประดับ</td>\n",
       "      <td>มีอำนาจลงนาม</td>\n",
       "      <td>88.00</td>\n",
       "      <td>98408</td>\n",
       "      <td>นาย</td>\n",
       "      <td>นิพนธ์ เกิดประดับ</td>\n",
       "      <td>เกิดประดับ</td>\n",
       "      <td>1</td>\n",
       "      <td>05</td>\n",
       "      <td>2020-06-22 00:00:00</td>\n",
       "      <td>2020-07-15 00:00:00</td>\n",
       "      <td>2020-07-15 00:00:00</td>\n",
       "      <td>NaN</td>\n",
       "      <td>พิทักษ์ทรัพย์เด็ดขาด</td>\n",
       "      <td>98408</td>\n",
       "      <td>3739900010572</td>\n",
       "      <td>นิพนธ์เกิดประดับ</td>\n",
       "      <td>0037504</td>\n",
       "      <td>0105536013822</td>\n",
       "    </tr>\n",
       "  </tbody>\n",
       "</table>\n",
       "</div>"
      ],
      "text/plain": [
       "     ชื่อผู้เกี่ยวข้อง      ความเกี่ยวข้อง เลขทะเบียนนิติบุคคล (13 หลัก)  \\\n",
       "0  วิไล เกียรติศรีชาติ  กรรมการ/ผู้ถือหุ้น                 0105520009464   \n",
       "1  สุชัย อัศวปัญญาวงศ์  กรรมการ/ผู้ถือหุ้น                 0105524005617   \n",
       "2  สุชัย อัศวปัญญาวงศ์  กรรมการ/ผู้ถือหุ้น                 0105524005617   \n",
       "3       กนกพร ประพันธ์  กรรมการ/ผู้ถือหุ้น                 0105529036529   \n",
       "4    นิพนธ์ เกิดประดับ  กรรมการ/ผู้ถือหุ้น                 0105536013822   \n",
       "\n",
       "               ชื่อนิติบุคคลจดทะเบียนภาษาไทย  \\\n",
       "0              บริษัท แพนเอเซีย (1981) จำกัด   \n",
       "1                  บริษัท ทียูซี เคมี  จำกัด   \n",
       "2                  บริษัท ทียูซี เคมี  จำกัด   \n",
       "3            บริษัท วี.เอส.เอ.เทรดดิ้ง จำกัด   \n",
       "4  บริษัท โปรโตไทพ์ อินเตอร์ เนชั่นแนล จำกัด   \n",
       "\n",
       "   ชื่อนิติบุคคลจดทะเบียนภาษาอังกฤษ  \\\n",
       "0   PAN ASIA (1981) COMPANY LIMITED   \n",
       "1      TUC CHEMICAL COMPANY LIMITED   \n",
       "2      TUC CHEMICAL COMPANY LIMITED   \n",
       "3            V.S.A.TRADING CO.,LTD.   \n",
       "4  PROTOTYPE INTERNATIONAL CO.,LTD.   \n",
       "\n",
       "                                        อำนาจกรรมการ          Name_clean  \\\n",
       "0  นางวิไล เกียรติศรีชาติ ลงลายมือชื่อ และประทับต...  วิไลเกียรติศรีชาติ   \n",
       "1  นายสุชัย อัศวปัญญาวงศ์ ลงลายมือชื่อและประทับตร...  สุชัยอัศวปัญญาวงศ์   \n",
       "2  นายสุชัย อัศวปัญญาวงศ์ ลงลายมือชื่อและประทับตร...  สุชัยอัศวปัญญาวงศ์   \n",
       "3  กรรมการคนใดคนหนึ่งลงลายมือชื่อและประทับตราสำคั...       กนกพรประพันธ์   \n",
       "4  กรรมการหนึ่งคนลงลายมือชื่อและประทับตราสำคัญของ...    นิพนธ์เกิดประดับ   \n",
       "\n",
       "     อำนาจลงนาม  เปอร์เซ็นผู้ถือหุ้น Running No. Title of defendant  \\\n",
       "0  มีอำนาจลงนาม                28.61      202148                นาง   \n",
       "1  มีอำนาจลงนาม                73.00      247283                นาย   \n",
       "2  มีอำนาจลงนาม                73.00      247283                นาย   \n",
       "3  มีอำนาจลงนาม                49.70         923                นาง   \n",
       "4  มีอำนาจลงนาม                88.00       98408                นาย   \n",
       "\n",
       "  Name and surname of defendant Surname of defendant Record item  \\\n",
       "0           วิไล เกียรติศรีชาติ       เกียรติศรีชาติ           1   \n",
       "1           สุชัย อัศวปัญญาวงศ์        อัศวปัญญาวงศ์           1   \n",
       "2           สุชัย อัศวปัญญาวงศ์        อัศวปัญญาวงศ์           1   \n",
       "3                กนกพร ประพันธ์             ประพันธ์           1   \n",
       "4             นิพนธ์ เกิดประดับ           เกิดประดับ           1   \n",
       "\n",
       "  Code of judgement type     Court Order date Receive & Amendment Date  \\\n",
       "0                     05  2023-06-12 00:00:00      2023-06-29 00:00:00   \n",
       "1                     05  2021-08-09 00:00:00      2021-08-25 00:00:00   \n",
       "2                     08  2023-08-28 00:00:00      2023-10-27 00:00:00   \n",
       "3                     05  2024-02-05 00:00:00      2024-02-19 00:00:00   \n",
       "4                     05  2020-06-22 00:00:00      2020-07-15 00:00:00   \n",
       "\n",
       "  Royal Gazette Announcement Date Flag New Description of judgement  \\\n",
       "0             2023-06-29 00:00:00      NaN     พิทักษ์ทรัพย์เด็ดขาด   \n",
       "1             2021-08-25 00:00:00      NaN     พิทักษ์ทรัพย์เด็ดขาด   \n",
       "2             2023-12-26 00:00:00      NaN   ประนอมหนี้ก่อนล้มละลาย   \n",
       "3             2024-02-19 00:00:00      NaN     พิทักษ์ทรัพย์เด็ดขาด   \n",
       "4             2020-07-15 00:00:00      NaN     พิทักษ์ทรัพย์เด็ดขาด   \n",
       "\n",
       "  Running No.2        ID CODE Name_datamart_clean รหัสลูกค้า       CUCTAXCS  \n",
       "0       202148  3100502490041  วิไลเกียรติศรีชาติ    0006212  0105520009464  \n",
       "1       247283  3101401907729  สุชัยอัศวปัญญาวงศ์    0076607  0105524005617  \n",
       "2       247283  3101401907729  สุชัยอัศวปัญญาวงศ์    0076607  0105524005617  \n",
       "3          923  3101203623783       กนกพรประพันธ์    0053257  0105529036529  \n",
       "4        98408  3739900010572    นิพนธ์เกิดประดับ    0037504  0105536013822  "
      ]
     },
     "execution_count": 57,
     "metadata": {},
     "output_type": "execute_result"
    }
   ],
   "source": [
    "df_a3.head()"
   ]
  },
  {
   "cell_type": "markdown",
   "metadata": {
    "id": "79pDAMCj8WyA"
   },
   "source": [
    "## Clean Outstanding File"
   ]
  },
  {
   "cell_type": "code",
   "execution_count": 58,
   "metadata": {
    "executionInfo": {
     "elapsed": 9,
     "status": "ok",
     "timestamp": 1698735229159,
     "user": {
      "displayName": "Tharaphon Nitijiramon",
      "userId": "16915625665235536451"
     },
     "user_tz": -420
    },
    "id": "ACP4EeUv8IEL"
   },
   "outputs": [],
   "source": [
    "df_out1 = df_out[['รหัสลูกค้า' , 'ผู้ดูแลลูกค้า_(แยกส่วน)' , 'ผู้ดูแลลูกค้า_(ตามฝ่าย)' , 'วันที่อนุมัติ', 'วันที่ทบทวนล่าสุด']].drop_duplicates()"
   ]
  },
  {
   "cell_type": "code",
   "execution_count": 59,
   "metadata": {
    "executionInfo": {
     "elapsed": 8,
     "status": "ok",
     "timestamp": 1698735229159,
     "user": {
      "displayName": "Tharaphon Nitijiramon",
      "userId": "16915625665235536451"
     },
     "user_tz": -420
    },
    "id": "GiRkJOqh9zuJ"
   },
   "outputs": [],
   "source": [
    "df_out1 = df_out1.dropna(subset = ['ผู้ดูแลลูกค้า_(แยกส่วน)'])"
   ]
  },
  {
   "cell_type": "code",
   "execution_count": 60,
   "metadata": {
    "executionInfo": {
     "elapsed": 8,
     "status": "ok",
     "timestamp": 1698735229159,
     "user": {
      "displayName": "Tharaphon Nitijiramon",
      "userId": "16915625665235536451"
     },
     "user_tz": -420
    },
    "id": "eYCYfnAf8yqk"
   },
   "outputs": [],
   "source": [
    "def clean_date_out(a):\n",
    "  if pd.isna(a) == False:\n",
    "    if a[6:8] == '26':\n",
    "      a = a.replace('265' , '256')\n",
    "      a = a[:6] + str(int(a[6:]) - 543)\n",
    "      a = pd.to_datetime( a , format = '%d/%m/%Y')\n",
    "    elif a[6:8] == '25':\n",
    "      a = a[:6] + str(int(a[6:]) - 543)\n",
    "      a = pd.to_datetime( a , format = '%d/%m/%Y')\n",
    "    elif a[6:8] == '20' or a[6:8] == '19':\n",
    "      a = pd.to_datetime( a , format = '%d/%m/%Y')\n",
    "    elif a[6:7] == '3':\n",
    "      a = a[:6] + str(int(a[6:]) -2*543)\n",
    "      a = pd.to_datetime( a , format = '%d/%m/%Y')\n",
    "    elif a[6:8] == '00':\n",
    "      a = np.nan\n",
    "  return a"
   ]
  },
  {
   "cell_type": "code",
   "execution_count": 61,
   "metadata": {
    "executionInfo": {
     "elapsed": 3078,
     "status": "ok",
     "timestamp": 1698735232230,
     "user": {
      "displayName": "Tharaphon Nitijiramon",
      "userId": "16915625665235536451"
     },
     "user_tz": -420
    },
    "id": "k4QsX3dA9B8b"
   },
   "outputs": [],
   "source": [
    "date_col = ['วันที่อนุมัติ' , 'วันที่ทบทวนล่าสุด']\n",
    "for i in range(len(date_col)):\n",
    "  df_out1[date_col[i]] = df_out1[date_col[i]].apply(lambda x : clean_date_out(x))\n",
    "  # df_out1[date_col[i]] = pd.to_datetime( df_out1[date_col[i]] , format = '%d/%m/%Y')"
   ]
  },
  {
   "cell_type": "code",
   "execution_count": 62,
   "metadata": {
    "colab": {
     "base_uri": "https://localhost:8080/",
     "height": 0
    },
    "executionInfo": {
     "elapsed": 9,
     "status": "ok",
     "timestamp": 1698735232230,
     "user": {
      "displayName": "Tharaphon Nitijiramon",
      "userId": "16915625665235536451"
     },
     "user_tz": -420
    },
    "id": "qPaccfPn9rUx",
    "outputId": "79011f61-7262-4a94-a7b0-c49b17eea5be",
    "scrolled": true
   },
   "outputs": [
    {
     "data": {
      "text/html": [
       "<div>\n",
       "<style scoped>\n",
       "    .dataframe tbody tr th:only-of-type {\n",
       "        vertical-align: middle;\n",
       "    }\n",
       "\n",
       "    .dataframe tbody tr th {\n",
       "        vertical-align: top;\n",
       "    }\n",
       "\n",
       "    .dataframe thead th {\n",
       "        text-align: right;\n",
       "    }\n",
       "</style>\n",
       "<table border=\"1\" class=\"dataframe\">\n",
       "  <thead>\n",
       "    <tr style=\"text-align: right;\">\n",
       "      <th></th>\n",
       "      <th>รหัสลูกค้า</th>\n",
       "      <th>ผู้ดูแลลูกค้า_(แยกส่วน)</th>\n",
       "      <th>ผู้ดูแลลูกค้า_(ตามฝ่าย)</th>\n",
       "      <th>วันที่อนุมัติ</th>\n",
       "      <th>วันที่ทบทวนล่าสุด</th>\n",
       "    </tr>\n",
       "  </thead>\n",
       "  <tbody>\n",
       "    <tr>\n",
       "      <th>6800</th>\n",
       "      <td>0117732</td>\n",
       "      <td>ส่วนอุตสาหกรรม 1.1</td>\n",
       "      <td>ฝ่ายกลุ่มอุตสาหกรรม 1</td>\n",
       "      <td>NaT</td>\n",
       "      <td>2023-12-22</td>\n",
       "    </tr>\n",
       "  </tbody>\n",
       "</table>\n",
       "</div>"
      ],
      "text/plain": [
       "     รหัสลูกค้า ผู้ดูแลลูกค้า_(แยกส่วน) ผู้ดูแลลูกค้า_(ตามฝ่าย) วันที่อนุมัติ  \\\n",
       "6800    0117732      ส่วนอุตสาหกรรม 1.1   ฝ่ายกลุ่มอุตสาหกรรม 1           NaT   \n",
       "\n",
       "     วันที่ทบทวนล่าสุด  \n",
       "6800        2023-12-22  "
      ]
     },
     "execution_count": 62,
     "metadata": {},
     "output_type": "execute_result"
    }
   ],
   "source": [
    "df_out1[df_out1['วันที่อนุมัติ'].isna()]"
   ]
  },
  {
   "cell_type": "code",
   "execution_count": 63,
   "metadata": {},
   "outputs": [],
   "source": [
    "x = list(df_out1['วันที่อนุมัติ'])\n",
    "for i in x:\n",
    "    if isinstance(i, str):\n",
    "        print(i)"
   ]
  },
  {
   "cell_type": "code",
   "execution_count": 64,
   "metadata": {
    "executionInfo": {
     "elapsed": 26368,
     "status": "ok",
     "timestamp": 1698735258592,
     "user": {
      "displayName": "Tharaphon Nitijiramon",
      "userId": "16915625665235536451"
     },
     "user_tz": -420
    },
    "id": "Z_fshSmy9D67"
   },
   "outputs": [],
   "source": [
    "cus_list = df_out1['รหัสลูกค้า'].unique().tolist()\n",
    "df_out2 = pd.DataFrame()\n",
    "for i in range(len(cus_list)):\n",
    "  df_t = df_out1[df_out1['รหัสลูกค้า'] == cus_list[i]]\n",
    "\n",
    "  date1_min = min(list(df_t['วันที่อนุมัติ']))\n",
    "  date1_max = max(list(df_t['วันที่อนุมัติ']))\n",
    "\n",
    "  #date2_min = min(list(df_t['วันที่ทบทวนล่าสุด']))\n",
    "  date2_max = min(list(df_t['วันที่ทบทวนล่าสุด']))\n",
    "\n",
    "  df_t1 = df_t.head(1)\n",
    "  df_t1 = df_t1.drop(columns = ['วันที่อนุมัติ' , 'วันที่ทบทวนล่าสุด'])\n",
    "  df_t1['วันที่อนุมัติครั้งแรก'] = date1_min\n",
    "  df_t1['วันที่อนุมัติล่าสุด'] = date1_max\n",
    "  #df_t1['วันที่ทบทวนครั้งแรก'] = date2_min\n",
    "  df_t1['วันที่ทบทวนล่าสุด'] = date2_max\n",
    "\n",
    "  df_out2 = pd.concat([df_out2 , df_t1])"
   ]
  },
  {
   "cell_type": "code",
   "execution_count": 65,
   "metadata": {
    "colab": {
     "base_uri": "https://localhost:8080/",
     "height": 0
    },
    "executionInfo": {
     "elapsed": 9,
     "status": "ok",
     "timestamp": 1698735258592,
     "user": {
      "displayName": "Tharaphon Nitijiramon",
      "userId": "16915625665235536451"
     },
     "user_tz": -420
    },
    "id": "braTw34B9IZU",
    "outputId": "2fbc393c-fd40-461b-d028-426571292d45"
   },
   "outputs": [
    {
     "data": {
      "text/html": [
       "<div>\n",
       "<style scoped>\n",
       "    .dataframe tbody tr th:only-of-type {\n",
       "        vertical-align: middle;\n",
       "    }\n",
       "\n",
       "    .dataframe tbody tr th {\n",
       "        vertical-align: top;\n",
       "    }\n",
       "\n",
       "    .dataframe thead th {\n",
       "        text-align: right;\n",
       "    }\n",
       "</style>\n",
       "<table border=\"1\" class=\"dataframe\">\n",
       "  <thead>\n",
       "    <tr style=\"text-align: right;\">\n",
       "      <th></th>\n",
       "      <th>รหัสลูกค้า</th>\n",
       "      <th>ผู้ดูแลลูกค้า_(แยกส่วน)</th>\n",
       "      <th>ผู้ดูแลลูกค้า_(ตามฝ่าย)</th>\n",
       "      <th>วันที่อนุมัติครั้งแรก</th>\n",
       "      <th>วันที่อนุมัติล่าสุด</th>\n",
       "      <th>วันที่ทบทวนล่าสุด</th>\n",
       "    </tr>\n",
       "  </thead>\n",
       "  <tbody>\n",
       "    <tr>\n",
       "      <th>0</th>\n",
       "      <td>G009336</td>\n",
       "      <td>สาขาพระราม 4</td>\n",
       "      <td>สาขาพระราม 4</td>\n",
       "      <td>2016-09-06</td>\n",
       "      <td>2022-09-23</td>\n",
       "      <td>2023-08-02</td>\n",
       "    </tr>\n",
       "    <tr>\n",
       "      <th>3</th>\n",
       "      <td>G009348</td>\n",
       "      <td>ส่วนคดี</td>\n",
       "      <td>ฝ่ายบริหารหนี้และนิติกรรม</td>\n",
       "      <td>2015-04-09</td>\n",
       "      <td>2015-04-09</td>\n",
       "      <td>2023-11-30</td>\n",
       "    </tr>\n",
       "    <tr>\n",
       "      <th>5</th>\n",
       "      <td>G009525</td>\n",
       "      <td>ส่วนอุตสาหกรรม 3.1</td>\n",
       "      <td>ฝ่ายกลุ่มอุตสาหกรรม 3</td>\n",
       "      <td>2010-02-12</td>\n",
       "      <td>2010-02-12</td>\n",
       "      <td>2023-12-22</td>\n",
       "    </tr>\n",
       "    <tr>\n",
       "      <th>6</th>\n",
       "      <td>G020109</td>\n",
       "      <td>ส่วนคดี</td>\n",
       "      <td>ฝ่ายบริหารหนี้และนิติกรรม</td>\n",
       "      <td>2009-04-23</td>\n",
       "      <td>2010-06-03</td>\n",
       "      <td>2023-06-29</td>\n",
       "    </tr>\n",
       "    <tr>\n",
       "      <th>8</th>\n",
       "      <td>G020335</td>\n",
       "      <td>สาขาพระราม 4</td>\n",
       "      <td>สาขาพระราม 4</td>\n",
       "      <td>2010-12-08</td>\n",
       "      <td>2016-06-21</td>\n",
       "      <td>2022-04-22</td>\n",
       "    </tr>\n",
       "  </tbody>\n",
       "</table>\n",
       "</div>"
      ],
      "text/plain": [
       "  รหัสลูกค้า ผู้ดูแลลูกค้า_(แยกส่วน)    ผู้ดูแลลูกค้า_(ตามฝ่าย)  \\\n",
       "0    G009336            สาขาพระราม 4               สาขาพระราม 4   \n",
       "3    G009348                 ส่วนคดี  ฝ่ายบริหารหนี้และนิติกรรม   \n",
       "5    G009525      ส่วนอุตสาหกรรม 3.1      ฝ่ายกลุ่มอุตสาหกรรม 3   \n",
       "6    G020109                 ส่วนคดี  ฝ่ายบริหารหนี้และนิติกรรม   \n",
       "8    G020335            สาขาพระราม 4               สาขาพระราม 4   \n",
       "\n",
       "  วันที่อนุมัติครั้งแรก วันที่อนุมัติล่าสุด วันที่ทบทวนล่าสุด  \n",
       "0            2016-09-06          2022-09-23        2023-08-02  \n",
       "3            2015-04-09          2015-04-09        2023-11-30  \n",
       "5            2010-02-12          2010-02-12        2023-12-22  \n",
       "6            2009-04-23          2010-06-03        2023-06-29  \n",
       "8            2010-12-08          2016-06-21        2022-04-22  "
      ]
     },
     "execution_count": 65,
     "metadata": {},
     "output_type": "execute_result"
    }
   ],
   "source": [
    "df_out2.head()"
   ]
  },
  {
   "cell_type": "markdown",
   "metadata": {
    "id": "x0AYU2V_-EQ_"
   },
   "source": [
    "## Merge ยอดคงค้างเพื่อหาฝ่าย"
   ]
  },
  {
   "cell_type": "code",
   "execution_count": 66,
   "metadata": {
    "colab": {
     "base_uri": "https://localhost:8080/",
     "height": 0
    },
    "executionInfo": {
     "elapsed": 8,
     "status": "ok",
     "timestamp": 1698735258592,
     "user": {
      "displayName": "Tharaphon Nitijiramon",
      "userId": "16915625665235536451"
     },
     "user_tz": -420
    },
    "id": "1b55BA0I-PfT",
    "outputId": "0d31ad61-6b93-4463-a6d8-a5e97d791de8"
   },
   "outputs": [
    {
     "data": {
      "text/html": [
       "<div>\n",
       "<style scoped>\n",
       "    .dataframe tbody tr th:only-of-type {\n",
       "        vertical-align: middle;\n",
       "    }\n",
       "\n",
       "    .dataframe tbody tr th {\n",
       "        vertical-align: top;\n",
       "    }\n",
       "\n",
       "    .dataframe thead th {\n",
       "        text-align: right;\n",
       "    }\n",
       "</style>\n",
       "<table border=\"1\" class=\"dataframe\">\n",
       "  <thead>\n",
       "    <tr style=\"text-align: right;\">\n",
       "      <th></th>\n",
       "      <th>ชื่อผู้เกี่ยวข้อง</th>\n",
       "      <th>ความเกี่ยวข้อง</th>\n",
       "      <th>เลขทะเบียนนิติบุคคล (13 หลัก)</th>\n",
       "      <th>ชื่อนิติบุคคลจดทะเบียนภาษาไทย</th>\n",
       "      <th>ชื่อนิติบุคคลจดทะเบียนภาษาอังกฤษ</th>\n",
       "      <th>อำนาจกรรมการ</th>\n",
       "      <th>Name_clean</th>\n",
       "      <th>อำนาจลงนาม</th>\n",
       "      <th>เปอร์เซ็นผู้ถือหุ้น</th>\n",
       "      <th>Running No.</th>\n",
       "      <th>Title of defendant</th>\n",
       "      <th>Name and surname of defendant</th>\n",
       "      <th>Surname of defendant</th>\n",
       "      <th>Record item</th>\n",
       "      <th>Code of judgement type</th>\n",
       "      <th>Court Order date</th>\n",
       "      <th>Receive &amp; Amendment Date</th>\n",
       "      <th>Royal Gazette Announcement Date</th>\n",
       "      <th>Flag New</th>\n",
       "      <th>Description of judgement</th>\n",
       "      <th>Running No.2</th>\n",
       "      <th>ID CODE</th>\n",
       "      <th>Name_datamart_clean</th>\n",
       "      <th>รหัสลูกค้า</th>\n",
       "      <th>CUCTAXCS</th>\n",
       "    </tr>\n",
       "  </thead>\n",
       "  <tbody>\n",
       "    <tr>\n",
       "      <th>0</th>\n",
       "      <td>วิไล เกียรติศรีชาติ</td>\n",
       "      <td>กรรมการ/ผู้ถือหุ้น</td>\n",
       "      <td>0105520009464</td>\n",
       "      <td>บริษัท แพนเอเซีย (1981) จำกัด</td>\n",
       "      <td>PAN ASIA (1981) COMPANY LIMITED</td>\n",
       "      <td>นางวิไล เกียรติศรีชาติ ลงลายมือชื่อ และประทับต...</td>\n",
       "      <td>วิไลเกียรติศรีชาติ</td>\n",
       "      <td>มีอำนาจลงนาม</td>\n",
       "      <td>28.61</td>\n",
       "      <td>202148</td>\n",
       "      <td>นาง</td>\n",
       "      <td>วิไล เกียรติศรีชาติ</td>\n",
       "      <td>เกียรติศรีชาติ</td>\n",
       "      <td>1</td>\n",
       "      <td>05</td>\n",
       "      <td>2023-06-12 00:00:00</td>\n",
       "      <td>2023-06-29 00:00:00</td>\n",
       "      <td>2023-06-29 00:00:00</td>\n",
       "      <td>NaN</td>\n",
       "      <td>พิทักษ์ทรัพย์เด็ดขาด</td>\n",
       "      <td>202148</td>\n",
       "      <td>3100502490041</td>\n",
       "      <td>วิไลเกียรติศรีชาติ</td>\n",
       "      <td>0006212</td>\n",
       "      <td>0105520009464</td>\n",
       "    </tr>\n",
       "    <tr>\n",
       "      <th>1</th>\n",
       "      <td>สุชัย อัศวปัญญาวงศ์</td>\n",
       "      <td>กรรมการ/ผู้ถือหุ้น</td>\n",
       "      <td>0105524005617</td>\n",
       "      <td>บริษัท ทียูซี เคมี  จำกัด</td>\n",
       "      <td>TUC CHEMICAL COMPANY LIMITED</td>\n",
       "      <td>นายสุชัย อัศวปัญญาวงศ์ ลงลายมือชื่อและประทับตร...</td>\n",
       "      <td>สุชัยอัศวปัญญาวงศ์</td>\n",
       "      <td>มีอำนาจลงนาม</td>\n",
       "      <td>73.00</td>\n",
       "      <td>247283</td>\n",
       "      <td>นาย</td>\n",
       "      <td>สุชัย อัศวปัญญาวงศ์</td>\n",
       "      <td>อัศวปัญญาวงศ์</td>\n",
       "      <td>1</td>\n",
       "      <td>05</td>\n",
       "      <td>2021-08-09 00:00:00</td>\n",
       "      <td>2021-08-25 00:00:00</td>\n",
       "      <td>2021-08-25 00:00:00</td>\n",
       "      <td>NaN</td>\n",
       "      <td>พิทักษ์ทรัพย์เด็ดขาด</td>\n",
       "      <td>247283</td>\n",
       "      <td>3101401907729</td>\n",
       "      <td>สุชัยอัศวปัญญาวงศ์</td>\n",
       "      <td>0076607</td>\n",
       "      <td>0105524005617</td>\n",
       "    </tr>\n",
       "    <tr>\n",
       "      <th>2</th>\n",
       "      <td>สุชัย อัศวปัญญาวงศ์</td>\n",
       "      <td>กรรมการ/ผู้ถือหุ้น</td>\n",
       "      <td>0105524005617</td>\n",
       "      <td>บริษัท ทียูซี เคมี  จำกัด</td>\n",
       "      <td>TUC CHEMICAL COMPANY LIMITED</td>\n",
       "      <td>นายสุชัย อัศวปัญญาวงศ์ ลงลายมือชื่อและประทับตร...</td>\n",
       "      <td>สุชัยอัศวปัญญาวงศ์</td>\n",
       "      <td>มีอำนาจลงนาม</td>\n",
       "      <td>73.00</td>\n",
       "      <td>247283</td>\n",
       "      <td>นาย</td>\n",
       "      <td>สุชัย อัศวปัญญาวงศ์</td>\n",
       "      <td>อัศวปัญญาวงศ์</td>\n",
       "      <td>1</td>\n",
       "      <td>08</td>\n",
       "      <td>2023-08-28 00:00:00</td>\n",
       "      <td>2023-10-27 00:00:00</td>\n",
       "      <td>2023-12-26 00:00:00</td>\n",
       "      <td>NaN</td>\n",
       "      <td>ประนอมหนี้ก่อนล้มละลาย</td>\n",
       "      <td>247283</td>\n",
       "      <td>3101401907729</td>\n",
       "      <td>สุชัยอัศวปัญญาวงศ์</td>\n",
       "      <td>0076607</td>\n",
       "      <td>0105524005617</td>\n",
       "    </tr>\n",
       "    <tr>\n",
       "      <th>3</th>\n",
       "      <td>กนกพร ประพันธ์</td>\n",
       "      <td>กรรมการ/ผู้ถือหุ้น</td>\n",
       "      <td>0105529036529</td>\n",
       "      <td>บริษัท วี.เอส.เอ.เทรดดิ้ง จำกัด</td>\n",
       "      <td>V.S.A.TRADING CO.,LTD.</td>\n",
       "      <td>กรรมการคนใดคนหนึ่งลงลายมือชื่อและประทับตราสำคั...</td>\n",
       "      <td>กนกพรประพันธ์</td>\n",
       "      <td>มีอำนาจลงนาม</td>\n",
       "      <td>49.70</td>\n",
       "      <td>923</td>\n",
       "      <td>นาง</td>\n",
       "      <td>กนกพร ประพันธ์</td>\n",
       "      <td>ประพันธ์</td>\n",
       "      <td>1</td>\n",
       "      <td>05</td>\n",
       "      <td>2024-02-05 00:00:00</td>\n",
       "      <td>2024-02-19 00:00:00</td>\n",
       "      <td>2024-02-19 00:00:00</td>\n",
       "      <td>NaN</td>\n",
       "      <td>พิทักษ์ทรัพย์เด็ดขาด</td>\n",
       "      <td>923</td>\n",
       "      <td>3101203623783</td>\n",
       "      <td>กนกพรประพันธ์</td>\n",
       "      <td>0053257</td>\n",
       "      <td>0105529036529</td>\n",
       "    </tr>\n",
       "    <tr>\n",
       "      <th>4</th>\n",
       "      <td>นิพนธ์ เกิดประดับ</td>\n",
       "      <td>กรรมการ/ผู้ถือหุ้น</td>\n",
       "      <td>0105536013822</td>\n",
       "      <td>บริษัท โปรโตไทพ์ อินเตอร์ เนชั่นแนล จำกัด</td>\n",
       "      <td>PROTOTYPE INTERNATIONAL CO.,LTD.</td>\n",
       "      <td>กรรมการหนึ่งคนลงลายมือชื่อและประทับตราสำคัญของ...</td>\n",
       "      <td>นิพนธ์เกิดประดับ</td>\n",
       "      <td>มีอำนาจลงนาม</td>\n",
       "      <td>88.00</td>\n",
       "      <td>98408</td>\n",
       "      <td>นาย</td>\n",
       "      <td>นิพนธ์ เกิดประดับ</td>\n",
       "      <td>เกิดประดับ</td>\n",
       "      <td>1</td>\n",
       "      <td>05</td>\n",
       "      <td>2020-06-22 00:00:00</td>\n",
       "      <td>2020-07-15 00:00:00</td>\n",
       "      <td>2020-07-15 00:00:00</td>\n",
       "      <td>NaN</td>\n",
       "      <td>พิทักษ์ทรัพย์เด็ดขาด</td>\n",
       "      <td>98408</td>\n",
       "      <td>3739900010572</td>\n",
       "      <td>นิพนธ์เกิดประดับ</td>\n",
       "      <td>0037504</td>\n",
       "      <td>0105536013822</td>\n",
       "    </tr>\n",
       "  </tbody>\n",
       "</table>\n",
       "</div>"
      ],
      "text/plain": [
       "     ชื่อผู้เกี่ยวข้อง      ความเกี่ยวข้อง เลขทะเบียนนิติบุคคล (13 หลัก)  \\\n",
       "0  วิไล เกียรติศรีชาติ  กรรมการ/ผู้ถือหุ้น                 0105520009464   \n",
       "1  สุชัย อัศวปัญญาวงศ์  กรรมการ/ผู้ถือหุ้น                 0105524005617   \n",
       "2  สุชัย อัศวปัญญาวงศ์  กรรมการ/ผู้ถือหุ้น                 0105524005617   \n",
       "3       กนกพร ประพันธ์  กรรมการ/ผู้ถือหุ้น                 0105529036529   \n",
       "4    นิพนธ์ เกิดประดับ  กรรมการ/ผู้ถือหุ้น                 0105536013822   \n",
       "\n",
       "               ชื่อนิติบุคคลจดทะเบียนภาษาไทย  \\\n",
       "0              บริษัท แพนเอเซีย (1981) จำกัด   \n",
       "1                  บริษัท ทียูซี เคมี  จำกัด   \n",
       "2                  บริษัท ทียูซี เคมี  จำกัด   \n",
       "3            บริษัท วี.เอส.เอ.เทรดดิ้ง จำกัด   \n",
       "4  บริษัท โปรโตไทพ์ อินเตอร์ เนชั่นแนล จำกัด   \n",
       "\n",
       "   ชื่อนิติบุคคลจดทะเบียนภาษาอังกฤษ  \\\n",
       "0   PAN ASIA (1981) COMPANY LIMITED   \n",
       "1      TUC CHEMICAL COMPANY LIMITED   \n",
       "2      TUC CHEMICAL COMPANY LIMITED   \n",
       "3            V.S.A.TRADING CO.,LTD.   \n",
       "4  PROTOTYPE INTERNATIONAL CO.,LTD.   \n",
       "\n",
       "                                        อำนาจกรรมการ          Name_clean  \\\n",
       "0  นางวิไล เกียรติศรีชาติ ลงลายมือชื่อ และประทับต...  วิไลเกียรติศรีชาติ   \n",
       "1  นายสุชัย อัศวปัญญาวงศ์ ลงลายมือชื่อและประทับตร...  สุชัยอัศวปัญญาวงศ์   \n",
       "2  นายสุชัย อัศวปัญญาวงศ์ ลงลายมือชื่อและประทับตร...  สุชัยอัศวปัญญาวงศ์   \n",
       "3  กรรมการคนใดคนหนึ่งลงลายมือชื่อและประทับตราสำคั...       กนกพรประพันธ์   \n",
       "4  กรรมการหนึ่งคนลงลายมือชื่อและประทับตราสำคัญของ...    นิพนธ์เกิดประดับ   \n",
       "\n",
       "     อำนาจลงนาม  เปอร์เซ็นผู้ถือหุ้น Running No. Title of defendant  \\\n",
       "0  มีอำนาจลงนาม                28.61      202148                นาง   \n",
       "1  มีอำนาจลงนาม                73.00      247283                นาย   \n",
       "2  มีอำนาจลงนาม                73.00      247283                นาย   \n",
       "3  มีอำนาจลงนาม                49.70         923                นาง   \n",
       "4  มีอำนาจลงนาม                88.00       98408                นาย   \n",
       "\n",
       "  Name and surname of defendant Surname of defendant Record item  \\\n",
       "0           วิไล เกียรติศรีชาติ       เกียรติศรีชาติ           1   \n",
       "1           สุชัย อัศวปัญญาวงศ์        อัศวปัญญาวงศ์           1   \n",
       "2           สุชัย อัศวปัญญาวงศ์        อัศวปัญญาวงศ์           1   \n",
       "3                กนกพร ประพันธ์             ประพันธ์           1   \n",
       "4             นิพนธ์ เกิดประดับ           เกิดประดับ           1   \n",
       "\n",
       "  Code of judgement type     Court Order date Receive & Amendment Date  \\\n",
       "0                     05  2023-06-12 00:00:00      2023-06-29 00:00:00   \n",
       "1                     05  2021-08-09 00:00:00      2021-08-25 00:00:00   \n",
       "2                     08  2023-08-28 00:00:00      2023-10-27 00:00:00   \n",
       "3                     05  2024-02-05 00:00:00      2024-02-19 00:00:00   \n",
       "4                     05  2020-06-22 00:00:00      2020-07-15 00:00:00   \n",
       "\n",
       "  Royal Gazette Announcement Date Flag New Description of judgement  \\\n",
       "0             2023-06-29 00:00:00      NaN     พิทักษ์ทรัพย์เด็ดขาด   \n",
       "1             2021-08-25 00:00:00      NaN     พิทักษ์ทรัพย์เด็ดขาด   \n",
       "2             2023-12-26 00:00:00      NaN   ประนอมหนี้ก่อนล้มละลาย   \n",
       "3             2024-02-19 00:00:00      NaN     พิทักษ์ทรัพย์เด็ดขาด   \n",
       "4             2020-07-15 00:00:00      NaN     พิทักษ์ทรัพย์เด็ดขาด   \n",
       "\n",
       "  Running No.2        ID CODE Name_datamart_clean รหัสลูกค้า       CUCTAXCS  \n",
       "0       202148  3100502490041  วิไลเกียรติศรีชาติ    0006212  0105520009464  \n",
       "1       247283  3101401907729  สุชัยอัศวปัญญาวงศ์    0076607  0105524005617  \n",
       "2       247283  3101401907729  สุชัยอัศวปัญญาวงศ์    0076607  0105524005617  \n",
       "3          923  3101203623783       กนกพรประพันธ์    0053257  0105529036529  \n",
       "4        98408  3739900010572    นิพนธ์เกิดประดับ    0037504  0105536013822  "
      ]
     },
     "execution_count": 66,
     "metadata": {},
     "output_type": "execute_result"
    }
   ],
   "source": [
    "df_a3.head()"
   ]
  },
  {
   "cell_type": "code",
   "execution_count": 67,
   "metadata": {
    "executionInfo": {
     "elapsed": 6,
     "status": "ok",
     "timestamp": 1698735258592,
     "user": {
      "displayName": "Tharaphon Nitijiramon",
      "userId": "16915625665235536451"
     },
     "user_tz": -420
    },
    "id": "sA963Bvt9OBc"
   },
   "outputs": [],
   "source": [
    "df_a4 = pd.merge(df_a3 , df_out2 , on = 'รหัสลูกค้า' , how = 'left')"
   ]
  },
  {
   "cell_type": "code",
   "execution_count": 68,
   "metadata": {
    "executionInfo": {
     "elapsed": 7,
     "status": "ok",
     "timestamp": 1698735258593,
     "user": {
      "displayName": "Tharaphon Nitijiramon",
      "userId": "16915625665235536451"
     },
     "user_tz": -420
    },
    "id": "yYfHFnpS-S3H"
   },
   "outputs": [],
   "source": [
    "df_a5 = df_a4[df_a4['ผู้ดูแลลูกค้า_(ตามฝ่าย)'] != 'ฝ่ายบริหารหนี้และนิติกรรม']"
   ]
  },
  {
   "cell_type": "markdown",
   "metadata": {
    "id": "Zq26FJbZslyO"
   },
   "source": [
    "# EXPORT"
   ]
  },
  {
   "cell_type": "code",
   "execution_count": 69,
   "metadata": {
    "executionInfo": {
     "elapsed": 630,
     "status": "ok",
     "timestamp": 1698735259217,
     "user": {
      "displayName": "Tharaphon Nitijiramon",
      "userId": "16915625665235536451"
     },
     "user_tz": -420
    },
    "id": "2I9pJkhK-V71"
   },
   "outputs": [],
   "source": [
    "df_a5.to_excel(output_path + file_name , index = False)"
   ]
  }
 ],
 "metadata": {
  "colab": {
   "provenance": []
  },
  "kernelspec": {
   "display_name": "Python 3 (ipykernel)",
   "language": "python",
   "name": "python3"
  },
  "language_info": {
   "codemirror_mode": {
    "name": "ipython",
    "version": 3
   },
   "file_extension": ".py",
   "mimetype": "text/x-python",
   "name": "python",
   "nbconvert_exporter": "python",
   "pygments_lexer": "ipython3",
   "version": "3.9.12"
  }
 },
 "nbformat": 4,
 "nbformat_minor": 1
}
