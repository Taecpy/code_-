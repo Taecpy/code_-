{
 "cells": [
  {
   "cell_type": "markdown",
   "metadata": {
    "id": "tADnTnjjCx2b"
   },
   "source": [
    "# IMPORT"
   ]
  },
  {
   "cell_type": "code",
   "execution_count": 1,
   "metadata": {
    "executionInfo": {
     "elapsed": 14,
     "status": "ok",
     "timestamp": 1698733439570,
     "user": {
      "displayName": "Tharaphon Nitijiramon",
      "userId": "16915625665235536451"
     },
     "user_tz": -420
    },
    "id": "Z7ycVo8WCr76"
   },
   "outputs": [],
   "source": [
    "import numpy as np\n",
    "import pandas as pd"
   ]
  },
  {
   "cell_type": "code",
   "execution_count": 2,
   "metadata": {},
   "outputs": [],
   "source": [
    "# custom username by pwd\n",
    "import os\n",
    "pwd = os.getcwd()\n",
    "username = pwd[9:pwd.find('\\\\',9)]"
   ]
  },
  {
   "cell_type": "code",
   "execution_count": 3,
   "metadata": {
    "executionInfo": {
     "elapsed": 14,
     "status": "ok",
     "timestamp": 1698733462048,
     "user": {
      "displayName": "Tharaphon Nitijiramon",
      "userId": "16915625665235536451"
     },
     "user_tz": -420
    },
    "id": "mnXPfFOD3DCH"
   },
   "outputs": [],
   "source": [
    "def isEnglish(s):\n",
    "  try:\n",
    "    s.encode(encoding='utf-8').decode('ascii')\n",
    "  except UnicodeDecodeError:\n",
    "    return False\n",
    "  else:\n",
    "    return True"
   ]
  },
  {
   "cell_type": "code",
   "execution_count": 4,
   "metadata": {
    "executionInfo": {
     "elapsed": 12,
     "status": "ok",
     "timestamp": 1698733462048,
     "user": {
      "displayName": "Tharaphon Nitijiramon",
      "userId": "16915625665235536451"
     },
     "user_tz": -420
    },
    "id": "nnvghzRw7y8Y"
   },
   "outputs": [],
   "source": [
    "import difflib\n",
    "\n",
    "def fuzzy_merge(df1, df2, left_on, right_on, how='inner', cutoff=0.90):\n",
    "    df_other= df2.copy()\n",
    "    df_other[left_on] = [get_closest_match(x, df1[left_on], cutoff)\n",
    "                         for x in df_other[right_on]]\n",
    "    return df1.merge(df_other, on=left_on, how=how)\n",
    "\n",
    "def get_closest_match(x, other, cutoff):\n",
    "    matches = difflib.get_close_matches(x, other, cutoff=cutoff)\n",
    "    return matches[0] if matches else None"
   ]
  },
  {
   "cell_type": "code",
   "execution_count": 5,
   "metadata": {
    "executionInfo": {
     "elapsed": 12,
     "status": "ok",
     "timestamp": 1698733462049,
     "user": {
      "displayName": "Tharaphon Nitijiramon",
      "userId": "16915625665235536451"
     },
     "user_tz": -420
    },
    "id": "opi87bpKHgxI"
   },
   "outputs": [],
   "source": [
    "input_path = 'C:\\\\Users\\\\'+ username +'\\\\OneDrive - EXIM BANK OF THAILAND\\\\Shared Drive บส ตส\\\\Data\\\\ปี 2567 Q1\\\\'\n",
    "result_path = 'C:\\\\Users\\\\'+ username +'\\\\OneDrive - EXIM BANK OF THAILAND\\\\Shared Drive บส ตส\\\\3. รวมศูนย์\\\\RESULT\\\\'\n",
    "\n",
    "# input_path = r'C:\\Users\\tharaphonn\\OneDrive - EXIM BANK OF THAILAND\\Shared Drive บส ตส\\Data\\ปี 2566 Q3/'\n",
    "# result_path = r'C:\\Users\\tharaphonn\\OneDrive - EXIM BANK OF THAILAND\\Shared Drive บส ตส\\3. รวมศูนย์\\RESULT/'"
   ]
  },
  {
   "cell_type": "code",
   "execution_count": 6,
   "metadata": {
    "executionInfo": {
     "elapsed": 11,
     "status": "ok",
     "timestamp": 1698733462049,
     "user": {
      "displayName": "Tharaphon Nitijiramon",
      "userId": "16915625665235536451"
     },
     "user_tz": -420
    },
    "id": "SbTldp0h279T"
   },
   "outputs": [],
   "source": [
    "def clean_ecs_name(fname , lname):\n",
    "  name1 = np.nan\n",
    "  name2 = np.nan\n",
    "  if pd.isna(fname) == False:\n",
    "    if fname == '-':\n",
    "      fname = np.nan\n",
    "\n",
    "  if pd.isna(lname) == False:\n",
    "    if lname == '-':\n",
    "      lname = np.nan\n",
    "\n",
    "  if (pd.isna(fname) == False) and (pd.isna(lname) == False):\n",
    "    if isEnglish(fname) == isEnglish(lname):\n",
    "      name1 = fname + lname\n",
    "      name2 = np.nan\n",
    "    else:\n",
    "      name1 = fname\n",
    "      name2 = lname\n",
    "  elif (pd.isna(fname) == False) and (pd.isna(lname) == True):\n",
    "    name1 = fname\n",
    "    name2 = np.nan\n",
    "  elif (pd.isna(fname) == True) and (pd.isna(lname) == False):\n",
    "    name1 = lname\n",
    "    name2 = np.nan\n",
    "  elif (pd.isna(fname) == False) and (pd.isna(lname) == False):\n",
    "    name1 = np.nan\n",
    "    name2 = np.nan\n",
    "  return name1 , name2"
   ]
  },
  {
   "cell_type": "code",
   "execution_count": 7,
   "metadata": {
    "executionInfo": {
     "elapsed": 10,
     "status": "ok",
     "timestamp": 1698733462049,
     "user": {
      "displayName": "Tharaphon Nitijiramon",
      "userId": "16915625665235536451"
     },
     "user_tz": -420
    },
    "id": "4eAl2tN13NKC"
   },
   "outputs": [],
   "source": [
    "def clean_string(x):\n",
    "  if pd.isna(x) == False:\n",
    "    x = x.lower()\n",
    "    x = x.strip()\n",
    "    remove_list = [' ','ด็อกเตอร์','ดร.','ว่าที่','พล.อ.','พล.ท.','พล.ต.','พ.อ.','พ.ท.','พ.ต.','ร.อ.','ร.ท.','ร.ต.','จ.ส.อ.','จ.ส.ท.','จ.ส.ต','ส.อ.',\n",
    "                           'ส.ท.','ส.ต.',\n",
    "                          'พลฯ','นนร.','พล.ร.อ.','พล.ร.ท.','พล.ร.ต.','น.อ.','ร.น.','น.ท.','น.ต.','ร.อ.','ร.ท.','ร.ต.','พ.จ.อ.','พ.จ.ท.','พ.จ.ต.',\n",
    "                          'จ.อ.','จ.ท.','จ.ต.','พล.อ.อ.','พล.อ.ท.','พล.อ.ต.','พ.อ.อ.','พ.อ.ท.','พ.อ.ต.','นนอ.','นจอ.',\n",
    "                          'พล.ต.อ.','พล.ต.ท.','พล.ต.ต.','พ.ต.อ.','พ.ต.ท.','พ.ต.ต.','ร.ต.อ.','ร.ต.ท.','ร.ต.ต.','ด.ต.','จ.ส.ต.','ส.ต.อ.','ส.ต.ท.','ส.ต.ต.'\n",
    "                           ,'พลเอก','พลโท','พลตรี','พันเอก','พันโท','พันตรี','ร้อยเอก','ร้อยโท','ร้อยตรี','จ่าสิบเอก','จ่าสิบโท','จ่าสิบตรี','สิบเอก','สิบโท','สิบตรี','พลทหาร',\n",
    "                        'พลเรือเอก','พลเรือโท','พลเรือตรี','นาวาเอก','นาวาโท','นาวาตรี','เรือเอก','เรือโท','เรือตรี','พันจ่าเอก','พันจ่าโท','พันจ่าตรี','จ่าเอก','จ่าโท','จ่าตรี',\n",
    "                           'พลอากาศเอก' , 'พลอากาศโท','พลอากาศตรี','นาวาอากาศเอก','นาวาอากาศโท','นาวาอากาศตรี','เรืออากาศเอก','เรืออากาศโท' ,'เรืออากาศตรี',\n",
    "                           'พันจ่าอากาศเอก','พันจ่าอากาศโท','พันจ่าอากาศตรี','จ่าอากาศเอก','จ่าอากาศโท','จ่าอากาศตรี',\n",
    "                           'mr.','mrs.','ms.','limited','inc.','co., ltd.,','ltd','(ไทย)','(ประเทศไทย)',\n",
    "                        '','(',')','-','.',',','บริษัท','บจก','จำกัด','มหาชน','ห้างหุ้นส่วน','จำกัด','publiccompanylim','company','–','/' ,\n",
    "                           'นาย','นางสาว' ,'นาง' , 'x0000' , '_' , 'และหรือย่อย']\n",
    "    for i in range(len(remove_list)):\n",
    "      x = x.replace(remove_list[i],'')\n",
    "  return x"
   ]
  },
  {
   "cell_type": "markdown",
   "metadata": {
    "id": "TVSsoCKYDpa0"
   },
   "source": [
    "# INPUT"
   ]
  },
  {
   "cell_type": "code",
   "execution_count": 8,
   "metadata": {
    "executionInfo": {
     "elapsed": 14463,
     "status": "ok",
     "timestamp": 1698733583773,
     "user": {
      "displayName": "Tharaphon Nitijiramon",
      "userId": "16915625665235536451"
     },
     "user_tz": -420
    },
    "id": "oDF5n54ZDrnC"
   },
   "outputs": [],
   "source": [
    "#@title ข้อมูลรวมศูนย์บนระบบ CRM\n",
    "centralize = 'รวมศูนย์_20240402.xlsx' #@param {type:'string'}\n",
    "df_cen = pd.read_excel( input_path + centralize , dtype = str)"
   ]
  },
  {
   "cell_type": "code",
   "execution_count": 9,
   "metadata": {
    "executionInfo": {
     "elapsed": 4359,
     "status": "ok",
     "timestamp": 1698733588119,
     "user": {
      "displayName": "Tharaphon Nitijiramon",
      "userId": "16915625665235536451"
     },
     "user_tz": -420
    },
    "id": "x3EGyGadD7CT"
   },
   "outputs": [],
   "source": [
    "#@title ข้อมูลกรรมการ/ผู้ถือหุ้น ENLITE\n",
    "enlite = 'ENLITE_6365_Q1_67_20240424.xlsx' #@param {type:'string'}\n",
    "df_enl = pd.read_excel( input_path + enlite , dtype = str)"
   ]
  },
  {
   "cell_type": "code",
   "execution_count": 10,
   "metadata": {
    "colab": {
     "base_uri": "https://localhost:8080/"
    },
    "executionInfo": {
     "elapsed": 7609,
     "status": "ok",
     "timestamp": 1698733595715,
     "user": {
      "displayName": "Tharaphon Nitijiramon",
      "userId": "16915625665235536451"
     },
     "user_tz": -420
    },
    "id": "h9sxBtH8EBFo",
    "outputId": "b0834672-b681-40bf-8379-146e1f5149e6"
   },
   "outputs": [
    {
     "name": "stderr",
     "output_type": "stream",
     "text": [
      "C:\\ProgramData\\Anaconda3\\lib\\site-packages\\openpyxl\\worksheet\\header_footer.py:48: UserWarning: Cannot parse header or footer so it will be ignored\n",
      "  warn(\"\"\"Cannot parse header or footer so it will be ignored\"\"\")\n"
     ]
    }
   ],
   "source": [
    "#@title ข้อมูล Outstanding\n",
    "outstanding = '03.วงเงินและยอดคงค้าง_มี.ค.2567.xlsx' #@param {type:'string'}\n",
    "df_out = pd.read_excel(input_path + outstanding , dtype = str)"
   ]
  },
  {
   "cell_type": "code",
   "execution_count": 11,
   "metadata": {
    "executionInfo": {
     "elapsed": 8,
     "status": "ok",
     "timestamp": 1698733595715,
     "user": {
      "displayName": "Tharaphon Nitijiramon",
      "userId": "16915625665235536451"
     },
     "user_tz": -420
    },
    "id": "QQwyvcb9E1Kc"
   },
   "outputs": [],
   "source": [
    "#@title ข้อมูล รหัส และ เลขนิติบุคคลของลูกค้า\n",
    "id_cuscode = 'รหัส_เลขนิติ_Q1_67.xlsx' #@param {type:'string'}\n",
    "df_pm = pd.read_excel( input_path + id_cuscode, dtype= str)"
   ]
  },
  {
   "cell_type": "code",
   "execution_count": 12,
   "metadata": {
    "executionInfo": {
     "elapsed": 6,
     "status": "ok",
     "timestamp": 1698733595715,
     "user": {
      "displayName": "Tharaphon Nitijiramon",
      "userId": "16915625665235536451"
     },
     "user_tz": -420
    },
    "id": "wzEp2tSJEG5L"
   },
   "outputs": [],
   "source": [
    "#@title ชื่อไฟล์ OUTPUT\n",
    "file_name = 'รวมศูนย์_กรรมการผู้ถือหุ้น_q1_67_jupyter.xlsx' #@param {type:'string'}"
   ]
  },
  {
   "cell_type": "code",
   "execution_count": 13,
   "metadata": {
    "cellView": "form",
    "executionInfo": {
     "elapsed": 6,
     "status": "ok",
     "timestamp": 1698733595715,
     "user": {
      "displayName": "Tharaphon Nitijiramon",
      "userId": "16915625665235536451"
     },
     "user_tz": -420
    },
    "id": "9VaSGFCwEbKJ"
   },
   "outputs": [],
   "source": [
    "#@title ใส่ขอบเขตการตรวจ\n",
    "start_date = '2024-01-01' #@param {type:\"date\"}\n",
    "end_date = '2024-03-31' #@param {type:\"date\"}\n",
    "start_date = pd.to_datetime( start_date, format = '%Y-%m-%d')\n",
    "end_date = pd.to_datetime(end_date  , format = '%Y-%m-%d')"
   ]
  },
  {
   "cell_type": "markdown",
   "metadata": {
    "id": "s6joiqbMEeRJ"
   },
   "source": [
    "# CODE"
   ]
  },
  {
   "cell_type": "markdown",
   "metadata": {
    "id": "BWzmeIXxEkvE"
   },
   "source": [
    "## Chose Customer and Clean Outstanding File"
   ]
  },
  {
   "cell_type": "code",
   "execution_count": 14,
   "metadata": {
    "executionInfo": {
     "elapsed": 6,
     "status": "ok",
     "timestamp": 1698733595716,
     "user": {
      "displayName": "Tharaphon Nitijiramon",
      "userId": "16915625665235536451"
     },
     "user_tz": -420
    },
    "id": "ARspBbTMEfMw"
   },
   "outputs": [],
   "source": [
    "df_out1 = df_out[['รหัสลูกค้า'  ,'ผู้ดูแลลูกค้า_(แยกส่วน)' , 'ผู้ดูแลลูกค้า_(ตามฝ่าย)' , 'วันที่อนุมัติ',\n",
    "                           'วันที่ทบทวนล่าสุด']].drop_duplicates()"
   ]
  },
  {
   "cell_type": "code",
   "execution_count": 15,
   "metadata": {
    "executionInfo": {
     "elapsed": 6,
     "status": "ok",
     "timestamp": 1698733595716,
     "user": {
      "displayName": "Tharaphon Nitijiramon",
      "userId": "16915625665235536451"
     },
     "user_tz": -420
    },
    "id": "YasQgjOGEm3v"
   },
   "outputs": [],
   "source": [
    "def clean_date_out(a):\n",
    "  if pd.isna(a) == False:\n",
    "    if a[6:8] == '26':\n",
    "      a = a.replace('265' , '256')\n",
    "      a = a[:6] + str(int(a[6:]) - 543)\n",
    "      a = pd.to_datetime( a , format = '%d/%m/%Y')\n",
    "    elif a[6:8] == '25':\n",
    "      a = a[:6] + str(int(a[6:]) - 543)\n",
    "      a = pd.to_datetime( a , format = '%d/%m/%Y')\n",
    "    elif a[6:8] == '20' or a[6:8] == '19':\n",
    "      a = pd.to_datetime( a , format = '%d/%m/%Y')\n",
    "    elif a[6:7] == '3':\n",
    "      a = a[:6] + str(int(a[6:]) -2*543)\n",
    "      a = pd.to_datetime( a , format = '%d/%m/%Y')\n",
    "    elif a[6:8] == '00':\n",
    "      a = np.nan\n",
    "  return a"
   ]
  },
  {
   "cell_type": "code",
   "execution_count": 16,
   "metadata": {
    "colab": {
     "base_uri": "https://localhost:8080/"
    },
    "executionInfo": {
     "elapsed": 1985,
     "status": "ok",
     "timestamp": 1698733597696,
     "user": {
      "displayName": "Tharaphon Nitijiramon",
      "userId": "16915625665235536451"
     },
     "user_tz": -420
    },
    "id": "YdimrasmEoIp",
    "outputId": "e89ac358-a49a-490c-ebd2-e108bb68d33b"
   },
   "outputs": [
    {
     "name": "stdout",
     "output_type": "stream",
     "text": [
      "วันที่อนุมัติ\n",
      "วันที่ทบทวนล่าสุด\n"
     ]
    }
   ],
   "source": [
    "date_col = ['วันที่อนุมัติ' , 'วันที่ทบทวนล่าสุด']\n",
    "for i in range(len(date_col)):\n",
    "  print(date_col[i])\n",
    "  df_out1[date_col[i]] = df_out1[date_col[i]].apply(lambda x : clean_date_out(x))\n",
    " # df_out1[date_col[i]] = pd.to_datetime( df_out1[date_col[i]] , format = '%d/%m/%Y')\n"
   ]
  },
  {
   "cell_type": "code",
   "execution_count": 17,
   "metadata": {
    "executionInfo": {
     "elapsed": 1436,
     "status": "ok",
     "timestamp": 1698733599127,
     "user": {
      "displayName": "Tharaphon Nitijiramon",
      "userId": "16915625665235536451"
     },
     "user_tz": -420
    },
    "id": "P3dJLkKUEprg"
   },
   "outputs": [],
   "source": [
    "df_out1 = df_out1.dropna(subset = ['ผู้ดูแลลูกค้า_(แยกส่วน)'])"
   ]
  },
  {
   "cell_type": "code",
   "execution_count": 18,
   "metadata": {
    "executionInfo": {
     "elapsed": 12,
     "status": "ok",
     "timestamp": 1698733599128,
     "user": {
      "displayName": "Tharaphon Nitijiramon",
      "userId": "16915625665235536451"
     },
     "user_tz": -420
    },
    "id": "udwMJlr8ErMQ"
   },
   "outputs": [],
   "source": [
    "def check_date_interval(a , b , start_date , end_date):\n",
    "  c = 0\n",
    "  if pd.isna(a) == False:\n",
    "    if (a >= start_date) and (a<= end_date):\n",
    "      c+=1\n",
    "  if pd.isna(b) == False:\n",
    "    if (b >= start_date) and (b <= end_date):\n",
    "      c +=1\n",
    "  return c"
   ]
  },
  {
   "cell_type": "code",
   "execution_count": 19,
   "metadata": {
    "colab": {
     "base_uri": "https://localhost:8080/"
    },
    "executionInfo": {
     "elapsed": 11,
     "status": "ok",
     "timestamp": 1698733599128,
     "user": {
      "displayName": "Tharaphon Nitijiramon",
      "userId": "16915625665235536451"
     },
     "user_tz": -420
    },
    "id": "-29dlviaEsgX",
    "outputId": "f6d93ab9-1d53-446b-da13-a3c2d3c0218d"
   },
   "outputs": [],
   "source": [
    "df_out1['is_in'] = df_out1.apply(lambda x : check_date_interval(x['วันที่อนุมัติ'] , x['วันที่ทบทวนล่าสุด'] , start_date , end_date) , axis = 1)"
   ]
  },
  {
   "cell_type": "code",
   "execution_count": 20,
   "metadata": {
    "colab": {
     "base_uri": "https://localhost:8080/",
     "height": 0
    },
    "executionInfo": {
     "elapsed": 9,
     "status": "ok",
     "timestamp": 1698733599128,
     "user": {
      "displayName": "Tharaphon Nitijiramon",
      "userId": "16915625665235536451"
     },
     "user_tz": -420
    },
    "id": "H4n-Mr5nEumG",
    "outputId": "f7ace36f-a406-49bd-b39c-a326baf34db6"
   },
   "outputs": [
    {
     "data": {
      "text/html": [
       "<div>\n",
       "<style scoped>\n",
       "    .dataframe tbody tr th:only-of-type {\n",
       "        vertical-align: middle;\n",
       "    }\n",
       "\n",
       "    .dataframe tbody tr th {\n",
       "        vertical-align: top;\n",
       "    }\n",
       "\n",
       "    .dataframe thead th {\n",
       "        text-align: right;\n",
       "    }\n",
       "</style>\n",
       "<table border=\"1\" class=\"dataframe\">\n",
       "  <thead>\n",
       "    <tr style=\"text-align: right;\">\n",
       "      <th></th>\n",
       "      <th>รหัสลูกค้า</th>\n",
       "      <th>ผู้ดูแลลูกค้า_(แยกส่วน)</th>\n",
       "      <th>ผู้ดูแลลูกค้า_(ตามฝ่าย)</th>\n",
       "      <th>วันที่อนุมัติ</th>\n",
       "      <th>วันที่ทบทวนล่าสุด</th>\n",
       "      <th>is_in</th>\n",
       "    </tr>\n",
       "  </thead>\n",
       "  <tbody>\n",
       "    <tr>\n",
       "      <th>0</th>\n",
       "      <td>G009336</td>\n",
       "      <td>สาขาพระราม 4</td>\n",
       "      <td>สาขาพระราม 4</td>\n",
       "      <td>2021-04-30</td>\n",
       "      <td>2023-08-02</td>\n",
       "      <td>0</td>\n",
       "    </tr>\n",
       "    <tr>\n",
       "      <th>1</th>\n",
       "      <td>G009336</td>\n",
       "      <td>สาขาพระราม 4</td>\n",
       "      <td>สาขาพระราม 4</td>\n",
       "      <td>2016-09-06</td>\n",
       "      <td>2023-08-02</td>\n",
       "      <td>0</td>\n",
       "    </tr>\n",
       "    <tr>\n",
       "      <th>2</th>\n",
       "      <td>G009336</td>\n",
       "      <td>สาขาพระราม 4</td>\n",
       "      <td>สาขาพระราม 4</td>\n",
       "      <td>2022-09-23</td>\n",
       "      <td>2023-08-02</td>\n",
       "      <td>0</td>\n",
       "    </tr>\n",
       "    <tr>\n",
       "      <th>3</th>\n",
       "      <td>G009348</td>\n",
       "      <td>ส่วนคดี</td>\n",
       "      <td>ฝ่ายบริหารหนี้และนิติกรรม</td>\n",
       "      <td>2015-04-09</td>\n",
       "      <td>2023-11-30</td>\n",
       "      <td>0</td>\n",
       "    </tr>\n",
       "    <tr>\n",
       "      <th>5</th>\n",
       "      <td>G009525</td>\n",
       "      <td>ส่วนอุตสาหกรรม 3.1</td>\n",
       "      <td>ฝ่ายกลุ่มอุตสาหกรรม 3</td>\n",
       "      <td>2010-02-12</td>\n",
       "      <td>2023-12-22</td>\n",
       "      <td>0</td>\n",
       "    </tr>\n",
       "  </tbody>\n",
       "</table>\n",
       "</div>"
      ],
      "text/plain": [
       "  รหัสลูกค้า ผู้ดูแลลูกค้า_(แยกส่วน)    ผู้ดูแลลูกค้า_(ตามฝ่าย) วันที่อนุมัติ  \\\n",
       "0    G009336            สาขาพระราม 4               สาขาพระราม 4    2021-04-30   \n",
       "1    G009336            สาขาพระราม 4               สาขาพระราม 4    2016-09-06   \n",
       "2    G009336            สาขาพระราม 4               สาขาพระราม 4    2022-09-23   \n",
       "3    G009348                 ส่วนคดี  ฝ่ายบริหารหนี้และนิติกรรม    2015-04-09   \n",
       "5    G009525      ส่วนอุตสาหกรรม 3.1      ฝ่ายกลุ่มอุตสาหกรรม 3    2010-02-12   \n",
       "\n",
       "  วันที่ทบทวนล่าสุด  is_in  \n",
       "0        2023-08-02      0  \n",
       "1        2023-08-02      0  \n",
       "2        2023-08-02      0  \n",
       "3        2023-11-30      0  \n",
       "5        2023-12-22      0  "
      ]
     },
     "execution_count": 20,
     "metadata": {},
     "output_type": "execute_result"
    }
   ],
   "source": [
    "df_out1.head()"
   ]
  },
  {
   "cell_type": "code",
   "execution_count": 21,
   "metadata": {
    "executionInfo": {
     "elapsed": 16745,
     "status": "ok",
     "timestamp": 1698733615867,
     "user": {
      "displayName": "Tharaphon Nitijiramon",
      "userId": "16915625665235536451"
     },
     "user_tz": -420
    },
    "id": "fwpFrwEqFC-n"
   },
   "outputs": [],
   "source": [
    "# Clean ข้อมูลให้เหลือ 1 บรรทัดก่อนของข้อมูล outstanding\n",
    "cus_list = df_out1['รหัสลูกค้า'].unique().tolist()\n",
    "df_out2 = pd.DataFrame()\n",
    "for i in range(len(cus_list)):\n",
    "  df_t = df_out1[df_out1['รหัสลูกค้า'] == cus_list[i]]\n",
    "\n",
    "  date1_min = min(list(df_t['วันที่อนุมัติ']))\n",
    "  date1_max = max(list(df_t['วันที่อนุมัติ']))\n",
    "\n",
    "  #date2_min = min(list(df_t['วันที่ทบทวนล่าสุด']))\n",
    "  date2_max = min(list(df_t['วันที่ทบทวนล่าสุด']))\n",
    "\n",
    "  df_t1 = df_t.head(1)\n",
    "  df_t1 = df_t1.drop(columns = ['วันที่อนุมัติ' , 'วันที่ทบทวนล่าสุด'])\n",
    "  df_t1['วันที่อนุมัติครั้งแรก'] = date1_min\n",
    "  df_t1['วันที่อนุมัติล่าสุด'] = date1_max\n",
    "  #df_t1['วันที่ทบทวนครั้งแรก'] = date2_min\n",
    "  df_t1['วันที่ทบทวนล่าสุด'] = date2_max\n",
    "\n",
    "  df_out2 = pd.concat([df_out2 , df_t1])"
   ]
  },
  {
   "cell_type": "code",
   "execution_count": 22,
   "metadata": {
    "executionInfo": {
     "elapsed": 24,
     "status": "ok",
     "timestamp": 1698733615867,
     "user": {
      "displayName": "Tharaphon Nitijiramon",
      "userId": "16915625665235536451"
     },
     "user_tz": -420
    },
    "id": "48C5xxwOFBV_"
   },
   "outputs": [],
   "source": [
    "df_cusin = df_out1[df_out1['is_in'] != 0][['รหัสลูกค้า']].drop_duplicates()"
   ]
  },
  {
   "cell_type": "code",
   "execution_count": 23,
   "metadata": {
    "executionInfo": {
     "elapsed": 23,
     "status": "ok",
     "timestamp": 1698733615867,
     "user": {
      "displayName": "Tharaphon Nitijiramon",
      "userId": "16915625665235536451"
     },
     "user_tz": -420
    },
    "id": "fausduZbFws0"
   },
   "outputs": [],
   "source": [
    "df_out3 = pd.merge(df_out2 , df_cusin , on = 'รหัสลูกค้า')"
   ]
  },
  {
   "cell_type": "code",
   "execution_count": 24,
   "metadata": {
    "colab": {
     "base_uri": "https://localhost:8080/"
    },
    "executionInfo": {
     "elapsed": 23,
     "status": "ok",
     "timestamp": 1698733615868,
     "user": {
      "displayName": "Tharaphon Nitijiramon",
      "userId": "16915625665235536451"
     },
     "user_tz": -420
    },
    "id": "nqBirpaEF1oX",
    "outputId": "963f418c-3e13-424f-f683-15b0dc7cab7d"
   },
   "outputs": [
    {
     "name": "stdout",
     "output_type": "stream",
     "text": [
      "8305 5089 1945\n"
     ]
    }
   ],
   "source": [
    "print(len(df_out1) , len(df_out2) , len(df_out3))"
   ]
  },
  {
   "cell_type": "code",
   "execution_count": 25,
   "metadata": {
    "executionInfo": {
     "elapsed": 22,
     "status": "ok",
     "timestamp": 1698733615868,
     "user": {
      "displayName": "Tharaphon Nitijiramon",
      "userId": "16915625665235536451"
     },
     "user_tz": -420
    },
    "id": "l9LMGGHLGmmN"
   },
   "outputs": [],
   "source": [
    "df_out4 = pd.merge(df_out3 , df_pm , on = 'รหัสลูกค้า' , how  ='left')"
   ]
  },
  {
   "cell_type": "code",
   "execution_count": 26,
   "metadata": {
    "colab": {
     "base_uri": "https://localhost:8080/",
     "height": 0
    },
    "executionInfo": {
     "elapsed": 22,
     "status": "ok",
     "timestamp": 1698733615868,
     "user": {
      "displayName": "Tharaphon Nitijiramon",
      "userId": "16915625665235536451"
     },
     "user_tz": -420
    },
    "id": "wq1lGGIFG0xS",
    "outputId": "a162a4d6-086d-4a6d-8283-3d3dc651f8bd"
   },
   "outputs": [
    {
     "data": {
      "text/html": [
       "<div>\n",
       "<style scoped>\n",
       "    .dataframe tbody tr th:only-of-type {\n",
       "        vertical-align: middle;\n",
       "    }\n",
       "\n",
       "    .dataframe tbody tr th {\n",
       "        vertical-align: top;\n",
       "    }\n",
       "\n",
       "    .dataframe thead th {\n",
       "        text-align: right;\n",
       "    }\n",
       "</style>\n",
       "<table border=\"1\" class=\"dataframe\">\n",
       "  <thead>\n",
       "    <tr style=\"text-align: right;\">\n",
       "      <th></th>\n",
       "      <th>รหัสลูกค้า</th>\n",
       "      <th>ผู้ดูแลลูกค้า_(แยกส่วน)</th>\n",
       "      <th>ผู้ดูแลลูกค้า_(ตามฝ่าย)</th>\n",
       "      <th>is_in</th>\n",
       "      <th>วันที่อนุมัติครั้งแรก</th>\n",
       "      <th>วันที่อนุมัติล่าสุด</th>\n",
       "      <th>วันที่ทบทวนล่าสุด</th>\n",
       "      <th>CUCTAXCS</th>\n",
       "    </tr>\n",
       "  </thead>\n",
       "  <tbody>\n",
       "    <tr>\n",
       "      <th>0</th>\n",
       "      <td>G020405</td>\n",
       "      <td>สาขาบางนา-ตราด กม.3</td>\n",
       "      <td>สาขาบางนา-ตราด กม.3</td>\n",
       "      <td>1</td>\n",
       "      <td>2013-02-22</td>\n",
       "      <td>2021-04-30</td>\n",
       "      <td>2024-03-22</td>\n",
       "      <td>0105545080243</td>\n",
       "    </tr>\n",
       "    <tr>\n",
       "      <th>1</th>\n",
       "      <td>G020405</td>\n",
       "      <td>สาขาบางนา-ตราด กม.3</td>\n",
       "      <td>สาขาบางนา-ตราด กม.3</td>\n",
       "      <td>1</td>\n",
       "      <td>2013-02-22</td>\n",
       "      <td>2021-04-30</td>\n",
       "      <td>2024-03-22</td>\n",
       "      <td>0105538144240</td>\n",
       "    </tr>\n",
       "    <tr>\n",
       "      <th>2</th>\n",
       "      <td>G020405</td>\n",
       "      <td>สาขาบางนา-ตราด กม.3</td>\n",
       "      <td>สาขาบางนา-ตราด กม.3</td>\n",
       "      <td>1</td>\n",
       "      <td>2013-02-22</td>\n",
       "      <td>2021-04-30</td>\n",
       "      <td>2024-03-22</td>\n",
       "      <td>0105548072225</td>\n",
       "    </tr>\n",
       "    <tr>\n",
       "      <th>3</th>\n",
       "      <td>G020405</td>\n",
       "      <td>สาขาบางนา-ตราด กม.3</td>\n",
       "      <td>สาขาบางนา-ตราด กม.3</td>\n",
       "      <td>1</td>\n",
       "      <td>2013-02-22</td>\n",
       "      <td>2021-04-30</td>\n",
       "      <td>2024-03-22</td>\n",
       "      <td>0105562130181</td>\n",
       "    </tr>\n",
       "    <tr>\n",
       "      <th>4</th>\n",
       "      <td>G020774</td>\n",
       "      <td>สาขาพระราม 4</td>\n",
       "      <td>สาขาพระราม 4</td>\n",
       "      <td>1</td>\n",
       "      <td>2012-07-26</td>\n",
       "      <td>2022-02-01</td>\n",
       "      <td>2024-03-12</td>\n",
       "      <td>0105530030512</td>\n",
       "    </tr>\n",
       "  </tbody>\n",
       "</table>\n",
       "</div>"
      ],
      "text/plain": [
       "  รหัสลูกค้า ผู้ดูแลลูกค้า_(แยกส่วน) ผู้ดูแลลูกค้า_(ตามฝ่าย)  is_in  \\\n",
       "0    G020405     สาขาบางนา-ตราด กม.3     สาขาบางนา-ตราด กม.3      1   \n",
       "1    G020405     สาขาบางนา-ตราด กม.3     สาขาบางนา-ตราด กม.3      1   \n",
       "2    G020405     สาขาบางนา-ตราด กม.3     สาขาบางนา-ตราด กม.3      1   \n",
       "3    G020405     สาขาบางนา-ตราด กม.3     สาขาบางนา-ตราด กม.3      1   \n",
       "4    G020774            สาขาพระราม 4            สาขาพระราม 4      1   \n",
       "\n",
       "  วันที่อนุมัติครั้งแรก วันที่อนุมัติล่าสุด วันที่ทบทวนล่าสุด       CUCTAXCS  \n",
       "0            2013-02-22          2021-04-30        2024-03-22  0105545080243  \n",
       "1            2013-02-22          2021-04-30        2024-03-22  0105538144240  \n",
       "2            2013-02-22          2021-04-30        2024-03-22  0105548072225  \n",
       "3            2013-02-22          2021-04-30        2024-03-22  0105562130181  \n",
       "4            2012-07-26          2022-02-01        2024-03-12  0105530030512  "
      ]
     },
     "execution_count": 26,
     "metadata": {},
     "output_type": "execute_result"
    }
   ],
   "source": [
    "#df_out4 = df_out4.drop(columns = ['is_in'])\n",
    "df_out4.head()"
   ]
  },
  {
   "cell_type": "markdown",
   "metadata": {
    "id": "0THeXfg36-Od"
   },
   "source": [
    "## Clean ENLITE File"
   ]
  },
  {
   "cell_type": "code",
   "execution_count": 27,
   "metadata": {
    "executionInfo": {
     "elapsed": 20,
     "status": "ok",
     "timestamp": 1698733615868,
     "user": {
      "displayName": "Tharaphon Nitijiramon",
      "userId": "16915625665235536451"
     },
     "user_tz": -420
    },
    "id": "8vVWHrlZ894Q"
   },
   "outputs": [],
   "source": [
    "#df_enl1 = df_enl[[ 'เลขทะเบียนนิติบุคคล (13 หลัก)',\n",
    "#       'ชื่อนิติบุคคลจดทะเบียนภาษาไทย', 'ชื่อนิติบุคคลจดทะเบียนภาษาอังกฤษ' , 'อำนาจกรรมการ' ,'% ที่ถือหุ้นของ Held By 1', '% ที่ถือหุ้นของ Held By 2',\n",
    "#       '% ที่ถือหุ้นของ Held By 3', '% ที่ถือหุ้นของ Held By 4',\n",
    "#       '% ที่ถือหุ้นของ Held By 5', '% ที่ถือหุ้นของ Held By 6',\n",
    "#       '% ที่ถือหุ้นของ Held By 7', '% ที่ถือหุ้นของ Held By 8',\n",
    "#       '% ที่ถือหุ้นของ Held By 9', '% ที่ถือหุ้นของ Held By 10',\n",
    "#       'ชื่อกรรมการ 1', 'ชื่อกรรมการ 2', 'ชื่อกรรมการ 3', 'ชื่อกรรมการ 4',\n",
    "#       'ชื่อกรรมการ 5', 'ชื่อกรรมการ 6', 'ชื่อกรรมการ 7', 'ชื่อกรรมการ 8',\n",
    "#       'ชื่อกรรมการ 9', 'ชื่อกรรมการ 10']]"
   ]
  },
  {
   "cell_type": "code",
   "execution_count": 28,
   "metadata": {},
   "outputs": [],
   "source": [
    "df_enl1 = df_enl[[ 'เลขทะเบียนนิติบุคคล (13 หลัก)',\n",
    "       'ชื่อนิติบุคคลจดทะเบียนภาษาไทย', 'ชื่อนิติบุคคลจดทะเบียนภาษาอังกฤษ' , 'อำนาจกรรมการ' ,'% ที่ถือหุ้นของ Held By 1', '% ที่ถือหุ้นของ Held By 2',\n",
    "       '% ที่ถือหุ้นของ Held By 3', '% ที่ถือหุ้นของ Held By 4',\n",
    "       '% ที่ถือหุ้นของ Held By 5',\n",
    "       'ชื่อกรรมการ 1', 'ชื่อกรรมการ 2', 'ชื่อกรรมการ 3', 'ชื่อกรรมการ 4',\n",
    "       'ชื่อกรรมการ 5']]"
   ]
  },
  {
   "cell_type": "code",
   "execution_count": 29,
   "metadata": {
    "executionInfo": {
     "elapsed": 20,
     "status": "ok",
     "timestamp": 1698733615868,
     "user": {
      "displayName": "Tharaphon Nitijiramon",
      "userId": "16915625665235536451"
     },
     "user_tz": -420
    },
    "id": "yBu9sqyj7CN4"
   },
   "outputs": [],
   "source": [
    "share_col = []\n",
    "director_col = []\n",
    "col_list =  df_enl1.columns.tolist()\n",
    "for i in range(len(col_list)):\n",
    "  if 'ชื่อกรรมการ' in col_list[i]:\n",
    "    director_col.append(col_list[i])\n",
    "  elif 'ที่ถือหุ้นของ' in col_list[i]:\n",
    "    share_col.append(col_list[i])"
   ]
  },
  {
   "cell_type": "code",
   "execution_count": 30,
   "metadata": {
    "executionInfo": {
     "elapsed": 19,
     "status": "ok",
     "timestamp": 1698733615868,
     "user": {
      "displayName": "Tharaphon Nitijiramon",
      "userId": "16915625665235536451"
     },
     "user_tz": -420
    },
    "id": "gNogeNpq8HgH"
   },
   "outputs": [],
   "source": [
    "id_list = df_enl1['เลขทะเบียนนิติบุคคล (13 หลัก)'].unique().tolist()"
   ]
  },
  {
   "cell_type": "code",
   "execution_count": 31,
   "metadata": {
    "executionInfo": {
     "elapsed": 62751,
     "status": "ok",
     "timestamp": 1698733678600,
     "user": {
      "displayName": "Tharaphon Nitijiramon",
      "userId": "16915625665235536451"
     },
     "user_tz": -420
    },
    "id": "Ms_fECiN9Xdn"
   },
   "outputs": [],
   "source": [
    "df_enl2 = pd.DataFrame()\n",
    "for i in range(len(id_list)):\n",
    "  df_t = df_enl1[df_enl1['เลขทะเบียนนิติบุคคล (13 หลัก)'] == id_list[i]]\n",
    "  df_t.reset_index(drop = True , inplace = True)\n",
    "  director_name = []\n",
    "  for m1 in range(len(director_col)):\n",
    "    if df_t.loc[0 , director_col[m1]] != '-':\n",
    "      director_name.append(df_t.loc[0 , director_col[m1]])\n",
    "  share_name = []\n",
    "  for m2 in range(len(share_col)):\n",
    "    if df_t.loc[0,share_col[m2]] != '-':\n",
    "      share_name.append(df_t.loc[0,share_col[m2]])\n",
    "\n",
    "  df_t1 = df_t.head(1)\n",
    "  for m3 in range(len(director_col)):\n",
    "    df_t1 = df_t1.drop(columns = [director_col[m3]])\n",
    "  for m4 in range(len(share_col)):\n",
    "    df_t1 = df_t1.drop(columns = [share_col[m4]])\n",
    "\n",
    "  df_t1_1 = pd.DataFrame()\n",
    "  df_t1_1['ชื่อผู้เกี่ยวข้อง'] = director_name\n",
    "  df_t1_1['ความเกี่ยวข้อง'] = 'กรรมการ'\n",
    "\n",
    "\n",
    "  df_t1_2 = pd.DataFrame()\n",
    "  df_t1_2['ชื่อผู้เกี่ยวข้อง'] = share_name\n",
    "  df_t1_2['ความเกี่ยวข้อง'] = 'ผู้ถือหุ้น'\n",
    "\n",
    "  df_t2 = pd.concat([df_t1_1 , df_t1_2])\n",
    "  df_t2.reset_index(drop = True , inplace = True)\n",
    "\n",
    "  fill_col = ['เลขทะเบียนนิติบุคคล (13 หลัก)', 'ชื่อนิติบุคคลจดทะเบียนภาษาไทย', 'ชื่อนิติบุคคลจดทะเบียนภาษาอังกฤษ' , 'อำนาจกรรมการ' ]\n",
    "  for n in range(len(fill_col)):\n",
    "    df_t2[fill_col[n]] = df_t.loc[0,fill_col[n]]\n",
    "\n",
    "  df_enl2 = pd.concat([df_enl2 , df_t2])"
   ]
  },
  {
   "cell_type": "code",
   "execution_count": 32,
   "metadata": {
    "executionInfo": {
     "elapsed": 12,
     "status": "ok",
     "timestamp": 1698733678600,
     "user": {
      "displayName": "Tharaphon Nitijiramon",
      "userId": "16915625665235536451"
     },
     "user_tz": -420
    },
    "id": "g7i4OjtiEzsb"
   },
   "outputs": [],
   "source": [
    "def clean_name_enl(a):\n",
    "  if pd.isna(a) == False:\n",
    "    if a == '-':\n",
    "      a = np.nan\n",
    "  return a"
   ]
  },
  {
   "cell_type": "code",
   "execution_count": 33,
   "metadata": {
    "executionInfo": {
     "elapsed": 10,
     "status": "ok",
     "timestamp": 1698733678600,
     "user": {
      "displayName": "Tharaphon Nitijiramon",
      "userId": "16915625665235536451"
     },
     "user_tz": -420
    },
    "id": "pZqkNdHoCaI-"
   },
   "outputs": [],
   "source": [
    "df_enl2['ชื่อผู้เกี่ยวข้อง'] = df_enl2['ชื่อผู้เกี่ยวข้อง'].apply(lambda x : clean_name_enl(x))"
   ]
  },
  {
   "cell_type": "code",
   "execution_count": 34,
   "metadata": {
    "executionInfo": {
     "elapsed": 11,
     "status": "ok",
     "timestamp": 1698733678601,
     "user": {
      "displayName": "Tharaphon Nitijiramon",
      "userId": "16915625665235536451"
     },
     "user_tz": -420
    },
    "id": "p6L0TH4jEnCx"
   },
   "outputs": [],
   "source": [
    "df_enl3 = df_enl2.dropna(subset = ['ชื่อผู้เกี่ยวข้อง'])"
   ]
  },
  {
   "cell_type": "code",
   "execution_count": 35,
   "metadata": {
    "colab": {
     "base_uri": "https://localhost:8080/"
    },
    "executionInfo": {
     "elapsed": 10,
     "status": "ok",
     "timestamp": 1698733678601,
     "user": {
      "displayName": "Tharaphon Nitijiramon",
      "userId": "16915625665235536451"
     },
     "user_tz": -420
    },
    "id": "GUwxc2RVFm1o",
    "outputId": "9d14395b-04a1-4a9a-a08c-794118045b5a"
   },
   "outputs": [
    {
     "name": "stdout",
     "output_type": "stream",
     "text": [
      "28584 28584\n"
     ]
    }
   ],
   "source": [
    "print(len(df_enl2) , len(df_enl3))"
   ]
  },
  {
   "cell_type": "code",
   "execution_count": 36,
   "metadata": {
    "colab": {
     "base_uri": "https://localhost:8080/",
     "height": 0
    },
    "executionInfo": {
     "elapsed": 8,
     "status": "ok",
     "timestamp": 1698733678601,
     "user": {
      "displayName": "Tharaphon Nitijiramon",
      "userId": "16915625665235536451"
     },
     "user_tz": -420
    },
    "id": "D_ak7UtdFvqp",
    "outputId": "091855da-11fb-41c3-ee94-341a136a40fe"
   },
   "outputs": [
    {
     "data": {
      "text/html": [
       "<div>\n",
       "<style scoped>\n",
       "    .dataframe tbody tr th:only-of-type {\n",
       "        vertical-align: middle;\n",
       "    }\n",
       "\n",
       "    .dataframe tbody tr th {\n",
       "        vertical-align: top;\n",
       "    }\n",
       "\n",
       "    .dataframe thead th {\n",
       "        text-align: right;\n",
       "    }\n",
       "</style>\n",
       "<table border=\"1\" class=\"dataframe\">\n",
       "  <thead>\n",
       "    <tr style=\"text-align: right;\">\n",
       "      <th></th>\n",
       "      <th>ชื่อผู้เกี่ยวข้อง</th>\n",
       "      <th>ความเกี่ยวข้อง</th>\n",
       "      <th>เลขทะเบียนนิติบุคคล (13 หลัก)</th>\n",
       "      <th>ชื่อนิติบุคคลจดทะเบียนภาษาไทย</th>\n",
       "      <th>ชื่อนิติบุคคลจดทะเบียนภาษาอังกฤษ</th>\n",
       "      <th>อำนาจกรรมการ</th>\n",
       "    </tr>\n",
       "  </thead>\n",
       "  <tbody>\n",
       "    <tr>\n",
       "      <th>0</th>\n",
       "      <td>จุฑารัตน์ จรัสภิญโญวงศ์</td>\n",
       "      <td>กรรมการ</td>\n",
       "      <td>0905545002431</td>\n",
       "      <td>บริษัท 11 วงจร เทรดดิ้ง แอนด์ โคลด์ สตอเรจ จำกัด</td>\n",
       "      <td>11 WONGJORN TRADING &amp; COLD STORAGE CO.,LTD.</td>\n",
       "      <td>นางสาวจุฑารัตน์ จรัสภิญโญวงศ์ หรือ นางสมบูรณ์ ...</td>\n",
       "    </tr>\n",
       "    <tr>\n",
       "      <th>1</th>\n",
       "      <td>สมบูรณ์ จรัสภิญโญวงศ์</td>\n",
       "      <td>กรรมการ</td>\n",
       "      <td>0905545002431</td>\n",
       "      <td>บริษัท 11 วงจร เทรดดิ้ง แอนด์ โคลด์ สตอเรจ จำกัด</td>\n",
       "      <td>11 WONGJORN TRADING &amp; COLD STORAGE CO.,LTD.</td>\n",
       "      <td>นางสาวจุฑารัตน์ จรัสภิญโญวงศ์ หรือ นางสมบูรณ์ ...</td>\n",
       "    </tr>\n",
       "    <tr>\n",
       "      <th>2</th>\n",
       "      <td>จุฑารัตน์ จรัสภิญโญวงศ์ (70.00%)</td>\n",
       "      <td>ผู้ถือหุ้น</td>\n",
       "      <td>0905545002431</td>\n",
       "      <td>บริษัท 11 วงจร เทรดดิ้ง แอนด์ โคลด์ สตอเรจ จำกัด</td>\n",
       "      <td>11 WONGJORN TRADING &amp; COLD STORAGE CO.,LTD.</td>\n",
       "      <td>นางสาวจุฑารัตน์ จรัสภิญโญวงศ์ หรือ นางสมบูรณ์ ...</td>\n",
       "    </tr>\n",
       "    <tr>\n",
       "      <th>3</th>\n",
       "      <td>เกรียงไกร จรัสภิญโญวงศ์ (10.00%)</td>\n",
       "      <td>ผู้ถือหุ้น</td>\n",
       "      <td>0905545002431</td>\n",
       "      <td>บริษัท 11 วงจร เทรดดิ้ง แอนด์ โคลด์ สตอเรจ จำกัด</td>\n",
       "      <td>11 WONGJORN TRADING &amp; COLD STORAGE CO.,LTD.</td>\n",
       "      <td>นางสาวจุฑารัตน์ จรัสภิญโญวงศ์ หรือ นางสมบูรณ์ ...</td>\n",
       "    </tr>\n",
       "    <tr>\n",
       "      <th>4</th>\n",
       "      <td>สมบูรณ์ จรัสภิญโญวงศ์ (10.00%)</td>\n",
       "      <td>ผู้ถือหุ้น</td>\n",
       "      <td>0905545002431</td>\n",
       "      <td>บริษัท 11 วงจร เทรดดิ้ง แอนด์ โคลด์ สตอเรจ จำกัด</td>\n",
       "      <td>11 WONGJORN TRADING &amp; COLD STORAGE CO.,LTD.</td>\n",
       "      <td>นางสาวจุฑารัตน์ จรัสภิญโญวงศ์ หรือ นางสมบูรณ์ ...</td>\n",
       "    </tr>\n",
       "  </tbody>\n",
       "</table>\n",
       "</div>"
      ],
      "text/plain": [
       "                  ชื่อผู้เกี่ยวข้อง ความเกี่ยวข้อง  \\\n",
       "0           จุฑารัตน์ จรัสภิญโญวงศ์        กรรมการ   \n",
       "1             สมบูรณ์ จรัสภิญโญวงศ์        กรรมการ   \n",
       "2  จุฑารัตน์ จรัสภิญโญวงศ์ (70.00%)     ผู้ถือหุ้น   \n",
       "3  เกรียงไกร จรัสภิญโญวงศ์ (10.00%)     ผู้ถือหุ้น   \n",
       "4    สมบูรณ์ จรัสภิญโญวงศ์ (10.00%)     ผู้ถือหุ้น   \n",
       "\n",
       "  เลขทะเบียนนิติบุคคล (13 หลัก)  \\\n",
       "0                 0905545002431   \n",
       "1                 0905545002431   \n",
       "2                 0905545002431   \n",
       "3                 0905545002431   \n",
       "4                 0905545002431   \n",
       "\n",
       "                      ชื่อนิติบุคคลจดทะเบียนภาษาไทย  \\\n",
       "0  บริษัท 11 วงจร เทรดดิ้ง แอนด์ โคลด์ สตอเรจ จำกัด   \n",
       "1  บริษัท 11 วงจร เทรดดิ้ง แอนด์ โคลด์ สตอเรจ จำกัด   \n",
       "2  บริษัท 11 วงจร เทรดดิ้ง แอนด์ โคลด์ สตอเรจ จำกัด   \n",
       "3  บริษัท 11 วงจร เทรดดิ้ง แอนด์ โคลด์ สตอเรจ จำกัด   \n",
       "4  บริษัท 11 วงจร เทรดดิ้ง แอนด์ โคลด์ สตอเรจ จำกัด   \n",
       "\n",
       "              ชื่อนิติบุคคลจดทะเบียนภาษาอังกฤษ  \\\n",
       "0  11 WONGJORN TRADING & COLD STORAGE CO.,LTD.   \n",
       "1  11 WONGJORN TRADING & COLD STORAGE CO.,LTD.   \n",
       "2  11 WONGJORN TRADING & COLD STORAGE CO.,LTD.   \n",
       "3  11 WONGJORN TRADING & COLD STORAGE CO.,LTD.   \n",
       "4  11 WONGJORN TRADING & COLD STORAGE CO.,LTD.   \n",
       "\n",
       "                                        อำนาจกรรมการ  \n",
       "0  นางสาวจุฑารัตน์ จรัสภิญโญวงศ์ หรือ นางสมบูรณ์ ...  \n",
       "1  นางสาวจุฑารัตน์ จรัสภิญโญวงศ์ หรือ นางสมบูรณ์ ...  \n",
       "2  นางสาวจุฑารัตน์ จรัสภิญโญวงศ์ หรือ นางสมบูรณ์ ...  \n",
       "3  นางสาวจุฑารัตน์ จรัสภิญโญวงศ์ หรือ นางสมบูรณ์ ...  \n",
       "4  นางสาวจุฑารัตน์ จรัสภิญโญวงศ์ หรือ นางสมบูรณ์ ...  "
      ]
     },
     "execution_count": 36,
     "metadata": {},
     "output_type": "execute_result"
    }
   ],
   "source": [
    "df_enl3.head()"
   ]
  },
  {
   "cell_type": "code",
   "execution_count": 37,
   "metadata": {
    "executionInfo": {
     "elapsed": 405,
     "status": "ok",
     "timestamp": 1698733679000,
     "user": {
      "displayName": "Tharaphon Nitijiramon",
      "userId": "16915625665235536451"
     },
     "user_tz": -420
    },
    "id": "uMpFPJE2Fx9K"
   },
   "outputs": [],
   "source": [
    "def split_share_percent(a):\n",
    "  b1 = np.nan\n",
    "  b2 = np.nan\n",
    "  if pd.isna(a) == False:\n",
    "    b = a.rsplit(' ' , 1)\n",
    "    b1 = b[0]\n",
    "    b1 = b1.lower()\n",
    "    b2 = b[1]\n",
    "    clean_str1 = ['(' , ')' , '%' , ' ']\n",
    "    for i in range(len(clean_str1)):\n",
    "      b2 = b2.replace(clean_str1[i] , '')\n",
    "    b2 = float(b2)\n",
    "    clean_str2 = [' ','ด็อกเตอร์','ดร.','ว่าที่','พล.อ.','พล.ท.','พล.ต.','พ.อ.','พ.ท.','พ.ต.','ร.อ.','ร.ท.','ร.ต.','จ.ส.อ.','จ.ส.ท.','จ.ส.ต','ส.อ.',\n",
    "                           'ส.ท.','ส.ต.',\n",
    "                          'พลฯ','นนร.','พล.ร.อ.','พล.ร.ท.','พล.ร.ต.','น.อ.','ร.น.','น.ท.','น.ต.','ร.อ.','ร.ท.','ร.ต.','พ.จ.อ.','พ.จ.ท.','พ.จ.ต.',\n",
    "                          'จ.อ.','จ.ท.','จ.ต.','พล.อ.อ.','พล.อ.ท.','พล.อ.ต.','พ.อ.อ.','พ.อ.ท.','พ.อ.ต.','นนอ.','นจอ.',\n",
    "                          'พล.ต.อ.','พล.ต.ท.','พล.ต.ต.','พ.ต.อ.','พ.ต.ท.','พ.ต.ต.','ร.ต.อ.','ร.ต.ท.','ร.ต.ต.','ด.ต.','จ.ส.ต.','ส.ต.อ.','ส.ต.ท.','ส.ต.ต.'\n",
    "                           ,'พลเอก','พลโท','พลตรี','พันเอก','พันโท','พันตรี','ร้อยเอก','ร้อยโท','ร้อยตรี','จ่าสิบเอก','จ่าสิบโท','จ่าสิบตรี','สิบเอก','สิบโท','สิบตรี','พลทหาร',\n",
    "                        'พลเรือเอก','พลเรือโท','พลเรือตรี','นาวาเอก','นาวาโท','นาวาตรี','เรือเอก','เรือโท','เรือตรี','พันจ่าเอก','พันจ่าโท','พันจ่าตรี','จ่าเอก','จ่าโท','จ่าตรี',\n",
    "                           'พลอากาศเอก' , 'พลอากาศโท','พลอากาศตรี','นาวาอากาศเอก','นาวาอากาศโท','นาวาอากาศตรี','เรืออากาศเอก','เรืออากาศโท' ,'เรืออากาศตรี',\n",
    "                           'พันจ่าอากาศเอก','พันจ่าอากาศโท','พันจ่าอากาศตรี','จ่าอากาศเอก','จ่าอากาศโท','จ่าอากาศตรี',\n",
    "                           'mr.','mrs.','ms.','limited','inc.','co., ltd.,','ltd','(ไทย)','(ประเทศไทย)',\n",
    "                        '','(',')','-','.',',','บริษัท','บจก','จำกัด','มหาชน','ห้างหุ้นส่วน','จำกัด','publiccompanylim','company','–','/']\n",
    "    for i in range(len(clean_str2)):\n",
    "      b1 = b1.replace(clean_str2[i] , '')\n",
    "  b1 = b1.replace('ฏ' , 'ฎ')\n",
    "  return b1 , b2"
   ]
  },
  {
   "cell_type": "code",
   "execution_count": 38,
   "metadata": {
    "executionInfo": {
     "elapsed": 3,
     "status": "ok",
     "timestamp": 1698733679000,
     "user": {
      "displayName": "Tharaphon Nitijiramon",
      "userId": "16915625665235536451"
     },
     "user_tz": -420
    },
    "id": "Bk9MVC-FNtfN"
   },
   "outputs": [],
   "source": [
    "df_s = df_enl3[df_enl3['ความเกี่ยวข้อง'] == 'ผู้ถือหุ้น']\n",
    "df_d = df_enl3[df_enl3['ความเกี่ยวข้อง'] == 'กรรมการ']"
   ]
  },
  {
   "cell_type": "code",
   "execution_count": 39,
   "metadata": {
    "colab": {
     "base_uri": "https://localhost:8080/"
    },
    "executionInfo": {
     "elapsed": 398,
     "status": "ok",
     "timestamp": 1698733679396,
     "user": {
      "displayName": "Tharaphon Nitijiramon",
      "userId": "16915625665235536451"
     },
     "user_tz": -420
    },
    "id": "nnlRahSNN5OW",
    "outputId": "e927a6bd-f79b-48e6-d398-8efbff4b018a"
   },
   "outputs": [
    {
     "name": "stderr",
     "output_type": "stream",
     "text": [
      "C:\\Users\\tharaphonn\\AppData\\Local\\Temp\\ipykernel_23224\\545980860.py:1: SettingWithCopyWarning: \n",
      "A value is trying to be set on a copy of a slice from a DataFrame.\n",
      "Try using .loc[row_indexer,col_indexer] = value instead\n",
      "\n",
      "See the caveats in the documentation: https://pandas.pydata.org/pandas-docs/stable/user_guide/indexing.html#returning-a-view-versus-a-copy\n",
      "  df_s['Name_clean'] , df_s['เปอร์เซ็นผู้ถือหุ้น'] = zip(*df_s['ชื่อผู้เกี่ยวข้อง'].apply(lambda x : split_share_percent(x)))\n",
      "C:\\Users\\tharaphonn\\AppData\\Local\\Temp\\ipykernel_23224\\545980860.py:1: SettingWithCopyWarning: \n",
      "A value is trying to be set on a copy of a slice from a DataFrame.\n",
      "Try using .loc[row_indexer,col_indexer] = value instead\n",
      "\n",
      "See the caveats in the documentation: https://pandas.pydata.org/pandas-docs/stable/user_guide/indexing.html#returning-a-view-versus-a-copy\n",
      "  df_s['Name_clean'] , df_s['เปอร์เซ็นผู้ถือหุ้น'] = zip(*df_s['ชื่อผู้เกี่ยวข้อง'].apply(lambda x : split_share_percent(x)))\n"
     ]
    }
   ],
   "source": [
    "df_s['Name_clean'] , df_s['เปอร์เซ็นผู้ถือหุ้น'] = zip(*df_s['ชื่อผู้เกี่ยวข้อง'].apply(lambda x : split_share_percent(x)))"
   ]
  },
  {
   "cell_type": "code",
   "execution_count": 40,
   "metadata": {
    "executionInfo": {
     "elapsed": 6,
     "status": "ok",
     "timestamp": 1698733679396,
     "user": {
      "displayName": "Tharaphon Nitijiramon",
      "userId": "16915625665235536451"
     },
     "user_tz": -420
    },
    "id": "csp6KCzSIhEu"
   },
   "outputs": [],
   "source": [
    "def clean_director(a):\n",
    "  if pd.isna(a) == False:\n",
    "    clean_str2 = [' ','ด็อกเตอร์','ดร.','ว่าที่','พล.อ.','พล.ท.','พล.ต.','พ.อ.','พ.ท.','พ.ต.','ร.อ.','ร.ท.','ร.ต.','จ.ส.อ.','จ.ส.ท.','จ.ส.ต','ส.อ.',\n",
    "                           'ส.ท.','ส.ต.',\n",
    "                          'พลฯ','นนร.','พล.ร.อ.','พล.ร.ท.','พล.ร.ต.','น.อ.','ร.น.','น.ท.','น.ต.','ร.อ.','ร.ท.','ร.ต.','พ.จ.อ.','พ.จ.ท.','พ.จ.ต.',\n",
    "                          'จ.อ.','จ.ท.','จ.ต.','พล.อ.อ.','พล.อ.ท.','พล.อ.ต.','พ.อ.อ.','พ.อ.ท.','พ.อ.ต.','นนอ.','นจอ.',\n",
    "                          'พล.ต.อ.','พล.ต.ท.','พล.ต.ต.','พ.ต.อ.','พ.ต.ท.','พ.ต.ต.','ร.ต.อ.','ร.ต.ท.','ร.ต.ต.','ด.ต.','จ.ส.ต.','ส.ต.อ.','ส.ต.ท.','ส.ต.ต.'\n",
    "                           ,'พลเอก','พลโท','พลตรี','พันเอก','พันโท','พันตรี','ร้อยเอก','ร้อยโท','ร้อยตรี','จ่าสิบเอก','จ่าสิบโท','จ่าสิบตรี','สิบเอก','สิบโท','สิบตรี','พลทหาร',\n",
    "                        'พลเรือเอก','พลเรือโท','พลเรือตรี','นาวาเอก','นาวาโท','นาวาตรี','เรือเอก','เรือโท','เรือตรี','พันจ่าเอก','พันจ่าโท','พันจ่าตรี','จ่าเอก','จ่าโท','จ่าตรี',\n",
    "                           'พลอากาศเอก' , 'พลอากาศโท','พลอากาศตรี','นาวาอากาศเอก','นาวาอากาศโท','นาวาอากาศตรี','เรืออากาศเอก','เรืออากาศโท' ,'เรืออากาศตรี',\n",
    "                           'พันจ่าอากาศเอก','พันจ่าอากาศโท','พันจ่าอากาศตรี','จ่าอากาศเอก','จ่าอากาศโท','จ่าอากาศตรี',\n",
    "                           'mr.','mrs.','ms.','limited','inc.','co., ltd.,','ltd','(ไทย)','(ประเทศไทย)',\n",
    "                        '','(',')','-','.',',','บริษัท','บจก','จำกัด','มหาชน','ห้างหุ้นส่วน','จำกัด','publiccompanylim','company','–','/']\n",
    "\n",
    "  for i in range(len(clean_str2)):\n",
    "    a = a.replace(clean_str2[i] , '')\n",
    "  a = a.replace('ฏ' , 'ฎ')\n",
    "\n",
    "  return a"
   ]
  },
  {
   "cell_type": "code",
   "execution_count": 41,
   "metadata": {
    "colab": {
     "base_uri": "https://localhost:8080/"
    },
    "executionInfo": {
     "elapsed": 482,
     "status": "ok",
     "timestamp": 1698733679873,
     "user": {
      "displayName": "Tharaphon Nitijiramon",
      "userId": "16915625665235536451"
     },
     "user_tz": -420
    },
    "id": "QFvu9tQRPN5a",
    "outputId": "abcdf0ca-e65f-4e85-aa91-908652668162"
   },
   "outputs": [
    {
     "name": "stderr",
     "output_type": "stream",
     "text": [
      "C:\\Users\\tharaphonn\\AppData\\Local\\Temp\\ipykernel_23224\\1359428930.py:1: SettingWithCopyWarning: \n",
      "A value is trying to be set on a copy of a slice from a DataFrame.\n",
      "Try using .loc[row_indexer,col_indexer] = value instead\n",
      "\n",
      "See the caveats in the documentation: https://pandas.pydata.org/pandas-docs/stable/user_guide/indexing.html#returning-a-view-versus-a-copy\n",
      "  df_d['Name_clean'] = df_d['ชื่อผู้เกี่ยวข้อง'].apply(lambda x : clean_director(x))\n"
     ]
    }
   ],
   "source": [
    "df_d['Name_clean'] = df_d['ชื่อผู้เกี่ยวข้อง'].apply(lambda x : clean_director(x))"
   ]
  },
  {
   "cell_type": "code",
   "execution_count": 42,
   "metadata": {
    "colab": {
     "base_uri": "https://localhost:8080/",
     "height": 0
    },
    "executionInfo": {
     "elapsed": 10,
     "status": "ok",
     "timestamp": 1698733679873,
     "user": {
      "displayName": "Tharaphon Nitijiramon",
      "userId": "16915625665235536451"
     },
     "user_tz": -420
    },
    "id": "Ekl9QvHrP9IJ",
    "outputId": "01f75281-3fee-40b7-835e-56d132185325"
   },
   "outputs": [
    {
     "data": {
      "text/html": [
       "<div>\n",
       "<style scoped>\n",
       "    .dataframe tbody tr th:only-of-type {\n",
       "        vertical-align: middle;\n",
       "    }\n",
       "\n",
       "    .dataframe tbody tr th {\n",
       "        vertical-align: top;\n",
       "    }\n",
       "\n",
       "    .dataframe thead th {\n",
       "        text-align: right;\n",
       "    }\n",
       "</style>\n",
       "<table border=\"1\" class=\"dataframe\">\n",
       "  <thead>\n",
       "    <tr style=\"text-align: right;\">\n",
       "      <th></th>\n",
       "      <th>ชื่อผู้เกี่ยวข้อง</th>\n",
       "      <th>ความเกี่ยวข้อง</th>\n",
       "      <th>เลขทะเบียนนิติบุคคล (13 หลัก)</th>\n",
       "      <th>ชื่อนิติบุคคลจดทะเบียนภาษาไทย</th>\n",
       "      <th>ชื่อนิติบุคคลจดทะเบียนภาษาอังกฤษ</th>\n",
       "      <th>อำนาจกรรมการ</th>\n",
       "      <th>Name_clean</th>\n",
       "    </tr>\n",
       "  </thead>\n",
       "  <tbody>\n",
       "    <tr>\n",
       "      <th>0</th>\n",
       "      <td>จุฑารัตน์ จรัสภิญโญวงศ์</td>\n",
       "      <td>กรรมการ</td>\n",
       "      <td>0905545002431</td>\n",
       "      <td>บริษัท 11 วงจร เทรดดิ้ง แอนด์ โคลด์ สตอเรจ จำกัด</td>\n",
       "      <td>11 WONGJORN TRADING &amp; COLD STORAGE CO.,LTD.</td>\n",
       "      <td>นางสาวจุฑารัตน์ จรัสภิญโญวงศ์ หรือ นางสมบูรณ์ ...</td>\n",
       "      <td>จุฑารัตน์จรัสภิญโญวงศ์</td>\n",
       "    </tr>\n",
       "    <tr>\n",
       "      <th>1</th>\n",
       "      <td>สมบูรณ์ จรัสภิญโญวงศ์</td>\n",
       "      <td>กรรมการ</td>\n",
       "      <td>0905545002431</td>\n",
       "      <td>บริษัท 11 วงจร เทรดดิ้ง แอนด์ โคลด์ สตอเรจ จำกัด</td>\n",
       "      <td>11 WONGJORN TRADING &amp; COLD STORAGE CO.,LTD.</td>\n",
       "      <td>นางสาวจุฑารัตน์ จรัสภิญโญวงศ์ หรือ นางสมบูรณ์ ...</td>\n",
       "      <td>สมบูรณ์จรัสภิญโญวงศ์</td>\n",
       "    </tr>\n",
       "    <tr>\n",
       "      <th>0</th>\n",
       "      <td>ปรัชญา อิทธิรส</td>\n",
       "      <td>กรรมการ</td>\n",
       "      <td>0505556011511</td>\n",
       "      <td>บริษัท 118 ทริปเปิ้ล พี  จำกัด</td>\n",
       "      <td>118 TRIPLE P CO.,LTD.</td>\n",
       "      <td>กรรมการหนึ่งคนลงลายมือชื่อและประทับตราสำคัญของ...</td>\n",
       "      <td>ปรัชญาอิทธิรส</td>\n",
       "    </tr>\n",
       "    <tr>\n",
       "      <th>1</th>\n",
       "      <td>ภาวิน อิทธิรส</td>\n",
       "      <td>กรรมการ</td>\n",
       "      <td>0505556011511</td>\n",
       "      <td>บริษัท 118 ทริปเปิ้ล พี  จำกัด</td>\n",
       "      <td>118 TRIPLE P CO.,LTD.</td>\n",
       "      <td>กรรมการหนึ่งคนลงลายมือชื่อและประทับตราสำคัญของ...</td>\n",
       "      <td>ภาวินอิทธิรส</td>\n",
       "    </tr>\n",
       "    <tr>\n",
       "      <th>0</th>\n",
       "      <td>ณัฏฐ์มาติกา ลลิดาสุตานันท์</td>\n",
       "      <td>กรรมการ</td>\n",
       "      <td>0115549002107</td>\n",
       "      <td>บริษัท 2 เอ็มเอ็น จำกัด</td>\n",
       "      <td>2 MN CO.,LTD.</td>\n",
       "      <td>กรรมการหนึ่งคนลงลายมือชื่อและประทับตราสำคัญของ...</td>\n",
       "      <td>ณัฎฐ์มาติกาลลิดาสุตานันท์</td>\n",
       "    </tr>\n",
       "  </tbody>\n",
       "</table>\n",
       "</div>"
      ],
      "text/plain": [
       "            ชื่อผู้เกี่ยวข้อง ความเกี่ยวข้อง เลขทะเบียนนิติบุคคล (13 หลัก)  \\\n",
       "0     จุฑารัตน์ จรัสภิญโญวงศ์        กรรมการ                 0905545002431   \n",
       "1       สมบูรณ์ จรัสภิญโญวงศ์        กรรมการ                 0905545002431   \n",
       "0              ปรัชญา อิทธิรส        กรรมการ                 0505556011511   \n",
       "1               ภาวิน อิทธิรส        กรรมการ                 0505556011511   \n",
       "0  ณัฏฐ์มาติกา ลลิดาสุตานันท์        กรรมการ                 0115549002107   \n",
       "\n",
       "                      ชื่อนิติบุคคลจดทะเบียนภาษาไทย  \\\n",
       "0  บริษัท 11 วงจร เทรดดิ้ง แอนด์ โคลด์ สตอเรจ จำกัด   \n",
       "1  บริษัท 11 วงจร เทรดดิ้ง แอนด์ โคลด์ สตอเรจ จำกัด   \n",
       "0                    บริษัท 118 ทริปเปิ้ล พี  จำกัด   \n",
       "1                    บริษัท 118 ทริปเปิ้ล พี  จำกัด   \n",
       "0                           บริษัท 2 เอ็มเอ็น จำกัด   \n",
       "\n",
       "              ชื่อนิติบุคคลจดทะเบียนภาษาอังกฤษ  \\\n",
       "0  11 WONGJORN TRADING & COLD STORAGE CO.,LTD.   \n",
       "1  11 WONGJORN TRADING & COLD STORAGE CO.,LTD.   \n",
       "0                        118 TRIPLE P CO.,LTD.   \n",
       "1                        118 TRIPLE P CO.,LTD.   \n",
       "0                                2 MN CO.,LTD.   \n",
       "\n",
       "                                        อำนาจกรรมการ  \\\n",
       "0  นางสาวจุฑารัตน์ จรัสภิญโญวงศ์ หรือ นางสมบูรณ์ ...   \n",
       "1  นางสาวจุฑารัตน์ จรัสภิญโญวงศ์ หรือ นางสมบูรณ์ ...   \n",
       "0  กรรมการหนึ่งคนลงลายมือชื่อและประทับตราสำคัญของ...   \n",
       "1  กรรมการหนึ่งคนลงลายมือชื่อและประทับตราสำคัญของ...   \n",
       "0  กรรมการหนึ่งคนลงลายมือชื่อและประทับตราสำคัญของ...   \n",
       "\n",
       "                  Name_clean  \n",
       "0     จุฑารัตน์จรัสภิญโญวงศ์  \n",
       "1       สมบูรณ์จรัสภิญโญวงศ์  \n",
       "0              ปรัชญาอิทธิรส  \n",
       "1               ภาวินอิทธิรส  \n",
       "0  ณัฎฐ์มาติกาลลิดาสุตานันท์  "
      ]
     },
     "execution_count": 42,
     "metadata": {},
     "output_type": "execute_result"
    }
   ],
   "source": [
    "df_d.head()"
   ]
  },
  {
   "cell_type": "code",
   "execution_count": 43,
   "metadata": {
    "executionInfo": {
     "elapsed": 9,
     "status": "ok",
     "timestamp": 1698733679873,
     "user": {
      "displayName": "Tharaphon Nitijiramon",
      "userId": "16915625665235536451"
     },
     "user_tz": -420
    },
    "id": "jUtdWrZ6SEYs"
   },
   "outputs": [],
   "source": [
    "def clean_power(x):\n",
    "  if pd.isna(x) == False:\n",
    "    x = x.lower()\n",
    "    x = x.strip()\n",
    "    x = x.replace(' ','')\n",
    "    str_level_list = ['ด็อกเตอร์','ดร.','ว่าที่','พล\\.อ\\.','พล\\.ท\\.','พล\\.ต\\.','พ\\.อ\\.','พ\\.ท\\.','พ\\.ต\\.','ร\\.อ\\.','ร\\.ท\\.','ร\\.ต\\.','จ\\.ส\\.อ.','จ\\.ส\\.ท.','จ\\.ส\\.ต','ส\\.อ\\.',\n",
    "                           'ส\\.ท\\.','ส\\.ต\\.',\n",
    "                          'พลฯ','นนร\\.','พล\\.ร\\.อ\\.','พล\\.ร\\.ท\\.','พล\\.ร\\.ต.','น\\.อ\\.','ร\\.น\\.','น\\.ท\\.','น\\.ต\\.','ร\\.อ\\.','ร\\.ท\\.','ร\\.ต\\.','พ\\.จ\\.อ.','พ\\.จ\\.ท.','พ\\.จ\\.ต.',\n",
    "                          'จ\\.อ\\.','จ\\.ท\\.','จ\\.ต\\.','พล\\.อ\\.อ.','พล\\.อ\\.ท\\.','พล\\.อ\\.ต\\.','พ\\.อ\\.อ\\.','พ\\.อ\\.ท\\.','พ\\.อ\\.ต\\.','นนอ\\.','นจอ\\.',\n",
    "                          'พล\\.ต\\.อ\\.','พล\\.ต\\.ท\\.','พล\\.ต\\.ต\\.','พ\\.ต\\.อ\\.','พ\\.ต\\.ท\\.','พ\\.ต\\.ต\\.','ร\\.ต\\.อ\\.','ร\\.ต\\.ท\\.','ร\\.ต\\.ต\\.','ด\\.ต\\.','จ\\.ส\\.ต\\.','ส\\.ต\\.อ\\.','ส\\.ต\\.ท\\.','ส\\.ต\\.ต\\.'\n",
    "                           ,'พลเอก','พลโท','พลตรี','พันเอก','พันโท','พันตรี','ร้อยเอก','ร้อยโท','ร้อยตรี','จ่าสิบเอก','จ่าสิบโท','จ่าสิบตรี','สิบเอก','สิบโท','สิบตรี','พลทหาร',\n",
    "                        'พลเรือเอก','พลเรือโท','พลเรือตรี','นาวาเอก','นาวาโท','นาวาตรี','เรือเอก','เรือโท','เรือตรี','พันจ่าเอก','พันจ่าโท','พันจ่าตรี','จ่าเอก','จ่าโท','จ่าตรี',\n",
    "                           'พลอากาศเอก' , 'พลอากาศโท','พลอากาศตรี','นาวาอากาศเอก','นาวาอากาศโท','นาวาอากาศตรี','เรืออากาศเอก','เรืออากาศโท' ,'เรืออากาศตรี',\n",
    "                           'พันจ่าอากาศเอก','พันจ่าอากาศโท','พันจ่าอากาศตรี','จ่าอากาศเอก','จ่าอากาศโท','จ่าอากาศตรี','mr.','mrs.','ms.']\n",
    "    det_str = ['mr.','mrs.','ms.','limited','inc.','co., ltd.,','ltd','(ไทย)','(ประเทศไทย)',\n",
    "                        '','(',')','-','.',',','บริษัท','บจก','จำกัด','มหาชน','ห้างหุ้นส่วน','จำกัด','publiccompanylim','company','–','/']\n",
    "    for i in range(len(str_level_list)):\n",
    "      x = x.replace(str_level_list[i],'นาย')\n",
    "    for i in range(len(det_str)):\n",
    "      x = x.replace(det_str[i],'')\n",
    "  x = x.replace('ฏ','ฎ')\n",
    "\n",
    "  return x"
   ]
  },
  {
   "cell_type": "code",
   "execution_count": 44,
   "metadata": {
    "colab": {
     "base_uri": "https://localhost:8080/"
    },
    "executionInfo": {
     "elapsed": 9,
     "status": "ok",
     "timestamp": 1698733679874,
     "user": {
      "displayName": "Tharaphon Nitijiramon",
      "userId": "16915625665235536451"
     },
     "user_tz": -420
    },
    "id": "WL2Gyf2hSbuF",
    "outputId": "6b423c89-991e-4fc8-8986-02f1011897a0"
   },
   "outputs": [
    {
     "name": "stderr",
     "output_type": "stream",
     "text": [
      "C:\\Users\\tharaphonn\\AppData\\Local\\Temp\\ipykernel_23224\\1870004402.py:1: SettingWithCopyWarning: \n",
      "A value is trying to be set on a copy of a slice from a DataFrame.\n",
      "Try using .loc[row_indexer,col_indexer] = value instead\n",
      "\n",
      "See the caveats in the documentation: https://pandas.pydata.org/pandas-docs/stable/user_guide/indexing.html#returning-a-view-versus-a-copy\n",
      "  df_d['อำนาจกรรมการ_clean'] = df_d['อำนาจกรรมการ'].apply(lambda x : clean_power(x))\n"
     ]
    }
   ],
   "source": [
    "df_d['อำนาจกรรมการ_clean'] = df_d['อำนาจกรรมการ'].apply(lambda x : clean_power(x))"
   ]
  },
  {
   "cell_type": "code",
   "execution_count": 45,
   "metadata": {
    "colab": {
     "base_uri": "https://localhost:8080/",
     "height": 0
    },
    "executionInfo": {
     "elapsed": 8,
     "status": "ok",
     "timestamp": 1698733679874,
     "user": {
      "displayName": "Tharaphon Nitijiramon",
      "userId": "16915625665235536451"
     },
     "user_tz": -420
    },
    "id": "cOGhMcjlS420",
    "outputId": "fa6bc8fa-35e3-48cf-bd5c-ab00c583c0c7"
   },
   "outputs": [
    {
     "data": {
      "text/html": [
       "<div>\n",
       "<style scoped>\n",
       "    .dataframe tbody tr th:only-of-type {\n",
       "        vertical-align: middle;\n",
       "    }\n",
       "\n",
       "    .dataframe tbody tr th {\n",
       "        vertical-align: top;\n",
       "    }\n",
       "\n",
       "    .dataframe thead th {\n",
       "        text-align: right;\n",
       "    }\n",
       "</style>\n",
       "<table border=\"1\" class=\"dataframe\">\n",
       "  <thead>\n",
       "    <tr style=\"text-align: right;\">\n",
       "      <th></th>\n",
       "      <th>ชื่อผู้เกี่ยวข้อง</th>\n",
       "      <th>ความเกี่ยวข้อง</th>\n",
       "      <th>เลขทะเบียนนิติบุคคล (13 หลัก)</th>\n",
       "      <th>ชื่อนิติบุคคลจดทะเบียนภาษาไทย</th>\n",
       "      <th>ชื่อนิติบุคคลจดทะเบียนภาษาอังกฤษ</th>\n",
       "      <th>อำนาจกรรมการ</th>\n",
       "      <th>Name_clean</th>\n",
       "      <th>อำนาจกรรมการ_clean</th>\n",
       "    </tr>\n",
       "  </thead>\n",
       "  <tbody>\n",
       "    <tr>\n",
       "      <th>0</th>\n",
       "      <td>จุฑารัตน์ จรัสภิญโญวงศ์</td>\n",
       "      <td>กรรมการ</td>\n",
       "      <td>0905545002431</td>\n",
       "      <td>บริษัท 11 วงจร เทรดดิ้ง แอนด์ โคลด์ สตอเรจ จำกัด</td>\n",
       "      <td>11 WONGJORN TRADING &amp; COLD STORAGE CO.,LTD.</td>\n",
       "      <td>นางสาวจุฑารัตน์ จรัสภิญโญวงศ์ หรือ นางสมบูรณ์ ...</td>\n",
       "      <td>จุฑารัตน์จรัสภิญโญวงศ์</td>\n",
       "      <td>นางสาวจุฑารัตน์จรัสภิญโญวงศ์หรือนางสมบูรณ์จรัส...</td>\n",
       "    </tr>\n",
       "    <tr>\n",
       "      <th>1</th>\n",
       "      <td>สมบูรณ์ จรัสภิญโญวงศ์</td>\n",
       "      <td>กรรมการ</td>\n",
       "      <td>0905545002431</td>\n",
       "      <td>บริษัท 11 วงจร เทรดดิ้ง แอนด์ โคลด์ สตอเรจ จำกัด</td>\n",
       "      <td>11 WONGJORN TRADING &amp; COLD STORAGE CO.,LTD.</td>\n",
       "      <td>นางสาวจุฑารัตน์ จรัสภิญโญวงศ์ หรือ นางสมบูรณ์ ...</td>\n",
       "      <td>สมบูรณ์จรัสภิญโญวงศ์</td>\n",
       "      <td>นางสาวจุฑารัตน์จรัสภิญโญวงศ์หรือนางสมบูรณ์จรัส...</td>\n",
       "    </tr>\n",
       "    <tr>\n",
       "      <th>0</th>\n",
       "      <td>ปรัชญา อิทธิรส</td>\n",
       "      <td>กรรมการ</td>\n",
       "      <td>0505556011511</td>\n",
       "      <td>บริษัท 118 ทริปเปิ้ล พี  จำกัด</td>\n",
       "      <td>118 TRIPLE P CO.,LTD.</td>\n",
       "      <td>กรรมการหนึ่งคนลงลายมือชื่อและประทับตราสำคัญของ...</td>\n",
       "      <td>ปรัชญาอิทธิรส</td>\n",
       "      <td>กรรมการหนึ่งคนลงลายมือชื่อและประทับตราสำคัญของ</td>\n",
       "    </tr>\n",
       "    <tr>\n",
       "      <th>1</th>\n",
       "      <td>ภาวิน อิทธิรส</td>\n",
       "      <td>กรรมการ</td>\n",
       "      <td>0505556011511</td>\n",
       "      <td>บริษัท 118 ทริปเปิ้ล พี  จำกัด</td>\n",
       "      <td>118 TRIPLE P CO.,LTD.</td>\n",
       "      <td>กรรมการหนึ่งคนลงลายมือชื่อและประทับตราสำคัญของ...</td>\n",
       "      <td>ภาวินอิทธิรส</td>\n",
       "      <td>กรรมการหนึ่งคนลงลายมือชื่อและประทับตราสำคัญของ</td>\n",
       "    </tr>\n",
       "    <tr>\n",
       "      <th>0</th>\n",
       "      <td>ณัฏฐ์มาติกา ลลิดาสุตานันท์</td>\n",
       "      <td>กรรมการ</td>\n",
       "      <td>0115549002107</td>\n",
       "      <td>บริษัท 2 เอ็มเอ็น จำกัด</td>\n",
       "      <td>2 MN CO.,LTD.</td>\n",
       "      <td>กรรมการหนึ่งคนลงลายมือชื่อและประทับตราสำคัญของ...</td>\n",
       "      <td>ณัฎฐ์มาติกาลลิดาสุตานันท์</td>\n",
       "      <td>กรรมการหนึ่งคนลงลายมือชื่อและประทับตราสำคัญของ</td>\n",
       "    </tr>\n",
       "  </tbody>\n",
       "</table>\n",
       "</div>"
      ],
      "text/plain": [
       "            ชื่อผู้เกี่ยวข้อง ความเกี่ยวข้อง เลขทะเบียนนิติบุคคล (13 หลัก)  \\\n",
       "0     จุฑารัตน์ จรัสภิญโญวงศ์        กรรมการ                 0905545002431   \n",
       "1       สมบูรณ์ จรัสภิญโญวงศ์        กรรมการ                 0905545002431   \n",
       "0              ปรัชญา อิทธิรส        กรรมการ                 0505556011511   \n",
       "1               ภาวิน อิทธิรส        กรรมการ                 0505556011511   \n",
       "0  ณัฏฐ์มาติกา ลลิดาสุตานันท์        กรรมการ                 0115549002107   \n",
       "\n",
       "                      ชื่อนิติบุคคลจดทะเบียนภาษาไทย  \\\n",
       "0  บริษัท 11 วงจร เทรดดิ้ง แอนด์ โคลด์ สตอเรจ จำกัด   \n",
       "1  บริษัท 11 วงจร เทรดดิ้ง แอนด์ โคลด์ สตอเรจ จำกัด   \n",
       "0                    บริษัท 118 ทริปเปิ้ล พี  จำกัด   \n",
       "1                    บริษัท 118 ทริปเปิ้ล พี  จำกัด   \n",
       "0                           บริษัท 2 เอ็มเอ็น จำกัด   \n",
       "\n",
       "              ชื่อนิติบุคคลจดทะเบียนภาษาอังกฤษ  \\\n",
       "0  11 WONGJORN TRADING & COLD STORAGE CO.,LTD.   \n",
       "1  11 WONGJORN TRADING & COLD STORAGE CO.,LTD.   \n",
       "0                        118 TRIPLE P CO.,LTD.   \n",
       "1                        118 TRIPLE P CO.,LTD.   \n",
       "0                                2 MN CO.,LTD.   \n",
       "\n",
       "                                        อำนาจกรรมการ  \\\n",
       "0  นางสาวจุฑารัตน์ จรัสภิญโญวงศ์ หรือ นางสมบูรณ์ ...   \n",
       "1  นางสาวจุฑารัตน์ จรัสภิญโญวงศ์ หรือ นางสมบูรณ์ ...   \n",
       "0  กรรมการหนึ่งคนลงลายมือชื่อและประทับตราสำคัญของ...   \n",
       "1  กรรมการหนึ่งคนลงลายมือชื่อและประทับตราสำคัญของ...   \n",
       "0  กรรมการหนึ่งคนลงลายมือชื่อและประทับตราสำคัญของ...   \n",
       "\n",
       "                  Name_clean  \\\n",
       "0     จุฑารัตน์จรัสภิญโญวงศ์   \n",
       "1       สมบูรณ์จรัสภิญโญวงศ์   \n",
       "0              ปรัชญาอิทธิรส   \n",
       "1               ภาวินอิทธิรส   \n",
       "0  ณัฎฐ์มาติกาลลิดาสุตานันท์   \n",
       "\n",
       "                                  อำนาจกรรมการ_clean  \n",
       "0  นางสาวจุฑารัตน์จรัสภิญโญวงศ์หรือนางสมบูรณ์จรัส...  \n",
       "1  นางสาวจุฑารัตน์จรัสภิญโญวงศ์หรือนางสมบูรณ์จรัส...  \n",
       "0     กรรมการหนึ่งคนลงลายมือชื่อและประทับตราสำคัญของ  \n",
       "1     กรรมการหนึ่งคนลงลายมือชื่อและประทับตราสำคัญของ  \n",
       "0     กรรมการหนึ่งคนลงลายมือชื่อและประทับตราสำคัญของ  "
      ]
     },
     "execution_count": 45,
     "metadata": {},
     "output_type": "execute_result"
    }
   ],
   "source": [
    "df_d.head()"
   ]
  },
  {
   "cell_type": "code",
   "execution_count": 46,
   "metadata": {
    "executionInfo": {
     "elapsed": 7,
     "status": "ok",
     "timestamp": 1698733679874,
     "user": {
      "displayName": "Tharaphon Nitijiramon",
      "userId": "16915625665235536451"
     },
     "user_tz": -420
    },
    "id": "oqE2u0jTS6Lu"
   },
   "outputs": [],
   "source": [
    "def check_director(a,b):\n",
    "  if pd.isna(b) == True:\n",
    "    c = np.nan\n",
    "  elif a in b:\n",
    "    c = 'มีอำนาจลงนาม'\n",
    "  elif '(1)' in b:\n",
    "    c = np.nan\n",
    "  elif ( ('นาย' in b) or ('นาง' in b) ) and a not in b:\n",
    "    c = 'ไม่มีอำนาจลงนาม'\n",
    "  elif b == 'ไม่มี':\n",
    "    c = np.nan\n",
    "  else:\n",
    "    c = 'มีอำนาจลงนาม'\n",
    "  return c"
   ]
  },
  {
   "cell_type": "code",
   "execution_count": 47,
   "metadata": {
    "colab": {
     "base_uri": "https://localhost:8080/"
    },
    "executionInfo": {
     "elapsed": 1048,
     "status": "ok",
     "timestamp": 1698733680915,
     "user": {
      "displayName": "Tharaphon Nitijiramon",
      "userId": "16915625665235536451"
     },
     "user_tz": -420
    },
    "id": "n9mhjFcSTKL9",
    "outputId": "e3971b19-83cd-4b1f-ec28-556590d05a5b"
   },
   "outputs": [
    {
     "name": "stderr",
     "output_type": "stream",
     "text": [
      "C:\\Users\\tharaphonn\\AppData\\Local\\Temp\\ipykernel_23224\\2444726065.py:1: SettingWithCopyWarning: \n",
      "A value is trying to be set on a copy of a slice from a DataFrame.\n",
      "Try using .loc[row_indexer,col_indexer] = value instead\n",
      "\n",
      "See the caveats in the documentation: https://pandas.pydata.org/pandas-docs/stable/user_guide/indexing.html#returning-a-view-versus-a-copy\n",
      "  df_d['อำนาจลงนาม'] = df_d.apply(lambda x : check_director(x['Name_clean'],x['อำนาจกรรมการ_clean']) , axis = 1)\n"
     ]
    }
   ],
   "source": [
    "df_d['อำนาจลงนาม'] = df_d.apply(lambda x : check_director(x['Name_clean'],x['อำนาจกรรมการ_clean']) , axis = 1)"
   ]
  },
  {
   "cell_type": "code",
   "execution_count": 48,
   "metadata": {
    "colab": {
     "base_uri": "https://localhost:8080/",
     "height": 0
    },
    "executionInfo": {
     "elapsed": 14,
     "status": "ok",
     "timestamp": 1698733680916,
     "user": {
      "displayName": "Tharaphon Nitijiramon",
      "userId": "16915625665235536451"
     },
     "user_tz": -420
    },
    "id": "kyJ8HZ1YTgGu",
    "outputId": "6e6111b3-2bf1-47c1-ee75-f64c064a5813"
   },
   "outputs": [
    {
     "data": {
      "text/html": [
       "<div>\n",
       "<style scoped>\n",
       "    .dataframe tbody tr th:only-of-type {\n",
       "        vertical-align: middle;\n",
       "    }\n",
       "\n",
       "    .dataframe tbody tr th {\n",
       "        vertical-align: top;\n",
       "    }\n",
       "\n",
       "    .dataframe thead th {\n",
       "        text-align: right;\n",
       "    }\n",
       "</style>\n",
       "<table border=\"1\" class=\"dataframe\">\n",
       "  <thead>\n",
       "    <tr style=\"text-align: right;\">\n",
       "      <th></th>\n",
       "      <th>ชื่อผู้เกี่ยวข้อง</th>\n",
       "      <th>ความเกี่ยวข้อง</th>\n",
       "      <th>เลขทะเบียนนิติบุคคล (13 หลัก)</th>\n",
       "      <th>ชื่อนิติบุคคลจดทะเบียนภาษาไทย</th>\n",
       "      <th>ชื่อนิติบุคคลจดทะเบียนภาษาอังกฤษ</th>\n",
       "      <th>อำนาจกรรมการ</th>\n",
       "      <th>Name_clean</th>\n",
       "      <th>อำนาจกรรมการ_clean</th>\n",
       "      <th>อำนาจลงนาม</th>\n",
       "    </tr>\n",
       "  </thead>\n",
       "  <tbody>\n",
       "    <tr>\n",
       "      <th>0</th>\n",
       "      <td>จุฑารัตน์ จรัสภิญโญวงศ์</td>\n",
       "      <td>กรรมการ</td>\n",
       "      <td>0905545002431</td>\n",
       "      <td>บริษัท 11 วงจร เทรดดิ้ง แอนด์ โคลด์ สตอเรจ จำกัด</td>\n",
       "      <td>11 WONGJORN TRADING &amp; COLD STORAGE CO.,LTD.</td>\n",
       "      <td>นางสาวจุฑารัตน์ จรัสภิญโญวงศ์ หรือ นางสมบูรณ์ ...</td>\n",
       "      <td>จุฑารัตน์จรัสภิญโญวงศ์</td>\n",
       "      <td>นางสาวจุฑารัตน์จรัสภิญโญวงศ์หรือนางสมบูรณ์จรัส...</td>\n",
       "      <td>มีอำนาจลงนาม</td>\n",
       "    </tr>\n",
       "    <tr>\n",
       "      <th>1</th>\n",
       "      <td>สมบูรณ์ จรัสภิญโญวงศ์</td>\n",
       "      <td>กรรมการ</td>\n",
       "      <td>0905545002431</td>\n",
       "      <td>บริษัท 11 วงจร เทรดดิ้ง แอนด์ โคลด์ สตอเรจ จำกัด</td>\n",
       "      <td>11 WONGJORN TRADING &amp; COLD STORAGE CO.,LTD.</td>\n",
       "      <td>นางสาวจุฑารัตน์ จรัสภิญโญวงศ์ หรือ นางสมบูรณ์ ...</td>\n",
       "      <td>สมบูรณ์จรัสภิญโญวงศ์</td>\n",
       "      <td>นางสาวจุฑารัตน์จรัสภิญโญวงศ์หรือนางสมบูรณ์จรัส...</td>\n",
       "      <td>มีอำนาจลงนาม</td>\n",
       "    </tr>\n",
       "    <tr>\n",
       "      <th>0</th>\n",
       "      <td>ปรัชญา อิทธิรส</td>\n",
       "      <td>กรรมการ</td>\n",
       "      <td>0505556011511</td>\n",
       "      <td>บริษัท 118 ทริปเปิ้ล พี  จำกัด</td>\n",
       "      <td>118 TRIPLE P CO.,LTD.</td>\n",
       "      <td>กรรมการหนึ่งคนลงลายมือชื่อและประทับตราสำคัญของ...</td>\n",
       "      <td>ปรัชญาอิทธิรส</td>\n",
       "      <td>กรรมการหนึ่งคนลงลายมือชื่อและประทับตราสำคัญของ</td>\n",
       "      <td>มีอำนาจลงนาม</td>\n",
       "    </tr>\n",
       "    <tr>\n",
       "      <th>1</th>\n",
       "      <td>ภาวิน อิทธิรส</td>\n",
       "      <td>กรรมการ</td>\n",
       "      <td>0505556011511</td>\n",
       "      <td>บริษัท 118 ทริปเปิ้ล พี  จำกัด</td>\n",
       "      <td>118 TRIPLE P CO.,LTD.</td>\n",
       "      <td>กรรมการหนึ่งคนลงลายมือชื่อและประทับตราสำคัญของ...</td>\n",
       "      <td>ภาวินอิทธิรส</td>\n",
       "      <td>กรรมการหนึ่งคนลงลายมือชื่อและประทับตราสำคัญของ</td>\n",
       "      <td>มีอำนาจลงนาม</td>\n",
       "    </tr>\n",
       "    <tr>\n",
       "      <th>0</th>\n",
       "      <td>ณัฏฐ์มาติกา ลลิดาสุตานันท์</td>\n",
       "      <td>กรรมการ</td>\n",
       "      <td>0115549002107</td>\n",
       "      <td>บริษัท 2 เอ็มเอ็น จำกัด</td>\n",
       "      <td>2 MN CO.,LTD.</td>\n",
       "      <td>กรรมการหนึ่งคนลงลายมือชื่อและประทับตราสำคัญของ...</td>\n",
       "      <td>ณัฎฐ์มาติกาลลิดาสุตานันท์</td>\n",
       "      <td>กรรมการหนึ่งคนลงลายมือชื่อและประทับตราสำคัญของ</td>\n",
       "      <td>มีอำนาจลงนาม</td>\n",
       "    </tr>\n",
       "  </tbody>\n",
       "</table>\n",
       "</div>"
      ],
      "text/plain": [
       "            ชื่อผู้เกี่ยวข้อง ความเกี่ยวข้อง เลขทะเบียนนิติบุคคล (13 หลัก)  \\\n",
       "0     จุฑารัตน์ จรัสภิญโญวงศ์        กรรมการ                 0905545002431   \n",
       "1       สมบูรณ์ จรัสภิญโญวงศ์        กรรมการ                 0905545002431   \n",
       "0              ปรัชญา อิทธิรส        กรรมการ                 0505556011511   \n",
       "1               ภาวิน อิทธิรส        กรรมการ                 0505556011511   \n",
       "0  ณัฏฐ์มาติกา ลลิดาสุตานันท์        กรรมการ                 0115549002107   \n",
       "\n",
       "                      ชื่อนิติบุคคลจดทะเบียนภาษาไทย  \\\n",
       "0  บริษัท 11 วงจร เทรดดิ้ง แอนด์ โคลด์ สตอเรจ จำกัด   \n",
       "1  บริษัท 11 วงจร เทรดดิ้ง แอนด์ โคลด์ สตอเรจ จำกัด   \n",
       "0                    บริษัท 118 ทริปเปิ้ล พี  จำกัด   \n",
       "1                    บริษัท 118 ทริปเปิ้ล พี  จำกัด   \n",
       "0                           บริษัท 2 เอ็มเอ็น จำกัด   \n",
       "\n",
       "              ชื่อนิติบุคคลจดทะเบียนภาษาอังกฤษ  \\\n",
       "0  11 WONGJORN TRADING & COLD STORAGE CO.,LTD.   \n",
       "1  11 WONGJORN TRADING & COLD STORAGE CO.,LTD.   \n",
       "0                        118 TRIPLE P CO.,LTD.   \n",
       "1                        118 TRIPLE P CO.,LTD.   \n",
       "0                                2 MN CO.,LTD.   \n",
       "\n",
       "                                        อำนาจกรรมการ  \\\n",
       "0  นางสาวจุฑารัตน์ จรัสภิญโญวงศ์ หรือ นางสมบูรณ์ ...   \n",
       "1  นางสาวจุฑารัตน์ จรัสภิญโญวงศ์ หรือ นางสมบูรณ์ ...   \n",
       "0  กรรมการหนึ่งคนลงลายมือชื่อและประทับตราสำคัญของ...   \n",
       "1  กรรมการหนึ่งคนลงลายมือชื่อและประทับตราสำคัญของ...   \n",
       "0  กรรมการหนึ่งคนลงลายมือชื่อและประทับตราสำคัญของ...   \n",
       "\n",
       "                  Name_clean  \\\n",
       "0     จุฑารัตน์จรัสภิญโญวงศ์   \n",
       "1       สมบูรณ์จรัสภิญโญวงศ์   \n",
       "0              ปรัชญาอิทธิรส   \n",
       "1               ภาวินอิทธิรส   \n",
       "0  ณัฎฐ์มาติกาลลิดาสุตานันท์   \n",
       "\n",
       "                                  อำนาจกรรมการ_clean    อำนาจลงนาม  \n",
       "0  นางสาวจุฑารัตน์จรัสภิญโญวงศ์หรือนางสมบูรณ์จรัส...  มีอำนาจลงนาม  \n",
       "1  นางสาวจุฑารัตน์จรัสภิญโญวงศ์หรือนางสมบูรณ์จรัส...  มีอำนาจลงนาม  \n",
       "0     กรรมการหนึ่งคนลงลายมือชื่อและประทับตราสำคัญของ  มีอำนาจลงนาม  \n",
       "1     กรรมการหนึ่งคนลงลายมือชื่อและประทับตราสำคัญของ  มีอำนาจลงนาม  \n",
       "0     กรรมการหนึ่งคนลงลายมือชื่อและประทับตราสำคัญของ  มีอำนาจลงนาม  "
      ]
     },
     "execution_count": 48,
     "metadata": {},
     "output_type": "execute_result"
    }
   ],
   "source": [
    "df_d.head()"
   ]
  },
  {
   "cell_type": "code",
   "execution_count": 49,
   "metadata": {
    "executionInfo": {
     "elapsed": 13,
     "status": "ok",
     "timestamp": 1698733680916,
     "user": {
      "displayName": "Tharaphon Nitijiramon",
      "userId": "16915625665235536451"
     },
     "user_tz": -420
    },
    "id": "1hkTLQE-T7lu"
   },
   "outputs": [],
   "source": [
    "df_s1 = df_s[df_s['เปอร์เซ็นผู้ถือหุ้น'] >= 20]\n",
    "# df_s1 = df_s.copy()"
   ]
  },
  {
   "cell_type": "code",
   "execution_count": 50,
   "metadata": {
    "executionInfo": {
     "elapsed": 12,
     "status": "ok",
     "timestamp": 1698733680916,
     "user": {
      "displayName": "Tharaphon Nitijiramon",
      "userId": "16915625665235536451"
     },
     "user_tz": -420
    },
    "id": "VDBF4z7nUD5B"
   },
   "outputs": [],
   "source": [
    "df_d1 = df_d[df_d['อำนาจลงนาม'] != 'ไม่มีอำนาจลงนาม']\n",
    "#df_d1 = df_d.copy()"
   ]
  },
  {
   "cell_type": "code",
   "execution_count": 51,
   "metadata": {
    "executionInfo": {
     "elapsed": 12,
     "status": "ok",
     "timestamp": 1698733680916,
     "user": {
      "displayName": "Tharaphon Nitijiramon",
      "userId": "16915625665235536451"
     },
     "user_tz": -420
    },
    "id": "rDE0yVVSThfd"
   },
   "outputs": [],
   "source": [
    "df_en1 = pd.concat([df_d1,df_s1])"
   ]
  },
  {
   "cell_type": "code",
   "execution_count": 52,
   "metadata": {
    "colab": {
     "base_uri": "https://localhost:8080/"
    },
    "executionInfo": {
     "elapsed": 12,
     "status": "ok",
     "timestamp": 1698733680916,
     "user": {
      "displayName": "Tharaphon Nitijiramon",
      "userId": "16915625665235536451"
     },
     "user_tz": -420
    },
    "id": "ilGLI4K40b78",
    "outputId": "8b4b29cc-6e00-4ae2-9a63-e3dbc08f1361"
   },
   "outputs": [
    {
     "name": "stdout",
     "output_type": "stream",
     "text": [
      "16911 9106 7805\n"
     ]
    }
   ],
   "source": [
    "print(len(df_en1) , len(df_d1) , len(df_s1))"
   ]
  },
  {
   "cell_type": "code",
   "execution_count": 53,
   "metadata": {
    "executionInfo": {
     "elapsed": 12,
     "status": "ok",
     "timestamp": 1698733680917,
     "user": {
      "displayName": "Tharaphon Nitijiramon",
      "userId": "16915625665235536451"
     },
     "user_tz": -420
    },
    "id": "ndf4cLn5TqQQ"
   },
   "outputs": [],
   "source": [
    "df_en1 =df_en1.drop(columns = ['อำนาจกรรมการ_clean'])"
   ]
  },
  {
   "cell_type": "code",
   "execution_count": 54,
   "metadata": {
    "executionInfo": {
     "elapsed": 10,
     "status": "ok",
     "timestamp": 1698733680917,
     "user": {
      "displayName": "Tharaphon Nitijiramon",
      "userId": "16915625665235536451"
     },
     "user_tz": -420
    },
    "id": "0CmFb9UWTtWE"
   },
   "outputs": [],
   "source": [
    "df_en1 = df_en1.sort_values(['เลขทะเบียนนิติบุคคล (13 หลัก)' , 'ความเกี่ยวข้อง'])"
   ]
  },
  {
   "cell_type": "code",
   "execution_count": 55,
   "metadata": {
    "colab": {
     "base_uri": "https://localhost:8080/",
     "height": 0
    },
    "executionInfo": {
     "elapsed": 10,
     "status": "ok",
     "timestamp": 1698733680917,
     "user": {
      "displayName": "Tharaphon Nitijiramon",
      "userId": "16915625665235536451"
     },
     "user_tz": -420
    },
    "id": "GHvuwgupT4MF",
    "outputId": "d3cb2332-de81-4e18-d174-dec7c114fcf1"
   },
   "outputs": [
    {
     "data": {
      "text/html": [
       "<div>\n",
       "<style scoped>\n",
       "    .dataframe tbody tr th:only-of-type {\n",
       "        vertical-align: middle;\n",
       "    }\n",
       "\n",
       "    .dataframe tbody tr th {\n",
       "        vertical-align: top;\n",
       "    }\n",
       "\n",
       "    .dataframe thead th {\n",
       "        text-align: right;\n",
       "    }\n",
       "</style>\n",
       "<table border=\"1\" class=\"dataframe\">\n",
       "  <thead>\n",
       "    <tr style=\"text-align: right;\">\n",
       "      <th></th>\n",
       "      <th>ชื่อผู้เกี่ยวข้อง</th>\n",
       "      <th>ความเกี่ยวข้อง</th>\n",
       "      <th>เลขทะเบียนนิติบุคคล (13 หลัก)</th>\n",
       "      <th>ชื่อนิติบุคคลจดทะเบียนภาษาไทย</th>\n",
       "      <th>ชื่อนิติบุคคลจดทะเบียนภาษาอังกฤษ</th>\n",
       "      <th>อำนาจกรรมการ</th>\n",
       "      <th>Name_clean</th>\n",
       "      <th>อำนาจลงนาม</th>\n",
       "      <th>เปอร์เซ็นผู้ถือหุ้น</th>\n",
       "    </tr>\n",
       "  </thead>\n",
       "  <tbody>\n",
       "    <tr>\n",
       "      <th>0</th>\n",
       "      <td>พรวิไล พันธุสิงห์</td>\n",
       "      <td>กรรมการ</td>\n",
       "      <td>0103512009670</td>\n",
       "      <td>ห้างหุ้นส่วนจำกัด เอ๊กโคคอนสตรั๊กชั่น อินยิเนี...</td>\n",
       "      <td>ECHO CONSTRUCTION ENGINEERING LIMITED PARTNERSHIP</td>\n",
       "      <td>ไม่มี</td>\n",
       "      <td>พรวิไลพันธุสิงห์</td>\n",
       "      <td>NaN</td>\n",
       "      <td>NaN</td>\n",
       "    </tr>\n",
       "    <tr>\n",
       "      <th>1</th>\n",
       "      <td>พรวิไล พันธุสิงห์ (99.80%)</td>\n",
       "      <td>ผู้ถือหุ้น</td>\n",
       "      <td>0103512009670</td>\n",
       "      <td>ห้างหุ้นส่วนจำกัด เอ๊กโคคอนสตรั๊กชั่น อินยิเนี...</td>\n",
       "      <td>ECHO CONSTRUCTION ENGINEERING LIMITED PARTNERSHIP</td>\n",
       "      <td>ไม่มี</td>\n",
       "      <td>พรวิไลพันธุสิงห์</td>\n",
       "      <td>NaN</td>\n",
       "      <td>99.80</td>\n",
       "    </tr>\n",
       "    <tr>\n",
       "      <th>0</th>\n",
       "      <td>จาตุรงค์ จรัสตระกูล</td>\n",
       "      <td>กรรมการ</td>\n",
       "      <td>0103517003998</td>\n",
       "      <td>ห้างหุ้นส่วนจำกัด จัตุรงค์คูลลิ่ง</td>\n",
       "      <td>CHATURONG COOLING LIMITED PARTNERSHIP</td>\n",
       "      <td>ไม่มี</td>\n",
       "      <td>จาตุรงค์จรัสตระกูล</td>\n",
       "      <td>NaN</td>\n",
       "      <td>NaN</td>\n",
       "    </tr>\n",
       "    <tr>\n",
       "      <th>1</th>\n",
       "      <td>จาตุรงค์ จรัสตระกูล (93.41%)</td>\n",
       "      <td>ผู้ถือหุ้น</td>\n",
       "      <td>0103517003998</td>\n",
       "      <td>ห้างหุ้นส่วนจำกัด จัตุรงค์คูลลิ่ง</td>\n",
       "      <td>CHATURONG COOLING LIMITED PARTNERSHIP</td>\n",
       "      <td>ไม่มี</td>\n",
       "      <td>จาตุรงค์จรัสตระกูล</td>\n",
       "      <td>NaN</td>\n",
       "      <td>93.41</td>\n",
       "    </tr>\n",
       "    <tr>\n",
       "      <th>0</th>\n",
       "      <td>ไชย เตชะสมบูรณากิจ</td>\n",
       "      <td>กรรมการ</td>\n",
       "      <td>0103521001856</td>\n",
       "      <td>ห้างหุ้นส่วนจำกัด โรงงานประดิษฐ์กรณ์เท็กซ์ไทล์</td>\n",
       "      <td>P.D.K.TEXTILE FACTORY LIMITED PARTNERSHIP</td>\n",
       "      <td>การทำนิติกรรมใด ๆ เพื่อให้มีผลผูกพันห้างหุ้นส่...</td>\n",
       "      <td>ไชยเตชะสมบูรณากิจ</td>\n",
       "      <td>มีอำนาจลงนาม</td>\n",
       "      <td>NaN</td>\n",
       "    </tr>\n",
       "  </tbody>\n",
       "</table>\n",
       "</div>"
      ],
      "text/plain": [
       "              ชื่อผู้เกี่ยวข้อง ความเกี่ยวข้อง เลขทะเบียนนิติบุคคล (13 หลัก)  \\\n",
       "0             พรวิไล พันธุสิงห์        กรรมการ                 0103512009670   \n",
       "1    พรวิไล พันธุสิงห์ (99.80%)     ผู้ถือหุ้น                 0103512009670   \n",
       "0           จาตุรงค์ จรัสตระกูล        กรรมการ                 0103517003998   \n",
       "1  จาตุรงค์ จรัสตระกูล (93.41%)     ผู้ถือหุ้น                 0103517003998   \n",
       "0            ไชย เตชะสมบูรณากิจ        กรรมการ                 0103521001856   \n",
       "\n",
       "                       ชื่อนิติบุคคลจดทะเบียนภาษาไทย  \\\n",
       "0  ห้างหุ้นส่วนจำกัด เอ๊กโคคอนสตรั๊กชั่น อินยิเนี...   \n",
       "1  ห้างหุ้นส่วนจำกัด เอ๊กโคคอนสตรั๊กชั่น อินยิเนี...   \n",
       "0                  ห้างหุ้นส่วนจำกัด จัตุรงค์คูลลิ่ง   \n",
       "1                  ห้างหุ้นส่วนจำกัด จัตุรงค์คูลลิ่ง   \n",
       "0     ห้างหุ้นส่วนจำกัด โรงงานประดิษฐ์กรณ์เท็กซ์ไทล์   \n",
       "\n",
       "                    ชื่อนิติบุคคลจดทะเบียนภาษาอังกฤษ  \\\n",
       "0  ECHO CONSTRUCTION ENGINEERING LIMITED PARTNERSHIP   \n",
       "1  ECHO CONSTRUCTION ENGINEERING LIMITED PARTNERSHIP   \n",
       "0              CHATURONG COOLING LIMITED PARTNERSHIP   \n",
       "1              CHATURONG COOLING LIMITED PARTNERSHIP   \n",
       "0          P.D.K.TEXTILE FACTORY LIMITED PARTNERSHIP   \n",
       "\n",
       "                                        อำนาจกรรมการ          Name_clean  \\\n",
       "0                                              ไม่มี    พรวิไลพันธุสิงห์   \n",
       "1                                              ไม่มี    พรวิไลพันธุสิงห์   \n",
       "0                                              ไม่มี  จาตุรงค์จรัสตระกูล   \n",
       "1                                              ไม่มี  จาตุรงค์จรัสตระกูล   \n",
       "0  การทำนิติกรรมใด ๆ เพื่อให้มีผลผูกพันห้างหุ้นส่...   ไชยเตชะสมบูรณากิจ   \n",
       "\n",
       "     อำนาจลงนาม  เปอร์เซ็นผู้ถือหุ้น  \n",
       "0           NaN                  NaN  \n",
       "1           NaN                99.80  \n",
       "0           NaN                  NaN  \n",
       "1           NaN                93.41  \n",
       "0  มีอำนาจลงนาม                  NaN  "
      ]
     },
     "execution_count": 55,
     "metadata": {},
     "output_type": "execute_result"
    }
   ],
   "source": [
    "df_en1.head()"
   ]
  },
  {
   "cell_type": "code",
   "execution_count": 56,
   "metadata": {
    "executionInfo": {
     "elapsed": 24517,
     "status": "ok",
     "timestamp": 1698733705425,
     "user": {
      "displayName": "Tharaphon Nitijiramon",
      "userId": "16915625665235536451"
     },
     "user_tz": -420
    },
    "id": "3EXS6nIPUVvc"
   },
   "outputs": [],
   "source": [
    "df_en2 = pd.DataFrame()\n",
    "cus_id = df_en1['เลขทะเบียนนิติบุคคล (13 หลัก)'].unique().tolist()\n",
    "for i in range(len(cus_id)):\n",
    "  df_t = df_en1[df_en1['เลขทะเบียนนิติบุคคล (13 หลัก)'] == cus_id[i]].copy()\n",
    "  name_list = df_t['Name_clean'].unique().tolist()\n",
    "  for j in range(len(name_list)):\n",
    "    df_t1 = df_t[df_t['Name_clean'] == name_list[j]]\n",
    "    df_t1.reset_index(drop = True , inplace = True)\n",
    "    a1 = df_t1.loc[0,'ความเกี่ยวข้อง']\n",
    "    a2 = df_t1.loc[0,'เปอร์เซ็นผู้ถือหุ้น']\n",
    "    if len(df_t1) > 1:\n",
    "      a2 = df_t1.loc[1,'เปอร์เซ็นผู้ถือหุ้น']\n",
    "    for k in range(1 , len(df_t1)):\n",
    "      a1 = a1 +'/' +df_t1.loc[k,'ความเกี่ยวข้อง']\n",
    "    df_t1.loc[0,'ความเกี่ยวข้อง'] = a1\n",
    "    df_t1.loc[0 , 'เปอร์เซ็นผู้ถือหุ้น'] = a2\n",
    "    df_t2 = df_t1.head(1)\n",
    "    df_en2 = pd.concat([df_en2 , df_t2])"
   ]
  },
  {
   "cell_type": "code",
   "execution_count": 57,
   "metadata": {
    "colab": {
     "base_uri": "https://localhost:8080/",
     "height": 0
    },
    "executionInfo": {
     "elapsed": 21,
     "status": "ok",
     "timestamp": 1698733705426,
     "user": {
      "displayName": "Tharaphon Nitijiramon",
      "userId": "16915625665235536451"
     },
     "user_tz": -420
    },
    "id": "fAoXNCqO5bLH",
    "outputId": "4b1c7ac2-b224-4df1-b5f3-03b39e59614b"
   },
   "outputs": [
    {
     "data": {
      "text/html": [
       "<div>\n",
       "<style scoped>\n",
       "    .dataframe tbody tr th:only-of-type {\n",
       "        vertical-align: middle;\n",
       "    }\n",
       "\n",
       "    .dataframe tbody tr th {\n",
       "        vertical-align: top;\n",
       "    }\n",
       "\n",
       "    .dataframe thead th {\n",
       "        text-align: right;\n",
       "    }\n",
       "</style>\n",
       "<table border=\"1\" class=\"dataframe\">\n",
       "  <thead>\n",
       "    <tr style=\"text-align: right;\">\n",
       "      <th></th>\n",
       "      <th>ชื่อผู้เกี่ยวข้อง</th>\n",
       "      <th>ความเกี่ยวข้อง</th>\n",
       "      <th>เลขทะเบียนนิติบุคคล (13 หลัก)</th>\n",
       "      <th>ชื่อนิติบุคคลจดทะเบียนภาษาไทย</th>\n",
       "      <th>ชื่อนิติบุคคลจดทะเบียนภาษาอังกฤษ</th>\n",
       "      <th>อำนาจกรรมการ</th>\n",
       "      <th>Name_clean</th>\n",
       "      <th>อำนาจลงนาม</th>\n",
       "      <th>เปอร์เซ็นผู้ถือหุ้น</th>\n",
       "    </tr>\n",
       "  </thead>\n",
       "  <tbody>\n",
       "    <tr>\n",
       "      <th>0</th>\n",
       "      <td>พรวิไล พันธุสิงห์</td>\n",
       "      <td>กรรมการ/ผู้ถือหุ้น</td>\n",
       "      <td>0103512009670</td>\n",
       "      <td>ห้างหุ้นส่วนจำกัด เอ๊กโคคอนสตรั๊กชั่น อินยิเนี...</td>\n",
       "      <td>ECHO CONSTRUCTION ENGINEERING LIMITED PARTNERSHIP</td>\n",
       "      <td>ไม่มี</td>\n",
       "      <td>พรวิไลพันธุสิงห์</td>\n",
       "      <td>NaN</td>\n",
       "      <td>99.80</td>\n",
       "    </tr>\n",
       "    <tr>\n",
       "      <th>0</th>\n",
       "      <td>จาตุรงค์ จรัสตระกูล</td>\n",
       "      <td>กรรมการ/ผู้ถือหุ้น</td>\n",
       "      <td>0103517003998</td>\n",
       "      <td>ห้างหุ้นส่วนจำกัด จัตุรงค์คูลลิ่ง</td>\n",
       "      <td>CHATURONG COOLING LIMITED PARTNERSHIP</td>\n",
       "      <td>ไม่มี</td>\n",
       "      <td>จาตุรงค์จรัสตระกูล</td>\n",
       "      <td>NaN</td>\n",
       "      <td>93.41</td>\n",
       "    </tr>\n",
       "    <tr>\n",
       "      <th>0</th>\n",
       "      <td>ไชย เตชะสมบูรณากิจ</td>\n",
       "      <td>กรรมการ/ผู้ถือหุ้น</td>\n",
       "      <td>0103521001856</td>\n",
       "      <td>ห้างหุ้นส่วนจำกัด โรงงานประดิษฐ์กรณ์เท็กซ์ไทล์</td>\n",
       "      <td>P.D.K.TEXTILE FACTORY LIMITED PARTNERSHIP</td>\n",
       "      <td>การทำนิติกรรมใด ๆ เพื่อให้มีผลผูกพันห้างหุ้นส่...</td>\n",
       "      <td>ไชยเตชะสมบูรณากิจ</td>\n",
       "      <td>มีอำนาจลงนาม</td>\n",
       "      <td>40.00</td>\n",
       "    </tr>\n",
       "    <tr>\n",
       "      <th>0</th>\n",
       "      <td>จุรี เตชะสมบูรณากิจ</td>\n",
       "      <td>กรรมการ</td>\n",
       "      <td>0103521001856</td>\n",
       "      <td>ห้างหุ้นส่วนจำกัด โรงงานประดิษฐ์กรณ์เท็กซ์ไทล์</td>\n",
       "      <td>P.D.K.TEXTILE FACTORY LIMITED PARTNERSHIP</td>\n",
       "      <td>การทำนิติกรรมใด ๆ เพื่อให้มีผลผูกพันห้างหุ้นส่...</td>\n",
       "      <td>จุรีเตชะสมบูรณากิจ</td>\n",
       "      <td>มีอำนาจลงนาม</td>\n",
       "      <td>NaN</td>\n",
       "    </tr>\n",
       "    <tr>\n",
       "      <th>0</th>\n",
       "      <td>ชาตรี เตชะสมบูรณากิจ</td>\n",
       "      <td>กรรมการ/ผู้ถือหุ้น</td>\n",
       "      <td>0103521001856</td>\n",
       "      <td>ห้างหุ้นส่วนจำกัด โรงงานประดิษฐ์กรณ์เท็กซ์ไทล์</td>\n",
       "      <td>P.D.K.TEXTILE FACTORY LIMITED PARTNERSHIP</td>\n",
       "      <td>การทำนิติกรรมใด ๆ เพื่อให้มีผลผูกพันห้างหุ้นส่...</td>\n",
       "      <td>ชาตรีเตชะสมบูรณากิจ</td>\n",
       "      <td>มีอำนาจลงนาม</td>\n",
       "      <td>30.00</td>\n",
       "    </tr>\n",
       "  </tbody>\n",
       "</table>\n",
       "</div>"
      ],
      "text/plain": [
       "      ชื่อผู้เกี่ยวข้อง      ความเกี่ยวข้อง เลขทะเบียนนิติบุคคล (13 หลัก)  \\\n",
       "0     พรวิไล พันธุสิงห์  กรรมการ/ผู้ถือหุ้น                 0103512009670   \n",
       "0   จาตุรงค์ จรัสตระกูล  กรรมการ/ผู้ถือหุ้น                 0103517003998   \n",
       "0    ไชย เตชะสมบูรณากิจ  กรรมการ/ผู้ถือหุ้น                 0103521001856   \n",
       "0   จุรี เตชะสมบูรณากิจ             กรรมการ                 0103521001856   \n",
       "0  ชาตรี เตชะสมบูรณากิจ  กรรมการ/ผู้ถือหุ้น                 0103521001856   \n",
       "\n",
       "                       ชื่อนิติบุคคลจดทะเบียนภาษาไทย  \\\n",
       "0  ห้างหุ้นส่วนจำกัด เอ๊กโคคอนสตรั๊กชั่น อินยิเนี...   \n",
       "0                  ห้างหุ้นส่วนจำกัด จัตุรงค์คูลลิ่ง   \n",
       "0     ห้างหุ้นส่วนจำกัด โรงงานประดิษฐ์กรณ์เท็กซ์ไทล์   \n",
       "0     ห้างหุ้นส่วนจำกัด โรงงานประดิษฐ์กรณ์เท็กซ์ไทล์   \n",
       "0     ห้างหุ้นส่วนจำกัด โรงงานประดิษฐ์กรณ์เท็กซ์ไทล์   \n",
       "\n",
       "                    ชื่อนิติบุคคลจดทะเบียนภาษาอังกฤษ  \\\n",
       "0  ECHO CONSTRUCTION ENGINEERING LIMITED PARTNERSHIP   \n",
       "0              CHATURONG COOLING LIMITED PARTNERSHIP   \n",
       "0          P.D.K.TEXTILE FACTORY LIMITED PARTNERSHIP   \n",
       "0          P.D.K.TEXTILE FACTORY LIMITED PARTNERSHIP   \n",
       "0          P.D.K.TEXTILE FACTORY LIMITED PARTNERSHIP   \n",
       "\n",
       "                                        อำนาจกรรมการ           Name_clean  \\\n",
       "0                                              ไม่มี     พรวิไลพันธุสิงห์   \n",
       "0                                              ไม่มี   จาตุรงค์จรัสตระกูล   \n",
       "0  การทำนิติกรรมใด ๆ เพื่อให้มีผลผูกพันห้างหุ้นส่...    ไชยเตชะสมบูรณากิจ   \n",
       "0  การทำนิติกรรมใด ๆ เพื่อให้มีผลผูกพันห้างหุ้นส่...   จุรีเตชะสมบูรณากิจ   \n",
       "0  การทำนิติกรรมใด ๆ เพื่อให้มีผลผูกพันห้างหุ้นส่...  ชาตรีเตชะสมบูรณากิจ   \n",
       "\n",
       "     อำนาจลงนาม  เปอร์เซ็นผู้ถือหุ้น  \n",
       "0           NaN                99.80  \n",
       "0           NaN                93.41  \n",
       "0  มีอำนาจลงนาม                40.00  \n",
       "0  มีอำนาจลงนาม                  NaN  \n",
       "0  มีอำนาจลงนาม                30.00  "
      ]
     },
     "execution_count": 57,
     "metadata": {},
     "output_type": "execute_result"
    }
   ],
   "source": [
    "df_en2.head()"
   ]
  },
  {
   "cell_type": "code",
   "execution_count": 58,
   "metadata": {
    "executionInfo": {
     "elapsed": 17,
     "status": "ok",
     "timestamp": 1698733705426,
     "user": {
      "displayName": "Tharaphon Nitijiramon",
      "userId": "16915625665235536451"
     },
     "user_tz": -420
    },
    "id": "WuUpm6gL708z"
   },
   "outputs": [],
   "source": [
    "df_en21 = df_en2.copy()"
   ]
  },
  {
   "cell_type": "code",
   "execution_count": 59,
   "metadata": {
    "executionInfo": {
     "elapsed": 15041,
     "status": "ok",
     "timestamp": 1698733720451,
     "user": {
      "displayName": "Tharaphon Nitijiramon",
      "userId": "16915625665235536451"
     },
     "user_tz": -420
    },
    "id": "B44LgT8R5zG7"
   },
   "outputs": [],
   "source": [
    "id_list = df_en2['เลขทะเบียนนิติบุคคล (13 หลัก)'].unique().tolist()\n",
    "df_en2 = pd.DataFrame()\n",
    "fill_col = ['ชื่อนิติบุคคลจดทะเบียนภาษาไทย' , 'ชื่อนิติบุคคลจดทะเบียนภาษาอังกฤษ']\n",
    "for i in range(len(id_list)):\n",
    "  df_t = df_en21[df_en21['เลขทะเบียนนิติบุคคล (13 หลัก)'] == id_list[i]]\n",
    "  df_t = df_t.sort_values(['ชื่อนิติบุคคลจดทะเบียนภาษาไทย'])\n",
    "  df_t.reset_index(drop = True , inplace = True)\n",
    "  if pd.isna(df_t.loc[0,'ชื่อนิติบุคคลจดทะเบียนภาษาไทย']) == False:\n",
    "    for j in range(len(fill_col)):\n",
    "      df_t[fill_col[j]] = df_t[fill_col[j]].fillna(df_t.loc[0,fill_col[j]])\n",
    "  df_en2 = pd.concat([df_en2 , df_t])"
   ]
  },
  {
   "cell_type": "code",
   "execution_count": 60,
   "metadata": {
    "colab": {
     "base_uri": "https://localhost:8080/"
    },
    "executionInfo": {
     "elapsed": 32,
     "status": "ok",
     "timestamp": 1698733720451,
     "user": {
      "displayName": "Tharaphon Nitijiramon",
      "userId": "16915625665235536451"
     },
     "user_tz": -420
    },
    "id": "3zT-0-nxt6zm",
    "outputId": "87eb5c3c-f472-4357-d26f-898c23e97206"
   },
   "outputs": [
    {
     "name": "stdout",
     "output_type": "stream",
     "text": [
      "16911 11513 11513\n"
     ]
    }
   ],
   "source": [
    "print(len(df_en1) , len(df_en21) , len(df_en2))"
   ]
  },
  {
   "cell_type": "code",
   "execution_count": 61,
   "metadata": {
    "colab": {
     "base_uri": "https://localhost:8080/"
    },
    "executionInfo": {
     "elapsed": 30,
     "status": "ok",
     "timestamp": 1698733720452,
     "user": {
      "displayName": "Tharaphon Nitijiramon",
      "userId": "16915625665235536451"
     },
     "user_tz": -420
    },
    "id": "UHnm6fiMulPB",
    "outputId": "fdb4b8dd-0e85-48bf-a125-6c23a4dde232"
   },
   "outputs": [
    {
     "name": "stdout",
     "output_type": "stream",
     "text": [
      "9998 9998\n"
     ]
    }
   ],
   "source": [
    "print(len(df_en1['Name_clean'].unique()) , len(df_en2['Name_clean'].unique()))"
   ]
  },
  {
   "cell_type": "code",
   "execution_count": 62,
   "metadata": {
    "colab": {
     "base_uri": "https://localhost:8080/"
    },
    "executionInfo": {
     "elapsed": 29,
     "status": "ok",
     "timestamp": 1698733720452,
     "user": {
      "displayName": "Tharaphon Nitijiramon",
      "userId": "16915625665235536451"
     },
     "user_tz": -420
    },
    "id": "vUjKa4CEu0Fv",
    "outputId": "d9cbb72d-985e-4237-d200-583c8cf54f2e"
   },
   "outputs": [
    {
     "name": "stdout",
     "output_type": "stream",
     "text": [
      "4994 4994\n"
     ]
    }
   ],
   "source": [
    "print(len(df_en1['เลขทะเบียนนิติบุคคล (13 หลัก)'].unique()) , len(df_en2['เลขทะเบียนนิติบุคคล (13 หลัก)'].unique()))"
   ]
  },
  {
   "cell_type": "code",
   "execution_count": 63,
   "metadata": {
    "executionInfo": {
     "elapsed": 29,
     "status": "ok",
     "timestamp": 1698733720452,
     "user": {
      "displayName": "Tharaphon Nitijiramon",
      "userId": "16915625665235536451"
     },
     "user_tz": -420
    },
    "id": "CgY40rKivdmo"
   },
   "outputs": [],
   "source": [
    "df_en2.reset_index(drop = True , inplace = True)"
   ]
  },
  {
   "cell_type": "code",
   "execution_count": 64,
   "metadata": {
    "colab": {
     "base_uri": "https://localhost:8080/"
    },
    "executionInfo": {
     "elapsed": 28,
     "status": "ok",
     "timestamp": 1698733720452,
     "user": {
      "displayName": "Tharaphon Nitijiramon",
      "userId": "16915625665235536451"
     },
     "user_tz": -420
    },
    "id": "Y2Ol4nPf1Z6v",
    "outputId": "9f7b36f4-f7e3-49ad-983b-2a9488181f8a"
   },
   "outputs": [
    {
     "data": {
      "text/plain": [
       "11513"
      ]
     },
     "execution_count": 64,
     "metadata": {},
     "output_type": "execute_result"
    }
   ],
   "source": [
    "len(df_en2)"
   ]
  },
  {
   "cell_type": "code",
   "execution_count": 65,
   "metadata": {
    "colab": {
     "base_uri": "https://localhost:8080/",
     "height": 0
    },
    "executionInfo": {
     "elapsed": 28,
     "status": "ok",
     "timestamp": 1698733720452,
     "user": {
      "displayName": "Tharaphon Nitijiramon",
      "userId": "16915625665235536451"
     },
     "user_tz": -420
    },
    "id": "AluzOCmlVrr0",
    "outputId": "44233f9d-5343-42f0-a3dc-e8a70621ec6f"
   },
   "outputs": [
    {
     "data": {
      "text/html": [
       "<div>\n",
       "<style scoped>\n",
       "    .dataframe tbody tr th:only-of-type {\n",
       "        vertical-align: middle;\n",
       "    }\n",
       "\n",
       "    .dataframe tbody tr th {\n",
       "        vertical-align: top;\n",
       "    }\n",
       "\n",
       "    .dataframe thead th {\n",
       "        text-align: right;\n",
       "    }\n",
       "</style>\n",
       "<table border=\"1\" class=\"dataframe\">\n",
       "  <thead>\n",
       "    <tr style=\"text-align: right;\">\n",
       "      <th></th>\n",
       "      <th>ชื่อผู้เกี่ยวข้อง</th>\n",
       "      <th>ความเกี่ยวข้อง</th>\n",
       "      <th>เลขทะเบียนนิติบุคคล (13 หลัก)</th>\n",
       "      <th>ชื่อนิติบุคคลจดทะเบียนภาษาไทย</th>\n",
       "      <th>ชื่อนิติบุคคลจดทะเบียนภาษาอังกฤษ</th>\n",
       "      <th>อำนาจกรรมการ</th>\n",
       "      <th>Name_clean</th>\n",
       "      <th>อำนาจลงนาม</th>\n",
       "      <th>เปอร์เซ็นผู้ถือหุ้น</th>\n",
       "    </tr>\n",
       "  </thead>\n",
       "  <tbody>\n",
       "    <tr>\n",
       "      <th>0</th>\n",
       "      <td>พรวิไล พันธุสิงห์</td>\n",
       "      <td>กรรมการ/ผู้ถือหุ้น</td>\n",
       "      <td>0103512009670</td>\n",
       "      <td>ห้างหุ้นส่วนจำกัด เอ๊กโคคอนสตรั๊กชั่น อินยิเนี...</td>\n",
       "      <td>ECHO CONSTRUCTION ENGINEERING LIMITED PARTNERSHIP</td>\n",
       "      <td>ไม่มี</td>\n",
       "      <td>พรวิไลพันธุสิงห์</td>\n",
       "      <td>NaN</td>\n",
       "      <td>99.80</td>\n",
       "    </tr>\n",
       "    <tr>\n",
       "      <th>1</th>\n",
       "      <td>จาตุรงค์ จรัสตระกูล</td>\n",
       "      <td>กรรมการ/ผู้ถือหุ้น</td>\n",
       "      <td>0103517003998</td>\n",
       "      <td>ห้างหุ้นส่วนจำกัด จัตุรงค์คูลลิ่ง</td>\n",
       "      <td>CHATURONG COOLING LIMITED PARTNERSHIP</td>\n",
       "      <td>ไม่มี</td>\n",
       "      <td>จาตุรงค์จรัสตระกูล</td>\n",
       "      <td>NaN</td>\n",
       "      <td>93.41</td>\n",
       "    </tr>\n",
       "    <tr>\n",
       "      <th>2</th>\n",
       "      <td>ไชย เตชะสมบูรณากิจ</td>\n",
       "      <td>กรรมการ/ผู้ถือหุ้น</td>\n",
       "      <td>0103521001856</td>\n",
       "      <td>ห้างหุ้นส่วนจำกัด โรงงานประดิษฐ์กรณ์เท็กซ์ไทล์</td>\n",
       "      <td>P.D.K.TEXTILE FACTORY LIMITED PARTNERSHIP</td>\n",
       "      <td>การทำนิติกรรมใด ๆ เพื่อให้มีผลผูกพันห้างหุ้นส่...</td>\n",
       "      <td>ไชยเตชะสมบูรณากิจ</td>\n",
       "      <td>มีอำนาจลงนาม</td>\n",
       "      <td>40.00</td>\n",
       "    </tr>\n",
       "    <tr>\n",
       "      <th>3</th>\n",
       "      <td>จุรี เตชะสมบูรณากิจ</td>\n",
       "      <td>กรรมการ</td>\n",
       "      <td>0103521001856</td>\n",
       "      <td>ห้างหุ้นส่วนจำกัด โรงงานประดิษฐ์กรณ์เท็กซ์ไทล์</td>\n",
       "      <td>P.D.K.TEXTILE FACTORY LIMITED PARTNERSHIP</td>\n",
       "      <td>การทำนิติกรรมใด ๆ เพื่อให้มีผลผูกพันห้างหุ้นส่...</td>\n",
       "      <td>จุรีเตชะสมบูรณากิจ</td>\n",
       "      <td>มีอำนาจลงนาม</td>\n",
       "      <td>NaN</td>\n",
       "    </tr>\n",
       "    <tr>\n",
       "      <th>4</th>\n",
       "      <td>ชาตรี เตชะสมบูรณากิจ</td>\n",
       "      <td>กรรมการ/ผู้ถือหุ้น</td>\n",
       "      <td>0103521001856</td>\n",
       "      <td>ห้างหุ้นส่วนจำกัด โรงงานประดิษฐ์กรณ์เท็กซ์ไทล์</td>\n",
       "      <td>P.D.K.TEXTILE FACTORY LIMITED PARTNERSHIP</td>\n",
       "      <td>การทำนิติกรรมใด ๆ เพื่อให้มีผลผูกพันห้างหุ้นส่...</td>\n",
       "      <td>ชาตรีเตชะสมบูรณากิจ</td>\n",
       "      <td>มีอำนาจลงนาม</td>\n",
       "      <td>30.00</td>\n",
       "    </tr>\n",
       "  </tbody>\n",
       "</table>\n",
       "</div>"
      ],
      "text/plain": [
       "      ชื่อผู้เกี่ยวข้อง      ความเกี่ยวข้อง เลขทะเบียนนิติบุคคล (13 หลัก)  \\\n",
       "0     พรวิไล พันธุสิงห์  กรรมการ/ผู้ถือหุ้น                 0103512009670   \n",
       "1   จาตุรงค์ จรัสตระกูล  กรรมการ/ผู้ถือหุ้น                 0103517003998   \n",
       "2    ไชย เตชะสมบูรณากิจ  กรรมการ/ผู้ถือหุ้น                 0103521001856   \n",
       "3   จุรี เตชะสมบูรณากิจ             กรรมการ                 0103521001856   \n",
       "4  ชาตรี เตชะสมบูรณากิจ  กรรมการ/ผู้ถือหุ้น                 0103521001856   \n",
       "\n",
       "                       ชื่อนิติบุคคลจดทะเบียนภาษาไทย  \\\n",
       "0  ห้างหุ้นส่วนจำกัด เอ๊กโคคอนสตรั๊กชั่น อินยิเนี...   \n",
       "1                  ห้างหุ้นส่วนจำกัด จัตุรงค์คูลลิ่ง   \n",
       "2     ห้างหุ้นส่วนจำกัด โรงงานประดิษฐ์กรณ์เท็กซ์ไทล์   \n",
       "3     ห้างหุ้นส่วนจำกัด โรงงานประดิษฐ์กรณ์เท็กซ์ไทล์   \n",
       "4     ห้างหุ้นส่วนจำกัด โรงงานประดิษฐ์กรณ์เท็กซ์ไทล์   \n",
       "\n",
       "                    ชื่อนิติบุคคลจดทะเบียนภาษาอังกฤษ  \\\n",
       "0  ECHO CONSTRUCTION ENGINEERING LIMITED PARTNERSHIP   \n",
       "1              CHATURONG COOLING LIMITED PARTNERSHIP   \n",
       "2          P.D.K.TEXTILE FACTORY LIMITED PARTNERSHIP   \n",
       "3          P.D.K.TEXTILE FACTORY LIMITED PARTNERSHIP   \n",
       "4          P.D.K.TEXTILE FACTORY LIMITED PARTNERSHIP   \n",
       "\n",
       "                                        อำนาจกรรมการ           Name_clean  \\\n",
       "0                                              ไม่มี     พรวิไลพันธุสิงห์   \n",
       "1                                              ไม่มี   จาตุรงค์จรัสตระกูล   \n",
       "2  การทำนิติกรรมใด ๆ เพื่อให้มีผลผูกพันห้างหุ้นส่...    ไชยเตชะสมบูรณากิจ   \n",
       "3  การทำนิติกรรมใด ๆ เพื่อให้มีผลผูกพันห้างหุ้นส่...   จุรีเตชะสมบูรณากิจ   \n",
       "4  การทำนิติกรรมใด ๆ เพื่อให้มีผลผูกพันห้างหุ้นส่...  ชาตรีเตชะสมบูรณากิจ   \n",
       "\n",
       "     อำนาจลงนาม  เปอร์เซ็นผู้ถือหุ้น  \n",
       "0           NaN                99.80  \n",
       "1           NaN                93.41  \n",
       "2  มีอำนาจลงนาม                40.00  \n",
       "3  มีอำนาจลงนาม                  NaN  \n",
       "4  มีอำนาจลงนาม                30.00  "
      ]
     },
     "execution_count": 65,
     "metadata": {},
     "output_type": "execute_result"
    }
   ],
   "source": [
    "df_en2.head()"
   ]
  },
  {
   "cell_type": "markdown",
   "metadata": {
    "id": "uAhnVEV-IXxS"
   },
   "source": [
    "## เลือก File ENLITE ในขอบเขต"
   ]
  },
  {
   "cell_type": "code",
   "execution_count": 66,
   "metadata": {
    "colab": {
     "base_uri": "https://localhost:8080/",
     "height": 0
    },
    "executionInfo": {
     "elapsed": 26,
     "status": "ok",
     "timestamp": 1698733720452,
     "user": {
      "displayName": "Tharaphon Nitijiramon",
      "userId": "16915625665235536451"
     },
     "user_tz": -420
    },
    "id": "E64-YYaGJUS4",
    "outputId": "6dfa2cba-cd5b-4c25-ecc8-77614923b107"
   },
   "outputs": [
    {
     "data": {
      "text/html": [
       "<div>\n",
       "<style scoped>\n",
       "    .dataframe tbody tr th:only-of-type {\n",
       "        vertical-align: middle;\n",
       "    }\n",
       "\n",
       "    .dataframe tbody tr th {\n",
       "        vertical-align: top;\n",
       "    }\n",
       "\n",
       "    .dataframe thead th {\n",
       "        text-align: right;\n",
       "    }\n",
       "</style>\n",
       "<table border=\"1\" class=\"dataframe\">\n",
       "  <thead>\n",
       "    <tr style=\"text-align: right;\">\n",
       "      <th></th>\n",
       "      <th>รหัสลูกค้า</th>\n",
       "      <th>CUCTAXCS</th>\n",
       "    </tr>\n",
       "  </thead>\n",
       "  <tbody>\n",
       "    <tr>\n",
       "      <th>3728</th>\n",
       "      <td>0135005</td>\n",
       "      <td>0145562001623</td>\n",
       "    </tr>\n",
       "  </tbody>\n",
       "</table>\n",
       "</div>"
      ],
      "text/plain": [
       "     รหัสลูกค้า       CUCTAXCS\n",
       "3728    0135005  0145562001623"
      ]
     },
     "execution_count": 66,
     "metadata": {},
     "output_type": "execute_result"
    }
   ],
   "source": [
    "df_pm[df_pm['รหัสลูกค้า'] == '0135005']"
   ]
  },
  {
   "cell_type": "code",
   "execution_count": 67,
   "metadata": {
    "executionInfo": {
     "elapsed": 26,
     "status": "ok",
     "timestamp": 1698733720452,
     "user": {
      "displayName": "Tharaphon Nitijiramon",
      "userId": "16915625665235536451"
     },
     "user_tz": -420
    },
    "id": "EiQP8Gb7tsuK"
   },
   "outputs": [],
   "source": [
    "df_e1 = pd.merge(df_en2 , df_out4 , left_on = 'เลขทะเบียนนิติบุคคล (13 หลัก)' , right_on = 'CUCTAXCS')"
   ]
  },
  {
   "cell_type": "code",
   "execution_count": 68,
   "metadata": {
    "colab": {
     "base_uri": "https://localhost:8080/",
     "height": 0
    },
    "executionInfo": {
     "elapsed": 26,
     "status": "ok",
     "timestamp": 1698733720453,
     "user": {
      "displayName": "Tharaphon Nitijiramon",
      "userId": "16915625665235536451"
     },
     "user_tz": -420
    },
    "id": "l3VW4uygJkI3",
    "outputId": "a410dc3f-b6fb-4055-9934-4fcffa6e4ddf"
   },
   "outputs": [
    {
     "data": {
      "text/html": [
       "<div>\n",
       "<style scoped>\n",
       "    .dataframe tbody tr th:only-of-type {\n",
       "        vertical-align: middle;\n",
       "    }\n",
       "\n",
       "    .dataframe tbody tr th {\n",
       "        vertical-align: top;\n",
       "    }\n",
       "\n",
       "    .dataframe thead th {\n",
       "        text-align: right;\n",
       "    }\n",
       "</style>\n",
       "<table border=\"1\" class=\"dataframe\">\n",
       "  <thead>\n",
       "    <tr style=\"text-align: right;\">\n",
       "      <th></th>\n",
       "      <th>ลำดับที่</th>\n",
       "      <th>เลขทะเบียนนิติบุคคล (13 หลัก)</th>\n",
       "      <th>ชื่อนิติบุคคลจดทะเบียนภาษาไทย</th>\n",
       "      <th>ชื่อนิติบุคคลจดทะเบียนภาษาอังกฤษ</th>\n",
       "      <th>สถานะความเป็นลูกค้า</th>\n",
       "      <th>จังหวัด</th>\n",
       "      <th>สถานภาพ</th>\n",
       "      <th>ชื่อผู้บริหารสูงสุด</th>\n",
       "      <th>อำนาจกรรมการ</th>\n",
       "      <th>ที่อยู่ปัจจุบันแบบเต็ม (Thai)</th>\n",
       "      <th>...</th>\n",
       "      <th>รวมส่วนของผู้ถือหุ้น 2564</th>\n",
       "      <th>รวมส่วนของผู้ถือหุ้น 2565</th>\n",
       "      <th>รวมส่วนของผู้ถือหุ้น 2566</th>\n",
       "      <th>จำนวนปีที่ดำเนินการ</th>\n",
       "      <th>วันที่จดทะเบียน</th>\n",
       "      <th>อัตราส่วนความสามารถชำระดอกเบี้ย (เท่า) 2563</th>\n",
       "      <th>อัตราส่วนความสามารถชำระดอกเบี้ย (เท่า) 2564</th>\n",
       "      <th>อัตราส่วนความสามารถชำระดอกเบี้ย (เท่า) 2565</th>\n",
       "      <th>อัตราส่วนความสามารถชำระดอกเบี้ย (เท่า) 2566</th>\n",
       "      <th>ปีงบการเงิน(ล่าสุด)ที่บริษัทนั้น ๆ มี</th>\n",
       "    </tr>\n",
       "  </thead>\n",
       "  <tbody>\n",
       "    <tr>\n",
       "      <th>766</th>\n",
       "      <td>767</td>\n",
       "      <td>0145562001623</td>\n",
       "      <td>บริษัท เซาเทิร์น คิง คอร์ป จำกัด</td>\n",
       "      <td>SOUTHERN KING CORP CO., LTD.</td>\n",
       "      <td>กลุ่มบริษัททั่วไป</td>\n",
       "      <td>พระนครศรีอยุธยา</td>\n",
       "      <td>ยังดำเนินกิจการอยู่</td>\n",
       "      <td>-</td>\n",
       "      <td>กรรมการหนึ่งคนลงลายมือชื่อและประทับตราสำคัญของ...</td>\n",
       "      <td>437 หมู่ 3  ตำบล บ้านเลน  อำเภอ บางปะอิน  จังห...</td>\n",
       "      <td>...</td>\n",
       "      <td>3356378.83</td>\n",
       "      <td>5683343.09</td>\n",
       "      <td>-</td>\n",
       "      <td>5</td>\n",
       "      <td>2562-03-28 00:00:00</td>\n",
       "      <td>-</td>\n",
       "      <td>5.69</td>\n",
       "      <td>4.93</td>\n",
       "      <td>-</td>\n",
       "      <td>2565</td>\n",
       "    </tr>\n",
       "  </tbody>\n",
       "</table>\n",
       "<p>1 rows × 47 columns</p>\n",
       "</div>"
      ],
      "text/plain": [
       "    ลำดับที่ เลขทะเบียนนิติบุคคล (13 หลัก)     ชื่อนิติบุคคลจดทะเบียนภาษาไทย  \\\n",
       "766      767                 0145562001623  บริษัท เซาเทิร์น คิง คอร์ป จำกัด   \n",
       "\n",
       "    ชื่อนิติบุคคลจดทะเบียนภาษาอังกฤษ สถานะความเป็นลูกค้า          จังหวัด  \\\n",
       "766     SOUTHERN KING CORP CO., LTD.   กลุ่มบริษัททั่วไป  พระนครศรีอยุธยา   \n",
       "\n",
       "                 สถานภาพ ชื่อผู้บริหารสูงสุด  \\\n",
       "766  ยังดำเนินกิจการอยู่                   -   \n",
       "\n",
       "                                          อำนาจกรรมการ  \\\n",
       "766  กรรมการหนึ่งคนลงลายมือชื่อและประทับตราสำคัญของ...   \n",
       "\n",
       "                         ที่อยู่ปัจจุบันแบบเต็ม (Thai)  ...  \\\n",
       "766  437 หมู่ 3  ตำบล บ้านเลน  อำเภอ บางปะอิน  จังห...  ...   \n",
       "\n",
       "    รวมส่วนของผู้ถือหุ้น 2564 รวมส่วนของผู้ถือหุ้น 2565  \\\n",
       "766                3356378.83                5683343.09   \n",
       "\n",
       "    รวมส่วนของผู้ถือหุ้น 2566 จำนวนปีที่ดำเนินการ      วันที่จดทะเบียน  \\\n",
       "766                         -                   5  2562-03-28 00:00:00   \n",
       "\n",
       "    อัตราส่วนความสามารถชำระดอกเบี้ย (เท่า) 2563  \\\n",
       "766                                           -   \n",
       "\n",
       "    อัตราส่วนความสามารถชำระดอกเบี้ย (เท่า) 2564  \\\n",
       "766                                        5.69   \n",
       "\n",
       "    อัตราส่วนความสามารถชำระดอกเบี้ย (เท่า) 2565  \\\n",
       "766                                        4.93   \n",
       "\n",
       "    อัตราส่วนความสามารถชำระดอกเบี้ย (เท่า) 2566  \\\n",
       "766                                           -   \n",
       "\n",
       "    ปีงบการเงิน(ล่าสุด)ที่บริษัทนั้น ๆ มี  \n",
       "766                                  2565  \n",
       "\n",
       "[1 rows x 47 columns]"
      ]
     },
     "execution_count": 68,
     "metadata": {},
     "output_type": "execute_result"
    }
   ],
   "source": [
    "df_enl[df_enl['เลขทะเบียนนิติบุคคล (13 หลัก)'] == '0145562001623']"
   ]
  },
  {
   "cell_type": "code",
   "execution_count": 69,
   "metadata": {
    "colab": {
     "base_uri": "https://localhost:8080/",
     "height": 0
    },
    "executionInfo": {
     "elapsed": 25,
     "status": "ok",
     "timestamp": 1698733720453,
     "user": {
      "displayName": "Tharaphon Nitijiramon",
      "userId": "16915625665235536451"
     },
     "user_tz": -420
    },
    "id": "_Cyi3z9bJcTr",
    "outputId": "846d2adb-c8a3-4521-e65b-7a89cdb97a5e"
   },
   "outputs": [
    {
     "data": {
      "text/html": [
       "<div>\n",
       "<style scoped>\n",
       "    .dataframe tbody tr th:only-of-type {\n",
       "        vertical-align: middle;\n",
       "    }\n",
       "\n",
       "    .dataframe tbody tr th {\n",
       "        vertical-align: top;\n",
       "    }\n",
       "\n",
       "    .dataframe thead th {\n",
       "        text-align: right;\n",
       "    }\n",
       "</style>\n",
       "<table border=\"1\" class=\"dataframe\">\n",
       "  <thead>\n",
       "    <tr style=\"text-align: right;\">\n",
       "      <th></th>\n",
       "      <th>ชื่อผู้เกี่ยวข้อง</th>\n",
       "      <th>ความเกี่ยวข้อง</th>\n",
       "      <th>เลขทะเบียนนิติบุคคล (13 หลัก)</th>\n",
       "      <th>ชื่อนิติบุคคลจดทะเบียนภาษาไทย</th>\n",
       "      <th>ชื่อนิติบุคคลจดทะเบียนภาษาอังกฤษ</th>\n",
       "      <th>อำนาจกรรมการ</th>\n",
       "      <th>Name_clean</th>\n",
       "      <th>อำนาจลงนาม</th>\n",
       "      <th>เปอร์เซ็นผู้ถือหุ้น</th>\n",
       "    </tr>\n",
       "  </thead>\n",
       "  <tbody>\n",
       "    <tr>\n",
       "      <th>8256</th>\n",
       "      <td>อัจฉรา วฤทธิกุล</td>\n",
       "      <td>กรรมการ/ผู้ถือหุ้น</td>\n",
       "      <td>0145562001623</td>\n",
       "      <td>บริษัท เซาเทิร์น คิง คอร์ป จำกัด</td>\n",
       "      <td>SOUTHERN KING CORP CO., LTD.</td>\n",
       "      <td>กรรมการหนึ่งคนลงลายมือชื่อและประทับตราสำคัญของ...</td>\n",
       "      <td>อัจฉราวฤทธิกุล</td>\n",
       "      <td>มีอำนาจลงนาม</td>\n",
       "      <td>90.0</td>\n",
       "    </tr>\n",
       "  </tbody>\n",
       "</table>\n",
       "</div>"
      ],
      "text/plain": [
       "     ชื่อผู้เกี่ยวข้อง      ความเกี่ยวข้อง เลขทะเบียนนิติบุคคล (13 หลัก)  \\\n",
       "8256   อัจฉรา วฤทธิกุล  กรรมการ/ผู้ถือหุ้น                 0145562001623   \n",
       "\n",
       "         ชื่อนิติบุคคลจดทะเบียนภาษาไทย ชื่อนิติบุคคลจดทะเบียนภาษาอังกฤษ  \\\n",
       "8256  บริษัท เซาเทิร์น คิง คอร์ป จำกัด     SOUTHERN KING CORP CO., LTD.   \n",
       "\n",
       "                                           อำนาจกรรมการ      Name_clean  \\\n",
       "8256  กรรมการหนึ่งคนลงลายมือชื่อและประทับตราสำคัญของ...  อัจฉราวฤทธิกุล   \n",
       "\n",
       "        อำนาจลงนาม  เปอร์เซ็นผู้ถือหุ้น  \n",
       "8256  มีอำนาจลงนาม                 90.0  "
      ]
     },
     "execution_count": 69,
     "metadata": {},
     "output_type": "execute_result"
    }
   ],
   "source": [
    "df_en2[df_en2['เลขทะเบียนนิติบุคคล (13 หลัก)'] == '0145562001623']"
   ]
  },
  {
   "cell_type": "code",
   "execution_count": 70,
   "metadata": {
    "colab": {
     "base_uri": "https://localhost:8080/"
    },
    "executionInfo": {
     "elapsed": 25,
     "status": "ok",
     "timestamp": 1698733720453,
     "user": {
      "displayName": "Tharaphon Nitijiramon",
      "userId": "16915625665235536451"
     },
     "user_tz": -420
    },
    "id": "kHmkfFS2uE5H",
    "outputId": "75a56efb-2698-4d1b-b777-87d590a922bf"
   },
   "outputs": [
    {
     "name": "stdout",
     "output_type": "stream",
     "text": [
      "4386 16911\n"
     ]
    }
   ],
   "source": [
    "print(len(df_e1) , len(df_en1))"
   ]
  },
  {
   "cell_type": "code",
   "execution_count": 71,
   "metadata": {
    "executionInfo": {
     "elapsed": 24,
     "status": "ok",
     "timestamp": 1698733720453,
     "user": {
      "displayName": "Tharaphon Nitijiramon",
      "userId": "16915625665235536451"
     },
     "user_tz": -420
    },
    "id": "bneAWOGR5hwa"
   },
   "outputs": [],
   "source": [
    "def is_debt(a):\n",
    "  c = 0\n",
    "  if pd.isna(a) == False:\n",
    "    if ('หนี้' in a) or ('เงิน' in a):\n",
    "      c = 1\n",
    "  return c"
   ]
  },
  {
   "cell_type": "code",
   "execution_count": 72,
   "metadata": {
    "executionInfo": {
     "elapsed": 24,
     "status": "ok",
     "timestamp": 1698733720453,
     "user": {
      "displayName": "Tharaphon Nitijiramon",
      "userId": "16915625665235536451"
     },
     "user_tz": -420
    },
    "id": "gsOLzuLW5imb"
   },
   "outputs": [],
   "source": [
    "df_e1['is_debt'] = df_e1['ผู้ดูแลลูกค้า_(ตามฝ่าย)'].apply(lambda x : is_debt(x))"
   ]
  },
  {
   "cell_type": "code",
   "execution_count": 73,
   "metadata": {
    "executionInfo": {
     "elapsed": 24,
     "status": "ok",
     "timestamp": 1698733720453,
     "user": {
      "displayName": "Tharaphon Nitijiramon",
      "userId": "16915625665235536451"
     },
     "user_tz": -420
    },
    "id": "aHk9xg1mt_lK"
   },
   "outputs": [],
   "source": [
    "df_e2 = df_e1[df_e1['is_debt'] == 0].drop(columns = ['is_debt'])"
   ]
  },
  {
   "cell_type": "markdown",
   "metadata": {
    "id": "VciKt3tCdzRF"
   },
   "source": [
    "## Clean File รวมศูนย์"
   ]
  },
  {
   "cell_type": "code",
   "execution_count": 74,
   "metadata": {
    "executionInfo": {
     "elapsed": 950,
     "status": "ok",
     "timestamp": 1698733721380,
     "user": {
      "displayName": "Tharaphon Nitijiramon",
      "userId": "16915625665235536451"
     },
     "user_tz": -420
    },
    "id": "av8BdiZdeFsK"
   },
   "outputs": [],
   "source": [
    "df_cen['NAME_C1'] , df_cen['NAME_C2'] =  zip(* df_cen.apply(lambda x : clean_ecs_name( x['NAMETH'] , x['SURNAMETH']) , axis = 1 ))"
   ]
  },
  {
   "cell_type": "code",
   "execution_count": 75,
   "metadata": {
    "executionInfo": {
     "elapsed": 771,
     "status": "ok",
     "timestamp": 1698733722145,
     "user": {
      "displayName": "Tharaphon Nitijiramon",
      "userId": "16915625665235536451"
     },
     "user_tz": -420
    },
    "id": "yrSPGjpPeUr9"
   },
   "outputs": [],
   "source": [
    "df_cen['NAME_C3'] , df_cen['NAME_C4'] =  zip(* df_cen.apply(lambda x : clean_ecs_name( x['NAMEEN'] , x['SURNAMEEN']) , axis = 1 ))"
   ]
  },
  {
   "cell_type": "code",
   "execution_count": 76,
   "metadata": {
    "executionInfo": {
     "elapsed": 812,
     "status": "ok",
     "timestamp": 1698733722955,
     "user": {
      "displayName": "Tharaphon Nitijiramon",
      "userId": "16915625665235536451"
     },
     "user_tz": -420
    },
    "id": "_nm48E_PeeiX"
   },
   "outputs": [],
   "source": [
    "name_col = ['NAME_C1' , 'NAME_C2' , 'NAME_C3' , 'NAME_C4']\n",
    "for i in range(len(name_col)):\n",
    "  df_cen[name_col[i]] = df_cen[name_col[i]].apply(lambda x : clean_string(x))"
   ]
  },
  {
   "cell_type": "code",
   "execution_count": 77,
   "metadata": {
    "colab": {
     "base_uri": "https://localhost:8080/",
     "height": 0
    },
    "executionInfo": {
     "elapsed": 16,
     "status": "ok",
     "timestamp": 1698733722955,
     "user": {
      "displayName": "Tharaphon Nitijiramon",
      "userId": "16915625665235536451"
     },
     "user_tz": -420
    },
    "id": "K0at6cPIdIcQ",
    "outputId": "59e9d939-39fd-49cc-c8a5-60627a4d9621"
   },
   "outputs": [
    {
     "data": {
      "text/html": [
       "<div>\n",
       "<style scoped>\n",
       "    .dataframe tbody tr th:only-of-type {\n",
       "        vertical-align: middle;\n",
       "    }\n",
       "\n",
       "    .dataframe tbody tr th {\n",
       "        vertical-align: top;\n",
       "    }\n",
       "\n",
       "    .dataframe thead th {\n",
       "        text-align: right;\n",
       "    }\n",
       "</style>\n",
       "<table border=\"1\" class=\"dataframe\">\n",
       "  <thead>\n",
       "    <tr style=\"text-align: right;\">\n",
       "      <th></th>\n",
       "      <th>EXIM_CUSTID</th>\n",
       "      <th>CUSTID</th>\n",
       "      <th>ID</th>\n",
       "      <th>TYPENAME</th>\n",
       "      <th>TITLENAME</th>\n",
       "      <th>NAMETH</th>\n",
       "      <th>SURNAMETH</th>\n",
       "      <th>NAMEEN</th>\n",
       "      <th>SURNAMEEN</th>\n",
       "      <th>CUSTTYPE</th>\n",
       "      <th>...</th>\n",
       "      <th>WARNINGLIST</th>\n",
       "      <th>CREATEDON</th>\n",
       "      <th>MODIFIEDON</th>\n",
       "      <th>APPROVEDDATE</th>\n",
       "      <th>SYSTEMNAME</th>\n",
       "      <th>EXIM_TITLENAMECODENAME</th>\n",
       "      <th>NAME_C1</th>\n",
       "      <th>NAME_C2</th>\n",
       "      <th>NAME_C3</th>\n",
       "      <th>NAME_C4</th>\n",
       "    </tr>\n",
       "  </thead>\n",
       "  <tbody>\n",
       "    <tr>\n",
       "      <th>0</th>\n",
       "      <td>0058283</td>\n",
       "      <td>6210497</td>\n",
       "      <td>NaN</td>\n",
       "      <td>ข้อมูลเดิม</td>\n",
       "      <td>NaN</td>\n",
       "      <td>การปิโตรเลียมแห่งประเทศไทย</td>\n",
       "      <td>NaN</td>\n",
       "      <td>PETROLEUM AUTHORITY OF THAILAND</td>\n",
       "      <td>NaN</td>\n",
       "      <td>ผู้ถือหุ้นตั้งแต่ 20% ขึ้นไป/ ผู้รับผลประโยชน์...</td>\n",
       "      <td>...</td>\n",
       "      <td>ทุกครั้ง</td>\n",
       "      <td>11/16/2023 12:50:47 PM</td>\n",
       "      <td>1/15/2024 3:47:20 PM</td>\n",
       "      <td>11/16/2023 2:17:14 PM</td>\n",
       "      <td>LOS</td>\n",
       "      <td>NaN</td>\n",
       "      <td>การปิโตรเลียมแห่งประเทศไทย</td>\n",
       "      <td>NaN</td>\n",
       "      <td>petroleumauthorityofthailand</td>\n",
       "      <td>NaN</td>\n",
       "    </tr>\n",
       "    <tr>\n",
       "      <th>1</th>\n",
       "      <td>0062173</td>\n",
       "      <td>6205894</td>\n",
       "      <td>NaN</td>\n",
       "      <td>ข้อมูลเดิม</td>\n",
       "      <td>NaN</td>\n",
       "      <td>การปิโตรเลียมแห่งประเทศไทย</td>\n",
       "      <td>NaN</td>\n",
       "      <td>PETROLEUM AUTHORITY OF THAILAND</td>\n",
       "      <td>NaN</td>\n",
       "      <td>ลูกค้า,</td>\n",
       "      <td>...</td>\n",
       "      <td>ทุกครั้ง</td>\n",
       "      <td>3/22/2022 1:52:14 PM</td>\n",
       "      <td>6/9/2023 6:42:38 AM</td>\n",
       "      <td>3/22/2022 1:54:21 PM</td>\n",
       "      <td>LOS</td>\n",
       "      <td>NaN</td>\n",
       "      <td>การปิโตรเลียมแห่งประเทศไทย</td>\n",
       "      <td>NaN</td>\n",
       "      <td>petroleumauthorityofthailand</td>\n",
       "      <td>NaN</td>\n",
       "    </tr>\n",
       "    <tr>\n",
       "      <th>2</th>\n",
       "      <td>0066484</td>\n",
       "      <td>6208665</td>\n",
       "      <td>NaN</td>\n",
       "      <td>ข้อมูลเดิม</td>\n",
       "      <td>NaN</td>\n",
       "      <td>การปิโตรเลียมแห่งประเทศไทย</td>\n",
       "      <td>NaN</td>\n",
       "      <td>PETROLEUM AUTHORITY OF THAILAND</td>\n",
       "      <td>NaN</td>\n",
       "      <td>ผู้ถือหุ้นตั้งแต่ 20% ขึ้นไป/ ผู้รับผลประโยชน์...</td>\n",
       "      <td>...</td>\n",
       "      <td>ทุกครั้ง</td>\n",
       "      <td>3/22/2022 2:08:57 PM</td>\n",
       "      <td>1/15/2024 3:48:34 PM</td>\n",
       "      <td>3/22/2022 3:25:46 PM</td>\n",
       "      <td>LOS</td>\n",
       "      <td>NaN</td>\n",
       "      <td>การปิโตรเลียมแห่งประเทศไทย</td>\n",
       "      <td>NaN</td>\n",
       "      <td>petroleumauthorityofthailand</td>\n",
       "      <td>NaN</td>\n",
       "    </tr>\n",
       "    <tr>\n",
       "      <th>3</th>\n",
       "      <td>6316605</td>\n",
       "      <td>6316605</td>\n",
       "      <td>NaN</td>\n",
       "      <td>ข้อมูลเดิม</td>\n",
       "      <td>NaN</td>\n",
       "      <td>การปิโตรเลียมแห่งประเทศไทย</td>\n",
       "      <td>NaN</td>\n",
       "      <td>PETROLEUM AUTHORITY OF THAILAND</td>\n",
       "      <td>NaN</td>\n",
       "      <td>ผู้ถือหุ้นตั้งแต่ 20% ขึ้นไป/ ผู้รับผลประโยชน์...</td>\n",
       "      <td>...</td>\n",
       "      <td>ทุกครั้ง</td>\n",
       "      <td>3/13/2024 3:26:22 PM</td>\n",
       "      <td>3/13/2024 5:22:45 PM</td>\n",
       "      <td>3/13/2024 5:50:24 PM</td>\n",
       "      <td>LOS</td>\n",
       "      <td>NaN</td>\n",
       "      <td>การปิโตรเลียมแห่งประเทศไทย</td>\n",
       "      <td>NaN</td>\n",
       "      <td>petroleumauthorityofthailand</td>\n",
       "      <td>NaN</td>\n",
       "    </tr>\n",
       "    <tr>\n",
       "      <th>4</th>\n",
       "      <td>0140569</td>\n",
       "      <td>6542384</td>\n",
       "      <td>NaN</td>\n",
       "      <td>ข้อมูลเดิม</td>\n",
       "      <td>NaN</td>\n",
       "      <td>ธนาคารอาคารสงเคราะห์แม่โขง</td>\n",
       "      <td>NaN</td>\n",
       "      <td>Mekong Housing Bank</td>\n",
       "      <td>NaN</td>\n",
       "      <td>ลูกค้า,</td>\n",
       "      <td>...</td>\n",
       "      <td>ทุกครั้ง</td>\n",
       "      <td>12/27/2023 1:22:39 PM</td>\n",
       "      <td>12/27/2023 2:01:32 PM</td>\n",
       "      <td>12/27/2023 2:03:19 PM</td>\n",
       "      <td>LOS</td>\n",
       "      <td>NaN</td>\n",
       "      <td>ธนาคารอาคารสงเคราะห์แม่โขง</td>\n",
       "      <td>NaN</td>\n",
       "      <td>mekonghousingbank</td>\n",
       "      <td>NaN</td>\n",
       "    </tr>\n",
       "  </tbody>\n",
       "</table>\n",
       "<p>5 rows × 23 columns</p>\n",
       "</div>"
      ],
      "text/plain": [
       "  EXIM_CUSTID   CUSTID   ID    TYPENAME TITLENAME                      NAMETH  \\\n",
       "0     0058283  6210497  NaN  ข้อมูลเดิม       NaN  การปิโตรเลียมแห่งประเทศไทย   \n",
       "1     0062173  6205894  NaN  ข้อมูลเดิม       NaN  การปิโตรเลียมแห่งประเทศไทย   \n",
       "2     0066484  6208665  NaN  ข้อมูลเดิม       NaN  การปิโตรเลียมแห่งประเทศไทย   \n",
       "3     6316605  6316605  NaN  ข้อมูลเดิม       NaN  การปิโตรเลียมแห่งประเทศไทย   \n",
       "4     0140569  6542384  NaN  ข้อมูลเดิม       NaN  ธนาคารอาคารสงเคราะห์แม่โขง   \n",
       "\n",
       "  SURNAMETH                           NAMEEN SURNAMEEN  \\\n",
       "0       NaN  PETROLEUM AUTHORITY OF THAILAND       NaN   \n",
       "1       NaN  PETROLEUM AUTHORITY OF THAILAND       NaN   \n",
       "2       NaN  PETROLEUM AUTHORITY OF THAILAND       NaN   \n",
       "3       NaN  PETROLEUM AUTHORITY OF THAILAND       NaN   \n",
       "4       NaN              Mekong Housing Bank       NaN   \n",
       "\n",
       "                                            CUSTTYPE  ... WARNINGLIST  \\\n",
       "0  ผู้ถือหุ้นตั้งแต่ 20% ขึ้นไป/ ผู้รับผลประโยชน์...  ...    ทุกครั้ง   \n",
       "1                                            ลูกค้า,  ...    ทุกครั้ง   \n",
       "2  ผู้ถือหุ้นตั้งแต่ 20% ขึ้นไป/ ผู้รับผลประโยชน์...  ...    ทุกครั้ง   \n",
       "3  ผู้ถือหุ้นตั้งแต่ 20% ขึ้นไป/ ผู้รับผลประโยชน์...  ...    ทุกครั้ง   \n",
       "4                                            ลูกค้า,  ...    ทุกครั้ง   \n",
       "\n",
       "                CREATEDON             MODIFIEDON           APPROVEDDATE  \\\n",
       "0  11/16/2023 12:50:47 PM   1/15/2024 3:47:20 PM  11/16/2023 2:17:14 PM   \n",
       "1    3/22/2022 1:52:14 PM    6/9/2023 6:42:38 AM   3/22/2022 1:54:21 PM   \n",
       "2    3/22/2022 2:08:57 PM   1/15/2024 3:48:34 PM   3/22/2022 3:25:46 PM   \n",
       "3    3/13/2024 3:26:22 PM   3/13/2024 5:22:45 PM   3/13/2024 5:50:24 PM   \n",
       "4   12/27/2023 1:22:39 PM  12/27/2023 2:01:32 PM  12/27/2023 2:03:19 PM   \n",
       "\n",
       "  SYSTEMNAME EXIM_TITLENAMECODENAME                     NAME_C1 NAME_C2  \\\n",
       "0        LOS                    NaN  การปิโตรเลียมแห่งประเทศไทย     NaN   \n",
       "1        LOS                    NaN  การปิโตรเลียมแห่งประเทศไทย     NaN   \n",
       "2        LOS                    NaN  การปิโตรเลียมแห่งประเทศไทย     NaN   \n",
       "3        LOS                    NaN  การปิโตรเลียมแห่งประเทศไทย     NaN   \n",
       "4        LOS                    NaN  ธนาคารอาคารสงเคราะห์แม่โขง     NaN   \n",
       "\n",
       "                        NAME_C3 NAME_C4  \n",
       "0  petroleumauthorityofthailand     NaN  \n",
       "1  petroleumauthorityofthailand     NaN  \n",
       "2  petroleumauthorityofthailand     NaN  \n",
       "3  petroleumauthorityofthailand     NaN  \n",
       "4             mekonghousingbank     NaN  \n",
       "\n",
       "[5 rows x 23 columns]"
      ]
     },
     "execution_count": 77,
     "metadata": {},
     "output_type": "execute_result"
    }
   ],
   "source": [
    "df_cen.head()"
   ]
  },
  {
   "cell_type": "markdown",
   "metadata": {
    "id": "h7GDuRtn7HHE"
   },
   "source": [
    "## เริ่มตรวจทีละรายลูกค้า"
   ]
  },
  {
   "cell_type": "code",
   "execution_count": 78,
   "metadata": {
    "colab": {
     "base_uri": "https://localhost:8080/",
     "height": 0
    },
    "executionInfo": {
     "elapsed": 11,
     "status": "ok",
     "timestamp": 1698733722955,
     "user": {
      "displayName": "Tharaphon Nitijiramon",
      "userId": "16915625665235536451"
     },
     "user_tz": -420
    },
    "id": "0TWssXFMz6l1",
    "outputId": "a2c5bbde-9759-4184-ef66-2c5b6e329b19"
   },
   "outputs": [
    {
     "data": {
      "text/html": [
       "<div>\n",
       "<style scoped>\n",
       "    .dataframe tbody tr th:only-of-type {\n",
       "        vertical-align: middle;\n",
       "    }\n",
       "\n",
       "    .dataframe tbody tr th {\n",
       "        vertical-align: top;\n",
       "    }\n",
       "\n",
       "    .dataframe thead th {\n",
       "        text-align: right;\n",
       "    }\n",
       "</style>\n",
       "<table border=\"1\" class=\"dataframe\">\n",
       "  <thead>\n",
       "    <tr style=\"text-align: right;\">\n",
       "      <th></th>\n",
       "      <th>ชื่อผู้เกี่ยวข้อง</th>\n",
       "      <th>ความเกี่ยวข้อง</th>\n",
       "      <th>เลขทะเบียนนิติบุคคล (13 หลัก)</th>\n",
       "      <th>ชื่อนิติบุคคลจดทะเบียนภาษาไทย</th>\n",
       "      <th>ชื่อนิติบุคคลจดทะเบียนภาษาอังกฤษ</th>\n",
       "      <th>อำนาจกรรมการ</th>\n",
       "      <th>Name_clean</th>\n",
       "      <th>อำนาจลงนาม</th>\n",
       "      <th>เปอร์เซ็นผู้ถือหุ้น</th>\n",
       "      <th>รหัสลูกค้า</th>\n",
       "      <th>ผู้ดูแลลูกค้า_(แยกส่วน)</th>\n",
       "      <th>ผู้ดูแลลูกค้า_(ตามฝ่าย)</th>\n",
       "      <th>is_in</th>\n",
       "      <th>วันที่อนุมัติครั้งแรก</th>\n",
       "      <th>วันที่อนุมัติล่าสุด</th>\n",
       "      <th>วันที่ทบทวนล่าสุด</th>\n",
       "      <th>CUCTAXCS</th>\n",
       "      <th>is_debt</th>\n",
       "    </tr>\n",
       "  </thead>\n",
       "  <tbody>\n",
       "    <tr>\n",
       "      <th>0</th>\n",
       "      <td>จาตุรงค์ จรัสตระกูล</td>\n",
       "      <td>กรรมการ/ผู้ถือหุ้น</td>\n",
       "      <td>0103517003998</td>\n",
       "      <td>ห้างหุ้นส่วนจำกัด จัตุรงค์คูลลิ่ง</td>\n",
       "      <td>CHATURONG COOLING LIMITED PARTNERSHIP</td>\n",
       "      <td>ไม่มี</td>\n",
       "      <td>จาตุรงค์จรัสตระกูล</td>\n",
       "      <td>NaN</td>\n",
       "      <td>93.41</td>\n",
       "      <td>0103236</td>\n",
       "      <td>ส่วนการตลาดวิสาหกิจขนาดกลางและขนาดย่อม 5</td>\n",
       "      <td>ฝ่ายการตลาดวิสาหกิจขนาดกลางและขนาดย่อม</td>\n",
       "      <td>1</td>\n",
       "      <td>2018-05-18</td>\n",
       "      <td>2022-06-28</td>\n",
       "      <td>2024-02-01</td>\n",
       "      <td>0103517003998</td>\n",
       "      <td>0</td>\n",
       "    </tr>\n",
       "    <tr>\n",
       "      <th>1</th>\n",
       "      <td>วิโรจน์ กมลวิศิษฏ์</td>\n",
       "      <td>กรรมการ/ผู้ถือหุ้น</td>\n",
       "      <td>0103525021479</td>\n",
       "      <td>ห้างหุ้นส่วนจำกัด โกลด์วอเตอร์ส</td>\n",
       "      <td>GOLDWATERS LIMITED PARTNERSHIP</td>\n",
       "      <td>ไม่มี</td>\n",
       "      <td>วิโรจน์กมลวิศิษฎ์</td>\n",
       "      <td>NaN</td>\n",
       "      <td>33.33</td>\n",
       "      <td>0108463</td>\n",
       "      <td>ส่วนการตลาดวิสาหกิจขนาดกลางและขนาดย่อม 5</td>\n",
       "      <td>ฝ่ายการตลาดวิสาหกิจขนาดกลางและขนาดย่อม</td>\n",
       "      <td>1</td>\n",
       "      <td>2018-11-30</td>\n",
       "      <td>2021-05-05</td>\n",
       "      <td>2024-02-28</td>\n",
       "      <td>0103525021479</td>\n",
       "      <td>0</td>\n",
       "    </tr>\n",
       "    <tr>\n",
       "      <th>2</th>\n",
       "      <td>อัมพร กมลวิศิษฎ์ (66.67%)</td>\n",
       "      <td>ผู้ถือหุ้น</td>\n",
       "      <td>0103525021479</td>\n",
       "      <td>ห้างหุ้นส่วนจำกัด โกลด์วอเตอร์ส</td>\n",
       "      <td>GOLDWATERS LIMITED PARTNERSHIP</td>\n",
       "      <td>ไม่มี</td>\n",
       "      <td>อัมพรกมลวิศิษฎ์</td>\n",
       "      <td>NaN</td>\n",
       "      <td>66.67</td>\n",
       "      <td>0108463</td>\n",
       "      <td>ส่วนการตลาดวิสาหกิจขนาดกลางและขนาดย่อม 5</td>\n",
       "      <td>ฝ่ายการตลาดวิสาหกิจขนาดกลางและขนาดย่อม</td>\n",
       "      <td>1</td>\n",
       "      <td>2018-11-30</td>\n",
       "      <td>2021-05-05</td>\n",
       "      <td>2024-02-28</td>\n",
       "      <td>0103525021479</td>\n",
       "      <td>0</td>\n",
       "    </tr>\n",
       "    <tr>\n",
       "      <th>3</th>\n",
       "      <td>สุทัศน์ เข็มจินดา</td>\n",
       "      <td>กรรมการ/ผู้ถือหุ้น</td>\n",
       "      <td>0103531005731</td>\n",
       "      <td>ห้างหุ้นส่วนจำกัด ทรรศพร อินเตอร์เนชั่นแนล เทรด</td>\n",
       "      <td>TASAPORN INTERNATIONAL TRADE LIMITED PARTNERSHIP</td>\n",
       "      <td>ไม่มี</td>\n",
       "      <td>สุทัศน์เข็มจินดา</td>\n",
       "      <td>NaN</td>\n",
       "      <td>80.00</td>\n",
       "      <td>0138794</td>\n",
       "      <td>ส่วนการตลาดวิสาหกิจขนาดกลางและขนาดย่อม 2</td>\n",
       "      <td>ฝ่ายการตลาดวิสาหกิจขนาดกลางและขนาดย่อม</td>\n",
       "      <td>2</td>\n",
       "      <td>2024-01-18</td>\n",
       "      <td>2024-03-27</td>\n",
       "      <td>2024-02-28</td>\n",
       "      <td>0103531005731</td>\n",
       "      <td>0</td>\n",
       "    </tr>\n",
       "    <tr>\n",
       "      <th>4</th>\n",
       "      <td>นพพร เข็มจินดา (20.00%)</td>\n",
       "      <td>ผู้ถือหุ้น</td>\n",
       "      <td>0103531005731</td>\n",
       "      <td>ห้างหุ้นส่วนจำกัด ทรรศพร อินเตอร์เนชั่นแนล เทรด</td>\n",
       "      <td>TASAPORN INTERNATIONAL TRADE LIMITED PARTNERSHIP</td>\n",
       "      <td>ไม่มี</td>\n",
       "      <td>นพพรเข็มจินดา</td>\n",
       "      <td>NaN</td>\n",
       "      <td>20.00</td>\n",
       "      <td>0138794</td>\n",
       "      <td>ส่วนการตลาดวิสาหกิจขนาดกลางและขนาดย่อม 2</td>\n",
       "      <td>ฝ่ายการตลาดวิสาหกิจขนาดกลางและขนาดย่อม</td>\n",
       "      <td>2</td>\n",
       "      <td>2024-01-18</td>\n",
       "      <td>2024-03-27</td>\n",
       "      <td>2024-02-28</td>\n",
       "      <td>0103531005731</td>\n",
       "      <td>0</td>\n",
       "    </tr>\n",
       "  </tbody>\n",
       "</table>\n",
       "</div>"
      ],
      "text/plain": [
       "           ชื่อผู้เกี่ยวข้อง      ความเกี่ยวข้อง  \\\n",
       "0        จาตุรงค์ จรัสตระกูล  กรรมการ/ผู้ถือหุ้น   \n",
       "1         วิโรจน์ กมลวิศิษฏ์  กรรมการ/ผู้ถือหุ้น   \n",
       "2  อัมพร กมลวิศิษฎ์ (66.67%)          ผู้ถือหุ้น   \n",
       "3          สุทัศน์ เข็มจินดา  กรรมการ/ผู้ถือหุ้น   \n",
       "4    นพพร เข็มจินดา (20.00%)          ผู้ถือหุ้น   \n",
       "\n",
       "  เลขทะเบียนนิติบุคคล (13 หลัก)  \\\n",
       "0                 0103517003998   \n",
       "1                 0103525021479   \n",
       "2                 0103525021479   \n",
       "3                 0103531005731   \n",
       "4                 0103531005731   \n",
       "\n",
       "                     ชื่อนิติบุคคลจดทะเบียนภาษาไทย  \\\n",
       "0                ห้างหุ้นส่วนจำกัด จัตุรงค์คูลลิ่ง   \n",
       "1                  ห้างหุ้นส่วนจำกัด โกลด์วอเตอร์ส   \n",
       "2                  ห้างหุ้นส่วนจำกัด โกลด์วอเตอร์ส   \n",
       "3  ห้างหุ้นส่วนจำกัด ทรรศพร อินเตอร์เนชั่นแนล เทรด   \n",
       "4  ห้างหุ้นส่วนจำกัด ทรรศพร อินเตอร์เนชั่นแนล เทรด   \n",
       "\n",
       "                   ชื่อนิติบุคคลจดทะเบียนภาษาอังกฤษ อำนาจกรรมการ  \\\n",
       "0             CHATURONG COOLING LIMITED PARTNERSHIP        ไม่มี   \n",
       "1                    GOLDWATERS LIMITED PARTNERSHIP        ไม่มี   \n",
       "2                    GOLDWATERS LIMITED PARTNERSHIP        ไม่มี   \n",
       "3  TASAPORN INTERNATIONAL TRADE LIMITED PARTNERSHIP        ไม่มี   \n",
       "4  TASAPORN INTERNATIONAL TRADE LIMITED PARTNERSHIP        ไม่มี   \n",
       "\n",
       "           Name_clean อำนาจลงนาม  เปอร์เซ็นผู้ถือหุ้น รหัสลูกค้า  \\\n",
       "0  จาตุรงค์จรัสตระกูล        NaN                93.41    0103236   \n",
       "1   วิโรจน์กมลวิศิษฎ์        NaN                33.33    0108463   \n",
       "2     อัมพรกมลวิศิษฎ์        NaN                66.67    0108463   \n",
       "3    สุทัศน์เข็มจินดา        NaN                80.00    0138794   \n",
       "4       นพพรเข็มจินดา        NaN                20.00    0138794   \n",
       "\n",
       "                    ผู้ดูแลลูกค้า_(แยกส่วน)  \\\n",
       "0  ส่วนการตลาดวิสาหกิจขนาดกลางและขนาดย่อม 5   \n",
       "1  ส่วนการตลาดวิสาหกิจขนาดกลางและขนาดย่อม 5   \n",
       "2  ส่วนการตลาดวิสาหกิจขนาดกลางและขนาดย่อม 5   \n",
       "3  ส่วนการตลาดวิสาหกิจขนาดกลางและขนาดย่อม 2   \n",
       "4  ส่วนการตลาดวิสาหกิจขนาดกลางและขนาดย่อม 2   \n",
       "\n",
       "                  ผู้ดูแลลูกค้า_(ตามฝ่าย)  is_in วันที่อนุมัติครั้งแรก  \\\n",
       "0  ฝ่ายการตลาดวิสาหกิจขนาดกลางและขนาดย่อม      1            2018-05-18   \n",
       "1  ฝ่ายการตลาดวิสาหกิจขนาดกลางและขนาดย่อม      1            2018-11-30   \n",
       "2  ฝ่ายการตลาดวิสาหกิจขนาดกลางและขนาดย่อม      1            2018-11-30   \n",
       "3  ฝ่ายการตลาดวิสาหกิจขนาดกลางและขนาดย่อม      2            2024-01-18   \n",
       "4  ฝ่ายการตลาดวิสาหกิจขนาดกลางและขนาดย่อม      2            2024-01-18   \n",
       "\n",
       "  วันที่อนุมัติล่าสุด วันที่ทบทวนล่าสุด       CUCTAXCS  is_debt  \n",
       "0          2022-06-28        2024-02-01  0103517003998        0  \n",
       "1          2021-05-05        2024-02-28  0103525021479        0  \n",
       "2          2021-05-05        2024-02-28  0103525021479        0  \n",
       "3          2024-03-27        2024-02-28  0103531005731        0  \n",
       "4          2024-03-27        2024-02-28  0103531005731        0  "
      ]
     },
     "execution_count": 78,
     "metadata": {},
     "output_type": "execute_result"
    }
   ],
   "source": [
    "df_e1.head()"
   ]
  },
  {
   "cell_type": "code",
   "execution_count": 79,
   "metadata": {
    "colab": {
     "base_uri": "https://localhost:8080/",
     "height": 0
    },
    "executionInfo": {
     "elapsed": 9,
     "status": "ok",
     "timestamp": 1698733722955,
     "user": {
      "displayName": "Tharaphon Nitijiramon",
      "userId": "16915625665235536451"
     },
     "user_tz": -420
    },
    "id": "FUKvS2kM68ux",
    "outputId": "1799ff5e-4c99-4c2f-d51a-b3608939e1f4"
   },
   "outputs": [
    {
     "data": {
      "text/html": [
       "<div>\n",
       "<style scoped>\n",
       "    .dataframe tbody tr th:only-of-type {\n",
       "        vertical-align: middle;\n",
       "    }\n",
       "\n",
       "    .dataframe tbody tr th {\n",
       "        vertical-align: top;\n",
       "    }\n",
       "\n",
       "    .dataframe thead th {\n",
       "        text-align: right;\n",
       "    }\n",
       "</style>\n",
       "<table border=\"1\" class=\"dataframe\">\n",
       "  <thead>\n",
       "    <tr style=\"text-align: right;\">\n",
       "      <th></th>\n",
       "      <th>EXIM_CUSTID</th>\n",
       "      <th>CUSTID</th>\n",
       "      <th>ID</th>\n",
       "      <th>TYPENAME</th>\n",
       "      <th>TITLENAME</th>\n",
       "      <th>NAMETH</th>\n",
       "      <th>SURNAMETH</th>\n",
       "      <th>NAMEEN</th>\n",
       "      <th>SURNAMEEN</th>\n",
       "      <th>CUSTTYPE</th>\n",
       "      <th>...</th>\n",
       "      <th>WARNINGLIST</th>\n",
       "      <th>CREATEDON</th>\n",
       "      <th>MODIFIEDON</th>\n",
       "      <th>APPROVEDDATE</th>\n",
       "      <th>SYSTEMNAME</th>\n",
       "      <th>EXIM_TITLENAMECODENAME</th>\n",
       "      <th>NAME_C1</th>\n",
       "      <th>NAME_C2</th>\n",
       "      <th>NAME_C3</th>\n",
       "      <th>NAME_C4</th>\n",
       "    </tr>\n",
       "  </thead>\n",
       "  <tbody>\n",
       "    <tr>\n",
       "      <th>0</th>\n",
       "      <td>0058283</td>\n",
       "      <td>6210497</td>\n",
       "      <td>NaN</td>\n",
       "      <td>ข้อมูลเดิม</td>\n",
       "      <td>NaN</td>\n",
       "      <td>การปิโตรเลียมแห่งประเทศไทย</td>\n",
       "      <td>NaN</td>\n",
       "      <td>PETROLEUM AUTHORITY OF THAILAND</td>\n",
       "      <td>NaN</td>\n",
       "      <td>ผู้ถือหุ้นตั้งแต่ 20% ขึ้นไป/ ผู้รับผลประโยชน์...</td>\n",
       "      <td>...</td>\n",
       "      <td>ทุกครั้ง</td>\n",
       "      <td>11/16/2023 12:50:47 PM</td>\n",
       "      <td>1/15/2024 3:47:20 PM</td>\n",
       "      <td>11/16/2023 2:17:14 PM</td>\n",
       "      <td>LOS</td>\n",
       "      <td>NaN</td>\n",
       "      <td>การปิโตรเลียมแห่งประเทศไทย</td>\n",
       "      <td>NaN</td>\n",
       "      <td>petroleumauthorityofthailand</td>\n",
       "      <td>NaN</td>\n",
       "    </tr>\n",
       "    <tr>\n",
       "      <th>1</th>\n",
       "      <td>0062173</td>\n",
       "      <td>6205894</td>\n",
       "      <td>NaN</td>\n",
       "      <td>ข้อมูลเดิม</td>\n",
       "      <td>NaN</td>\n",
       "      <td>การปิโตรเลียมแห่งประเทศไทย</td>\n",
       "      <td>NaN</td>\n",
       "      <td>PETROLEUM AUTHORITY OF THAILAND</td>\n",
       "      <td>NaN</td>\n",
       "      <td>ลูกค้า,</td>\n",
       "      <td>...</td>\n",
       "      <td>ทุกครั้ง</td>\n",
       "      <td>3/22/2022 1:52:14 PM</td>\n",
       "      <td>6/9/2023 6:42:38 AM</td>\n",
       "      <td>3/22/2022 1:54:21 PM</td>\n",
       "      <td>LOS</td>\n",
       "      <td>NaN</td>\n",
       "      <td>การปิโตรเลียมแห่งประเทศไทย</td>\n",
       "      <td>NaN</td>\n",
       "      <td>petroleumauthorityofthailand</td>\n",
       "      <td>NaN</td>\n",
       "    </tr>\n",
       "    <tr>\n",
       "      <th>2</th>\n",
       "      <td>0066484</td>\n",
       "      <td>6208665</td>\n",
       "      <td>NaN</td>\n",
       "      <td>ข้อมูลเดิม</td>\n",
       "      <td>NaN</td>\n",
       "      <td>การปิโตรเลียมแห่งประเทศไทย</td>\n",
       "      <td>NaN</td>\n",
       "      <td>PETROLEUM AUTHORITY OF THAILAND</td>\n",
       "      <td>NaN</td>\n",
       "      <td>ผู้ถือหุ้นตั้งแต่ 20% ขึ้นไป/ ผู้รับผลประโยชน์...</td>\n",
       "      <td>...</td>\n",
       "      <td>ทุกครั้ง</td>\n",
       "      <td>3/22/2022 2:08:57 PM</td>\n",
       "      <td>1/15/2024 3:48:34 PM</td>\n",
       "      <td>3/22/2022 3:25:46 PM</td>\n",
       "      <td>LOS</td>\n",
       "      <td>NaN</td>\n",
       "      <td>การปิโตรเลียมแห่งประเทศไทย</td>\n",
       "      <td>NaN</td>\n",
       "      <td>petroleumauthorityofthailand</td>\n",
       "      <td>NaN</td>\n",
       "    </tr>\n",
       "    <tr>\n",
       "      <th>3</th>\n",
       "      <td>6316605</td>\n",
       "      <td>6316605</td>\n",
       "      <td>NaN</td>\n",
       "      <td>ข้อมูลเดิม</td>\n",
       "      <td>NaN</td>\n",
       "      <td>การปิโตรเลียมแห่งประเทศไทย</td>\n",
       "      <td>NaN</td>\n",
       "      <td>PETROLEUM AUTHORITY OF THAILAND</td>\n",
       "      <td>NaN</td>\n",
       "      <td>ผู้ถือหุ้นตั้งแต่ 20% ขึ้นไป/ ผู้รับผลประโยชน์...</td>\n",
       "      <td>...</td>\n",
       "      <td>ทุกครั้ง</td>\n",
       "      <td>3/13/2024 3:26:22 PM</td>\n",
       "      <td>3/13/2024 5:22:45 PM</td>\n",
       "      <td>3/13/2024 5:50:24 PM</td>\n",
       "      <td>LOS</td>\n",
       "      <td>NaN</td>\n",
       "      <td>การปิโตรเลียมแห่งประเทศไทย</td>\n",
       "      <td>NaN</td>\n",
       "      <td>petroleumauthorityofthailand</td>\n",
       "      <td>NaN</td>\n",
       "    </tr>\n",
       "    <tr>\n",
       "      <th>4</th>\n",
       "      <td>0140569</td>\n",
       "      <td>6542384</td>\n",
       "      <td>NaN</td>\n",
       "      <td>ข้อมูลเดิม</td>\n",
       "      <td>NaN</td>\n",
       "      <td>ธนาคารอาคารสงเคราะห์แม่โขง</td>\n",
       "      <td>NaN</td>\n",
       "      <td>Mekong Housing Bank</td>\n",
       "      <td>NaN</td>\n",
       "      <td>ลูกค้า,</td>\n",
       "      <td>...</td>\n",
       "      <td>ทุกครั้ง</td>\n",
       "      <td>12/27/2023 1:22:39 PM</td>\n",
       "      <td>12/27/2023 2:01:32 PM</td>\n",
       "      <td>12/27/2023 2:03:19 PM</td>\n",
       "      <td>LOS</td>\n",
       "      <td>NaN</td>\n",
       "      <td>ธนาคารอาคารสงเคราะห์แม่โขง</td>\n",
       "      <td>NaN</td>\n",
       "      <td>mekonghousingbank</td>\n",
       "      <td>NaN</td>\n",
       "    </tr>\n",
       "  </tbody>\n",
       "</table>\n",
       "<p>5 rows × 23 columns</p>\n",
       "</div>"
      ],
      "text/plain": [
       "  EXIM_CUSTID   CUSTID   ID    TYPENAME TITLENAME                      NAMETH  \\\n",
       "0     0058283  6210497  NaN  ข้อมูลเดิม       NaN  การปิโตรเลียมแห่งประเทศไทย   \n",
       "1     0062173  6205894  NaN  ข้อมูลเดิม       NaN  การปิโตรเลียมแห่งประเทศไทย   \n",
       "2     0066484  6208665  NaN  ข้อมูลเดิม       NaN  การปิโตรเลียมแห่งประเทศไทย   \n",
       "3     6316605  6316605  NaN  ข้อมูลเดิม       NaN  การปิโตรเลียมแห่งประเทศไทย   \n",
       "4     0140569  6542384  NaN  ข้อมูลเดิม       NaN  ธนาคารอาคารสงเคราะห์แม่โขง   \n",
       "\n",
       "  SURNAMETH                           NAMEEN SURNAMEEN  \\\n",
       "0       NaN  PETROLEUM AUTHORITY OF THAILAND       NaN   \n",
       "1       NaN  PETROLEUM AUTHORITY OF THAILAND       NaN   \n",
       "2       NaN  PETROLEUM AUTHORITY OF THAILAND       NaN   \n",
       "3       NaN  PETROLEUM AUTHORITY OF THAILAND       NaN   \n",
       "4       NaN              Mekong Housing Bank       NaN   \n",
       "\n",
       "                                            CUSTTYPE  ... WARNINGLIST  \\\n",
       "0  ผู้ถือหุ้นตั้งแต่ 20% ขึ้นไป/ ผู้รับผลประโยชน์...  ...    ทุกครั้ง   \n",
       "1                                            ลูกค้า,  ...    ทุกครั้ง   \n",
       "2  ผู้ถือหุ้นตั้งแต่ 20% ขึ้นไป/ ผู้รับผลประโยชน์...  ...    ทุกครั้ง   \n",
       "3  ผู้ถือหุ้นตั้งแต่ 20% ขึ้นไป/ ผู้รับผลประโยชน์...  ...    ทุกครั้ง   \n",
       "4                                            ลูกค้า,  ...    ทุกครั้ง   \n",
       "\n",
       "                CREATEDON             MODIFIEDON           APPROVEDDATE  \\\n",
       "0  11/16/2023 12:50:47 PM   1/15/2024 3:47:20 PM  11/16/2023 2:17:14 PM   \n",
       "1    3/22/2022 1:52:14 PM    6/9/2023 6:42:38 AM   3/22/2022 1:54:21 PM   \n",
       "2    3/22/2022 2:08:57 PM   1/15/2024 3:48:34 PM   3/22/2022 3:25:46 PM   \n",
       "3    3/13/2024 3:26:22 PM   3/13/2024 5:22:45 PM   3/13/2024 5:50:24 PM   \n",
       "4   12/27/2023 1:22:39 PM  12/27/2023 2:01:32 PM  12/27/2023 2:03:19 PM   \n",
       "\n",
       "  SYSTEMNAME EXIM_TITLENAMECODENAME                     NAME_C1 NAME_C2  \\\n",
       "0        LOS                    NaN  การปิโตรเลียมแห่งประเทศไทย     NaN   \n",
       "1        LOS                    NaN  การปิโตรเลียมแห่งประเทศไทย     NaN   \n",
       "2        LOS                    NaN  การปิโตรเลียมแห่งประเทศไทย     NaN   \n",
       "3        LOS                    NaN  การปิโตรเลียมแห่งประเทศไทย     NaN   \n",
       "4        LOS                    NaN  ธนาคารอาคารสงเคราะห์แม่โขง     NaN   \n",
       "\n",
       "                        NAME_C3 NAME_C4  \n",
       "0  petroleumauthorityofthailand     NaN  \n",
       "1  petroleumauthorityofthailand     NaN  \n",
       "2  petroleumauthorityofthailand     NaN  \n",
       "3  petroleumauthorityofthailand     NaN  \n",
       "4             mekonghousingbank     NaN  \n",
       "\n",
       "[5 rows x 23 columns]"
      ]
     },
     "execution_count": 79,
     "metadata": {},
     "output_type": "execute_result"
    }
   ],
   "source": [
    "df_cen.head()"
   ]
  },
  {
   "cell_type": "code",
   "execution_count": 80,
   "metadata": {
    "executionInfo": {
     "elapsed": 41250,
     "status": "ok",
     "timestamp": 1698733764197,
     "user": {
      "displayName": "Tharaphon Nitijiramon",
      "userId": "16915625665235536451"
     },
     "user_tz": -420
    },
    "id": "yBiDnEYZ7Rxl"
   },
   "outputs": [],
   "source": [
    "cus_list = df_e2['รหัสลูกค้า'].unique().tolist()\n",
    "name_centralize = ['NAME_C1' , 'NAME_C2' ,'NAME_C3' , 'NAME_C4']\n",
    "df_notin = pd.DataFrame()\n",
    "for i in range(len(cus_list)):\n",
    "  df_u = df_e2[df_e2['รหัสลูกค้า'] == cus_list[i]]\n",
    "  df_c = df_cen[df_cen['EXIM_CUSTID'] == cus_list[i]]\n",
    "  df_m_out = df_u.copy()\n",
    "  for n in range(len(name_centralize)):\n",
    "    if (len(df_m_out.dropna(subset = ['Name_clean'])) != 0) and len(df_c[[name_centralize[n]]].dropna(subset = [name_centralize[n]]).drop_duplicates()):\n",
    "      df_m = fuzzy_merge(df_m_out.dropna(subset = ['Name_clean']) ,\n",
    "                                    df_c[[name_centralize[n]]].dropna(subset = [name_centralize[n]]).drop_duplicates() ,\n",
    "                                    left_on = 'Name_clean' , right_on = name_centralize[n] , how = 'left')\n",
    "      df_m_out = df_m[df_m[name_centralize[n]].isna()].drop(columns = name_centralize[n])\n",
    "  df_notin = pd.concat([df_notin , df_m_out])"
   ]
  },
  {
   "cell_type": "code",
   "execution_count": 81,
   "metadata": {
    "colab": {
     "base_uri": "https://localhost:8080/"
    },
    "executionInfo": {
     "elapsed": 20,
     "status": "ok",
     "timestamp": 1698733764198,
     "user": {
      "displayName": "Tharaphon Nitijiramon",
      "userId": "16915625665235536451"
     },
     "user_tz": -420
    },
    "id": "TEw4xT2d9X5R",
    "outputId": "c05e7b37-41c9-405d-99ca-1dbcc9db0561"
   },
   "outputs": [
    {
     "data": {
      "text/plain": [
       "306"
      ]
     },
     "execution_count": 81,
     "metadata": {},
     "output_type": "execute_result"
    }
   ],
   "source": [
    "len(df_notin)"
   ]
  },
  {
   "cell_type": "code",
   "execution_count": 82,
   "metadata": {
    "executionInfo": {
     "elapsed": 18,
     "status": "ok",
     "timestamp": 1698733764198,
     "user": {
      "displayName": "Tharaphon Nitijiramon",
      "userId": "16915625665235536451"
     },
     "user_tz": -420
    },
    "id": "eSSPJrcaakep"
   },
   "outputs": [],
   "source": [
    "def id_g(a):\n",
    "  c = 0\n",
    "  if pd.isna(a) == False:\n",
    "    if a[0] == 'G':\n",
    "      c = 1\n",
    "  return c"
   ]
  },
  {
   "cell_type": "code",
   "execution_count": 83,
   "metadata": {
    "executionInfo": {
     "elapsed": 17,
     "status": "ok",
     "timestamp": 1698733764198,
     "user": {
      "displayName": "Tharaphon Nitijiramon",
      "userId": "16915625665235536451"
     },
     "user_tz": -420
    },
    "id": "SHieTA_FbC8n"
   },
   "outputs": [],
   "source": [
    "df_notin['is_g'] = df_notin['รหัสลูกค้า'].apply(lambda x : id_g(x))"
   ]
  },
  {
   "cell_type": "code",
   "execution_count": 84,
   "metadata": {
    "executionInfo": {
     "elapsed": 17,
     "status": "ok",
     "timestamp": 1698733764198,
     "user": {
      "displayName": "Tharaphon Nitijiramon",
      "userId": "16915625665235536451"
     },
     "user_tz": -420
    },
    "id": "bauZsavt7Nky"
   },
   "outputs": [],
   "source": [
    "df_g = df_notin[df_notin['is_g'] == 1].drop(columns = ['is_g'])\n",
    "\n",
    "df_notg = df_notin[df_notin['is_g'] == 0].drop(columns = ['is_g'])"
   ]
  },
  {
   "cell_type": "code",
   "execution_count": 85,
   "metadata": {
    "colab": {
     "base_uri": "https://localhost:8080/"
    },
    "executionInfo": {
     "elapsed": 16,
     "status": "ok",
     "timestamp": 1698733764198,
     "user": {
      "displayName": "Tharaphon Nitijiramon",
      "userId": "16915625665235536451"
     },
     "user_tz": -420
    },
    "id": "CXtVZ5PU7htu",
    "outputId": "9b91fe1c-75e7-4ce6-8a3c-a1e40b4339b9"
   },
   "outputs": [
    {
     "name": "stdout",
     "output_type": "stream",
     "text": [
      "48 258\n"
     ]
    }
   ],
   "source": [
    "print(len(df_g) , len(df_notg))"
   ]
  },
  {
   "cell_type": "code",
   "execution_count": 86,
   "metadata": {
    "executionInfo": {
     "elapsed": 23341,
     "status": "ok",
     "timestamp": 1698733787524,
     "user": {
      "displayName": "Tharaphon Nitijiramon",
      "userId": "16915625665235536451"
     },
     "user_tz": -420
    },
    "id": "6lc3cnCF7NnZ"
   },
   "outputs": [],
   "source": [
    "cus_list = df_g['รหัสลูกค้า'].unique().tolist()\n",
    "name_centralize = ['NAME_C1' , 'NAME_C2' ,'NAME_C3' , 'NAME_C4']\n",
    "df_notin1 = pd.DataFrame()\n",
    "for i in range(len(cus_list)):\n",
    "  df_u = df_g[df_g['รหัสลูกค้า'] == cus_list[i]]\n",
    "  df_c = df_cen.copy()\n",
    "  df_m_out = df_u.copy()\n",
    "  for n in range(len(name_centralize)):\n",
    "    if (len(df_m_out.dropna(subset = ['Name_clean'])) != 0) and len(df_c[[name_centralize[n]]].dropna(subset = [name_centralize[n]]).drop_duplicates()):\n",
    "      df_m = fuzzy_merge(df_m_out.dropna(subset = ['Name_clean']) ,\n",
    "                                    df_c[[name_centralize[n]]].dropna(subset = [name_centralize[n]]).drop_duplicates() ,\n",
    "                                    left_on = 'Name_clean' , right_on = name_centralize[n] , how = 'left')\n",
    "      df_m_out = df_m[df_m[name_centralize[n]].isna()].drop(columns = name_centralize[n])\n",
    "  df_notin1 = pd.concat([df_notin1 , df_m_out])"
   ]
  },
  {
   "cell_type": "code",
   "execution_count": 87,
   "metadata": {
    "executionInfo": {
     "elapsed": 24,
     "status": "ok",
     "timestamp": 1698733787525,
     "user": {
      "displayName": "Tharaphon Nitijiramon",
      "userId": "16915625665235536451"
     },
     "user_tz": -420
    },
    "id": "2Xkbf2kP7m1H"
   },
   "outputs": [],
   "source": [
    "df_ans = pd.concat([df_notg , df_notin1])"
   ]
  },
  {
   "cell_type": "code",
   "execution_count": 88,
   "metadata": {
    "colab": {
     "base_uri": "https://localhost:8080/",
     "height": 0
    },
    "executionInfo": {
     "elapsed": 22,
     "status": "ok",
     "timestamp": 1698733787525,
     "user": {
      "displayName": "Tharaphon Nitijiramon",
      "userId": "16915625665235536451"
     },
     "user_tz": -420
    },
    "id": "0CE5n6tx7t3x",
    "outputId": "b6519288-43dc-4800-c458-8e8e9291356c"
   },
   "outputs": [
    {
     "data": {
      "text/html": [
       "<div>\n",
       "<style scoped>\n",
       "    .dataframe tbody tr th:only-of-type {\n",
       "        vertical-align: middle;\n",
       "    }\n",
       "\n",
       "    .dataframe tbody tr th {\n",
       "        vertical-align: top;\n",
       "    }\n",
       "\n",
       "    .dataframe thead th {\n",
       "        text-align: right;\n",
       "    }\n",
       "</style>\n",
       "<table border=\"1\" class=\"dataframe\">\n",
       "  <thead>\n",
       "    <tr style=\"text-align: right;\">\n",
       "      <th></th>\n",
       "      <th>ชื่อผู้เกี่ยวข้อง</th>\n",
       "      <th>ความเกี่ยวข้อง</th>\n",
       "      <th>เลขทะเบียนนิติบุคคล (13 หลัก)</th>\n",
       "      <th>ชื่อนิติบุคคลจดทะเบียนภาษาไทย</th>\n",
       "      <th>ชื่อนิติบุคคลจดทะเบียนภาษาอังกฤษ</th>\n",
       "      <th>อำนาจกรรมการ</th>\n",
       "      <th>Name_clean</th>\n",
       "      <th>อำนาจลงนาม</th>\n",
       "      <th>เปอร์เซ็นผู้ถือหุ้น</th>\n",
       "      <th>รหัสลูกค้า</th>\n",
       "      <th>ผู้ดูแลลูกค้า_(แยกส่วน)</th>\n",
       "      <th>ผู้ดูแลลูกค้า_(ตามฝ่าย)</th>\n",
       "      <th>is_in</th>\n",
       "      <th>วันที่อนุมัติครั้งแรก</th>\n",
       "      <th>วันที่อนุมัติล่าสุด</th>\n",
       "      <th>วันที่ทบทวนล่าสุด</th>\n",
       "      <th>CUCTAXCS</th>\n",
       "    </tr>\n",
       "  </thead>\n",
       "  <tbody>\n",
       "    <tr>\n",
       "      <th>0</th>\n",
       "      <td>ภาคิน บุญญเบญจฤทธิ์</td>\n",
       "      <td>กรรมการ/ผู้ถือหุ้น</td>\n",
       "      <td>0103535014050</td>\n",
       "      <td>ห้างหุ้นส่วนจำกัด เรืองทรัพย์ เทรดดิ้ง</td>\n",
       "      <td>RUANGSARP TRADING LIMITED PARTNERSHIP</td>\n",
       "      <td>ในการดำเนินการใดๆ ให้มีผลผูกพันห้างหุ้นส่วนให้...</td>\n",
       "      <td>ภาคินบุญญเบญจฤทธิ์</td>\n",
       "      <td>มีอำนาจลงนาม</td>\n",
       "      <td>20.00</td>\n",
       "      <td>0110299</td>\n",
       "      <td>ส่วนการตลาดวิสาหกิจขนาดกลางและขนาดย่อม 1</td>\n",
       "      <td>ฝ่ายการตลาดวิสาหกิจขนาดกลางและขนาดย่อม</td>\n",
       "      <td>1</td>\n",
       "      <td>2024-01-18</td>\n",
       "      <td>2024-01-18</td>\n",
       "      <td>2022-04-22</td>\n",
       "      <td>0103535014050</td>\n",
       "    </tr>\n",
       "    <tr>\n",
       "      <th>1</th>\n",
       "      <td>ณัชชา บุญญเบญจฤทธิ์</td>\n",
       "      <td>กรรมการ/ผู้ถือหุ้น</td>\n",
       "      <td>0103535014050</td>\n",
       "      <td>ห้างหุ้นส่วนจำกัด เรืองทรัพย์ เทรดดิ้ง</td>\n",
       "      <td>RUANGSARP TRADING LIMITED PARTNERSHIP</td>\n",
       "      <td>ในการดำเนินการใดๆ ให้มีผลผูกพันห้างหุ้นส่วนให้...</td>\n",
       "      <td>ณัชชาบุญญเบญจฤทธิ์</td>\n",
       "      <td>มีอำนาจลงนาม</td>\n",
       "      <td>20.00</td>\n",
       "      <td>0110299</td>\n",
       "      <td>ส่วนการตลาดวิสาหกิจขนาดกลางและขนาดย่อม 1</td>\n",
       "      <td>ฝ่ายการตลาดวิสาหกิจขนาดกลางและขนาดย่อม</td>\n",
       "      <td>1</td>\n",
       "      <td>2024-01-18</td>\n",
       "      <td>2024-01-18</td>\n",
       "      <td>2022-04-22</td>\n",
       "      <td>0103535014050</td>\n",
       "    </tr>\n",
       "    <tr>\n",
       "      <th>0</th>\n",
       "      <td>วารุณี อดิเรก</td>\n",
       "      <td>กรรมการ/ผู้ถือหุ้น</td>\n",
       "      <td>0103537001419</td>\n",
       "      <td>ห้างหุ้นส่วนจำกัด ใบโพธิ์ธุรกิจและอุตสาหกรรม</td>\n",
       "      <td>BAIPO BUSINESS AND INDUSTRY LIMITED PARTNERSHIP</td>\n",
       "      <td>ไม่มี</td>\n",
       "      <td>วารุณีอดิเรก</td>\n",
       "      <td>NaN</td>\n",
       "      <td>30.00</td>\n",
       "      <td>0143703</td>\n",
       "      <td>ส่วนการตลาดวิสาหกิจขนาดกลางและขนาดย่อม 6</td>\n",
       "      <td>ฝ่ายการตลาดวิสาหกิจขนาดกลางและขนาดย่อม</td>\n",
       "      <td>1</td>\n",
       "      <td>2024-01-18</td>\n",
       "      <td>2024-01-18</td>\n",
       "      <td>NaT</td>\n",
       "      <td>0103537001419</td>\n",
       "    </tr>\n",
       "    <tr>\n",
       "      <th>1</th>\n",
       "      <td>วิทวัส อดิเรก (25.00%)</td>\n",
       "      <td>ผู้ถือหุ้น</td>\n",
       "      <td>0103537001419</td>\n",
       "      <td>ห้างหุ้นส่วนจำกัด ใบโพธิ์ธุรกิจและอุตสาหกรรม</td>\n",
       "      <td>BAIPO BUSINESS AND INDUSTRY LIMITED PARTNERSHIP</td>\n",
       "      <td>ไม่มี</td>\n",
       "      <td>วิทวัสอดิเรก</td>\n",
       "      <td>NaN</td>\n",
       "      <td>25.00</td>\n",
       "      <td>0143703</td>\n",
       "      <td>ส่วนการตลาดวิสาหกิจขนาดกลางและขนาดย่อม 6</td>\n",
       "      <td>ฝ่ายการตลาดวิสาหกิจขนาดกลางและขนาดย่อม</td>\n",
       "      <td>1</td>\n",
       "      <td>2024-01-18</td>\n",
       "      <td>2024-01-18</td>\n",
       "      <td>NaT</td>\n",
       "      <td>0103537001419</td>\n",
       "    </tr>\n",
       "    <tr>\n",
       "      <th>0</th>\n",
       "      <td>อภิชาต ตั้งอมรศิริ (21.69%)</td>\n",
       "      <td>ผู้ถือหุ้น</td>\n",
       "      <td>0105508000231</td>\n",
       "      <td>บริษัท ที.พี.ดรัก แลบบอราทอรี่ส์ (1969) จำกัด</td>\n",
       "      <td>T.P.DRUGLABORATORIES (1969) CO.,LTD.</td>\n",
       "      <td>นายอุดมชัย ตั้งอมรศิริ หรือนายอุดมศักดิ์ ตั้งอ...</td>\n",
       "      <td>อภิชาตตั้งอมรศิริ</td>\n",
       "      <td>NaN</td>\n",
       "      <td>21.69</td>\n",
       "      <td>0078106</td>\n",
       "      <td>สาขาบางนา-ตราด กม.3</td>\n",
       "      <td>สาขาบางนา-ตราด กม.3</td>\n",
       "      <td>1</td>\n",
       "      <td>2020-12-21</td>\n",
       "      <td>2023-03-21</td>\n",
       "      <td>2024-03-27</td>\n",
       "      <td>0105508000231</td>\n",
       "    </tr>\n",
       "  </tbody>\n",
       "</table>\n",
       "</div>"
      ],
      "text/plain": [
       "             ชื่อผู้เกี่ยวข้อง      ความเกี่ยวข้อง  \\\n",
       "0          ภาคิน บุญญเบญจฤทธิ์  กรรมการ/ผู้ถือหุ้น   \n",
       "1          ณัชชา บุญญเบญจฤทธิ์  กรรมการ/ผู้ถือหุ้น   \n",
       "0                วารุณี อดิเรก  กรรมการ/ผู้ถือหุ้น   \n",
       "1       วิทวัส อดิเรก (25.00%)          ผู้ถือหุ้น   \n",
       "0  อภิชาต ตั้งอมรศิริ (21.69%)          ผู้ถือหุ้น   \n",
       "\n",
       "  เลขทะเบียนนิติบุคคล (13 หลัก)  \\\n",
       "0                 0103535014050   \n",
       "1                 0103535014050   \n",
       "0                 0103537001419   \n",
       "1                 0103537001419   \n",
       "0                 0105508000231   \n",
       "\n",
       "                   ชื่อนิติบุคคลจดทะเบียนภาษาไทย  \\\n",
       "0         ห้างหุ้นส่วนจำกัด เรืองทรัพย์ เทรดดิ้ง   \n",
       "1         ห้างหุ้นส่วนจำกัด เรืองทรัพย์ เทรดดิ้ง   \n",
       "0   ห้างหุ้นส่วนจำกัด ใบโพธิ์ธุรกิจและอุตสาหกรรม   \n",
       "1   ห้างหุ้นส่วนจำกัด ใบโพธิ์ธุรกิจและอุตสาหกรรม   \n",
       "0  บริษัท ที.พี.ดรัก แลบบอราทอรี่ส์ (1969) จำกัด   \n",
       "\n",
       "                  ชื่อนิติบุคคลจดทะเบียนภาษาอังกฤษ  \\\n",
       "0            RUANGSARP TRADING LIMITED PARTNERSHIP   \n",
       "1            RUANGSARP TRADING LIMITED PARTNERSHIP   \n",
       "0  BAIPO BUSINESS AND INDUSTRY LIMITED PARTNERSHIP   \n",
       "1  BAIPO BUSINESS AND INDUSTRY LIMITED PARTNERSHIP   \n",
       "0             T.P.DRUGLABORATORIES (1969) CO.,LTD.   \n",
       "\n",
       "                                        อำนาจกรรมการ          Name_clean  \\\n",
       "0  ในการดำเนินการใดๆ ให้มีผลผูกพันห้างหุ้นส่วนให้...  ภาคินบุญญเบญจฤทธิ์   \n",
       "1  ในการดำเนินการใดๆ ให้มีผลผูกพันห้างหุ้นส่วนให้...  ณัชชาบุญญเบญจฤทธิ์   \n",
       "0                                              ไม่มี        วารุณีอดิเรก   \n",
       "1                                              ไม่มี        วิทวัสอดิเรก   \n",
       "0  นายอุดมชัย ตั้งอมรศิริ หรือนายอุดมศักดิ์ ตั้งอ...   อภิชาตตั้งอมรศิริ   \n",
       "\n",
       "     อำนาจลงนาม  เปอร์เซ็นผู้ถือหุ้น รหัสลูกค้า  \\\n",
       "0  มีอำนาจลงนาม                20.00    0110299   \n",
       "1  มีอำนาจลงนาม                20.00    0110299   \n",
       "0           NaN                30.00    0143703   \n",
       "1           NaN                25.00    0143703   \n",
       "0           NaN                21.69    0078106   \n",
       "\n",
       "                    ผู้ดูแลลูกค้า_(แยกส่วน)  \\\n",
       "0  ส่วนการตลาดวิสาหกิจขนาดกลางและขนาดย่อม 1   \n",
       "1  ส่วนการตลาดวิสาหกิจขนาดกลางและขนาดย่อม 1   \n",
       "0  ส่วนการตลาดวิสาหกิจขนาดกลางและขนาดย่อม 6   \n",
       "1  ส่วนการตลาดวิสาหกิจขนาดกลางและขนาดย่อม 6   \n",
       "0                       สาขาบางนา-ตราด กม.3   \n",
       "\n",
       "                  ผู้ดูแลลูกค้า_(ตามฝ่าย)  is_in วันที่อนุมัติครั้งแรก  \\\n",
       "0  ฝ่ายการตลาดวิสาหกิจขนาดกลางและขนาดย่อม      1            2024-01-18   \n",
       "1  ฝ่ายการตลาดวิสาหกิจขนาดกลางและขนาดย่อม      1            2024-01-18   \n",
       "0  ฝ่ายการตลาดวิสาหกิจขนาดกลางและขนาดย่อม      1            2024-01-18   \n",
       "1  ฝ่ายการตลาดวิสาหกิจขนาดกลางและขนาดย่อม      1            2024-01-18   \n",
       "0                     สาขาบางนา-ตราด กม.3      1            2020-12-21   \n",
       "\n",
       "  วันที่อนุมัติล่าสุด วันที่ทบทวนล่าสุด       CUCTAXCS  \n",
       "0          2024-01-18        2022-04-22  0103535014050  \n",
       "1          2024-01-18        2022-04-22  0103535014050  \n",
       "0          2024-01-18               NaT  0103537001419  \n",
       "1          2024-01-18               NaT  0103537001419  \n",
       "0          2023-03-21        2024-03-27  0105508000231  "
      ]
     },
     "execution_count": 88,
     "metadata": {},
     "output_type": "execute_result"
    }
   ],
   "source": [
    "df_ans.head()"
   ]
  },
  {
   "cell_type": "markdown",
   "metadata": {
    "id": "LmNtp3zHs8qu"
   },
   "source": [
    "# EXPORT FILE"
   ]
  },
  {
   "cell_type": "code",
   "execution_count": 89,
   "metadata": {
    "executionInfo": {
     "elapsed": 20,
     "status": "ok",
     "timestamp": 1698733787526,
     "user": {
      "displayName": "Tharaphon Nitijiramon",
      "userId": "16915625665235536451"
     },
     "user_tz": -420
    },
    "id": "d6yUE89F94pJ"
   },
   "outputs": [],
   "source": [
    "df_a1 = df_ans[[ 'รหัสลูกค้า' ,  'เลขทะเบียนนิติบุคคล (13 หลัก)' , 'ชื่อนิติบุคคลจดทะเบียนภาษาไทย', 'ชื่อนิติบุคคลจดทะเบียนภาษาอังกฤษ' ,\n",
    "                      'ชื่อผู้เกี่ยวข้อง' ,'ความเกี่ยวข้อง',  'อำนาจกรรมการ', 'อำนาจลงนาม', 'เปอร์เซ็นผู้ถือหุ้น' , 'ผู้ดูแลลูกค้า_(แยกส่วน)', 'ผู้ดูแลลูกค้า_(ตามฝ่าย)',\n",
    "                        'วันที่อนุมัติครั้งแรก', 'วันที่อนุมัติล่าสุด', 'วันที่ทบทวนล่าสุด' , 'is_in']]"
   ]
  },
  {
   "cell_type": "code",
   "execution_count": 90,
   "metadata": {
    "executionInfo": {
     "elapsed": 20,
     "status": "ok",
     "timestamp": 1698733787526,
     "user": {
      "displayName": "Tharaphon Nitijiramon",
      "userId": "16915625665235536451"
     },
     "user_tz": -420
    },
    "id": "KPDB8kFz-KD7"
   },
   "outputs": [],
   "source": [
    "df_a1.to_excel(result_path + file_name , index = False)"
   ]
  },
  {
   "cell_type": "code",
   "execution_count": 91,
   "metadata": {
    "executionInfo": {
     "elapsed": 20,
     "status": "ok",
     "timestamp": 1698733787526,
     "user": {
      "displayName": "Tharaphon Nitijiramon",
      "userId": "16915625665235536451"
     },
     "user_tz": -420
    },
    "id": "NXypA63x70Mb"
   },
   "outputs": [],
   "source": [
    "def clean_date_out(a):\n",
    "  if (pd.isna(a) == False) and (a[-4:-2] != '20') and (a[-4:-2] != '19'):\n",
    "    a = a.replace('/265' , '/256')\n",
    "    return  a[:-4] + str(int(a[-4:]) - 543)\n",
    "  elif (pd.isna(a) == False) and (a[:2] != '00'):\n",
    "    a = np.nan\n",
    "    return a\n",
    "  else:\n",
    "    return a"
   ]
  },
  {
   "cell_type": "code",
   "execution_count": null,
   "metadata": {},
   "outputs": [],
   "source": []
  }
 ],
 "metadata": {
  "colab": {
   "collapsed_sections": [
    "0THeXfg36-Od",
    "uAhnVEV-IXxS",
    "h7GDuRtn7HHE"
   ],
   "provenance": []
  },
  "kernelspec": {
   "display_name": "Python 3 (ipykernel)",
   "language": "python",
   "name": "python3"
  },
  "language_info": {
   "codemirror_mode": {
    "name": "ipython",
    "version": 3
   },
   "file_extension": ".py",
   "mimetype": "text/x-python",
   "name": "python",
   "nbconvert_exporter": "python",
   "pygments_lexer": "ipython3",
   "version": "3.9.12"
  }
 },
 "nbformat": 4,
 "nbformat_minor": 1
}
