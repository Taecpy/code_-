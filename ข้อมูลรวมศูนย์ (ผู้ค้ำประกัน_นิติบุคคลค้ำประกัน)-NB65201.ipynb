{
 "cells": [
  {
   "cell_type": "markdown",
   "metadata": {
    "id": "rXAOP8zGHY2_"
   },
   "source": [
    "# IMPORT"
   ]
  },
  {
   "cell_type": "code",
   "execution_count": 1,
   "metadata": {
    "executionInfo": {
     "elapsed": 7,
     "status": "ok",
     "timestamp": 1698733938315,
     "user": {
      "displayName": "Tharaphon Nitijiramon",
      "userId": "16915625665235536451"
     },
     "user_tz": -420
    },
    "id": "NhX3quG_HBoD"
   },
   "outputs": [],
   "source": [
    "import numpy as np\n",
    "import pandas as pd"
   ]
  },
  {
   "cell_type": "code",
   "execution_count": 2,
   "metadata": {
    "executionInfo": {
     "elapsed": 8,
     "status": "ok",
     "timestamp": 1698733961193,
     "user": {
      "displayName": "Tharaphon Nitijiramon",
      "userId": "16915625665235536451"
     },
     "user_tz": -420
    },
    "id": "KkaE-XiwQgiS"
   },
   "outputs": [],
   "source": [
    "# การแก้ Fuzzy ว่าเอากี่ Percent ให้แก้จรง cutoff = x\n",
    "import difflib\n",
    "\n",
    "def fuzzy_merge(df1, df2, left_on, right_on, how='inner', cutoff=0.90):\n",
    "    df_other= df2.copy()\n",
    "    df_other[left_on] = [get_closest_match(x, df1[left_on], cutoff)\n",
    "                         for x in df_other[right_on]]\n",
    "    return df1.merge(df_other, on=left_on, how=how)\n",
    "\n",
    "def get_closest_match(x, other, cutoff):\n",
    "    matches = difflib.get_close_matches(x, other, cutoff=cutoff)\n",
    "    return matches[0] if matches else None"
   ]
  },
  {
   "cell_type": "code",
   "execution_count": 3,
   "metadata": {
    "executionInfo": {
     "elapsed": 8,
     "status": "ok",
     "timestamp": 1698733961194,
     "user": {
      "displayName": "Tharaphon Nitijiramon",
      "userId": "16915625665235536451"
     },
     "user_tz": -420
    },
    "id": "ZsVrwzTnQ12X"
   },
   "outputs": [],
   "source": [
    "def isEnglish(s):\n",
    "  try:\n",
    "    s.encode(encoding='utf-8').decode('ascii')\n",
    "  except UnicodeDecodeError:\n",
    "    return False\n",
    "  else:\n",
    "    return True"
   ]
  },
  {
   "cell_type": "code",
   "execution_count": 4,
   "metadata": {
    "executionInfo": {
     "elapsed": 8,
     "status": "ok",
     "timestamp": 1698733961194,
     "user": {
      "displayName": "Tharaphon Nitijiramon",
      "userId": "16915625665235536451"
     },
     "user_tz": -420
    },
    "id": "Fw5j8NU7Q20k"
   },
   "outputs": [],
   "source": [
    "def clean_string(x):\n",
    "  if pd.isna(x) == False:\n",
    "    x = x.lower()\n",
    "    x = x.strip()\n",
    "    remove_list = [' ','ด็อกเตอร์','ดร.','ว่าที่','พล.อ.','พล.ท.','พล.ต.','พ.อ.','พ.ท.','พ.ต.','ร.อ.','ร.ท.','ร.ต.','จ.ส.อ.','จ.ส.ท.','จ.ส.ต','ส.อ.',\n",
    "                           'ส.ท.','ส.ต.',\n",
    "                          'พลฯ','นนร.','พล.ร.อ.','พล.ร.ท.','พล.ร.ต.','น.อ.','ร.น.','น.ท.','น.ต.','ร.อ.','ร.ท.','ร.ต.','พ.จ.อ.','พ.จ.ท.','พ.จ.ต.',\n",
    "                          'จ.อ.','จ.ท.','จ.ต.','พล.อ.อ.','พล.อ.ท.','พล.อ.ต.','พ.อ.อ.','พ.อ.ท.','พ.อ.ต.','นนอ.','นจอ.',\n",
    "                          'พล.ต.อ.','พล.ต.ท.','พล.ต.ต.','พ.ต.อ.','พ.ต.ท.','พ.ต.ต.','ร.ต.อ.','ร.ต.ท.','ร.ต.ต.','ด.ต.','จ.ส.ต.','ส.ต.อ.','ส.ต.ท.','ส.ต.ต.'\n",
    "                           ,'พลเอก','พลโท','พลตรี','พันเอก','พันโท','พันตรี','ร้อยเอก','ร้อยโท','ร้อยตรี','จ่าสิบเอก','จ่าสิบโท','จ่าสิบตรี','สิบเอก','สิบโท','สิบตรี','พลทหาร',\n",
    "                        'พลเรือเอก','พลเรือโท','พลเรือตรี','นาวาเอก','นาวาโท','นาวาตรี','เรือเอก','เรือโท','เรือตรี','พันจ่าเอก','พันจ่าโท','พันจ่าตรี','จ่าเอก','จ่าโท','จ่าตรี',\n",
    "                           'พลอากาศเอก' , 'พลอากาศโท','พลอากาศตรี','นาวาอากาศเอก','นาวาอากาศโท','นาวาอากาศตรี','เรืออากาศเอก','เรืออากาศโท' ,'เรืออากาศตรี',\n",
    "                           'พันจ่าอากาศเอก','พันจ่าอากาศโท','พันจ่าอากาศตรี','จ่าอากาศเอก','จ่าอากาศโท','จ่าอากาศตรี',\n",
    "                           'mr.','mrs.','ms.','limited','inc.','co., ltd.,','ltd','(ไทย)','(ประเทศไทย)',\n",
    "                        '','(',')','-','.',',','บริษัท','บจก','จำกัด','มหาชน','ห้างหุ้นส่วน','จำกัด','publiccompanylim','company','–','/' ,\n",
    "                           'นาย','นางสาว' ,'นาง' , 'x0000' , '_' , 'และหรือย่อย']\n",
    "    for i in range(len(remove_list)):\n",
    "      x = x.replace(remove_list[i],'')\n",
    "  return x"
   ]
  },
  {
   "cell_type": "code",
   "execution_count": 5,
   "metadata": {
    "executionInfo": {
     "elapsed": 7,
     "status": "ok",
     "timestamp": 1698733961194,
     "user": {
      "displayName": "Tharaphon Nitijiramon",
      "userId": "16915625665235536451"
     },
     "user_tz": -420
    },
    "id": "BXndWNJqQ7R6"
   },
   "outputs": [],
   "source": [
    "input_path = r'C:\\Users\\tharaphonn\\OneDrive - EXIM BANK OF THAILAND\\Shared Drive บส ตส\\Data\\ปี 2566 Q4/'\n",
    "output_path = r'C:\\Users\\tharaphonn\\OneDrive - EXIM BANK OF THAILAND\\Shared Drive บส ตส\\3. รวมศูนย์\\RESULT/'"
   ]
  },
  {
   "cell_type": "markdown",
   "metadata": {
    "id": "-RuVDo37I2Q8"
   },
   "source": [
    "# INPUT"
   ]
  },
  {
   "cell_type": "code",
   "execution_count": 6,
   "metadata": {
    "colab": {
     "base_uri": "https://localhost:8080/"
    },
    "executionInfo": {
     "elapsed": 12689,
     "status": "ok",
     "timestamp": 1698734138966,
     "user": {
      "displayName": "Tharaphon Nitijiramon",
      "userId": "16915625665235536451"
     },
     "user_tz": -420
    },
    "id": "0KIds3mFHaxX",
    "outputId": "42feccf8-919b-4f55-e475-78dbd89d2c7d"
   },
   "outputs": [
    {
     "ename": "FileNotFoundError",
     "evalue": "[Errno 2] No such file or directory: 'C:\\\\Users\\\\tharaphonn\\\\OneDrive - EXIM BANK OF THAILAND\\\\Shared Drive บส ตส\\\\Data\\\\ปี 2566 Q4/12.วงเงินและยอดคงค้าง_ธ.ค.2566.xlsx'",
     "output_type": "error",
     "traceback": [
      "\u001b[1;31m---------------------------------------------------------------------------\u001b[0m",
      "\u001b[1;31mFileNotFoundError\u001b[0m                         Traceback (most recent call last)",
      "Cell \u001b[1;32mIn[6], line 4\u001b[0m\n\u001b[0;32m      1\u001b[0m \u001b[38;5;66;03m#@title ข้อมูล Outstanding\u001b[39;00m\n\u001b[0;32m      2\u001b[0m \u001b[38;5;66;03m#จาก Share Point\u001b[39;00m\n\u001b[0;32m      3\u001b[0m outstanding \u001b[38;5;241m=\u001b[39m \u001b[38;5;124m'\u001b[39m\u001b[38;5;124m12.วงเงินและยอดคงค้าง_ธ.ค.2566.xlsx\u001b[39m\u001b[38;5;124m'\u001b[39m \u001b[38;5;66;03m#@param {type:'string'}\u001b[39;00m\n\u001b[1;32m----> 4\u001b[0m df_out \u001b[38;5;241m=\u001b[39m pd\u001b[38;5;241m.\u001b[39mread_excel(input_path \u001b[38;5;241m+\u001b[39m outstanding , dtype \u001b[38;5;241m=\u001b[39m \u001b[38;5;28mstr\u001b[39m)\n",
      "File \u001b[1;32mC:\\anaconda3\\Lib\\site-packages\\pandas\\io\\excel\\_base.py:478\u001b[0m, in \u001b[0;36mread_excel\u001b[1;34m(io, sheet_name, header, names, index_col, usecols, dtype, engine, converters, true_values, false_values, skiprows, nrows, na_values, keep_default_na, na_filter, verbose, parse_dates, date_parser, date_format, thousands, decimal, comment, skipfooter, storage_options, dtype_backend)\u001b[0m\n\u001b[0;32m    476\u001b[0m \u001b[38;5;28;01mif\u001b[39;00m \u001b[38;5;129;01mnot\u001b[39;00m \u001b[38;5;28misinstance\u001b[39m(io, ExcelFile):\n\u001b[0;32m    477\u001b[0m     should_close \u001b[38;5;241m=\u001b[39m \u001b[38;5;28;01mTrue\u001b[39;00m\n\u001b[1;32m--> 478\u001b[0m     io \u001b[38;5;241m=\u001b[39m ExcelFile(io, storage_options\u001b[38;5;241m=\u001b[39mstorage_options, engine\u001b[38;5;241m=\u001b[39mengine)\n\u001b[0;32m    479\u001b[0m \u001b[38;5;28;01melif\u001b[39;00m engine \u001b[38;5;129;01mand\u001b[39;00m engine \u001b[38;5;241m!=\u001b[39m io\u001b[38;5;241m.\u001b[39mengine:\n\u001b[0;32m    480\u001b[0m     \u001b[38;5;28;01mraise\u001b[39;00m \u001b[38;5;167;01mValueError\u001b[39;00m(\n\u001b[0;32m    481\u001b[0m         \u001b[38;5;124m\"\u001b[39m\u001b[38;5;124mEngine should not be specified when passing \u001b[39m\u001b[38;5;124m\"\u001b[39m\n\u001b[0;32m    482\u001b[0m         \u001b[38;5;124m\"\u001b[39m\u001b[38;5;124man ExcelFile - ExcelFile already has the engine set\u001b[39m\u001b[38;5;124m\"\u001b[39m\n\u001b[0;32m    483\u001b[0m     )\n",
      "File \u001b[1;32mC:\\anaconda3\\Lib\\site-packages\\pandas\\io\\excel\\_base.py:1496\u001b[0m, in \u001b[0;36mExcelFile.__init__\u001b[1;34m(self, path_or_buffer, engine, storage_options)\u001b[0m\n\u001b[0;32m   1494\u001b[0m     ext \u001b[38;5;241m=\u001b[39m \u001b[38;5;124m\"\u001b[39m\u001b[38;5;124mxls\u001b[39m\u001b[38;5;124m\"\u001b[39m\n\u001b[0;32m   1495\u001b[0m \u001b[38;5;28;01melse\u001b[39;00m:\n\u001b[1;32m-> 1496\u001b[0m     ext \u001b[38;5;241m=\u001b[39m inspect_excel_format(\n\u001b[0;32m   1497\u001b[0m         content_or_path\u001b[38;5;241m=\u001b[39mpath_or_buffer, storage_options\u001b[38;5;241m=\u001b[39mstorage_options\n\u001b[0;32m   1498\u001b[0m     )\n\u001b[0;32m   1499\u001b[0m     \u001b[38;5;28;01mif\u001b[39;00m ext \u001b[38;5;129;01mis\u001b[39;00m \u001b[38;5;28;01mNone\u001b[39;00m:\n\u001b[0;32m   1500\u001b[0m         \u001b[38;5;28;01mraise\u001b[39;00m \u001b[38;5;167;01mValueError\u001b[39;00m(\n\u001b[0;32m   1501\u001b[0m             \u001b[38;5;124m\"\u001b[39m\u001b[38;5;124mExcel file format cannot be determined, you must specify \u001b[39m\u001b[38;5;124m\"\u001b[39m\n\u001b[0;32m   1502\u001b[0m             \u001b[38;5;124m\"\u001b[39m\u001b[38;5;124man engine manually.\u001b[39m\u001b[38;5;124m\"\u001b[39m\n\u001b[0;32m   1503\u001b[0m         )\n",
      "File \u001b[1;32mC:\\anaconda3\\Lib\\site-packages\\pandas\\io\\excel\\_base.py:1371\u001b[0m, in \u001b[0;36minspect_excel_format\u001b[1;34m(content_or_path, storage_options)\u001b[0m\n\u001b[0;32m   1368\u001b[0m \u001b[38;5;28;01mif\u001b[39;00m \u001b[38;5;28misinstance\u001b[39m(content_or_path, \u001b[38;5;28mbytes\u001b[39m):\n\u001b[0;32m   1369\u001b[0m     content_or_path \u001b[38;5;241m=\u001b[39m BytesIO(content_or_path)\n\u001b[1;32m-> 1371\u001b[0m \u001b[38;5;28;01mwith\u001b[39;00m get_handle(\n\u001b[0;32m   1372\u001b[0m     content_or_path, \u001b[38;5;124m\"\u001b[39m\u001b[38;5;124mrb\u001b[39m\u001b[38;5;124m\"\u001b[39m, storage_options\u001b[38;5;241m=\u001b[39mstorage_options, is_text\u001b[38;5;241m=\u001b[39m\u001b[38;5;28;01mFalse\u001b[39;00m\n\u001b[0;32m   1373\u001b[0m ) \u001b[38;5;28;01mas\u001b[39;00m handle:\n\u001b[0;32m   1374\u001b[0m     stream \u001b[38;5;241m=\u001b[39m handle\u001b[38;5;241m.\u001b[39mhandle\n\u001b[0;32m   1375\u001b[0m     stream\u001b[38;5;241m.\u001b[39mseek(\u001b[38;5;241m0\u001b[39m)\n",
      "File \u001b[1;32mC:\\anaconda3\\Lib\\site-packages\\pandas\\io\\common.py:868\u001b[0m, in \u001b[0;36mget_handle\u001b[1;34m(path_or_buf, mode, encoding, compression, memory_map, is_text, errors, storage_options)\u001b[0m\n\u001b[0;32m    859\u001b[0m         handle \u001b[38;5;241m=\u001b[39m \u001b[38;5;28mopen\u001b[39m(\n\u001b[0;32m    860\u001b[0m             handle,\n\u001b[0;32m    861\u001b[0m             ioargs\u001b[38;5;241m.\u001b[39mmode,\n\u001b[1;32m   (...)\u001b[0m\n\u001b[0;32m    864\u001b[0m             newline\u001b[38;5;241m=\u001b[39m\u001b[38;5;124m\"\u001b[39m\u001b[38;5;124m\"\u001b[39m,\n\u001b[0;32m    865\u001b[0m         )\n\u001b[0;32m    866\u001b[0m     \u001b[38;5;28;01melse\u001b[39;00m:\n\u001b[0;32m    867\u001b[0m         \u001b[38;5;66;03m# Binary mode\u001b[39;00m\n\u001b[1;32m--> 868\u001b[0m         handle \u001b[38;5;241m=\u001b[39m \u001b[38;5;28mopen\u001b[39m(handle, ioargs\u001b[38;5;241m.\u001b[39mmode)\n\u001b[0;32m    869\u001b[0m     handles\u001b[38;5;241m.\u001b[39mappend(handle)\n\u001b[0;32m    871\u001b[0m \u001b[38;5;66;03m# Convert BytesIO or file objects passed with an encoding\u001b[39;00m\n",
      "\u001b[1;31mFileNotFoundError\u001b[0m: [Errno 2] No such file or directory: 'C:\\\\Users\\\\tharaphonn\\\\OneDrive - EXIM BANK OF THAILAND\\\\Shared Drive บส ตส\\\\Data\\\\ปี 2566 Q4/12.วงเงินและยอดคงค้าง_ธ.ค.2566.xlsx'"
     ]
    }
   ],
   "source": [
    "#@title ข้อมูล Outstanding\n",
    "#จาก Share Point\n",
    "outstanding = '12.วงเงินและยอดคงค้าง_ธ.ค.2566.xlsx' #@param {type:'string'}\n",
    "df_out = pd.read_excel(input_path + outstanding , dtype = str)"
   ]
  },
  {
   "cell_type": "code",
   "execution_count": null,
   "metadata": {
    "executionInfo": {
     "elapsed": 5,
     "status": "ok",
     "timestamp": 1698734138966,
     "user": {
      "displayName": "Tharaphon Nitijiramon",
      "userId": "16915625665235536451"
     },
     "user_tz": -420
    },
    "id": "r7UYlEbwVbul"
   },
   "outputs": [],
   "source": [
    "#@title ชื่อไฟล์ รหัสลูกค้า เลขนิติบุคคล\n",
    "#จาก Jupyter โดยการ Merge ข้อมูล วงเงินยอดคงค้าง กับ ไฟล์ข้อมูลลูกค้าในระบบ AS400\n",
    "# Link Share Point : http://sp.exim.go.th/dc/report/Report14/Forms/AllItems.aspx\n",
    "id_cuscode = 'รหัส_เลขนิติ_Q4_66.xlsx' #@param {type:'string'}\n",
    "df_pm = pd.read_excel(input_path + id_cuscode , dtype = str)"
   ]
  },
  {
   "cell_type": "code",
   "execution_count": null,
   "metadata": {
    "executionInfo": {
     "elapsed": 20156,
     "status": "ok",
     "timestamp": 1698734159119,
     "user": {
      "displayName": "Tharaphon Nitijiramon",
      "userId": "16915625665235536451"
     },
     "user_tz": -420
    },
    "id": "R6cVTax3Sheo"
   },
   "outputs": [],
   "source": [
    "#@title ข้อมูล ECS File บัญชี\n",
    "#ได้รับจากพี่หนุ่ม ภาคิน ทุกเดือน ฝ่าย พส.\n",
    "ecs1 = 'ลูกค้าวงเงินหลักประกัน_บช_Dec23.xlsx' #@param {type:'string'}\n",
    "ecs2 = 'เจ้าของหลักประกัน_audit_Dec23.xlsx' #@param {type:'string'}\n",
    "df_ecs1 = pd.read_excel(input_path + ecs1 , dtype = str)\n",
    "df_ecs2 = pd.read_excel(input_path + ecs2 , dtype = str)"
   ]
  },
  {
   "cell_type": "code",
   "execution_count": null,
   "metadata": {
    "executionInfo": {
     "elapsed": 23517,
     "status": "ok",
     "timestamp": 1698734182621,
     "user": {
      "displayName": "Tharaphon Nitijiramon",
      "userId": "16915625665235536451"
     },
     "user_tz": -420
    },
    "id": "mMAK54x_UQ0c"
   },
   "outputs": [],
   "source": [
    "#@title ข้อมูลรวมศูนย์\n",
    "# มีการให้ทุกต้นเดือนเป็น ออโต้จากฝ่าย พส.\n",
    "centralize = 'รวมศูนย์_20240102.xlsx' #@param {type:'string'}\n",
    "df_cen = pd.read_excel(input_path + centralize , dtype = str)"
   ]
  },
  {
   "cell_type": "code",
   "execution_count": null,
   "metadata": {
    "cellView": "form",
    "executionInfo": {
     "elapsed": 19,
     "status": "ok",
     "timestamp": 1698734182622,
     "user": {
      "displayName": "Tharaphon Nitijiramon",
      "userId": "16915625665235536451"
     },
     "user_tz": -420
    },
    "id": "VjTbDbblUzfc"
   },
   "outputs": [],
   "source": [
    "#@title ใส่ขอบเขตการตรวจ\n",
    "start_date = '2023-01-01' #@param {type:\"date\"}\n",
    "end_date = '2023-12-31' #@param {type:\"date\"}\n",
    "start_date = pd.to_datetime( start_date, format = '%Y-%m-%d')\n",
    "end_date = pd.to_datetime(end_date  , format = '%Y-%m-%d')"
   ]
  },
  {
   "cell_type": "code",
   "execution_count": null,
   "metadata": {
    "executionInfo": {
     "elapsed": 17,
     "status": "ok",
     "timestamp": 1698734182622,
     "user": {
      "displayName": "Tharaphon Nitijiramon",
      "userId": "16915625665235536451"
     },
     "user_tz": -420
    },
    "id": "cipv3QadU6WV"
   },
   "outputs": [],
   "source": [
    "#@title ชื่อไฟล์ Output\n",
    "file_name = 'รวมศูนย์_ผู้ค้ำประกัน_q4_66_jupyter.xlsx' #@param {type:'string'}"
   ]
  },
  {
   "cell_type": "code",
   "execution_count": null,
   "metadata": {
    "executionInfo": {
     "elapsed": 17,
     "status": "ok",
     "timestamp": 1698734182622,
     "user": {
      "displayName": "Tharaphon Nitijiramon",
      "userId": "16915625665235536451"
     },
     "user_tz": -420
    },
    "id": "1XPnUHALKGjX"
   },
   "outputs": [],
   "source": [
    "#df_b = pd.read_excel(input_path + 'Carp_ทบทวนแล้ว_110865.xlsx' , dtype = str)"
   ]
  },
  {
   "cell_type": "markdown",
   "metadata": {
    "id": "ApvIrgRMVN8q"
   },
   "source": [
    "# CODE"
   ]
  },
  {
   "cell_type": "markdown",
   "metadata": {
    "id": "BWzmeIXxEkvE"
   },
   "source": [
    "## Chose Customer and Clean Outstanding File"
   ]
  },
  {
   "cell_type": "code",
   "execution_count": null,
   "metadata": {
    "executionInfo": {
     "elapsed": 16,
     "status": "ok",
     "timestamp": 1698734182622,
     "user": {
      "displayName": "Tharaphon Nitijiramon",
      "userId": "16915625665235536451"
     },
     "user_tz": -420
    },
    "id": "ARspBbTMEfMw"
   },
   "outputs": [],
   "source": [
    "df_out1 = df_out[['รหัสลูกค้า' , 'ผู้ดูแลลูกค้า_(แยกส่วน)' , 'ผู้ดูแลลูกค้า_(ตามฝ่าย)' , 'วันที่อนุมัติ',\n",
    "                           'วันที่ทบทวนล่าสุด']].drop_duplicates()"
   ]
  },
  {
   "cell_type": "code",
   "execution_count": null,
   "metadata": {
    "executionInfo": {
     "elapsed": 15,
     "status": "ok",
     "timestamp": 1698734182622,
     "user": {
      "displayName": "Tharaphon Nitijiramon",
      "userId": "16915625665235536451"
     },
     "user_tz": -420
    },
    "id": "YasQgjOGEm3v"
   },
   "outputs": [],
   "source": [
    "def clean_date_out(a):\n",
    "  if pd.isna(a) == False:\n",
    "    if a[6:8] == '26':\n",
    "      a = a.replace('265' , '256')\n",
    "      a = a[:6] + str(int(a[6:]) - 543)\n",
    "      a = pd.to_datetime( a , format = '%d/%m/%Y')\n",
    "    elif a[6:8] == '25':\n",
    "      a = a[:6] + str(int(a[6:]) - 543)\n",
    "      a = pd.to_datetime( a , format = '%d/%m/%Y')\n",
    "    elif a[6:8] == '20' or a[6:8] == '19':\n",
    "      a = pd.to_datetime( a , format = '%d/%m/%Y')\n",
    "    elif a[6:7] == '3':\n",
    "      a = a[:6] + str(int(a[6:]) -2*543)\n",
    "      a = pd.to_datetime( a , format = '%d/%m/%Y')\n",
    "    elif a[6:8] == '00':\n",
    "      a = np.nan\n",
    "  return a"
   ]
  },
  {
   "cell_type": "code",
   "execution_count": null,
   "metadata": {
    "executionInfo": {
     "elapsed": 3355,
     "status": "ok",
     "timestamp": 1698734185962,
     "user": {
      "displayName": "Tharaphon Nitijiramon",
      "userId": "16915625665235536451"
     },
     "user_tz": -420
    },
    "id": "YdimrasmEoIp"
   },
   "outputs": [],
   "source": [
    "date_col = ['วันที่อนุมัติ' , 'วันที่ทบทวนล่าสุด']\n",
    "for i in range(len(date_col)):\n",
    "  df_out1[date_col[i]] = df_out1[date_col[i]].apply(lambda x : clean_date_out(x))\n",
    " # df_out1[date_col[i]] = pd.to_datetime( df_out1[date_col[i]] , format = '%d/%m/%Y')"
   ]
  },
  {
   "cell_type": "code",
   "execution_count": null,
   "metadata": {
    "executionInfo": {
     "elapsed": 18,
     "status": "ok",
     "timestamp": 1698734185962,
     "user": {
      "displayName": "Tharaphon Nitijiramon",
      "userId": "16915625665235536451"
     },
     "user_tz": -420
    },
    "id": "P3dJLkKUEprg"
   },
   "outputs": [],
   "source": [
    "df_out1 = df_out1.dropna(subset = ['ผู้ดูแลลูกค้า_(แยกส่วน)'])"
   ]
  },
  {
   "cell_type": "code",
   "execution_count": null,
   "metadata": {
    "executionInfo": {
     "elapsed": 17,
     "status": "ok",
     "timestamp": 1698734185962,
     "user": {
      "displayName": "Tharaphon Nitijiramon",
      "userId": "16915625665235536451"
     },
     "user_tz": -420
    },
    "id": "udwMJlr8ErMQ"
   },
   "outputs": [],
   "source": [
    "def check_date_interval(a , b , start_date , end_date):\n",
    "  c = 0\n",
    "  if pd.isna(a) == False:\n",
    "    if (a >= start_date) and (a <= end_date):\n",
    "      c +=1\n",
    "  if pd.isna(b) == False:\n",
    "    if (b >= start_date) and (b <= end_date):\n",
    "      c +=1\n",
    "  return c"
   ]
  },
  {
   "cell_type": "code",
   "execution_count": null,
   "metadata": {
    "executionInfo": {
     "elapsed": 16,
     "status": "ok",
     "timestamp": 1698734185962,
     "user": {
      "displayName": "Tharaphon Nitijiramon",
      "userId": "16915625665235536451"
     },
     "user_tz": -420
    },
    "id": "-29dlviaEsgX"
   },
   "outputs": [],
   "source": [
    "df_out1['is_in'] = df_out1.apply(lambda x : check_date_interval(x['วันที่อนุมัติ'] , x['วันที่ทบทวนล่าสุด'] , start_date , end_date) , axis = 1)"
   ]
  },
  {
   "cell_type": "code",
   "execution_count": null,
   "metadata": {
    "colab": {
     "base_uri": "https://localhost:8080/",
     "height": 0
    },
    "executionInfo": {
     "elapsed": 16,
     "status": "ok",
     "timestamp": 1698734185962,
     "user": {
      "displayName": "Tharaphon Nitijiramon",
      "userId": "16915625665235536451"
     },
     "user_tz": -420
    },
    "id": "H4n-Mr5nEumG",
    "outputId": "6cc7f12b-f130-4bd1-b1ca-7cd4af17539e"
   },
   "outputs": [],
   "source": [
    "df_out1.head()"
   ]
  },
  {
   "cell_type": "code",
   "execution_count": null,
   "metadata": {
    "executionInfo": {
     "elapsed": 30949,
     "status": "ok",
     "timestamp": 1698734216906,
     "user": {
      "displayName": "Tharaphon Nitijiramon",
      "userId": "16915625665235536451"
     },
     "user_tz": -420
    },
    "id": "fwpFrwEqFC-n"
   },
   "outputs": [],
   "source": [
    "# Clean ข้อมูลให้เหลือ 1 บรรทัดก่อนของข้อมูล outstanding\n",
    "cus_list = df_out1['รหัสลูกค้า'].unique().tolist()\n",
    "df_out2 = pd.DataFrame()\n",
    "for i in range(len(cus_list)):\n",
    "  df_t = df_out1[df_out1['รหัสลูกค้า'] == cus_list[i]]\n",
    "\n",
    "  date1_min = min(list(df_t['วันที่อนุมัติ']))\n",
    "  date1_max = max(list(df_t['วันที่อนุมัติ']))\n",
    "\n",
    "  #date2_min = min(list(df_t['วันที่ทบทวนล่าสุด']))\n",
    "  date2_max = min(list(df_t['วันที่ทบทวนล่าสุด']))\n",
    "\n",
    "  df_t1 = df_t.head(1)\n",
    "  df_t1 = df_t1.drop(columns = ['วันที่อนุมัติ' , 'วันที่ทบทวนล่าสุด'])\n",
    "  df_t1['วันที่อนุมัติครั้งแรก'] = date1_min\n",
    "  df_t1['วันที่อนุมัติล่าสุด'] = date1_max\n",
    "  #df_t1['วันที่ทบทวนครั้งแรก'] = date2_min\n",
    "  df_t1['วันที่ทบทวนล่าสุด'] = date2_max\n",
    "\n",
    "  df_out2 = pd.concat([df_out2 , df_t1])"
   ]
  },
  {
   "cell_type": "code",
   "execution_count": null,
   "metadata": {
    "executionInfo": {
     "elapsed": 26,
     "status": "ok",
     "timestamp": 1698734216906,
     "user": {
      "displayName": "Tharaphon Nitijiramon",
      "userId": "16915625665235536451"
     },
     "user_tz": -420
    },
    "id": "48C5xxwOFBV_"
   },
   "outputs": [],
   "source": [
    "df_cusin = df_out1[df_out1['is_in'] != 0][['รหัสลูกค้า']].drop_duplicates()"
   ]
  },
  {
   "cell_type": "code",
   "execution_count": null,
   "metadata": {
    "executionInfo": {
     "elapsed": 25,
     "status": "ok",
     "timestamp": 1698734216906,
     "user": {
      "displayName": "Tharaphon Nitijiramon",
      "userId": "16915625665235536451"
     },
     "user_tz": -420
    },
    "id": "fausduZbFws0"
   },
   "outputs": [],
   "source": [
    "df_out3 = pd.merge(df_out2 , df_cusin , on = 'รหัสลูกค้า')"
   ]
  },
  {
   "cell_type": "code",
   "execution_count": null,
   "metadata": {
    "colab": {
     "base_uri": "https://localhost:8080/"
    },
    "executionInfo": {
     "elapsed": 26,
     "status": "ok",
     "timestamp": 1698734216907,
     "user": {
      "displayName": "Tharaphon Nitijiramon",
      "userId": "16915625665235536451"
     },
     "user_tz": -420
    },
    "id": "nqBirpaEF1oX",
    "outputId": "ea8b7a19-7bdb-47b9-9233-1d150e78a1cf"
   },
   "outputs": [],
   "source": [
    "print(len(df_out1) , len(df_out2) , len(df_out3))"
   ]
  },
  {
   "cell_type": "code",
   "execution_count": null,
   "metadata": {
    "executionInfo": {
     "elapsed": 25,
     "status": "ok",
     "timestamp": 1698734216907,
     "user": {
      "displayName": "Tharaphon Nitijiramon",
      "userId": "16915625665235536451"
     },
     "user_tz": -420
    },
    "id": "l9LMGGHLGmmN"
   },
   "outputs": [],
   "source": [
    "df_out4 = pd.merge(df_out3 , df_pm , on = 'รหัสลูกค้า' , how  ='left')"
   ]
  },
  {
   "cell_type": "code",
   "execution_count": null,
   "metadata": {
    "colab": {
     "base_uri": "https://localhost:8080/",
     "height": 0
    },
    "executionInfo": {
     "elapsed": 25,
     "status": "ok",
     "timestamp": 1698734216907,
     "user": {
      "displayName": "Tharaphon Nitijiramon",
      "userId": "16915625665235536451"
     },
     "user_tz": -420
    },
    "id": "wq1lGGIFG0xS",
    "outputId": "dd389b81-6e69-4dcc-fee7-bb6a4ee859b9"
   },
   "outputs": [],
   "source": [
    "#df_out4 = df_out4.drop(columns = ['is_in'])\n",
    "df_out4.head()"
   ]
  },
  {
   "cell_type": "markdown",
   "metadata": {
    "id": "P3DUcwBwX5pv"
   },
   "source": [
    "## Clean ข้อมูล ECS"
   ]
  },
  {
   "cell_type": "code",
   "execution_count": null,
   "metadata": {
    "colab": {
     "base_uri": "https://localhost:8080/",
     "height": 0
    },
    "executionInfo": {
     "elapsed": 23,
     "status": "ok",
     "timestamp": 1698734216907,
     "user": {
      "displayName": "Tharaphon Nitijiramon",
      "userId": "16915625665235536451"
     },
     "user_tz": -420
    },
    "id": "pbKimZ4DVPh2",
    "outputId": "17e18baa-3c92-4674-ae2e-0a24a33be757"
   },
   "outputs": [],
   "source": [
    "df_ecs1.head()"
   ]
  },
  {
   "cell_type": "code",
   "execution_count": null,
   "metadata": {
    "colab": {
     "base_uri": "https://localhost:8080/",
     "height": 0
    },
    "executionInfo": {
     "elapsed": 22,
     "status": "ok",
     "timestamp": 1698734216907,
     "user": {
      "displayName": "Tharaphon Nitijiramon",
      "userId": "16915625665235536451"
     },
     "user_tz": -420
    },
    "id": "eiGTQrefX-gw",
    "outputId": "ce2bca0f-f5a7-45da-ed8d-cc979243c564"
   },
   "outputs": [],
   "source": [
    "df_ecs2.head()"
   ]
  },
  {
   "cell_type": "code",
   "execution_count": null,
   "metadata": {
    "executionInfo": {
     "elapsed": 21,
     "status": "ok",
     "timestamp": 1698734216907,
     "user": {
      "displayName": "Tharaphon Nitijiramon",
      "userId": "16915625665235536451"
     },
     "user_tz": -420
    },
    "id": "Nfvz7TlBYAnH"
   },
   "outputs": [],
   "source": [
    "df_e1 = df_ecs1[['CUST_CODE' , 'CR_LIMIT_NO' , 'COLL_TYPENAME' , 'COLL_DESCRIPTION' , 'COLLATERAL_NO']].drop_duplicates() #จากไฟล์ ECS บช\n",
    "df_e2 = df_ecs2[['COLLATERAL_NO' , 'STATUS' , 'FIRSTNAME'  , 'LASTNAME' , 'REGISTRATION_NO']].drop_duplicates() # จากไฟล์ ECS ตส"
   ]
  },
  {
   "cell_type": "code",
   "execution_count": null,
   "metadata": {
    "executionInfo": {
     "elapsed": 424,
     "status": "ok",
     "timestamp": 1698734217310,
     "user": {
      "displayName": "Tharaphon Nitijiramon",
      "userId": "16915625665235536451"
     },
     "user_tz": -420
    },
    "id": "7cYAeMGAX_zO"
   },
   "outputs": [],
   "source": [
    "df_e3 = pd.merge(df_e1 , df_e2 , on = 'COLLATERAL_NO' , how = 'left')"
   ]
  },
  {
   "cell_type": "code",
   "execution_count": null,
   "metadata": {
    "colab": {
     "base_uri": "https://localhost:8080/",
     "height": 0
    },
    "executionInfo": {
     "elapsed": 10,
     "status": "ok",
     "timestamp": 1698734217310,
     "user": {
      "displayName": "Tharaphon Nitijiramon",
      "userId": "16915625665235536451"
     },
     "user_tz": -420
    },
    "id": "y0CpJyp8Y94w",
    "outputId": "cbb4f03a-d610-4299-9e10-8c055f3f7f40"
   },
   "outputs": [],
   "source": [
    "df_e3.head()"
   ]
  },
  {
   "cell_type": "code",
   "execution_count": null,
   "metadata": {
    "executionInfo": {
     "elapsed": 7,
     "status": "ok",
     "timestamp": 1698734217310,
     "user": {
      "displayName": "Tharaphon Nitijiramon",
      "userId": "16915625665235536451"
     },
     "user_tz": -420
    },
    "id": "lGtkNczXY_Ul"
   },
   "outputs": [],
   "source": [
    "def clean_ecs_name(fname , lname):\n",
    "  name1 = np.nan\n",
    "  name2 = np.nan\n",
    "  if pd.isna(fname) == False:\n",
    "    if fname == '-':\n",
    "      fname = np.nan\n",
    "\n",
    "  if pd.isna(lname) == False:\n",
    "    if lname == '-':\n",
    "      lname = np.nan\n",
    "\n",
    "  if (pd.isna(fname) == False) and (pd.isna(lname) == False):\n",
    "    if isEnglish(fname) == isEnglish(lname):\n",
    "      name1 = fname + lname\n",
    "      name2 = np.nan\n",
    "    else:\n",
    "      name1 = fname\n",
    "      name2 = lname\n",
    "  elif (pd.isna(fname) == False) and (pd.isna(lname) == True):\n",
    "    name1 = fname\n",
    "    name2 = np.nan\n",
    "  elif (pd.isna(fname) == True) and (pd.isna(lname) == False):\n",
    "    name1 = lname\n",
    "    name2 = np.nan\n",
    "  elif (pd.isna(fname) == False) and (pd.isna(lname) == False):\n",
    "    name1 = np.nan\n",
    "    name2 = np.nan\n",
    "  return name1 , name2"
   ]
  },
  {
   "cell_type": "code",
   "execution_count": null,
   "metadata": {
    "executionInfo": {
     "elapsed": 1194,
     "status": "ok",
     "timestamp": 1698734218498,
     "user": {
      "displayName": "Tharaphon Nitijiramon",
      "userId": "16915625665235536451"
     },
     "user_tz": -420
    },
    "id": "VYgWJkwab-mq"
   },
   "outputs": [],
   "source": [
    "df_e3['NAME_1'] , df_e3['NAME_2'] = zip(* df_e3.apply(lambda x : clean_ecs_name( x['FIRSTNAME'] , x['LASTNAME']) , axis = 1 ))"
   ]
  },
  {
   "cell_type": "code",
   "execution_count": null,
   "metadata": {
    "colab": {
     "base_uri": "https://localhost:8080/",
     "height": 0
    },
    "executionInfo": {
     "elapsed": 9,
     "status": "ok",
     "timestamp": 1698734218499,
     "user": {
      "displayName": "Tharaphon Nitijiramon",
      "userId": "16915625665235536451"
     },
     "user_tz": -420
    },
    "id": "CpSUk5CXcYC2",
    "outputId": "d725d340-5805-4668-b97f-960c12a9d754"
   },
   "outputs": [],
   "source": [
    "df_e3[df_e3['NAME_2'].notna()]"
   ]
  },
  {
   "cell_type": "code",
   "execution_count": null,
   "metadata": {
    "executionInfo": {
     "elapsed": 933,
     "status": "ok",
     "timestamp": 1698734219427,
     "user": {
      "displayName": "Tharaphon Nitijiramon",
      "userId": "16915625665235536451"
     },
     "user_tz": -420
    },
    "id": "1mghVHfLcZCW"
   },
   "outputs": [],
   "source": [
    "name_col = ['NAME_1' , 'NAME_2']\n",
    "for i in range(len(name_col)):\n",
    "  df_e3[name_col[i]] = df_e3[name_col[i]].apply(lambda x : clean_string(x))"
   ]
  },
  {
   "cell_type": "code",
   "execution_count": null,
   "metadata": {
    "executionInfo": {
     "elapsed": 7,
     "status": "ok",
     "timestamp": 1698734219427,
     "user": {
      "displayName": "Tharaphon Nitijiramon",
      "userId": "16915625665235536451"
     },
     "user_tz": -420
    },
    "id": "X09xBuHvcl9y"
   },
   "outputs": [],
   "source": [
    "df_e4 = pd.merge(df_e3 , df_out4 , left_on = 'CUST_CODE' , right_on = 'รหัสลูกค้า' )"
   ]
  },
  {
   "cell_type": "code",
   "execution_count": null,
   "metadata": {
    "colab": {
     "base_uri": "https://localhost:8080/",
     "height": 0
    },
    "executionInfo": {
     "elapsed": 449,
     "status": "ok",
     "timestamp": 1698734219870,
     "user": {
      "displayName": "Tharaphon Nitijiramon",
      "userId": "16915625665235536451"
     },
     "user_tz": -420
    },
    "id": "fQ5YpMHDcosN",
    "outputId": "0e924b04-c1e2-407c-ae33-834b0dc2ceff"
   },
   "outputs": [],
   "source": [
    "# เลือกขอบเขตแล้ว\n",
    "df_e4.head()"
   ]
  },
  {
   "cell_type": "code",
   "execution_count": null,
   "metadata": {
    "executionInfo": {
     "elapsed": 8,
     "status": "ok",
     "timestamp": 1698734219871,
     "user": {
      "displayName": "Tharaphon Nitijiramon",
      "userId": "16915625665235536451"
     },
     "user_tz": -420
    },
    "id": "S1su7JeB0hh9"
   },
   "outputs": [],
   "source": [
    "def is_debt(a):\n",
    "  c = 0\n",
    "  if pd.isna(a) == False:\n",
    "    if ('หนี้' in a) or ('เงิน' in a):\n",
    "      c = 1\n",
    "  return c"
   ]
  },
  {
   "cell_type": "code",
   "execution_count": null,
   "metadata": {
    "executionInfo": {
     "elapsed": 7,
     "status": "ok",
     "timestamp": 1698734219871,
     "user": {
      "displayName": "Tharaphon Nitijiramon",
      "userId": "16915625665235536451"
     },
     "user_tz": -420
    },
    "id": "mqre8vAR03ul"
   },
   "outputs": [],
   "source": [
    "df_e4['is_debt'] = df_e4['ผู้ดูแลลูกค้า_(ตามฝ่าย)'].apply(lambda x : is_debt(x))"
   ]
  },
  {
   "cell_type": "code",
   "execution_count": null,
   "metadata": {
    "executionInfo": {
     "elapsed": 6,
     "status": "ok",
     "timestamp": 1698734219871,
     "user": {
      "displayName": "Tharaphon Nitijiramon",
      "userId": "16915625665235536451"
     },
     "user_tz": -420
    },
    "id": "3ykcuecE1CNY"
   },
   "outputs": [],
   "source": [
    "df_e5 = df_e4[df_e4['is_debt'] == 0].drop(columns = ['is_debt'])"
   ]
  },
  {
   "cell_type": "markdown",
   "metadata": {
    "id": "VciKt3tCdzRF"
   },
   "source": [
    "## Clean File รวมศูนย์"
   ]
  },
  {
   "cell_type": "code",
   "execution_count": null,
   "metadata": {
    "executionInfo": {
     "elapsed": 1641,
     "status": "ok",
     "timestamp": 1698734221507,
     "user": {
      "displayName": "Tharaphon Nitijiramon",
      "userId": "16915625665235536451"
     },
     "user_tz": -420
    },
    "id": "av8BdiZdeFsK"
   },
   "outputs": [],
   "source": [
    "df_cen['NAME_C1'] , df_cen['NAME_C2'] =  zip(* df_cen.apply(lambda x : clean_ecs_name( x['NAMETH'] , x['SURNAMETH']) , axis = 1 ))"
   ]
  },
  {
   "cell_type": "code",
   "execution_count": null,
   "metadata": {
    "executionInfo": {
     "elapsed": 999,
     "status": "ok",
     "timestamp": 1698734222501,
     "user": {
      "displayName": "Tharaphon Nitijiramon",
      "userId": "16915625665235536451"
     },
     "user_tz": -420
    },
    "id": "yrSPGjpPeUr9"
   },
   "outputs": [],
   "source": [
    "df_cen['NAME_C3'] , df_cen['NAME_C4'] =  zip(* df_cen.apply(lambda x : clean_ecs_name( x['NAMEEN'] , x['SURNAMEEN']) , axis = 1 ))"
   ]
  },
  {
   "cell_type": "code",
   "execution_count": null,
   "metadata": {
    "executionInfo": {
     "elapsed": 1876,
     "status": "ok",
     "timestamp": 1698734224375,
     "user": {
      "displayName": "Tharaphon Nitijiramon",
      "userId": "16915625665235536451"
     },
     "user_tz": -420
    },
    "id": "_nm48E_PeeiX"
   },
   "outputs": [],
   "source": [
    "name_col = ['NAME_C1' , 'NAME_C2' , 'NAME_C3' , 'NAME_C4']\n",
    "for i in range(len(name_col)):\n",
    "  df_cen[name_col[i]] = df_cen[name_col[i]].apply(lambda x : clean_string(x))"
   ]
  },
  {
   "cell_type": "code",
   "execution_count": null,
   "metadata": {
    "colab": {
     "base_uri": "https://localhost:8080/",
     "height": 0
    },
    "executionInfo": {
     "elapsed": 7,
     "status": "ok",
     "timestamp": 1698734224375,
     "user": {
      "displayName": "Tharaphon Nitijiramon",
      "userId": "16915625665235536451"
     },
     "user_tz": -420
    },
    "id": "K0at6cPIdIcQ",
    "outputId": "98b7db5f-4a44-46e5-9670-72cde9a008c2"
   },
   "outputs": [],
   "source": [
    "df_cen.head()"
   ]
  },
  {
   "cell_type": "markdown",
   "metadata": {
    "id": "Uw2fmzoSe8Q_"
   },
   "source": [
    "## MERGE ครั้งละ รหัสลูกค้า"
   ]
  },
  {
   "cell_type": "code",
   "execution_count": null,
   "metadata": {
    "executionInfo": {
     "elapsed": 83442,
     "status": "ok",
     "timestamp": 1698734307812,
     "user": {
      "displayName": "Tharaphon Nitijiramon",
      "userId": "16915625665235536451"
     },
     "user_tz": -420
    },
    "id": "HqKdNT_0d3Wd"
   },
   "outputs": [],
   "source": [
    "# Loop ที่ใช้ตรวจ\n",
    "cus_list = df_e5['CUST_CODE'].unique().tolist()\n",
    "name_ecs = ['NAME_1' , 'NAME_2']\n",
    "name_centralize = ['NAME_C1' , 'NAME_C2' ,'NAME_C3' , 'NAME_C4']\n",
    "df_notin = pd.DataFrame()\n",
    "for i in range(len(cus_list)):\n",
    "  df_u = df_e5[df_e5['CUST_CODE'] == cus_list[i]]\n",
    "  df_c = df_cen[df_cen['EXIM_CUSTID'] == cus_list[i]]\n",
    "  df_m_out = df_u.copy()\n",
    "  for m in range(len(name_ecs)):\n",
    "    for n in range(len(name_centralize)):\n",
    "      if (len(df_m_out.dropna(subset = [name_ecs[m]])) != 0) and len(df_c[[name_centralize[n]]].dropna(subset = [name_centralize[n]]).drop_duplicates()):\n",
    "        df_m = fuzzy_merge(df_m_out.dropna(subset = [name_ecs[m]]) ,\n",
    "                                    df_c[[name_centralize[n]]].dropna(subset = [name_centralize[n]]).drop_duplicates() ,\n",
    "                                    left_on = name_ecs[m] , right_on = name_centralize[n] , how = 'left')\n",
    "        df_m_out = df_m[df_m[name_centralize[n]].isna()].drop(columns = name_centralize[n])\n",
    "  df_notin = pd.concat([df_notin , df_m_out])"
   ]
  },
  {
   "cell_type": "code",
   "execution_count": null,
   "metadata": {
    "executionInfo": {
     "elapsed": 17,
     "status": "ok",
     "timestamp": 1698734307813,
     "user": {
      "displayName": "Tharaphon Nitijiramon",
      "userId": "16915625665235536451"
     },
     "user_tz": -420
    },
    "id": "OxGhPZMGy6C5"
   },
   "outputs": [],
   "source": [
    "## สำหรับรหัส G จะยอมให้หาแต่ชื่อ"
   ]
  },
  {
   "cell_type": "code",
   "execution_count": null,
   "metadata": {
    "executionInfo": {
     "elapsed": 16,
     "status": "ok",
     "timestamp": 1698734307813,
     "user": {
      "displayName": "Tharaphon Nitijiramon",
      "userId": "16915625665235536451"
     },
     "user_tz": -420
    },
    "id": "nX-_wY5Dzf4p"
   },
   "outputs": [],
   "source": [
    "def id_g(a):\n",
    "  c = 0\n",
    "  if pd.isna(a) == False:\n",
    "    if a[0] == 'G':\n",
    "      c = 1\n",
    "  return c"
   ]
  },
  {
   "cell_type": "code",
   "execution_count": null,
   "metadata": {
    "executionInfo": {
     "elapsed": 16,
     "status": "ok",
     "timestamp": 1698734307813,
     "user": {
      "displayName": "Tharaphon Nitijiramon",
      "userId": "16915625665235536451"
     },
     "user_tz": -420
    },
    "id": "72tmV4jxztGB"
   },
   "outputs": [],
   "source": [
    "df_notin['is_g'] = df_notin['รหัสลูกค้า'].apply(lambda x : id_g(x))"
   ]
  },
  {
   "cell_type": "code",
   "execution_count": null,
   "metadata": {
    "executionInfo": {
     "elapsed": 15,
     "status": "ok",
     "timestamp": 1698734307813,
     "user": {
      "displayName": "Tharaphon Nitijiramon",
      "userId": "16915625665235536451"
     },
     "user_tz": -420
    },
    "id": "Fv3tkJkBz1Ff"
   },
   "outputs": [],
   "source": [
    "df_g = df_notin[df_notin['is_g'] == 1].drop(columns = ['is_g'])\n",
    "\n",
    "df_notg = df_notin[df_notin['is_g'] == 0].drop(columns = ['is_g'])"
   ]
  },
  {
   "cell_type": "code",
   "execution_count": null,
   "metadata": {
    "colab": {
     "base_uri": "https://localhost:8080/"
    },
    "executionInfo": {
     "elapsed": 15,
     "status": "ok",
     "timestamp": 1698734307813,
     "user": {
      "displayName": "Tharaphon Nitijiramon",
      "userId": "16915625665235536451"
     },
     "user_tz": -420
    },
    "id": "eUJq32960DpC",
    "outputId": "a3b91e99-9bcc-4148-cd44-b8bbbbc14b45"
   },
   "outputs": [],
   "source": [
    "print(len(df_g) , len(df_notg))"
   ]
  },
  {
   "cell_type": "code",
   "execution_count": null,
   "metadata": {
    "executionInfo": {
     "elapsed": 84982,
     "status": "ok",
     "timestamp": 1698734392791,
     "user": {
      "displayName": "Tharaphon Nitijiramon",
      "userId": "16915625665235536451"
     },
     "user_tz": -420
    },
    "id": "VoqxvRgCzAgY"
   },
   "outputs": [],
   "source": [
    "cus_list = df_g['CUST_CODE'].unique().tolist()\n",
    "name_ecs = ['NAME_1' , 'NAME_2']\n",
    "name_centralize = ['NAME_C1' , 'NAME_C2' ,'NAME_C3' , 'NAME_C4']\n",
    "df_notin1 = pd.DataFrame()\n",
    "for i in range(len(cus_list)):\n",
    "  df_u = df_g[df_g['CUST_CODE'] == cus_list[i]]\n",
    "  df_c = df_cen.copy()\n",
    "  df_m_out = df_u.copy()\n",
    "  for m in range(len(name_ecs)):\n",
    "    for n in range(len(name_centralize)):\n",
    "      if (len(df_m_out.dropna(subset = [name_ecs[m]])) != 0) and len(df_c[[name_centralize[n]]].dropna(subset = [name_centralize[n]]).drop_duplicates()):\n",
    "        df_m = fuzzy_merge(df_m_out.dropna(subset = [name_ecs[m]]) ,\n",
    "                                    df_c[[name_centralize[n]]].dropna(subset = [name_centralize[n]]).drop_duplicates() ,\n",
    "                                    left_on = name_ecs[m] , right_on = name_centralize[n] , how = 'left')\n",
    "        df_m_out = df_m[df_m[name_centralize[n]].isna()].drop(columns = name_centralize[n])\n",
    "  df_notin1 = pd.concat([df_notin1 , df_m_out])"
   ]
  },
  {
   "cell_type": "code",
   "execution_count": null,
   "metadata": {
    "executionInfo": {
     "elapsed": 24,
     "status": "ok",
     "timestamp": 1698734392792,
     "user": {
      "displayName": "Tharaphon Nitijiramon",
      "userId": "16915625665235536451"
     },
     "user_tz": -420
    },
    "id": "Z0-JtD9Bw24y"
   },
   "outputs": [],
   "source": [
    "df_ans = pd.concat([df_notg , df_notin1])"
   ]
  },
  {
   "cell_type": "code",
   "execution_count": null,
   "metadata": {
    "colab": {
     "base_uri": "https://localhost:8080/"
    },
    "executionInfo": {
     "elapsed": 22,
     "status": "ok",
     "timestamp": 1698734392792,
     "user": {
      "displayName": "Tharaphon Nitijiramon",
      "userId": "16915625665235536451"
     },
     "user_tz": -420
    },
    "id": "jC_YH4rfxcB7",
    "outputId": "e5fce493-37d1-4b54-b792-c1e358a32f6c"
   },
   "outputs": [],
   "source": [
    "len(df_ans)"
   ]
  },
  {
   "cell_type": "code",
   "execution_count": null,
   "metadata": {
    "colab": {
     "base_uri": "https://localhost:8080/",
     "height": 0
    },
    "executionInfo": {
     "elapsed": 21,
     "status": "ok",
     "timestamp": 1698734392793,
     "user": {
      "displayName": "Tharaphon Nitijiramon",
      "userId": "16915625665235536451"
     },
     "user_tz": -420
    },
    "id": "s7ZtD6ujzV2O",
    "outputId": "0b28ae5d-d019-40a0-a566-e3062fce5af1"
   },
   "outputs": [],
   "source": [
    "df_ans"
   ]
  },
  {
   "cell_type": "markdown",
   "metadata": {
    "id": "EWVQCISj2JN9"
   },
   "source": [
    "# EXPORT FILE"
   ]
  },
  {
   "cell_type": "code",
   "execution_count": null,
   "metadata": {
    "executionInfo": {
     "elapsed": 19,
     "status": "ok",
     "timestamp": 1698734392793,
     "user": {
      "displayName": "Tharaphon Nitijiramon",
      "userId": "16915625665235536451"
     },
     "user_tz": -420
    },
    "id": "Dx-CNrZ82MPU"
   },
   "outputs": [],
   "source": [
    "df_ans.to_excel(output_path + file_name , index = False)"
   ]
  },
  {
   "cell_type": "code",
   "execution_count": null,
   "metadata": {},
   "outputs": [],
   "source": []
  }
 ],
 "metadata": {
  "colab": {
   "collapsed_sections": [
    "VciKt3tCdzRF"
   ],
   "provenance": []
  },
  "kernelspec": {
   "display_name": "Python 3 (ipykernel)",
   "language": "python",
   "name": "python3"
  },
  "language_info": {
   "codemirror_mode": {
    "name": "ipython",
    "version": 3
   },
   "file_extension": ".py",
   "mimetype": "text/x-python",
   "name": "python",
   "nbconvert_exporter": "python",
   "pygments_lexer": "ipython3",
   "version": "3.11.5"
  }
 },
 "nbformat": 4,
 "nbformat_minor": 1
}
